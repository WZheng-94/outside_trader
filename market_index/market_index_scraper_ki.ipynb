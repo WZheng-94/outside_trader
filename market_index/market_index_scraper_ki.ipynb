{
 "cells": [
  {
   "cell_type": "code",
   "execution_count": 1,
   "metadata": {
    "collapsed": true
   },
   "outputs": [],
   "source": [
    "import pandas as pd\n",
    "import numpy as np\n",
    "import json\n",
    "import re\n",
    "\n",
    "import bs4\n",
    "import urllib3"
   ]
  },
  {
   "cell_type": "code",
   "execution_count": 2,
   "metadata": {
    "collapsed": true
   },
   "outputs": [],
   "source": [
    "date = [\"2018-03-05\"]"
   ]
  },
  {
   "cell_type": "code",
   "execution_count": 3,
   "metadata": {
    "collapsed": true
   },
   "outputs": [],
   "source": [
    "time = []\n",
    "for i in range(9,16):\n",
    "    i = str(\"0\") + str(i) if i < 10 else str(i)\n",
    "    for j in range(0, 60, 10):\n",
    "        j = str(\"00\") if j == 0 else str(j)\n",
    "        time.append(i+j)\n",
    "del time[41]\n",
    "del time[40]\n",
    "time[0] = \"0901\""
   ]
  },
  {
   "cell_type": "code",
   "execution_count": 4,
   "metadata": {
    "collapsed": true
   },
   "outputs": [],
   "source": [
    "def get_market_price(diction, mkt, date, minute):\n",
    "    \n",
    "    target = \"finance.naver.com/sise/sise_index_time.nhn?code=\" + mkt + \"&thistime=\" + re.sub('[-]', '', date) + minute + \"01&page=1\"\n",
    "    pm = urllib3.PoolManager()\n",
    "    html = pm.urlopen(url=target, method=\"GET\").data\n",
    "    soup = bs4.BeautifulSoup(html, 'lxml')\n",
    "\n",
    "    tag = soup.find_all(\"tr\")[2]\n",
    "    \n",
    "    index = float(tag.find(\"td\", class_ = \"number_1\").string.replace(\",\", \"\"))\n",
    "\n",
    "    if \"상승\" in str(tag):\n",
    "        direction = 1\n",
    "    elif \"하락\" in str(tag):\n",
    "        direction = -1\n",
    "    else:\n",
    "        direction = \"error\"\n",
    "\n",
    "    magnitude = tag.find(\"td\", class_ = \"rate_down\").text.strip(\"\\t\\n\")\n",
    "    \n",
    "    delta = direction * float(magnitude)\n",
    "    \n",
    "    diction[date + \" \" + minute[0:2] + \":\" + minute[2:4]] = ((index * 100) / (index - delta)) - 100\n",
    "    \n",
    "    return None"
   ]
  },
  {
   "cell_type": "code",
   "execution_count": 5,
   "metadata": {},
   "outputs": [
    {
     "name": "stdout",
     "output_type": "stream",
     "text": [
      "1\n",
      "2\n",
      "3\n",
      "4\n",
      "5\n",
      "6\n",
      "7\n",
      "8\n",
      "9\n",
      "10\n",
      "11\n",
      "12\n",
      "13\n",
      "14\n",
      "15\n",
      "16\n",
      "17\n",
      "18\n",
      "19\n",
      "20\n",
      "21\n",
      "22\n",
      "23\n",
      "24\n",
      "25\n",
      "26\n",
      "27\n",
      "28\n",
      "29\n",
      "30\n",
      "31\n",
      "32\n",
      "33\n",
      "34\n",
      "35\n",
      "36\n",
      "37\n",
      "38\n",
      "39\n",
      "40\n"
     ]
    }
   ],
   "source": [
    "market = \"KOSPI\"\n",
    "rv = {}\n",
    "c = 0\n",
    "for d in date:\n",
    "    for m in time:\n",
    "        c += 1\n",
    "        get_market_price(rv, market, d, m)\n",
    "        print(c)"
   ]
  },
  {
   "cell_type": "code",
   "execution_count": 6,
   "metadata": {
    "collapsed": true
   },
   "outputs": [],
   "source": [
    "'''\n",
    "import json\n",
    "json = json.dumps(rv, ensure_ascii=False)\n",
    "f = open(\"KOSPI_Mar05.json\",\"w\")\n",
    "f.write(json)\n",
    "f.close()\n",
    "'''"
   ]
  },
  {
   "cell_type": "code",
   "execution_count": null,
   "metadata": {
    "collapsed": true
   },
   "outputs": [],
   "source": []
  }
 ],
 "metadata": {
  "kernelspec": {
   "display_name": "Python 3",
   "language": "python",
   "name": "python3"
  },
  "language_info": {
   "codemirror_mode": {
    "name": "ipython",
    "version": 3
   },
   "file_extension": ".py",
   "mimetype": "text/x-python",
   "name": "python",
   "nbconvert_exporter": "python",
   "pygments_lexer": "ipython3",
   "version": "3.6.3"
  }
 },
 "nbformat": 4,
 "nbformat_minor": 2
}
