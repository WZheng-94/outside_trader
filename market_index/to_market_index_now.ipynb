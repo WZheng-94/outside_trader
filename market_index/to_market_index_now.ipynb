{
 "cells": [
  {
   "cell_type": "code",
   "execution_count": 1,
   "metadata": {
    "collapsed": true
   },
   "outputs": [],
   "source": [
    "import numpy as np\n",
    "import pandas as pd\n",
    "import json"
   ]
  },
  {
   "cell_type": "code",
   "execution_count": 2,
   "metadata": {
    "collapsed": true
   },
   "outputs": [],
   "source": [
    "with open('KOSDAQ_Feb14_Mar06.json', 'r', encoding='UTF-8') as f:\n",
    "    kosdaq = json.load(f)"
   ]
  },
  {
   "cell_type": "code",
   "execution_count": 3,
   "metadata": {
    "collapsed": true
   },
   "outputs": [],
   "source": [
    "with open('KOSPI_Feb14_Mar06.json', 'r', encoding='UTF-8') as f:\n",
    "    kospi = json.load(f)"
   ]
  },
  {
   "cell_type": "code",
   "execution_count": 4,
   "metadata": {
    "collapsed": true
   },
   "outputs": [],
   "source": [
    "kosdaq_yesterday_closing = {'2018-02-14': 829.39, '2018-02-20': 875.81, '2018-02-21': 864.41, '2018-02-22': 875.58,\n",
    "                           '2018-02-23': 870.22, '2018-02-26': 874.78, '2018-02-27': 874.43, '2018-02-28': 874.01,\n",
    "                           '2018-03-02': 857.06, '2018-03-05': 860.23, '2018-03-06': 845.00}"
   ]
  },
  {
   "cell_type": "code",
   "execution_count": 5,
   "metadata": {
    "collapsed": true
   },
   "outputs": [],
   "source": [
    "kospi_yesterday_closing = {'2018-02-14': 2395.19, '2018-02-20': 2442.82, '2018-02-21': 2415.12, '2018-02-22': 2429.65,\n",
    "                           '2018-02-23': 2414.28, '2018-02-26': 2451.52, '2018-02-27': 2457.65, '2018-02-28': 2456.14,\n",
    "                           '2018-03-02': 2427.36, '2018-03-05': 2402.16, '2018-03-06': 2375.06}"
   ]
  },
  {
   "cell_type": "code",
   "execution_count": 6,
   "metadata": {
    "collapsed": true
   },
   "outputs": [],
   "source": [
    "kospi_now = {}\n",
    "\n",
    "for k, v in kospi.items():\n",
    "    today = k[:10]\n",
    "    yesterday_closing = kospi_yesterday_closing[today]\n",
    "    \n",
    "    kospi_now[k] = yesterday_closing * (1 + (v / 100))"
   ]
  },
  {
   "cell_type": "code",
   "execution_count": 7,
   "metadata": {
    "collapsed": true
   },
   "outputs": [],
   "source": [
    "kosdaq_now = {}\n",
    "\n",
    "for k, v in kosdaq.items():\n",
    "    today = k[:10]\n",
    "    yesterday_closing = kosdaq_yesterday_closing[today]\n",
    "    \n",
    "    kosdaq_now[k] = yesterday_closing * (1 + (v / 100))"
   ]
  },
  {
   "cell_type": "code",
   "execution_count": 8,
   "metadata": {
    "collapsed": true
   },
   "outputs": [],
   "source": [
    "'''\n",
    "import json\n",
    "json = json.dumps(kosdaq_now, ensure_ascii=False)\n",
    "f = open(\"kosdaq_now_Feb14_Mar06.json\",\"w\")\n",
    "f.write(json)\n",
    "f.close()\n",
    "'''"
   ]
  },
  {
   "cell_type": "code",
   "execution_count": 9,
   "metadata": {
    "collapsed": true
   },
   "outputs": [],
   "source": [
    "'''\n",
    "import json\n",
    "json = json.dumps(kospi_now, ensure_ascii=False)\n",
    "f = open(\"kospi_now_Feb14_Mar06.json\",\"w\")\n",
    "f.write(json)\n",
    "f.close()\n",
    "'''"
   ]
  },
  {
   "cell_type": "code",
   "execution_count": null,
   "metadata": {
    "collapsed": true
   },
   "outputs": [],
   "source": []
  }
 ],
 "metadata": {
  "kernelspec": {
   "display_name": "Python 3",
   "language": "python",
   "name": "python3"
  },
  "language_info": {
   "codemirror_mode": {
    "name": "ipython",
    "version": 3
   },
   "file_extension": ".py",
   "mimetype": "text/x-python",
   "name": "python",
   "nbconvert_exporter": "python",
   "pygments_lexer": "ipython3",
   "version": "3.6.3"
  }
 },
 "nbformat": 4,
 "nbformat_minor": 2
}
