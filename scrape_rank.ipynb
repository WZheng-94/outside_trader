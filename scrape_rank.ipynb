{
 "cells": [
  {
   "cell_type": "code",
   "execution_count": 78,
   "metadata": {
    "collapsed": true
   },
   "outputs": [],
   "source": [
    "# coding: utf-8\n",
    "import bs4\n",
    "import urllib3"
   ]
  },
  {
   "cell_type": "code",
   "execution_count": 79,
   "metadata": {
    "collapsed": true
   },
   "outputs": [],
   "source": [
    "def find_all_stock(target):\n",
    "    pm = urllib3.PoolManager()\n",
    "    html = pm.urlopen(url=target, method=\"GET\").data\n",
    "    soup = bs4.BeautifulSoup(html, 'lxml')\n",
    "    div_tag = soup.find_all(\"div\", class_ =\"box_type_l\")[0]\n",
    "    raw_stock_list = div_tag.find_all(\"tr\")[2:47]\n",
    "    stock_list = []\n",
    "    for tag in raw_stock_list:\n",
    "        if raw_stock_list.index(tag) % 8 not in [7, 5, 6]:\n",
    "            rank = tag.find_all(\"td\", class_ = \"no\")[0].text\n",
    "            name = tag.find_all(\"td\", class_ = \"no\")[0].next_sibling.next_sibling.find_all(\"a\")[0].text\n",
    "            stock_list.append((rank, name))\n",
    "    return stock_list"
   ]
  },
  {
   "cell_type": "code",
   "execution_count": 80,
   "metadata": {},
   "outputs": [
    {
     "data": {
      "text/plain": [
       "[('1', '셀트리온'),\n",
       " ('2', 'NAVER'),\n",
       " ('3', 'SK하이닉스'),\n",
       " ('4', '삼성전자'),\n",
       " ('5', '명문제약'),\n",
       " ('6', '뉴프라이드'),\n",
       " ('7', '경인전자'),\n",
       " ('8', '티슈진(Reg.S)'),\n",
       " ('9', '씨트리'),\n",
       " ('10', '펄어비스'),\n",
       " ('11', '신라젠'),\n",
       " ('12', '셀트리온헬스케어'),\n",
       " ('13', '엔씨소프트'),\n",
       " ('14', '카카오'),\n",
       " ('15', '두산중공업'),\n",
       " ('16', '고려제약'),\n",
       " ('17', '현대상선'),\n",
       " ('18', 'OCI'),\n",
       " ('19', '네이처셀'),\n",
       " ('20', '녹십자랩셀'),\n",
       " ('21', 'KODEX 인버스'),\n",
       " ('22', '차바이오텍'),\n",
       " ('23', '바이로메드'),\n",
       " ('24', '넥센테크'),\n",
       " ('25', 'LG화학'),\n",
       " ('26', '한국항공우주'),\n",
       " ('27', '강원랜드'),\n",
       " ('28', 'LG디스플레이'),\n",
       " ('29', '팬오션'),\n",
       " ('30', '에이티넘인베스트')]"
      ]
     },
     "execution_count": 80,
     "metadata": {},
     "output_type": "execute_result"
    }
   ],
   "source": [
    "find_all_stock(\"http://finance.naver.com/sise/lastsearch2.nhn\")"
   ]
  }
 ],
 "metadata": {
  "kernelspec": {
   "display_name": "Python 3",
   "language": "python",
   "name": "python3"
  },
  "language_info": {
   "codemirror_mode": {
    "name": "ipython",
    "version": 3
   },
   "file_extension": ".py",
   "mimetype": "text/x-python",
   "name": "python",
   "nbconvert_exporter": "python",
   "pygments_lexer": "ipython3",
   "version": "3.6.2"
  }
 },
 "nbformat": 4,
 "nbformat_minor": 2
}
