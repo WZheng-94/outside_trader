{
 "cells": [
  {
   "cell_type": "markdown",
   "metadata": {},
   "source": [
    "References\n",
    "\n",
    "1.\thttp://excelsior-cjh.tistory.com/entry/5-Pandas를-이용한-Naver금융에서-주식데이터-가져오기\n",
    "2.\thttps://financedata.github.io/posts/naver-finance-finstate-crawling.html\n",
    "3.\thttps://gomjellie.github.io/파이썬/pandas/주식/2017/06/09/pandas-datareader-stock.html\n",
    "4.\thttp://estenpark.tistory.com/353\n",
    "5.\thttps://m.blog.naver.com/PostView.nhn?blogId=koo_m&logNo=221162347920&proxyReferer=https%3A%2F%2Fwww.google.com%2F\n",
    "6.\thttp://blog.naver.com/PostView.nhn?blogId=suma_maple&logNo=220970555530\n",
    "7.\thttp://dongsamb.com/web-scraping-using-python/\n",
    "8.  https://github.com/datacamp/datacamp-community-tutorials\n",
    "9.  https://www.datacamp.com/community/tutorials/finance-python-trading\n",
    "10. https://www.scrapehero.com/scrape-yahoo-finance-stock-market-data/\n",
    "11. https://www.facebook.com/financedata/\n",
    "12. https://www.slideshare.net/plusjune/py-con-2014-47762297\n",
    "13. https://medium.com/python-data/capm-analysis-calculating-stock-beta-as-a-regression-in-python-c82d189db536\n",
    "14. https://www.quantopian.com/posts/computing-the-fama-french-factors-with-pipeline-1"
   ]
  },
  {
   "cell_type": "code",
   "execution_count": 1,
   "metadata": {
    "collapsed": true
   },
   "outputs": [],
   "source": [
    "import pandas as pd"
   ]
  },
  {
   "cell_type": "code",
   "execution_count": 2,
   "metadata": {
    "collapsed": true
   },
   "outputs": [],
   "source": [
    "code_df = pd.read_html('http://kind.krx.co.kr/corpgeneral/corpList.do?method=download&searchType=13', header=0)[0]\n",
    "code_df.종목코드 = code_df['종목코드'].map('{:06d}'.format)\n",
    "code_df = code_df[['회사명', '종목코드']]\n",
    "code_df = code_df.rename(columns={'회사명': 'name', '종목코드': 'code'})"
   ]
  },
  {
   "cell_type": "code",
   "execution_count": 3,
   "metadata": {},
   "outputs": [
    {
     "data": {
      "text/html": [
       "<div>\n",
       "<style>\n",
       "    .dataframe thead tr:only-child th {\n",
       "        text-align: right;\n",
       "    }\n",
       "\n",
       "    .dataframe thead th {\n",
       "        text-align: left;\n",
       "    }\n",
       "\n",
       "    .dataframe tbody tr th {\n",
       "        vertical-align: top;\n",
       "    }\n",
       "</style>\n",
       "<table border=\"1\" class=\"dataframe\">\n",
       "  <thead>\n",
       "    <tr style=\"text-align: right;\">\n",
       "      <th></th>\n",
       "      <th>name</th>\n",
       "      <th>code</th>\n",
       "    </tr>\n",
       "  </thead>\n",
       "  <tbody>\n",
       "    <tr>\n",
       "      <th>0</th>\n",
       "      <td>BYC</td>\n",
       "      <td>001460</td>\n",
       "    </tr>\n",
       "    <tr>\n",
       "      <th>1</th>\n",
       "      <td>CJ CGV</td>\n",
       "      <td>079160</td>\n",
       "    </tr>\n",
       "    <tr>\n",
       "      <th>2</th>\n",
       "      <td>CJ씨푸드</td>\n",
       "      <td>011150</td>\n",
       "    </tr>\n",
       "    <tr>\n",
       "      <th>3</th>\n",
       "      <td>CJ제일제당</td>\n",
       "      <td>097950</td>\n",
       "    </tr>\n",
       "    <tr>\n",
       "      <th>4</th>\n",
       "      <td>DB손해보험</td>\n",
       "      <td>005830</td>\n",
       "    </tr>\n",
       "  </tbody>\n",
       "</table>\n",
       "</div>"
      ],
      "text/plain": [
       "     name    code\n",
       "0     BYC  001460\n",
       "1  CJ CGV  079160\n",
       "2   CJ씨푸드  011150\n",
       "3  CJ제일제당  097950\n",
       "4  DB손해보험  005830"
      ]
     },
     "execution_count": 3,
     "metadata": {},
     "output_type": "execute_result"
    }
   ],
   "source": [
    "code_df.head()"
   ]
  },
  {
   "cell_type": "code",
   "execution_count": null,
   "metadata": {
    "collapsed": true
   },
   "outputs": [],
   "source": []
  },
  {
   "cell_type": "code",
   "execution_count": 4,
   "metadata": {},
   "outputs": [
    {
     "name": "stdout",
     "output_type": "stream",
     "text": [
      "요청 URL = http://finance.naver.com/item/sise_day.nhn?code=001460\n"
     ]
    }
   ],
   "source": [
    "def get_url(item_name, code_df):\n",
    "    code = code_df.query(\"name=='{}'\".format(item_name))['code'].to_string(index=False)\n",
    "    url = \"http://finance.naver.com/item/sise_day.nhn?code={code}\".format(code=code)\n",
    "    \n",
    "    print(\"요청 URL = {}\".format(url))\n",
    "    return url\n",
    "\n",
    "item_name = 'BYC'\n",
    "url = get_url(item_name, code_df)\n",
    "#get precious data"
   ]
  },
  {
   "cell_type": "code",
   "execution_count": 5,
   "metadata": {
    "collapsed": true
   },
   "outputs": [],
   "source": [
    "df = pd.DataFrame()"
   ]
  },
  {
   "cell_type": "code",
   "execution_count": 6,
   "metadata": {
    "collapsed": true
   },
   "outputs": [],
   "source": [
    "for page in range(1, 10):\n",
    "    pg_url = '{url}&page={page}'.format(url=url, page=page)\n",
    "    df = df.append(pd.read_html(pg_url, header=0)[0], ignore_index=True)\n",
    "#pages previously"
   ]
  },
  {
   "cell_type": "code",
   "execution_count": 7,
   "metadata": {
    "collapsed": true
   },
   "outputs": [],
   "source": [
    "df = df.dropna()"
   ]
  },
  {
   "cell_type": "code",
   "execution_count": 8,
   "metadata": {},
   "outputs": [
    {
     "data": {
      "text/html": [
       "<div>\n",
       "<style>\n",
       "    .dataframe thead tr:only-child th {\n",
       "        text-align: right;\n",
       "    }\n",
       "\n",
       "    .dataframe thead th {\n",
       "        text-align: left;\n",
       "    }\n",
       "\n",
       "    .dataframe tbody tr th {\n",
       "        vertical-align: top;\n",
       "    }\n",
       "</style>\n",
       "<table border=\"1\" class=\"dataframe\">\n",
       "  <thead>\n",
       "    <tr style=\"text-align: right;\">\n",
       "      <th></th>\n",
       "      <th>날짜</th>\n",
       "      <th>종가</th>\n",
       "      <th>전일비</th>\n",
       "      <th>시가</th>\n",
       "      <th>고가</th>\n",
       "      <th>저가</th>\n",
       "      <th>거래량</th>\n",
       "    </tr>\n",
       "  </thead>\n",
       "  <tbody>\n",
       "    <tr>\n",
       "      <th>0</th>\n",
       "      <td>2018.02.06</td>\n",
       "      <td>301000</td>\n",
       "      <td>0</td>\n",
       "      <td>299000</td>\n",
       "      <td>301500</td>\n",
       "      <td>295000</td>\n",
       "      <td>818</td>\n",
       "    </tr>\n",
       "    <tr>\n",
       "      <th>1</th>\n",
       "      <td>2018.02.05</td>\n",
       "      <td>301000</td>\n",
       "      <td>1500</td>\n",
       "      <td>301000</td>\n",
       "      <td>304500</td>\n",
       "      <td>300500</td>\n",
       "      <td>652</td>\n",
       "    </tr>\n",
       "    <tr>\n",
       "      <th>2</th>\n",
       "      <td>2018.02.02</td>\n",
       "      <td>302500</td>\n",
       "      <td>2000</td>\n",
       "      <td>304500</td>\n",
       "      <td>304500</td>\n",
       "      <td>300500</td>\n",
       "      <td>437</td>\n",
       "    </tr>\n",
       "    <tr>\n",
       "      <th>3</th>\n",
       "      <td>2018.02.01</td>\n",
       "      <td>304500</td>\n",
       "      <td>0</td>\n",
       "      <td>307500</td>\n",
       "      <td>307500</td>\n",
       "      <td>303000</td>\n",
       "      <td>620</td>\n",
       "    </tr>\n",
       "    <tr>\n",
       "      <th>4</th>\n",
       "      <td>2018.01.31</td>\n",
       "      <td>304500</td>\n",
       "      <td>1500</td>\n",
       "      <td>303000</td>\n",
       "      <td>304500</td>\n",
       "      <td>302500</td>\n",
       "      <td>678</td>\n",
       "    </tr>\n",
       "  </tbody>\n",
       "</table>\n",
       "</div>"
      ],
      "text/plain": [
       "           날짜      종가   전일비      시가      고가      저가  거래량\n",
       "0  2018.02.06  301000     0  299000  301500  295000  818\n",
       "1  2018.02.05  301000  1500  301000  304500  300500  652\n",
       "2  2018.02.02  302500  2000  304500  304500  300500  437\n",
       "3  2018.02.01  304500     0  307500  307500  303000  620\n",
       "4  2018.01.31  304500  1500  303000  304500  302500  678"
      ]
     },
     "execution_count": 8,
     "metadata": {},
     "output_type": "execute_result"
    }
   ],
   "source": [
    "df.head()"
   ]
  },
  {
   "cell_type": "code",
   "execution_count": 9,
   "metadata": {
    "collapsed": true
   },
   "outputs": [],
   "source": [
    "df = df.rename(columns={'날짜': 'date', '종가': 'close', '전일비': 'diff',\n",
    "                       '시가': 'open', '고가': 'high', '저가': 'low', '거래량': 'volume'})"
   ]
  },
  {
   "cell_type": "code",
   "execution_count": 10,
   "metadata": {
    "collapsed": true
   },
   "outputs": [],
   "source": [
    "df[['close', 'diff', 'open', 'high', 'low', 'volume']] \\\n",
    " = df[['close', 'diff', 'open', 'high', 'low', 'volume']].astype(int) # 1000 = 1 d"
   ]
  },
  {
   "cell_type": "code",
   "execution_count": 11,
   "metadata": {
    "collapsed": true
   },
   "outputs": [],
   "source": [
    "df['date'] = pd.to_datetime(df['date'])"
   ]
  },
  {
   "cell_type": "code",
   "execution_count": 12,
   "metadata": {
    "collapsed": true
   },
   "outputs": [],
   "source": [
    "df = df.sort_values(by=['date'], ascending=True)"
   ]
  },
  {
   "cell_type": "code",
   "execution_count": 13,
   "metadata": {},
   "outputs": [
    {
     "data": {
      "text/html": [
       "<div>\n",
       "<style>\n",
       "    .dataframe thead tr:only-child th {\n",
       "        text-align: right;\n",
       "    }\n",
       "\n",
       "    .dataframe thead th {\n",
       "        text-align: left;\n",
       "    }\n",
       "\n",
       "    .dataframe tbody tr th {\n",
       "        vertical-align: top;\n",
       "    }\n",
       "</style>\n",
       "<table border=\"1\" class=\"dataframe\">\n",
       "  <thead>\n",
       "    <tr style=\"text-align: right;\">\n",
       "      <th></th>\n",
       "      <th>date</th>\n",
       "      <th>close</th>\n",
       "      <th>diff</th>\n",
       "      <th>open</th>\n",
       "      <th>high</th>\n",
       "      <th>low</th>\n",
       "      <th>volume</th>\n",
       "    </tr>\n",
       "  </thead>\n",
       "  <tbody>\n",
       "    <tr>\n",
       "      <th>89</th>\n",
       "      <td>2017-09-21</td>\n",
       "      <td>320500</td>\n",
       "      <td>5500</td>\n",
       "      <td>326000</td>\n",
       "      <td>326000</td>\n",
       "      <td>320500</td>\n",
       "      <td>704</td>\n",
       "    </tr>\n",
       "    <tr>\n",
       "      <th>88</th>\n",
       "      <td>2017-09-22</td>\n",
       "      <td>319000</td>\n",
       "      <td>1500</td>\n",
       "      <td>318500</td>\n",
       "      <td>319500</td>\n",
       "      <td>314500</td>\n",
       "      <td>786</td>\n",
       "    </tr>\n",
       "    <tr>\n",
       "      <th>87</th>\n",
       "      <td>2017-09-25</td>\n",
       "      <td>312500</td>\n",
       "      <td>6500</td>\n",
       "      <td>315000</td>\n",
       "      <td>330000</td>\n",
       "      <td>310000</td>\n",
       "      <td>569</td>\n",
       "    </tr>\n",
       "    <tr>\n",
       "      <th>86</th>\n",
       "      <td>2017-09-26</td>\n",
       "      <td>316000</td>\n",
       "      <td>3500</td>\n",
       "      <td>310000</td>\n",
       "      <td>323000</td>\n",
       "      <td>310000</td>\n",
       "      <td>206</td>\n",
       "    </tr>\n",
       "    <tr>\n",
       "      <th>85</th>\n",
       "      <td>2017-09-27</td>\n",
       "      <td>320000</td>\n",
       "      <td>4000</td>\n",
       "      <td>322000</td>\n",
       "      <td>326000</td>\n",
       "      <td>319500</td>\n",
       "      <td>337</td>\n",
       "    </tr>\n",
       "  </tbody>\n",
       "</table>\n",
       "</div>"
      ],
      "text/plain": [
       "         date   close  diff    open    high     low  volume\n",
       "89 2017-09-21  320500  5500  326000  326000  320500     704\n",
       "88 2017-09-22  319000  1500  318500  319500  314500     786\n",
       "87 2017-09-25  312500  6500  315000  330000  310000     569\n",
       "86 2017-09-26  316000  3500  310000  323000  310000     206\n",
       "85 2017-09-27  320000  4000  322000  326000  319500     337"
      ]
     },
     "execution_count": 13,
     "metadata": {},
     "output_type": "execute_result"
    }
   ],
   "source": [
    "df.head()"
   ]
  },
  {
   "cell_type": "code",
   "execution_count": 14,
   "metadata": {},
   "outputs": [
    {
     "data": {
      "text/html": [
       "<script>requirejs.config({paths: { 'plotly': ['https://cdn.plot.ly/plotly-latest.min']},});if(!window.Plotly) {{require(['plotly'],function(plotly) {window.Plotly=plotly;});}}</script>"
      ],
      "text/vnd.plotly.v1+html": [
       "<script>requirejs.config({paths: { 'plotly': ['https://cdn.plot.ly/plotly-latest.min']},});if(!window.Plotly) {{require(['plotly'],function(plotly) {window.Plotly=plotly;});}}</script>"
      ]
     },
     "metadata": {},
     "output_type": "display_data"
    },
    {
     "data": {
      "application/vnd.plotly.v1+json": {
       "data": [
        {
         "name": "BYC",
         "type": "scatter",
         "x": [
          "2017-09-21",
          "2017-09-22",
          "2017-09-25",
          "2017-09-26",
          "2017-09-27",
          "2017-09-28",
          "2017-09-29",
          "2017-10-10",
          "2017-10-11",
          "2017-10-12",
          "2017-10-13",
          "2017-10-16",
          "2017-10-17",
          "2017-10-18",
          "2017-10-19",
          "2017-10-20",
          "2017-10-23",
          "2017-10-24",
          "2017-10-25",
          "2017-10-26",
          "2017-10-27",
          "2017-10-30",
          "2017-10-31",
          "2017-11-01",
          "2017-11-02",
          "2017-11-03",
          "2017-11-06",
          "2017-11-07",
          "2017-11-08",
          "2017-11-09",
          "2017-11-10",
          "2017-11-13",
          "2017-11-14",
          "2017-11-15",
          "2017-11-16",
          "2017-11-17",
          "2017-11-20",
          "2017-11-21",
          "2017-11-22",
          "2017-11-23",
          "2017-11-24",
          "2017-11-27",
          "2017-11-28",
          "2017-11-29",
          "2017-11-30",
          "2017-12-01",
          "2017-12-04",
          "2017-12-05",
          "2017-12-06",
          "2017-12-07",
          "2017-12-08",
          "2017-12-11",
          "2017-12-12",
          "2017-12-13",
          "2017-12-14",
          "2017-12-15",
          "2017-12-18",
          "2017-12-19",
          "2017-12-20",
          "2017-12-21",
          "2017-12-22",
          "2017-12-26",
          "2017-12-27",
          "2017-12-28",
          "2018-01-02",
          "2018-01-03",
          "2018-01-04",
          "2018-01-05",
          "2018-01-08",
          "2018-01-09",
          "2018-01-10",
          "2018-01-11",
          "2018-01-12",
          "2018-01-15",
          "2018-01-16",
          "2018-01-17",
          "2018-01-18",
          "2018-01-19",
          "2018-01-22",
          "2018-01-23",
          "2018-01-24",
          "2018-01-25",
          "2018-01-26",
          "2018-01-29",
          "2018-01-30",
          "2018-01-31",
          "2018-02-01",
          "2018-02-02",
          "2018-02-05",
          "2018-02-06"
         ],
         "y": [
          320500,
          319000,
          312500,
          316000,
          320000,
          323000,
          316500,
          326500,
          326000,
          325000,
          319500,
          318500,
          324000,
          318000,
          320000,
          320000,
          320000,
          319500,
          320000,
          320000,
          320000,
          321500,
          320000,
          320000,
          320000,
          319000,
          321000,
          319500,
          320000,
          323000,
          322500,
          324000,
          327500,
          325500,
          324000,
          322000,
          321500,
          320000,
          320000,
          321000,
          321000,
          322000,
          322000,
          330000,
          327500,
          325000,
          320500,
          320500,
          320000,
          319500,
          320000,
          319500,
          320000,
          317000,
          314500,
          316500,
          317500,
          317000,
          314000,
          314500,
          313000,
          310500,
          306500,
          306000,
          304000,
          301000,
          300500,
          300000,
          300000,
          299000,
          298500,
          296500,
          293000,
          291000,
          290500,
          291000,
          290500,
          294000,
          293000,
          295500,
          297000,
          308000,
          304500,
          304000,
          303000,
          304500,
          304500,
          302500,
          301000,
          301000
         ]
        }
       ],
       "layout": {
        "title": "BYC의 종가(close) Time Series",
        "xaxis": {
         "rangeselector": {
          "buttons": [
           {
            "count": 1,
            "label": "1m",
            "step": "month",
            "stepmode": "backward"
           },
           {
            "count": 3,
            "label": "3m",
            "step": "month",
            "stepmode": "backward"
           },
           {
            "count": 6,
            "label": "6m",
            "step": "month",
            "stepmode": "backward"
           },
           {
            "step": "all"
           }
          ]
         },
         "rangeslider": {},
         "type": "date"
        }
       }
      },
      "text/html": [
       "<div id=\"7c638753-8e94-4e62-bd02-f5ac542f87f1\" style=\"height: 525px; width: 100%;\" class=\"plotly-graph-div\"></div><script type=\"text/javascript\">require([\"plotly\"], function(Plotly) { window.PLOTLYENV=window.PLOTLYENV || {};window.PLOTLYENV.BASE_URL=\"https://plot.ly\";Plotly.newPlot(\"7c638753-8e94-4e62-bd02-f5ac542f87f1\", [{\"type\": \"scatter\", \"x\": [\"2017-09-21\", \"2017-09-22\", \"2017-09-25\", \"2017-09-26\", \"2017-09-27\", \"2017-09-28\", \"2017-09-29\", \"2017-10-10\", \"2017-10-11\", \"2017-10-12\", \"2017-10-13\", \"2017-10-16\", \"2017-10-17\", \"2017-10-18\", \"2017-10-19\", \"2017-10-20\", \"2017-10-23\", \"2017-10-24\", \"2017-10-25\", \"2017-10-26\", \"2017-10-27\", \"2017-10-30\", \"2017-10-31\", \"2017-11-01\", \"2017-11-02\", \"2017-11-03\", \"2017-11-06\", \"2017-11-07\", \"2017-11-08\", \"2017-11-09\", \"2017-11-10\", \"2017-11-13\", \"2017-11-14\", \"2017-11-15\", \"2017-11-16\", \"2017-11-17\", \"2017-11-20\", \"2017-11-21\", \"2017-11-22\", \"2017-11-23\", \"2017-11-24\", \"2017-11-27\", \"2017-11-28\", \"2017-11-29\", \"2017-11-30\", \"2017-12-01\", \"2017-12-04\", \"2017-12-05\", \"2017-12-06\", \"2017-12-07\", \"2017-12-08\", \"2017-12-11\", \"2017-12-12\", \"2017-12-13\", \"2017-12-14\", \"2017-12-15\", \"2017-12-18\", \"2017-12-19\", \"2017-12-20\", \"2017-12-21\", \"2017-12-22\", \"2017-12-26\", \"2017-12-27\", \"2017-12-28\", \"2018-01-02\", \"2018-01-03\", \"2018-01-04\", \"2018-01-05\", \"2018-01-08\", \"2018-01-09\", \"2018-01-10\", \"2018-01-11\", \"2018-01-12\", \"2018-01-15\", \"2018-01-16\", \"2018-01-17\", \"2018-01-18\", \"2018-01-19\", \"2018-01-22\", \"2018-01-23\", \"2018-01-24\", \"2018-01-25\", \"2018-01-26\", \"2018-01-29\", \"2018-01-30\", \"2018-01-31\", \"2018-02-01\", \"2018-02-02\", \"2018-02-05\", \"2018-02-06\"], \"y\": [320500, 319000, 312500, 316000, 320000, 323000, 316500, 326500, 326000, 325000, 319500, 318500, 324000, 318000, 320000, 320000, 320000, 319500, 320000, 320000, 320000, 321500, 320000, 320000, 320000, 319000, 321000, 319500, 320000, 323000, 322500, 324000, 327500, 325500, 324000, 322000, 321500, 320000, 320000, 321000, 321000, 322000, 322000, 330000, 327500, 325000, 320500, 320500, 320000, 319500, 320000, 319500, 320000, 317000, 314500, 316500, 317500, 317000, 314000, 314500, 313000, 310500, 306500, 306000, 304000, 301000, 300500, 300000, 300000, 299000, 298500, 296500, 293000, 291000, 290500, 291000, 290500, 294000, 293000, 295500, 297000, 308000, 304500, 304000, 303000, 304500, 304500, 302500, 301000, 301000], \"name\": \"BYC\"}], {\"title\": \"BYC\\uc758 \\uc885\\uac00(close) Time Series\", \"xaxis\": {\"rangeselector\": {\"buttons\": [{\"count\": 1, \"label\": \"1m\", \"step\": \"month\", \"stepmode\": \"backward\"}, {\"count\": 3, \"label\": \"3m\", \"step\": \"month\", \"stepmode\": \"backward\"}, {\"count\": 6, \"label\": \"6m\", \"step\": \"month\", \"stepmode\": \"backward\"}, {\"step\": \"all\"}]}, \"rangeslider\": {}, \"type\": \"date\"}}, {\"showLink\": true, \"linkText\": \"Export to plot.ly\"})});</script>"
      ],
      "text/vnd.plotly.v1+html": [
       "<div id=\"7c638753-8e94-4e62-bd02-f5ac542f87f1\" style=\"height: 525px; width: 100%;\" class=\"plotly-graph-div\"></div><script type=\"text/javascript\">require([\"plotly\"], function(Plotly) { window.PLOTLYENV=window.PLOTLYENV || {};window.PLOTLYENV.BASE_URL=\"https://plot.ly\";Plotly.newPlot(\"7c638753-8e94-4e62-bd02-f5ac542f87f1\", [{\"type\": \"scatter\", \"x\": [\"2017-09-21\", \"2017-09-22\", \"2017-09-25\", \"2017-09-26\", \"2017-09-27\", \"2017-09-28\", \"2017-09-29\", \"2017-10-10\", \"2017-10-11\", \"2017-10-12\", \"2017-10-13\", \"2017-10-16\", \"2017-10-17\", \"2017-10-18\", \"2017-10-19\", \"2017-10-20\", \"2017-10-23\", \"2017-10-24\", \"2017-10-25\", \"2017-10-26\", \"2017-10-27\", \"2017-10-30\", \"2017-10-31\", \"2017-11-01\", \"2017-11-02\", \"2017-11-03\", \"2017-11-06\", \"2017-11-07\", \"2017-11-08\", \"2017-11-09\", \"2017-11-10\", \"2017-11-13\", \"2017-11-14\", \"2017-11-15\", \"2017-11-16\", \"2017-11-17\", \"2017-11-20\", \"2017-11-21\", \"2017-11-22\", \"2017-11-23\", \"2017-11-24\", \"2017-11-27\", \"2017-11-28\", \"2017-11-29\", \"2017-11-30\", \"2017-12-01\", \"2017-12-04\", \"2017-12-05\", \"2017-12-06\", \"2017-12-07\", \"2017-12-08\", \"2017-12-11\", \"2017-12-12\", \"2017-12-13\", \"2017-12-14\", \"2017-12-15\", \"2017-12-18\", \"2017-12-19\", \"2017-12-20\", \"2017-12-21\", \"2017-12-22\", \"2017-12-26\", \"2017-12-27\", \"2017-12-28\", \"2018-01-02\", \"2018-01-03\", \"2018-01-04\", \"2018-01-05\", \"2018-01-08\", \"2018-01-09\", \"2018-01-10\", \"2018-01-11\", \"2018-01-12\", \"2018-01-15\", \"2018-01-16\", \"2018-01-17\", \"2018-01-18\", \"2018-01-19\", \"2018-01-22\", \"2018-01-23\", \"2018-01-24\", \"2018-01-25\", \"2018-01-26\", \"2018-01-29\", \"2018-01-30\", \"2018-01-31\", \"2018-02-01\", \"2018-02-02\", \"2018-02-05\", \"2018-02-06\"], \"y\": [320500, 319000, 312500, 316000, 320000, 323000, 316500, 326500, 326000, 325000, 319500, 318500, 324000, 318000, 320000, 320000, 320000, 319500, 320000, 320000, 320000, 321500, 320000, 320000, 320000, 319000, 321000, 319500, 320000, 323000, 322500, 324000, 327500, 325500, 324000, 322000, 321500, 320000, 320000, 321000, 321000, 322000, 322000, 330000, 327500, 325000, 320500, 320500, 320000, 319500, 320000, 319500, 320000, 317000, 314500, 316500, 317500, 317000, 314000, 314500, 313000, 310500, 306500, 306000, 304000, 301000, 300500, 300000, 300000, 299000, 298500, 296500, 293000, 291000, 290500, 291000, 290500, 294000, 293000, 295500, 297000, 308000, 304500, 304000, 303000, 304500, 304500, 302500, 301000, 301000], \"name\": \"BYC\"}], {\"title\": \"BYC\\uc758 \\uc885\\uac00(close) Time Series\", \"xaxis\": {\"rangeselector\": {\"buttons\": [{\"count\": 1, \"label\": \"1m\", \"step\": \"month\", \"stepmode\": \"backward\"}, {\"count\": 3, \"label\": \"3m\", \"step\": \"month\", \"stepmode\": \"backward\"}, {\"count\": 6, \"label\": \"6m\", \"step\": \"month\", \"stepmode\": \"backward\"}, {\"step\": \"all\"}]}, \"rangeslider\": {}, \"type\": \"date\"}}, {\"showLink\": true, \"linkText\": \"Export to plot.ly\"})});</script>"
      ]
     },
     "metadata": {},
     "output_type": "display_data"
    }
   ],
   "source": [
    "#pip install plotly\n",
    "import plotly.offline as offline\n",
    "import plotly.graph_objs as go\n",
    "\n",
    "offline.init_notebook_mode(connected=True)\n",
    "\n",
    "trace = go.Scatter(x=df.date, y=df.close, name=item_name)\n",
    "\n",
    "data = [trace]\n",
    "\n",
    "layout = dict(\n",
    "            title='{}의 종가(close) Time Series'.format(item_name),\n",
    "            xaxis =dict(\n",
    "                rangeselector=dict(\n",
    "                buttons=list([\n",
    "                    dict(count=1,\n",
    "                        label='1m',\n",
    "                        step='month',\n",
    "                        stepmode='backward'),\n",
    "                    dict(count=3,\n",
    "                        label='3m',\n",
    "                        step='month',\n",
    "                        stepmode='backward'),\n",
    "                    dict(count=6,\n",
    "                        label='6m',\n",
    "                        step='month',\n",
    "                        stepmode='backward'),\n",
    "                    dict(step='all')\n",
    "                ])\n",
    "            ),\n",
    "            rangeslider=dict(),\n",
    "            type='date'\n",
    "        )\n",
    "    )\n",
    "\n",
    "fig = go.Figure(data=data, layout=layout)\n",
    "offline.iplot(fig)"
   ]
  },
  {
   "cell_type": "code",
   "execution_count": null,
   "metadata": {
    "collapsed": true
   },
   "outputs": [],
   "source": []
  }
 ],
 "metadata": {
  "kernelspec": {
   "display_name": "Python 3",
   "language": "python",
   "name": "python3"
  },
  "language_info": {
   "codemirror_mode": {
    "name": "ipython",
    "version": 3
   },
   "file_extension": ".py",
   "mimetype": "text/x-python",
   "name": "python",
   "nbconvert_exporter": "python",
   "pygments_lexer": "ipython3",
   "version": "3.6.3"
  }
 },
 "nbformat": 4,
 "nbformat_minor": 2
}
