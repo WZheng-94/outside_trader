{
 "cells": [
  {
   "cell_type": "code",
   "execution_count": 1,
   "metadata": {
    "collapsed": true
   },
   "outputs": [],
   "source": [
    "import bs4\n",
    "import urllib3\n",
    "import csv"
   ]
  },
  {
   "cell_type": "code",
   "execution_count": 2,
   "metadata": {},
   "outputs": [],
   "source": [
    "def scrape_price(code):\n",
    "    target = \"http://finance.naver.com/item/coinfo.nhn?code=\" + code + \"#\"\n",
    "    pm = urllib3.PoolManager()\n",
    "    html = pm.urlopen(url=target, method=\"GET\").data\n",
    "    soup = bs4.BeautifulSoup(html, 'lxml')\n",
    "    data_list = soup.find_all(\"dl\", class_ = \"blind\")[0].find_all(\"dd\")\n",
    "    data_dic = {}\n",
    "    first_line = data_list[3].text.split()\n",
    "    data_dic[\"price\"] = first_line[1]\n",
    "    if first_line[5] == \"마이너스\":\n",
    "        data_dic[\"value_dif\"] = \"-\" + first_line[4]\n",
    "        data_dic[\"value_dif_per\"] = \"-\" + first_line[6]\n",
    "    else:\n",
    "        data_dic[\"value_dif\"] = first_line[4]\n",
    "        data_dic[\"value_dif_per\"] = first_line[6]\n",
    "    var_list = [\"yestday_close\", \"today_open\", \"today_high\", \"highest_poss\", \"today_low\", \\\n",
    "                \"lowest_poss\", \"trade_vol\", \"trade_amount\"]\n",
    "    num = 4\n",
    "    for var in var_list:\n",
    "        data_dic[var] = data_list[num].text.split()[1]\n",
    "        num += 1\n",
    "    \n",
    "    return data_dic    "
   ]
  },
  {
   "cell_type": "code",
   "execution_count": 69,
   "metadata": {
    "collapsed": true
   },
   "outputs": [],
   "source": [
    "def add_price_to_file(filename, code):\n",
    "    \n",
    "    fieldnames = [\"price\", \"value_dif\", \"value_dif_per\", \"yestday_close\", \\\n",
    "                  \"today_open\", \"today_high\", \"highest_poss\", \"today_low\", \\\n",
    "                  \"lowest_poss\", \"trade_vol\", \"trade_amount\"]\n",
    "    row = scrape_price(code)\n",
    "    with open(filename, \"w\") as f:\n",
    "        writer = csv.DictWriter(f, fieldnames = fieldnames)\n",
    "        writer.writeheader()\n",
    "        writer.writerow(row)\n",
    "        \n",
    "    return"
   ]
  }
 ],
 "metadata": {
  "kernelspec": {
   "display_name": "Python 3",
   "language": "python",
   "name": "python3"
  },
  "language_info": {
   "codemirror_mode": {
    "name": "ipython",
    "version": 3
   },
   "file_extension": ".py",
   "mimetype": "text/x-python",
   "name": "python",
   "nbconvert_exporter": "python",
   "pygments_lexer": "ipython3",
   "version": "3.6.2"
  }
 },
 "nbformat": 4,
 "nbformat_minor": 2
}
