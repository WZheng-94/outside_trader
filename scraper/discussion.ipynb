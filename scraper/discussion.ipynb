{
 "cells": [
  {
   "cell_type": "code",
   "execution_count": null,
   "metadata": {
    "collapsed": true
   },
   "outputs": [],
   "source": [
    "import numpy as np\n",
    "import pandas as pd\n",
    "import matplotlib.pyplot as plt\n",
    "import bs4\n",
    "import urllib3\n",
    "import json\n",
    "from datetime import tzinfo, timedelta, datetime\n",
    "from pytz import timezone\n",
    "from apscheduler.schedulers.blocking import BlockingScheduler"
   ]
  },
  {
   "cell_type": "code",
   "execution_count": null,
   "metadata": {
    "collapsed": true
   },
   "outputs": [],
   "source": [
    "with open(\"krx_code.json\") as krx:\n",
    "    krx_code = json.load(krx)"
   ]
  },
  {
   "cell_type": "code",
   "execution_count": null,
   "metadata": {
    "collapsed": true
   },
   "outputs": [],
   "source": [
    "with open(\"2018-02-14_less_than_15.json\") as focus_group:\n",
    "    focus = json.load(focus_group)"
   ]
  },
  {
   "cell_type": "code",
   "execution_count": null,
   "metadata": {
    "collapsed": true
   },
   "outputs": [],
   "source": [
    "def scrape_discussion(code):\n",
    "    page_num = 1\n",
    "    post_dic = {}\n",
    "    post_num = 0\n",
    "    click = 0\n",
    "    like = 0\n",
    "    dislike = 0\n",
    "    unique_id = set()\n",
    "    while True:\n",
    "        target = \"http://finance.naver.com/item/board.nhn?code=\" + code + \"&page=\" + str(page_num)\n",
    "        pm = urllib3.PoolManager()\n",
    "        html = pm.urlopen(url=target, method=\"GET\").data\n",
    "        soup = bs4.BeautifulSoup(html, 'lxml')\n",
    "        div_tag = soup.find_all(\"div\", class_ =\"section inner_sub\")\n",
    "        div_row = div_tag[0].find_all(\"tr\")\n",
    "        for row in div_row[2:25]:\n",
    "            if div_row.index(row) not in [7, 13, 19]:\n",
    "                info_list = row.find_all('td')\n",
    "                time = info_list[0].text\n",
    "                date, time = time.split(\" \")\n",
    "                date_list = date.split(\".\")\n",
    "                time_list = time.split(\":\")\n",
    "                pre_time = datetime(int(date_list[0]), int(date_list[1]), int(date_list[2]))\n",
    "                korea_time = timezone('Asia/Seoul')\n",
    "                pre_time = korea_time.localize(pre_time, is_dst = True)\n",
    "                now = datetime.now(tz = timezone('Asia/Seoul'))\n",
    "                if now - pre_time <= timedelta(days = 1):\n",
    "                    post_num += 1\n",
    "                    unique_id.add(info_list[3].text.strip(\"\\n\\t\"))\n",
    "                    click += int(info_list[4].text)\n",
    "                    like += int(info_list[5].text)\n",
    "                    dislike += int(info_list[6].text)\n",
    "                else:\n",
    "                    post_dic[\"post_num\"] = post_num\n",
    "                    post_dic[\"unique_id\"] = len(unique_id)\n",
    "                    post_dic[\"click\"] = click\n",
    "                    post_dic[\"like\"] = like\n",
    "                    post_dic[\"dislike\"] = dislike\n",
    "\n",
    "                    return post_dic\n",
    "        \n",
    "        page_num += 1\n",
    "    \n",
    "    return post_dic"
   ]
  },
  {
   "cell_type": "code",
   "execution_count": null,
   "metadata": {
    "collapsed": true
   },
   "outputs": [],
   "source": [
    "def job_function():\n",
    "    import json\n",
    "    \n",
    "    rv = []\n",
    "    tz = timezone('Asia/Seoul')\n",
    "    seoul_now = datetime.now(tz)\n",
    "\n",
    "    for stock in focus:\n",
    "        d = scrape_discussion(krx_code[stock])\n",
    "        d[\"name\"] = stock\n",
    "        d[\"time\"] = str(seoul_now)[:16]\n",
    "        rv.append(d)\n",
    "\n",
    "    json = json.dumps(rv, ensure_ascii=False)\n",
    "    f = open(\"discussion_\" + str(seoul_now)[:16] + \".json\",\"w\")\n",
    "    f.write(json)\n",
    "    f.close()\n",
    "    \n",
    "    return None"
   ]
  },
  {
   "cell_type": "code",
   "execution_count": null,
   "metadata": {
    "collapsed": true
   },
   "outputs": [],
   "source": [
    "sched = BlockingScheduler()"
   ]
  },
  {
   "cell_type": "code",
   "execution_count": null,
   "metadata": {},
   "outputs": [],
   "source": [
    "sched.add_job(job_function, 'cron', month='2', day='7-28', hour='0-23', \\\n",
    "              minute='0-59/10')"
   ]
  },
  {
   "cell_type": "code",
   "execution_count": null,
   "metadata": {},
   "outputs": [],
   "source": [
    "sched.start()"
   ]
  }
 ],
 "metadata": {
  "kernelspec": {
   "display_name": "Python 3",
   "language": "python",
   "name": "python3"
  },
  "language_info": {
   "codemirror_mode": {
    "name": "ipython",
    "version": 3
   },
   "file_extension": ".py",
   "mimetype": "text/x-python",
   "name": "python",
   "nbconvert_exporter": "python",
   "pygments_lexer": "ipython3",
   "version": "3.6.3"
  }
 },
 "nbformat": 4,
 "nbformat_minor": 2
}
