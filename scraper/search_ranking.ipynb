{
 "cells": [
  {
   "cell_type": "code",
   "execution_count": null,
   "metadata": {
    "collapsed": true
   },
   "outputs": [],
   "source": [
    "# encoding: utf-8\n",
    "import bs4\n",
    "import urllib3\n",
    "from datetime import datetime, timezone\n",
    "import pytz\n",
    "from apscheduler.schedulers.blocking import BlockingScheduler\n",
    "import json"
   ]
  },
  {
   "cell_type": "code",
   "execution_count": null,
   "metadata": {
    "collapsed": true
   },
   "outputs": [],
   "source": [
    "def find_all_stock(target):\n",
    "    pm = urllib3.PoolManager()\n",
    "    html = pm.urlopen(url=target, method=\"GET\").data\n",
    "    soup = bs4.BeautifulSoup(html, 'lxml')\n",
    "    div_tag = soup.find_all(\"div\", class_ =\"box_type_l\")[0]\n",
    "    raw_stock_list = div_tag.find_all(\"tr\")[2:47]\n",
    "    stock_dict = {}\n",
    "    for tag in raw_stock_list:\n",
    "        if raw_stock_list.index(tag) % 8 not in [5, 6, 7]:\n",
    "            rank = tag.find_all(\"td\", class_ = \"no\")[0].text\n",
    "            name = tag.find_all(\"td\", class_ = \"no\")[0].next_sibling.next_sibling.find_all(\"a\")[0].text\n",
    "            stock_dict[rank] = name\n",
    "    return stock_dict"
   ]
  },
  {
   "cell_type": "code",
   "execution_count": null,
   "metadata": {
    "collapsed": true
   },
   "outputs": [],
   "source": [
    "def job_function():\n",
    "    import json\n",
    "    \n",
    "    rank = find_all_stock(\"http://finance.naver.com/sise/lastsearch2.nhn\")\n",
    "    tz = pytz.timezone('Asia/Seoul')\n",
    "    seoul_now = datetime.now(tz)\n",
    "    \n",
    "    rank[\"time\"] = str(seoul_now)[:16]\n",
    "    \n",
    "    json = json.dumps(rank, ensure_ascii=False)\n",
    "    f = open(str(rank[\"time\"])+\".json\",\"w\")\n",
    "    f.write(json)\n",
    "    f.close()\n",
    "    \n",
    "    return None"
   ]
  },
  {
   "cell_type": "code",
   "execution_count": null,
   "metadata": {
    "collapsed": true
   },
   "outputs": [],
   "source": [
    "sched = BlockingScheduler()"
   ]
  },
  {
   "cell_type": "code",
   "execution_count": null,
   "metadata": {},
   "outputs": [],
   "source": [
    "sched.add_job(job_function, 'cron', month='2', day='7-28', hour='0-23', \\\n",
    "              minute='0-59/10')"
   ]
  },
  {
   "cell_type": "code",
   "execution_count": null,
   "metadata": {},
   "outputs": [],
   "source": [
    "sched.start()"
   ]
  }
 ],
 "metadata": {
  "kernelspec": {
   "display_name": "Python 3",
   "language": "python",
   "name": "python3"
  },
  "language_info": {
   "codemirror_mode": {
    "name": "ipython",
    "version": 3
   },
   "file_extension": ".py",
   "mimetype": "text/x-python",
   "name": "python",
   "nbconvert_exporter": "python",
   "pygments_lexer": "ipython3",
   "version": "3.6.3"
  }
 },
 "nbformat": 4,
 "nbformat_minor": 2
}
