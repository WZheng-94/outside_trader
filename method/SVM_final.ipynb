{
 "cells": [
  {
   "cell_type": "code",
   "execution_count": 1,
   "metadata": {
    "collapsed": true
   },
   "outputs": [],
   "source": [
    "import pandas as pd\n",
    "import numpy as np\n",
    "import matplotlib.pyplot as plt\n",
    "import seaborn as sns\n",
    "\n",
    "from sklearn.preprocessing import label_binarize\n",
    "from sklearn.model_selection import GridSearchCV\n",
    "from sklearn.svm import SVC\n",
    "from sklearn.metrics import confusion_matrix, roc_curve, auc, classification_report"
   ]
  },
  {
   "cell_type": "code",
   "execution_count": 2,
   "metadata": {
    "collapsed": true
   },
   "outputs": [],
   "source": [
    "import json\n",
    "with open(\"df_1hour_Feb.json\", 'r', encoding='UTF-8') as f:\n",
    "    F_data = json.load(f)"
   ]
  },
  {
   "cell_type": "code",
   "execution_count": 3,
   "metadata": {
    "collapsed": true
   },
   "outputs": [],
   "source": [
    "with open(\"df_1hour_Mar.json\", 'r', encoding='UTF-8') as f:\n",
    "    M_data = json.load(f)"
   ]
  },
  {
   "cell_type": "code",
   "execution_count": 4,
   "metadata": {
    "collapsed": true
   },
   "outputs": [],
   "source": [
    "COLUMNS = ['name', 'code', 'time', 'price', 'time_1', 'price_1', 'price_dif_1', 'sell_1', 'buy_1', 'volume_1', 'variation_1', 'post_num_1', 'unique_id_1', 'click_1', 'like_1', 'dislike_1', 'time_2', 'price_2', 'price_dif_2', 'sell_2', 'buy_2', 'volume_2', 'variation_2', 'post_num_2', 'unique_id_2', 'click_2', 'like_2', 'dislike_2', 'time_3', 'price_3', 'price_dif_3', 'sell_3', 'buy_3', 'volume_3', 'variation_3', 'post_num_3', 'unique_id_3', 'click_3', 'like_3', 'dislike_3', 'mkt_cap', 'kospi', 'kosdaq', 'trash', 'yesterday_closing_price', 'is_maximum', 'is_minimum', 'price_volatility', 'price_trend', 'average_price_volatility', 'sell_minus_buy_1', 'sell_minus_buy_2', 'sell_minus_buy_3', 'is_price_gap_stable', 'price_gap_volatility', 'is_like_higher', 'volume_trend', 'post_num_trend', 'unique_id_trend', 'click_trend', 'price_increase', 'did_price_increase', 'did_price_033', 'did_price_100', 'did_price_150', 'kospi_ind', 'kosdaq_ind', 'time_slot', 'ko_inter', 'early_mor', 'morning', 'lunch', 'afternoon', 'late', 'mkt_change', 'alpha', 'per_now', 'kospi_1', 'kospi_2', 'kospi_3', 'kospi_answer', 'kosdaq_1', 'kosdaq_2', 'kosdaq_3', 'kosdaq_answer', 'kospi_trend', 'kosdaq_trend', 'kospi_increase', 'kosdaq_increase', 'market_increase', 'did_opening_price_increase', 'price_1_sq', 'price_dif_1_sq', 'sell_1_sq', 'buy_1_sq', 'volume_1_sq', 'variation_1_sq', 'post_num_1_sq', 'unique_id_1_sq', 'click_1_sq', 'like_1_sq', 'dislike_1_sq', 'price_2_sq', 'price_dif_2_sq', 'sell_2_sq', 'buy_2_sq', 'volume_2_sq', 'variation_2_sq', 'post_num_2_sq', 'unique_id_2_sq', 'click_2_sq', 'like_2_sq', 'dislike_2_sq', 'price_3_sq', 'price_dif_3_sq', 'sell_3_sq', 'buy_3_sq', 'volume_3_sq', 'variation_3_sq', 'post_num_3_sq', 'unique_id_3_sq', 'click_3_sq', 'like_3_sq', 'dislike_3_sq', 'mkt_cap_sq', 'yesterday_closing_price_sq', 'price_volatility_sq', 'price_trend_sq', 'average_price_volatility_sq', 'sell_minus_buy_1_sq', 'sell_minus_buy_2_sq', 'sell_minus_buy_3_sq', 'price_gap_volatility_sq', 'volume_trend_sq', 'post_num_trend_sq', 'unique_id_trend_sq', 'click_trend_sq', 'kospi_ind_sq', 'kosdaq_ind_sq', 'time_slot_sq', 'ko_inter_sq', 'mkt_change_sq', 'alpha_sq', 'per_now_sq', 'kospi_1_sq', 'kospi_2_sq', 'kospi_3_sq', 'kosdaq_1_sq', 'kosdaq_2_sq', 'kosdaq_3_sq', 'kospi_trend_sq', 'kosdaq_trend_sq']"
   ]
  },
  {
   "cell_type": "code",
   "execution_count": 5,
   "metadata": {
    "collapsed": true
   },
   "outputs": [],
   "source": [
    "df_F = pd.DataFrame(F_data, columns = COLUMNS)\n",
    "df_M = pd.DataFrame(M_data, columns = COLUMNS)\n",
    "df = pd.concat([df_F, df_M])"
   ]
  },
  {
   "cell_type": "code",
   "execution_count": 6,
   "metadata": {
    "collapsed": true
   },
   "outputs": [],
   "source": [
    "df = df.dropna(axis=0, how='any')"
   ]
  },
  {
   "cell_type": "code",
   "execution_count": 7,
   "metadata": {
    "collapsed": true
   },
   "outputs": [],
   "source": [
    "time_filter = (df['time'].str.startswith(\"2018-02-21\")) | \\\n",
    "              (df['time'].str.startswith(\"2018-02-20\")) | \\\n",
    "              (df['time'].str.startswith(\"2018-02-14\")) \n",
    "        \n",
    "train_df = df[time_filter].reset_index(drop = True)\n",
    "test_df = df[~time_filter].reset_index(drop = True)"
   ]
  },
  {
   "cell_type": "code",
   "execution_count": 8,
   "metadata": {},
   "outputs": [],
   "source": [
    "X_COL = ['price_1','price_dif_1','sell_1','buy_1','volume_1','variation_1','post_num_1','unique_id_1','click_1',\n",
    "     'like_1','dislike_1','price_2','price_dif_2','sell_2','buy_2','volume_2','variation_2','post_num_2','unique_id_2',\n",
    "     'click_2','like_2','dislike_2','price_3','price_dif_3','sell_3','buy_3','volume_3','variation_3','post_num_3',\n",
    "     'unique_id_3','click_3','like_3','dislike_3','mkt_cap','kospi','kosdaq','trash','yesterday_closing_price',\n",
    "     'is_maximum','is_minimum','price_volatility','price_trend','average_price_volatility','sell_minus_buy_1',\n",
    "     'sell_minus_buy_2','sell_minus_buy_3','is_price_gap_stable','price_gap_volatility','is_like_higher',\n",
    "     'volume_trend','post_num_trend','unique_id_trend','click_trend','kospi_ind','kosdaq_ind','time_slot',\n",
    "     'ko_inter','early_mor','morning','lunch','afternoon','late','mkt_change','alpha','per_now','kospi_1','kospi_2',\n",
    "     'kospi_3','kosdaq_1','kosdaq_2','kosdaq_3','kospi_trend','kosdaq_trend','did_opening_price_increase',\n",
    "     'price_1_sq','price_dif_1_sq','sell_1_sq','buy_1_sq','volume_1_sq','variation_1_sq','post_num_1_sq',\n",
    "     'unique_id_1_sq','click_1_sq','like_1_sq','dislike_1_sq','price_2_sq','price_dif_2_sq','sell_2_sq',\n",
    "     'buy_2_sq','volume_2_sq','variation_2_sq','post_num_2_sq','unique_id_2_sq','click_2_sq','like_2_sq',\n",
    "     'dislike_2_sq','price_3_sq','price_dif_3_sq','sell_3_sq','buy_3_sq','volume_3_sq','variation_3_sq',\n",
    "     'post_num_3_sq','unique_id_3_sq','click_3_sq','like_3_sq','dislike_3_sq','mkt_cap_sq',\n",
    "     'yesterday_closing_price_sq','price_volatility_sq','price_trend_sq','average_price_volatility_sq',\n",
    "     'sell_minus_buy_1_sq','sell_minus_buy_2_sq','sell_minus_buy_3_sq','price_gap_volatility_sq',\n",
    "     'volume_trend_sq','post_num_trend_sq','unique_id_trend_sq','click_trend_sq','kospi_ind_sq','kosdaq_ind_sq',\n",
    "     'time_slot_sq','ko_inter_sq','mkt_change_sq','alpha_sq','per_now_sq','kospi_1_sq','kospi_2_sq','kospi_3_sq',\n",
    "     'kosdaq_1_sq','kosdaq_2_sq','kosdaq_3_sq','kospi_trend_sq','kosdaq_trend_sq']"
   ]
  },
  {
   "cell_type": "code",
   "execution_count": 9,
   "metadata": {
    "collapsed": true
   },
   "outputs": [],
   "source": [
    "X = df[X_COL]\n",
    "y = df['did_price_033']\n",
    "X_train = train_df[X_COL]\n",
    "X_test = test_df[X_COL]\n",
    "y_train = train_df['did_price_033']\n",
    "y_test = test_df['did_price_033']\n",
    "y_test_in = test_df['price_increase']"
   ]
  },
  {
   "cell_type": "code",
   "execution_count": 10,
   "metadata": {},
   "outputs": [
    {
     "data": {
      "text/plain": [
       "(5425, 135)"
      ]
     },
     "execution_count": 10,
     "metadata": {},
     "output_type": "execute_result"
    }
   ],
   "source": [
    "X_train.shape"
   ]
  },
  {
   "cell_type": "code",
   "execution_count": 51,
   "metadata": {},
   "outputs": [
    {
     "data": {
      "text/plain": [
       "SVC(C=100, cache_size=200, class_weight=None, coef0=0.0,\n",
       "  decision_function_shape='ovr', degree=3, gamma=1.0, kernel='rbf',\n",
       "  max_iter=-1, probability=False, random_state=None, shrinking=True,\n",
       "  tol=0.001, verbose=False)"
      ]
     },
     "execution_count": 51,
     "metadata": {},
     "output_type": "execute_result"
    }
   ],
   "source": [
    "svm = SVC(C = 100, kernel = 'rbf', gamma = 1.0)\n",
    "svm.fit(X_train, y_train_0)"
   ]
  },
  {
   "cell_type": "code",
   "execution_count": 11,
   "metadata": {},
   "outputs": [
    {
     "data": {
      "text/plain": [
       "{'mean_fit_time': array([ 12.63494341,  11.21201019,  11.5352387 ,  11.25336318,\n",
       "         12.09857261,  12.01078858,  10.9139482 ,   9.8016854 ,\n",
       "          8.41482921,   7.29229503,  10.32666109,  11.41002526,\n",
       "         11.53939383,  11.68704681,  11.45703936,  11.79894192,\n",
       "         12.09828672,  12.21193292,  10.64307663,  10.3108815 ,\n",
       "          8.47382619,   8.28878191,   8.32804601,   7.87786095,\n",
       "          7.49756436,   7.81989734,   9.1535228 ,   9.05624704,\n",
       "          8.82217062,   8.59706254]),\n",
       " 'mean_score_time': array([ 1.20875275,  1.08817232,  1.17448015,  1.18189058,  1.16652429,\n",
       "         1.13390362,  1.02213709,  0.96969357,  0.88124714,  0.77683108,\n",
       "         0.93162656,  1.05735149,  1.03549211,  1.0677599 ,  1.01947803,\n",
       "         1.0181334 ,  1.05570107,  1.03328862,  0.9190598 ,  0.92063925,\n",
       "         0.76397362,  0.76205549,  0.74509435,  0.70572605,  0.6692544 ,\n",
       "         0.69158442,  0.84873357,  0.82814963,  0.74236898,  0.75882981]),\n",
       " 'mean_test_score': array([ 0.70672811,  0.70672811,  0.70672811,  0.70672811,  0.70672811,\n",
       "         0.70672811,  0.70672811,  0.70672811,  0.70672811,  0.70672811,\n",
       "         0.70672811,  0.70672811,  0.70672811,  0.70672811,  0.70672811,\n",
       "         0.70672811,  0.70672811,  0.70672811,  0.70672811,  0.70672811,\n",
       "         0.70672811,  0.70672811,  0.70672811,  0.70672811,  0.70672811,\n",
       "         0.70672811,  0.70672811,  0.70672811,  0.70672811,  0.70672811]),\n",
       " 'mean_train_score': array([ 0.70672811,  0.70672811,  0.70672811,  0.70672811,  0.70672811,\n",
       "         0.70672811,  0.70672811,  0.70672811,  0.70672811,  0.70672811,\n",
       "         1.        ,  1.        ,  1.        ,  1.        ,  1.        ,\n",
       "         1.        ,  1.        ,  1.        ,  1.        ,  1.        ,\n",
       "         1.        ,  1.        ,  1.        ,  1.        ,  1.        ,\n",
       "         1.        ,  1.        ,  1.        ,  1.        ,  1.        ]),\n",
       " 'param_C': masked_array(data = [0.01 0.01 0.01 0.01 0.01 0.1 0.1 0.1 0.1 0.1 1 1 1 1 1 10 10 10 10 10 100\n",
       "  100 100 100 100 1000 1000 1000 1000 1000],\n",
       "              mask = [False False False False False False False False False False False False\n",
       "  False False False False False False False False False False False False\n",
       "  False False False False False False],\n",
       "        fill_value = ?),\n",
       " 'param_gamma': masked_array(data = [0.5 1 2 3 4 0.5 1 2 3 4 0.5 1 2 3 4 0.5 1 2 3 4 0.5 1 2 3 4 0.5 1 2 3 4],\n",
       "              mask = [False False False False False False False False False False False False\n",
       "  False False False False False False False False False False False False\n",
       "  False False False False False False],\n",
       "        fill_value = ?),\n",
       " 'params': [{'C': 0.01, 'gamma': 0.5},\n",
       "  {'C': 0.01, 'gamma': 1},\n",
       "  {'C': 0.01, 'gamma': 2},\n",
       "  {'C': 0.01, 'gamma': 3},\n",
       "  {'C': 0.01, 'gamma': 4},\n",
       "  {'C': 0.1, 'gamma': 0.5},\n",
       "  {'C': 0.1, 'gamma': 1},\n",
       "  {'C': 0.1, 'gamma': 2},\n",
       "  {'C': 0.1, 'gamma': 3},\n",
       "  {'C': 0.1, 'gamma': 4},\n",
       "  {'C': 1, 'gamma': 0.5},\n",
       "  {'C': 1, 'gamma': 1},\n",
       "  {'C': 1, 'gamma': 2},\n",
       "  {'C': 1, 'gamma': 3},\n",
       "  {'C': 1, 'gamma': 4},\n",
       "  {'C': 10, 'gamma': 0.5},\n",
       "  {'C': 10, 'gamma': 1},\n",
       "  {'C': 10, 'gamma': 2},\n",
       "  {'C': 10, 'gamma': 3},\n",
       "  {'C': 10, 'gamma': 4},\n",
       "  {'C': 100, 'gamma': 0.5},\n",
       "  {'C': 100, 'gamma': 1},\n",
       "  {'C': 100, 'gamma': 2},\n",
       "  {'C': 100, 'gamma': 3},\n",
       "  {'C': 100, 'gamma': 4},\n",
       "  {'C': 1000, 'gamma': 0.5},\n",
       "  {'C': 1000, 'gamma': 1},\n",
       "  {'C': 1000, 'gamma': 2},\n",
       "  {'C': 1000, 'gamma': 3},\n",
       "  {'C': 1000, 'gamma': 4}],\n",
       " 'rank_test_score': array([1, 1, 1, 1, 1, 1, 1, 1, 1, 1, 1, 1, 1, 1, 1, 1, 1, 1, 1, 1, 1, 1, 1,\n",
       "        1, 1, 1, 1, 1, 1, 1]),\n",
       " 'split0_test_score': array([ 0.70588235,  0.70588235,  0.70588235,  0.70588235,  0.70588235,\n",
       "         0.70588235,  0.70588235,  0.70588235,  0.70588235,  0.70588235,\n",
       "         0.70588235,  0.70588235,  0.70588235,  0.70588235,  0.70588235,\n",
       "         0.70588235,  0.70588235,  0.70588235,  0.70588235,  0.70588235,\n",
       "         0.70588235,  0.70588235,  0.70588235,  0.70588235,  0.70588235,\n",
       "         0.70588235,  0.70588235,  0.70588235,  0.70588235,  0.70588235]),\n",
       " 'split0_train_score': array([ 0.70682237,  0.70682237,  0.70682237,  0.70682237,  0.70682237,\n",
       "         0.70682237,  0.70682237,  0.70682237,  0.70682237,  0.70682237,\n",
       "         1.        ,  1.        ,  1.        ,  1.        ,  1.        ,\n",
       "         1.        ,  1.        ,  1.        ,  1.        ,  1.        ,\n",
       "         1.        ,  1.        ,  1.        ,  1.        ,  1.        ,\n",
       "         1.        ,  1.        ,  1.        ,  1.        ,  1.        ]),\n",
       " 'split1_test_score': array([ 0.70718232,  0.70718232,  0.70718232,  0.70718232,  0.70718232,\n",
       "         0.70718232,  0.70718232,  0.70718232,  0.70718232,  0.70718232,\n",
       "         0.70718232,  0.70718232,  0.70718232,  0.70718232,  0.70718232,\n",
       "         0.70718232,  0.70718232,  0.70718232,  0.70718232,  0.70718232,\n",
       "         0.70718232,  0.70718232,  0.70718232,  0.70718232,  0.70718232,\n",
       "         0.70718232,  0.70718232,  0.70718232,  0.70718232,  0.70718232]),\n",
       " 'split1_train_score': array([ 0.70667759,  0.70667759,  0.70667759,  0.70667759,  0.70667759,\n",
       "         0.70667759,  0.70667759,  0.70667759,  0.70667759,  0.70667759,\n",
       "         1.        ,  1.        ,  1.        ,  1.        ,  1.        ,\n",
       "         1.        ,  1.        ,  1.        ,  1.        ,  1.        ,\n",
       "         1.        ,  1.        ,  1.        ,  1.        ,  1.        ,\n",
       "         1.        ,  1.        ,  1.        ,  1.        ,  1.        ]),\n",
       " 'split2_test_score': array([ 0.70718232,  0.70718232,  0.70718232,  0.70718232,  0.70718232,\n",
       "         0.70718232,  0.70718232,  0.70718232,  0.70718232,  0.70718232,\n",
       "         0.70718232,  0.70718232,  0.70718232,  0.70718232,  0.70718232,\n",
       "         0.70718232,  0.70718232,  0.70718232,  0.70718232,  0.70718232,\n",
       "         0.70718232,  0.70718232,  0.70718232,  0.70718232,  0.70718232,\n",
       "         0.70718232,  0.70718232,  0.70718232,  0.70718232,  0.70718232]),\n",
       " 'split2_train_score': array([ 0.70667759,  0.70667759,  0.70667759,  0.70667759,  0.70667759,\n",
       "         0.70667759,  0.70667759,  0.70667759,  0.70667759,  0.70667759,\n",
       "         1.        ,  1.        ,  1.        ,  1.        ,  1.        ,\n",
       "         1.        ,  1.        ,  1.        ,  1.        ,  1.        ,\n",
       "         1.        ,  1.        ,  1.        ,  1.        ,  1.        ,\n",
       "         1.        ,  1.        ,  1.        ,  1.        ,  1.        ]),\n",
       " 'split3_test_score': array([ 0.70718232,  0.70718232,  0.70718232,  0.70718232,  0.70718232,\n",
       "         0.70718232,  0.70718232,  0.70718232,  0.70718232,  0.70718232,\n",
       "         0.70718232,  0.70718232,  0.70718232,  0.70718232,  0.70718232,\n",
       "         0.70718232,  0.70718232,  0.70718232,  0.70718232,  0.70718232,\n",
       "         0.70718232,  0.70718232,  0.70718232,  0.70718232,  0.70718232,\n",
       "         0.70718232,  0.70718232,  0.70718232,  0.70718232,  0.70718232]),\n",
       " 'split3_train_score': array([ 0.70667759,  0.70667759,  0.70667759,  0.70667759,  0.70667759,\n",
       "         0.70667759,  0.70667759,  0.70667759,  0.70667759,  0.70667759,\n",
       "         1.        ,  1.        ,  1.        ,  1.        ,  1.        ,\n",
       "         1.        ,  1.        ,  1.        ,  1.        ,  1.        ,\n",
       "         1.        ,  1.        ,  1.        ,  1.        ,  1.        ,\n",
       "         1.        ,  1.        ,  1.        ,  1.        ,  1.        ]),\n",
       " 'split4_test_score': array([ 0.70664207,  0.70664207,  0.70664207,  0.70664207,  0.70664207,\n",
       "         0.70664207,  0.70664207,  0.70664207,  0.70664207,  0.70664207,\n",
       "         0.70664207,  0.70664207,  0.70664207,  0.70664207,  0.70664207,\n",
       "         0.70664207,  0.70664207,  0.70664207,  0.70664207,  0.70664207,\n",
       "         0.70664207,  0.70664207,  0.70664207,  0.70664207,  0.70664207,\n",
       "         0.70664207,  0.70664207,  0.70664207,  0.70664207,  0.70664207]),\n",
       " 'split4_train_score': array([ 0.70673766,  0.70673766,  0.70673766,  0.70673766,  0.70673766,\n",
       "         0.70673766,  0.70673766,  0.70673766,  0.70673766,  0.70673766,\n",
       "         1.        ,  1.        ,  1.        ,  1.        ,  1.        ,\n",
       "         1.        ,  1.        ,  1.        ,  1.        ,  1.        ,\n",
       "         1.        ,  1.        ,  1.        ,  1.        ,  1.        ,\n",
       "         1.        ,  1.        ,  1.        ,  1.        ,  1.        ]),\n",
       " 'split5_test_score': array([ 0.70664207,  0.70664207,  0.70664207,  0.70664207,  0.70664207,\n",
       "         0.70664207,  0.70664207,  0.70664207,  0.70664207,  0.70664207,\n",
       "         0.70664207,  0.70664207,  0.70664207,  0.70664207,  0.70664207,\n",
       "         0.70664207,  0.70664207,  0.70664207,  0.70664207,  0.70664207,\n",
       "         0.70664207,  0.70664207,  0.70664207,  0.70664207,  0.70664207,\n",
       "         0.70664207,  0.70664207,  0.70664207,  0.70664207,  0.70664207]),\n",
       " 'split5_train_score': array([ 0.70673766,  0.70673766,  0.70673766,  0.70673766,  0.70673766,\n",
       "         0.70673766,  0.70673766,  0.70673766,  0.70673766,  0.70673766,\n",
       "         1.        ,  1.        ,  1.        ,  1.        ,  1.        ,\n",
       "         1.        ,  1.        ,  1.        ,  1.        ,  1.        ,\n",
       "         1.        ,  1.        ,  1.        ,  1.        ,  1.        ,\n",
       "         1.        ,  1.        ,  1.        ,  1.        ,  1.        ]),\n",
       " 'split6_test_score': array([ 0.70664207,  0.70664207,  0.70664207,  0.70664207,  0.70664207,\n",
       "         0.70664207,  0.70664207,  0.70664207,  0.70664207,  0.70664207,\n",
       "         0.70664207,  0.70664207,  0.70664207,  0.70664207,  0.70664207,\n",
       "         0.70664207,  0.70664207,  0.70664207,  0.70664207,  0.70664207,\n",
       "         0.70664207,  0.70664207,  0.70664207,  0.70664207,  0.70664207,\n",
       "         0.70664207,  0.70664207,  0.70664207,  0.70664207,  0.70664207]),\n",
       " 'split6_train_score': array([ 0.70673766,  0.70673766,  0.70673766,  0.70673766,  0.70673766,\n",
       "         0.70673766,  0.70673766,  0.70673766,  0.70673766,  0.70673766,\n",
       "         1.        ,  1.        ,  1.        ,  1.        ,  1.        ,\n",
       "         1.        ,  1.        ,  1.        ,  1.        ,  1.        ,\n",
       "         1.        ,  1.        ,  1.        ,  1.        ,  1.        ,\n",
       "         1.        ,  1.        ,  1.        ,  1.        ,  1.        ]),\n",
       " 'split7_test_score': array([ 0.70664207,  0.70664207,  0.70664207,  0.70664207,  0.70664207,\n",
       "         0.70664207,  0.70664207,  0.70664207,  0.70664207,  0.70664207,\n",
       "         0.70664207,  0.70664207,  0.70664207,  0.70664207,  0.70664207,\n",
       "         0.70664207,  0.70664207,  0.70664207,  0.70664207,  0.70664207,\n",
       "         0.70664207,  0.70664207,  0.70664207,  0.70664207,  0.70664207,\n",
       "         0.70664207,  0.70664207,  0.70664207,  0.70664207,  0.70664207]),\n",
       " 'split7_train_score': array([ 0.70673766,  0.70673766,  0.70673766,  0.70673766,  0.70673766,\n",
       "         0.70673766,  0.70673766,  0.70673766,  0.70673766,  0.70673766,\n",
       "         1.        ,  1.        ,  1.        ,  1.        ,  1.        ,\n",
       "         1.        ,  1.        ,  1.        ,  1.        ,  1.        ,\n",
       "         1.        ,  1.        ,  1.        ,  1.        ,  1.        ,\n",
       "         1.        ,  1.        ,  1.        ,  1.        ,  1.        ]),\n",
       " 'split8_test_score': array([ 0.70664207,  0.70664207,  0.70664207,  0.70664207,  0.70664207,\n",
       "         0.70664207,  0.70664207,  0.70664207,  0.70664207,  0.70664207,\n",
       "         0.70664207,  0.70664207,  0.70664207,  0.70664207,  0.70664207,\n",
       "         0.70664207,  0.70664207,  0.70664207,  0.70664207,  0.70664207,\n",
       "         0.70664207,  0.70664207,  0.70664207,  0.70664207,  0.70664207,\n",
       "         0.70664207,  0.70664207,  0.70664207,  0.70664207,  0.70664207]),\n",
       " 'split8_train_score': array([ 0.70673766,  0.70673766,  0.70673766,  0.70673766,  0.70673766,\n",
       "         0.70673766,  0.70673766,  0.70673766,  0.70673766,  0.70673766,\n",
       "         1.        ,  1.        ,  1.        ,  1.        ,  1.        ,\n",
       "         1.        ,  1.        ,  1.        ,  1.        ,  1.        ,\n",
       "         1.        ,  1.        ,  1.        ,  1.        ,  1.        ,\n",
       "         1.        ,  1.        ,  1.        ,  1.        ,  1.        ]),\n",
       " 'split9_test_score': array([ 0.70664207,  0.70664207,  0.70664207,  0.70664207,  0.70664207,\n",
       "         0.70664207,  0.70664207,  0.70664207,  0.70664207,  0.70664207,\n",
       "         0.70664207,  0.70664207,  0.70664207,  0.70664207,  0.70664207,\n",
       "         0.70664207,  0.70664207,  0.70664207,  0.70664207,  0.70664207,\n",
       "         0.70664207,  0.70664207,  0.70664207,  0.70664207,  0.70664207,\n",
       "         0.70664207,  0.70664207,  0.70664207,  0.70664207,  0.70664207]),\n",
       " 'split9_train_score': array([ 0.70673766,  0.70673766,  0.70673766,  0.70673766,  0.70673766,\n",
       "         0.70673766,  0.70673766,  0.70673766,  0.70673766,  0.70673766,\n",
       "         1.        ,  1.        ,  1.        ,  1.        ,  1.        ,\n",
       "         1.        ,  1.        ,  1.        ,  1.        ,  1.        ,\n",
       "         1.        ,  1.        ,  1.        ,  1.        ,  1.        ,\n",
       "         1.        ,  1.        ,  1.        ,  1.        ,  1.        ]),\n",
       " 'std_fit_time': array([ 0.59482534,  0.84256433,  0.47821538,  1.45397996,  0.80881032,\n",
       "         0.69180242,  0.94547747,  0.81012841,  1.34704949,  0.55136683,\n",
       "         1.39655278,  0.63246165,  0.5676577 ,  0.36687768,  0.54577942,\n",
       "         0.49999125,  0.57193716,  0.23602305,  0.615209  ,  0.90658782,\n",
       "         0.38768236,  0.26069931,  0.23033003,  0.34365218,  0.22871845,\n",
       "         0.78004587,  0.62533609,  0.674674  ,  0.5049468 ,  0.59790098]),\n",
       " 'std_score_time': array([ 0.08210721,  0.08871539,  0.11195501,  0.24102047,  0.12205872,\n",
       "         0.06047907,  0.1064964 ,  0.09437126,  0.1463026 ,  0.13411748,\n",
       "         0.13749109,  0.15286882,  0.09633929,  0.1282426 ,  0.0669653 ,\n",
       "         0.04271028,  0.10663722,  0.04070229,  0.05976515,  0.13318768,\n",
       "         0.04995761,  0.03514743,  0.04967901,  0.0658224 ,  0.04760653,\n",
       "         0.088447  ,  0.13759257,  0.08008251,  0.05106065,  0.06524661]),\n",
       " 'std_test_score': array([ 0.00037164,  0.00037164,  0.00037164,  0.00037164,  0.00037164,\n",
       "         0.00037164,  0.00037164,  0.00037164,  0.00037164,  0.00037164,\n",
       "         0.00037164,  0.00037164,  0.00037164,  0.00037164,  0.00037164,\n",
       "         0.00037164,  0.00037164,  0.00037164,  0.00037164,  0.00037164,\n",
       "         0.00037164,  0.00037164,  0.00037164,  0.00037164,  0.00037164,\n",
       "         0.00037164,  0.00037164,  0.00037164,  0.00037164,  0.00037164]),\n",
       " 'std_train_score': array([  4.13391285e-05,   4.13391285e-05,   4.13391285e-05,\n",
       "          4.13391285e-05,   4.13391285e-05,   4.13391285e-05,\n",
       "          4.13391285e-05,   4.13391285e-05,   4.13391285e-05,\n",
       "          4.13391285e-05,   0.00000000e+00,   0.00000000e+00,\n",
       "          0.00000000e+00,   0.00000000e+00,   0.00000000e+00,\n",
       "          0.00000000e+00,   0.00000000e+00,   0.00000000e+00,\n",
       "          0.00000000e+00,   0.00000000e+00,   0.00000000e+00,\n",
       "          0.00000000e+00,   0.00000000e+00,   0.00000000e+00,\n",
       "          0.00000000e+00,   0.00000000e+00,   0.00000000e+00,\n",
       "          0.00000000e+00,   0.00000000e+00,   0.00000000e+00])}"
      ]
     },
     "execution_count": 11,
     "metadata": {},
     "output_type": "execute_result"
    }
   ],
   "source": [
    "tuned_parameters = [{'C': [0.01, 0.1, 1, 10, 100, 1000],\n",
    "                     'gamma': [0.5, 1, 2, 3, 4]}]\n",
    "clf = GridSearchCV(SVC(kernel='rbf'), tuned_parameters, cv=10, scoring='accuracy', return_train_score=True)\n",
    "clf.fit(X_train, y_train)\n",
    "clf.cv_results_"
   ]
  },
  {
   "cell_type": "code",
   "execution_count": 12,
   "metadata": {},
   "outputs": [
    {
     "data": {
      "text/plain": [
       "{'C': 0.01, 'gamma': 0.5}"
      ]
     },
     "execution_count": 12,
     "metadata": {},
     "output_type": "execute_result"
    }
   ],
   "source": [
    "clf.best_params_"
   ]
  },
  {
   "cell_type": "code",
   "execution_count": 13,
   "metadata": {},
   "outputs": [
    {
     "data": {
      "text/plain": [
       "SVC(C=0.01, cache_size=200, class_weight=None, coef0=0.0,\n",
       "  decision_function_shape='ovr', degree=3, gamma=0.5, kernel='rbf',\n",
       "  max_iter=-1, probability=False, random_state=None, shrinking=True,\n",
       "  tol=0.001, verbose=False)"
      ]
     },
     "execution_count": 13,
     "metadata": {},
     "output_type": "execute_result"
    }
   ],
   "source": [
    "svm = SVC(C = 0.01, kernel = 'rbf', gamma = 0.5)\n",
    "svm.fit(X_train, y_train)"
   ]
  },
  {
   "cell_type": "code",
   "execution_count": 20,
   "metadata": {},
   "outputs": [
    {
     "data": {
      "text/plain": [
       "array([[6401,    0],\n",
       "       [1770,    0]], dtype=int64)"
      ]
     },
     "execution_count": 20,
     "metadata": {},
     "output_type": "execute_result"
    }
   ],
   "source": [
    "confusion_matrix(y_test, clf.best_estimator_.predict(X_test))"
   ]
  },
  {
   "cell_type": "code",
   "execution_count": 21,
   "metadata": {},
   "outputs": [
    {
     "data": {
      "text/plain": [
       "0.78338024721576305"
      ]
     },
     "execution_count": 21,
     "metadata": {},
     "output_type": "execute_result"
    }
   ],
   "source": [
    "# 15% of test observations misclassified\n",
    "clf.best_estimator_.score(X_test, y_test)"
   ]
  },
  {
   "cell_type": "code",
   "execution_count": 22,
   "metadata": {
    "collapsed": true
   },
   "outputs": [],
   "source": [
    "y_pred = svm.predict(X_test)    "
   ]
  },
  {
   "cell_type": "code",
   "execution_count": 23,
   "metadata": {},
   "outputs": [
    {
     "name": "stdout",
     "output_type": "stream",
     "text": [
      "             precision    recall  f1-score   support\n",
      "\n",
      "          0       0.78      1.00      0.88      6401\n",
      "          1       0.00      0.00      0.00      1770\n",
      "\n",
      "avg / total       0.61      0.78      0.69      8171\n",
      "\n"
     ]
    },
    {
     "name": "stderr",
     "output_type": "stream",
     "text": [
      "C:\\Users\\Administrator\\Anaconda3\\lib\\site-packages\\sklearn\\metrics\\classification.py:1135: UndefinedMetricWarning: Precision and F-score are ill-defined and being set to 0.0 in labels with no predicted samples.\n",
      "  'precision', 'predicted', average, warn_for)\n"
     ]
    }
   ],
   "source": [
    "print(classification_report(y_test, y_pred))"
   ]
  },
  {
   "cell_type": "code",
   "execution_count": 24,
   "metadata": {},
   "outputs": [],
   "source": [
    "y_port = y_test[y_pred == 1]"
   ]
  },
  {
   "cell_type": "code",
   "execution_count": 25,
   "metadata": {},
   "outputs": [
    {
     "data": {
      "text/plain": [
       "(0,)"
      ]
     },
     "execution_count": 25,
     "metadata": {},
     "output_type": "execute_result"
    }
   ],
   "source": [
    "y_port.shape"
   ]
  },
  {
   "cell_type": "code",
   "execution_count": 40,
   "metadata": {},
   "outputs": [
    {
     "data": {
      "text/plain": [
       "array([False, False, False, ..., False, False, False], dtype=bool)"
      ]
     },
     "execution_count": 40,
     "metadata": {},
     "output_type": "execute_result"
    }
   ],
   "source": [
    "y_pred_0 == 1"
   ]
  },
  {
   "cell_type": "code",
   "execution_count": 26,
   "metadata": {
    "collapsed": true
   },
   "outputs": [],
   "source": [
    "svm_rbf = svm.SVC(C = 20, gamma = 0.1)\n",
    "svm_rbf.fit(X_train, y_train_0)\n",
    "y_pred_0 = svm_rbf.predict(X_test)    "
   ]
  },
  {
   "cell_type": "code",
   "execution_count": null,
   "metadata": {
    "collapsed": true
   },
   "outputs": [],
   "source": []
  }
 ],
 "metadata": {
  "kernelspec": {
   "display_name": "Python 3",
   "language": "python",
   "name": "python3"
  },
  "language_info": {
   "codemirror_mode": {
    "name": "ipython",
    "version": 3
   },
   "file_extension": ".py",
   "mimetype": "text/x-python",
   "name": "python",
   "nbconvert_exporter": "python",
   "pygments_lexer": "ipython3",
   "version": "3.6.2"
  }
 },
 "nbformat": 4,
 "nbformat_minor": 2
}
