{
 "cells": [
  {
   "cell_type": "code",
   "execution_count": 58,
   "metadata": {
    "collapsed": true
   },
   "outputs": [],
   "source": [
    "import pandas as pd\n",
    "import numpy as np\n",
    "import matplotlib.pyplot as plt\n",
    "import seaborn as sns\n",
    "\n",
    "from sklearn.decomposition import PCA\n",
    "from sklearn.model_selection import KFold, cross_val_score\n",
    "from sklearn.metrics import mean_squared_error\n",
    "from sklearn.cross_decomposition import PLSRegression\n",
    "\n",
    "from sklearn.linear_model import LogisticRegression\n",
    "from sklearn import metrics \n",
    "from sklearn.metrics import classification_report\n",
    "from pylab import rcParams\n",
    "from sklearn.preprocessing import scale \n",
    "\n",
    "%matplotlib inline\n",
    "plt.style.use('seaborn-white')"
   ]
  },
  {
   "cell_type": "code",
   "execution_count": 59,
   "metadata": {
    "collapsed": true
   },
   "outputs": [],
   "source": [
    "import json\n",
    "with open(\"the_last_final_data_10min.json\", 'r', encoding='UTF-8') as f:\n",
    "    data = json.load(f)"
   ]
  },
  {
   "cell_type": "code",
   "execution_count": 60,
   "metadata": {
    "collapsed": true
   },
   "outputs": [],
   "source": [
    "NEW_COL = ['name', 'code', 'time', 'price', 'time_1', 'price_1', 'price_dif_1',\n",
    "       'sell_1', 'buy_1', 'volume_1', 'variation_1', 'post_num_1',\n",
    "       'unique_id_1', 'click_1', 'like_1', 'dislike_1', 'time_2', 'price_2',\n",
    "       'price_dif_2', 'sell_2', 'buy_2', 'volume_2', 'variation_2',\n",
    "       'post_num_2', 'unique_id_2', 'click_2', 'like_2', 'dislike_2', 'time_3',\n",
    "       'price_3', 'price_dif_3', 'sell_3', 'buy_3', 'volume_3', 'variation_3',\n",
    "       'post_num_3', 'unique_id_3', 'click_3', 'like_3', 'dislike_3',\n",
    "       'mkt_cap', 'kospi', 'kosdaq', 'trash', 'yesterday_closing_price',\n",
    "       'is_maximum', 'is_minimum', 'price_volatility', 'price_trend',\n",
    "       'average_price_volatility', 'sell_minus_buy_1', 'sell_minus_buy_2',\n",
    "       'sell_minus_buy_3', 'is_price_gap_stable', 'price_gap_volatility',\n",
    "       'is_like_higher', 'volume_trend', 'post_num_trend', 'unique_id_trend',\n",
    "       'click_trend', 'price_increase', 'did_price_increase', 'did_price_033',\n",
    "       'did_price_100', 'did_price_150', 'kospi_ind', 'kosdaq_ind',\n",
    "       'time_slot', 'ko_inter', 'early_mor', 'morning', 'lunch', 'afternoon',\n",
    "       'late', 'mkt_change', 'alpha', 'per_now', 'did_opening_price_increase']"
   ]
  },
  {
   "cell_type": "code",
   "execution_count": 61,
   "metadata": {
    "collapsed": true
   },
   "outputs": [],
   "source": [
    "df = pd.DataFrame(data, columns = NEW_COL)\n",
    "df = df.dropna(axis=0, how='any')\n",
    "df = df[df.did_opening_price_increase == 1]"
   ]
  },
  {
   "cell_type": "code",
   "execution_count": 62,
   "metadata": {
    "collapsed": true
   },
   "outputs": [],
   "source": [
    "time_filter = (df['time'].str.startswith(\"2018-02-21\")) | \\\n",
    "              (df['time'].str.startswith(\"2018-02-22\")) | \\\n",
    "              (df['time'].str.startswith(\"2018-02-23\")) | \\\n",
    "              (df['time'].str.startswith(\"2018-02-26\")) \n",
    "        \n",
    "train_df = df[time_filter].reset_index(drop = True)\n",
    "test_df = df[~time_filter].reset_index(drop = True)"
   ]
  },
  {
   "cell_type": "code",
   "execution_count": 63,
   "metadata": {
    "collapsed": true
   },
   "outputs": [],
   "source": [
    "COL_DROP = ['name', 'code', 'time', 'price', 'time_1', 'time_2', 'time_3',\n",
    "            'did_price_increase', 'did_price_033', 'did_price_100', \n",
    "            'did_price_150', 'price_increase', 'did_opening_price_increase',]\n",
    "X = df.drop(COL_DROP, axis = 1)\n",
    "y_inc = df['price_increase']\n",
    "y_0 = df['did_price_increase']\n",
    "y_33 = df['did_price_033']\n",
    "y_100 = df['did_price_100']\n",
    "y_150 = df['did_price_150']\n",
    "X_train = train_df.drop(COL_DROP, axis = 1)\n",
    "X_test = test_df.drop(COL_DROP, axis = 1)\n",
    "y_train_in = train_df['price_increase']\n",
    "y_train_0 = train_df['did_price_increase']\n",
    "y_train_33 = train_df['did_price_033']\n",
    "y_train_100 = train_df['did_price_100']\n",
    "y_train_150 = train_df['did_price_150']\n",
    "y_test_in = test_df['price_increase']\n",
    "y_test_0 = test_df['did_price_increase']\n",
    "y_test_33 = test_df['did_price_033']\n",
    "y_test_100 = test_df['did_price_100']\n",
    "y_test_150 = test_df['did_price_150']"
   ]
  },
  {
   "cell_type": "code",
   "execution_count": 41,
   "metadata": {
    "collapsed": true
   },
   "outputs": [],
   "source": [
    "def find_best_pca(num):\n",
    "    pca = PCA()\n",
    "    X_reduced_train = pca.fit_transform(scale(X_train))\n",
    "    n = len(X_reduced_train)\n",
    "    kf_10 = KFold(n_splits= 10, shuffle=False, random_state=1)\n",
    "    mse = []\n",
    "    regr = LogisticRegression()\n",
    "    score = -1*cross_val_score(regr, np.ones((n,1)), y_train_0, cv=kf_10, scoring='neg_mean_squared_error').mean()    \n",
    "    mse.append(score)\n",
    "    for i in np.arange(1, num):\n",
    "        score = abs(cross_val_score(regr, X_reduced_train[:,:i], y_train_0, cv=kf_10, scoring='neg_mean_squared_error')).mean()\n",
    "        mse.append(score)\n",
    "    \n",
    "    return mse.index(min(mse))        "
   ]
  },
  {
   "cell_type": "code",
   "execution_count": 46,
   "metadata": {
    "collapsed": true
   },
   "outputs": [],
   "source": [
    "def get_best_mean(num):\n",
    "    \n",
    "    best_pca = find_best_pca(num)\n",
    "    pca = PCA()\n",
    "    X_reduced_train = pca.fit_transform(scale(X_train))\n",
    "    X_reduced_test = pca.transform(scale(X_test))[:,:best_pca]\n",
    "    reg_log = LogisticRegression()\n",
    "    model = reg_log.fit(X_reduced_train[:,:best_pca], y_train_0)\n",
    "    y_pred = reg_log.predict(X_reduced_test)\n",
    "    y_port = y_test_in[y_pred == 1]\n",
    "    \n",
    "    return best_pca, y_port.mean()    "
   ]
  },
  {
   "cell_type": "code",
   "execution_count": null,
   "metadata": {
    "collapsed": true
   },
   "outputs": [],
   "source": [
    "get_best_mean(66)"
   ]
  },
  {
   "cell_type": "code",
   "execution_count": 48,
   "metadata": {},
   "outputs": [
    {
     "data": {
      "text/plain": [
       "-0.04998352406155759"
      ]
     },
     "execution_count": 48,
     "metadata": {},
     "output_type": "execute_result"
    }
   ],
   "source": [
    "y_test_in.mean()"
   ]
  },
  {
   "cell_type": "markdown",
   "metadata": {},
   "source": [
    "implementation"
   ]
  },
  {
   "cell_type": "code",
   "execution_count": 23,
   "metadata": {},
   "outputs": [
    {
     "data": {
      "image/png": "[encoded data removed]",
      "text/plain": [
       "<matplotlib.figure.Figure at 0x2085a0c59e8>"
      ]
     },
     "metadata": {},
     "output_type": "display_data"
    }
   ],
   "source": [
    "pca3 = PCA()\n",
    "X_reduced_train = pca3.fit_transform(scale(X_train))\n",
    "n = len(X_reduced_train)\n",
    "\n",
    "kf_10 = KFold(n_splits= 10, shuffle=False, random_state=1)\n",
    "\n",
    "mse = []\n",
    "regr = LogisticRegression()\n",
    "\n",
    "# Calculate MSE with only the intercept (no principal components in regression)\n",
    "score = -1*cross_val_score(regr, np.ones((n,1)), y_train_0, cv=kf_10, scoring='neg_mean_squared_error').mean()    \n",
    "mse.append(score)\n",
    "\n",
    "# Calculate MSE using CV for the 19 principle components, adding one component at the time.\n",
    "for i in np.arange(1, 66):\n",
    "    score = abs(cross_val_score(regr, X_reduced_train[:,:i], y_train_0, cv=kf_10, scoring='neg_mean_squared_error')).mean()\n",
    "    mse.append(score)\n",
    "\n",
    "plt.plot(np.array(mse), '-v')\n",
    "plt.xlabel('Number of principal components in regression')\n",
    "plt.ylabel('MSE')\n",
    "plt.title('Salary')\n",
    "plt.xlim(xmin=-1); #five is enough"
   ]
  },
  {
   "cell_type": "code",
   "execution_count": 50,
   "metadata": {},
   "outputs": [
    {
     "data": {
      "text/plain": [
       "0.36081193040596521"
      ]
     },
     "execution_count": 50,
     "metadata": {},
     "output_type": "execute_result"
    }
   ],
   "source": [
    "pca3 = PCA()\n",
    "X_reduced_train = pca3.fit_transform(scale(X_train))\n",
    "n = len(X_reduced_train)\n",
    "\n",
    "X_reduced_test = pca3.transform(scale(X_test))[:,:16]\n",
    "\n",
    "# Train regression model on training data \n",
    "reg_log = LogisticRegression()\n",
    "model = reg_log.fit(X_reduced_train[:,:16], y_train_0)\n",
    "\n",
    "# Prediction with test data\n",
    "y_pred_0 = reg_log.predict(X_reduced_test)\n",
    "mean_squared_error(y_test_0, y_pred_0)"
   ]
  },
  {
   "cell_type": "code",
   "execution_count": 52,
   "metadata": {},
   "outputs": [
    {
     "name": "stdout",
     "output_type": "stream",
     "text": [
      "             precision    recall  f1-score   support\n",
      "\n",
      "          0       0.64      0.98      0.77      1527\n",
      "          1       0.60      0.05      0.10       887\n",
      "\n",
      "avg / total       0.63      0.64      0.53      2414\n",
      "\n"
     ]
    }
   ],
   "source": [
    "print(classification_report(compare_0[\"test_0\"], compare_0[\"pred_0\"]))"
   ]
  },
  {
   "cell_type": "code",
   "execution_count": 51,
   "metadata": {},
   "outputs": [
    {
     "data": {
      "text/plain": [
       "True     1543\n",
       "False     871\n",
       "dtype: int64"
      ]
     },
     "execution_count": 51,
     "metadata": {},
     "output_type": "execute_result"
    }
   ],
   "source": [
    "compare_0 = pd.concat([pd.DataFrame(y_pred_0), y_test_0.reset_index(drop = True)], axis = 1)\n",
    "compare_0.columns = [\"pred_0\", \"test_0\"]\n",
    "correct = (compare_0[\"pred_0\"] == compare_0[\"test_0\"])\n",
    "correct.value_counts()"
   ]
  },
  {
   "cell_type": "code",
   "execution_count": 53,
   "metadata": {
    "collapsed": true
   },
   "outputs": [],
   "source": [
    "y_port = y_test_in[y_pred_0 == 1]"
   ]
  },
  {
   "cell_type": "code",
   "execution_count": 54,
   "metadata": {},
   "outputs": [
    {
     "data": {
      "text/plain": [
       "-0.04998352406155759"
      ]
     },
     "execution_count": 54,
     "metadata": {},
     "output_type": "execute_result"
    }
   ],
   "source": [
    "y_test_in.mean()"
   ]
  },
  {
   "cell_type": "code",
   "execution_count": 55,
   "metadata": {},
   "outputs": [
    {
     "data": {
      "text/plain": [
       "0.021052752311538515"
      ]
     },
     "execution_count": 55,
     "metadata": {},
     "output_type": "execute_result"
    }
   ],
   "source": [
    "y_port.mean()"
   ]
  },
  {
   "cell_type": "markdown",
   "metadata": {},
   "source": [
    "PLS"
   ]
  },
  {
   "cell_type": "code",
   "execution_count": 64,
   "metadata": {
    "collapsed": true
   },
   "outputs": [],
   "source": [
    "def find_pls(num):\n",
    "    \n",
    "    n = len(X_train)\n",
    "    kf_10 = KFold(n_splits= 10, shuffle=False, random_state=1)\n",
    "    mse = []\n",
    "    for i in np.arange(1, 66):\n",
    "        pls = PLSRegression(n_components=i)\n",
    "        score = cross_val_score(pls, scale(X_train), y_train_0, \\\n",
    "                                cv=kf_10, scoring='neg_mean_squared_error').mean()\n",
    "        mse.append(-score)\n",
    "        \n",
    "    return mse.index(min(mse))\n",
    "    "
   ]
  },
  {
   "cell_type": "code",
   "execution_count": null,
   "metadata": {
    "collapsed": true
   },
   "outputs": [],
   "source": [
    "n_pls = find_pls(66)\n",
    "pls = PLSRegression(n_components=52)\n",
    "pls.fit(scale(X_train), y_train_0)\n",
    "y_pred_pls = pls.predict(scale(X_test))\n",
    "y_pred_pls = np.reshape(y_pred_pls, y_pred_pls.shape[0])\n",
    "y_port = y_test_in[y_pred_pls >= .5]\n",
    "y_port.mean()"
   ]
  },
  {
   "cell_type": "markdown",
   "metadata": {},
   "source": [
    "implementation"
   ]
  },
  {
   "cell_type": "code",
   "execution_count": null,
   "metadata": {
    "collapsed": true
   },
   "outputs": [],
   "source": [
    "n = len(X_train)\n",
    "\n",
    "# 10-fold CV, with shuffle\n",
    "kf_10 = KFold(n_splits= 10, shuffle=False, random_state=1)\n",
    "\n",
    "mse = []\n",
    "\n",
    "for i in np.arange(1, 66):\n",
    "    pls = PLSRegression(n_components=i)\n",
    "    score = cross_val_score(pls, scale(X_train), y_train_0, cv=kf_10, scoring='neg_mean_squared_error').mean()\n",
    "    mse.append(-score)\n",
    "\n",
    "plt.plot(np.arange(1, 66), np.array(mse), '-v')\n",
    "plt.xlabel('Number of principal components in regression')\n",
    "plt.ylabel('MSE')\n",
    "plt.title('Salary')\n",
    "plt.xlim(xmin=-1) "
   ]
  }
 ],
 "metadata": {
  "kernelspec": {
   "display_name": "Python 3",
   "language": "python",
   "name": "python3"
  },
  "language_info": {
   "codemirror_mode": {
    "name": "ipython",
    "version": 3
   },
   "file_extension": ".py",
   "mimetype": "text/x-python",
   "name": "python",
   "nbconvert_exporter": "python",
   "pygments_lexer": "ipython3",
   "version": "3.6.2"
  }
 },
 "nbformat": 4,
 "nbformat_minor": 2
}
