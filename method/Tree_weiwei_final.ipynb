{
 "cells": [
  {
   "cell_type": "code",
   "execution_count": 138,
   "metadata": {
    "collapsed": true
   },
   "outputs": [],
   "source": [
    "import numpy as np\n",
    "import pandas as pd\n",
    "\n",
    "import matplotlib.pyplot as plt\n",
    "import seaborn as sns\n",
    "%matplotlib inline\n",
    "plt.style.use('seaborn-white')\n",
    "\n",
    "from sklearn.metrics import classification_report, mean_squared_error\n",
    "from sklearn.ensemble import RandomForestClassifier, GradientBoostingClassifier, BaggingClassifier"
   ]
  },
  {
   "cell_type": "code",
   "execution_count": 95,
   "metadata": {
    "collapsed": true
   },
   "outputs": [],
   "source": [
    "import json"
   ]
  },
  {
   "cell_type": "code",
   "execution_count": 96,
   "metadata": {
    "collapsed": true
   },
   "outputs": [],
   "source": [
    "with open(\"the_last_final_data_10min.json\", 'r', encoding='UTF-8') as f:\n",
    "    data = json.load(f)"
   ]
  },
  {
   "cell_type": "code",
   "execution_count": 97,
   "metadata": {
    "collapsed": true
   },
   "outputs": [],
   "source": [
    "NEW_COL = ['name', 'code', 'time', 'price', 'time_1', 'price_1', 'price_dif_1',\n",
    "       'sell_1', 'buy_1', 'volume_1', 'variation_1', 'post_num_1',\n",
    "       'unique_id_1', 'click_1', 'like_1', 'dislike_1', 'time_2', 'price_2',\n",
    "       'price_dif_2', 'sell_2', 'buy_2', 'volume_2', 'variation_2',\n",
    "       'post_num_2', 'unique_id_2', 'click_2', 'like_2', 'dislike_2', 'time_3',\n",
    "       'price_3', 'price_dif_3', 'sell_3', 'buy_3', 'volume_3', 'variation_3',\n",
    "       'post_num_3', 'unique_id_3', 'click_3', 'like_3', 'dislike_3',\n",
    "       'mkt_cap', 'kospi', 'kosdaq', 'trash', 'yesterday_closing_price',\n",
    "       'is_maximum', 'is_minimum', 'price_volatility', 'price_trend',\n",
    "       'average_price_volatility', 'sell_minus_buy_1', 'sell_minus_buy_2',\n",
    "       'sell_minus_buy_3', 'is_price_gap_stable', 'price_gap_volatility',\n",
    "       'is_like_higher', 'volume_trend', 'post_num_trend', 'unique_id_trend',\n",
    "       'click_trend', 'price_increase', 'did_price_increase', 'did_price_033',\n",
    "       'did_price_100', 'did_price_150', 'kospi_ind', 'kosdaq_ind',\n",
    "       'time_slot', 'ko_inter', 'early_mor', 'morning', 'lunch', 'afternoon',\n",
    "       'late', 'mkt_change', 'alpha', 'per_now', 'did_opening_price_increase']"
   ]
  },
  {
   "cell_type": "code",
   "execution_count": 98,
   "metadata": {
    "collapsed": true
   },
   "outputs": [],
   "source": [
    "df = pd.DataFrame(data, columns = NEW_COL)\n",
    "df = df.dropna(axis=0, how='any')\n",
    "df = df[df.did_opening_price_increase == 1]"
   ]
  },
  {
   "cell_type": "code",
   "execution_count": 99,
   "metadata": {
    "collapsed": true
   },
   "outputs": [],
   "source": [
    "time_filter = (df['time'].str.startswith(\"2018-02-21\")) | \\\n",
    "              (df['time'].str.startswith(\"2018-02-22\")) | \\\n",
    "              (df['time'].str.startswith(\"2018-02-23\")) | \\\n",
    "              (df['time'].str.startswith(\"2018-02-26\")) \n",
    "        \n",
    "train_df = df[time_filter].reset_index(drop = True)\n",
    "test_df = df[~time_filter].reset_index(drop = True)"
   ]
  },
  {
   "cell_type": "code",
   "execution_count": 100,
   "metadata": {
    "collapsed": true
   },
   "outputs": [],
   "source": [
    "COL_DROP = ['name', 'code', 'time', 'price', 'time_1', 'time_2', 'time_3',\n",
    "            'did_price_increase', 'did_price_033', 'did_price_100', 'did_price_150', \n",
    "            'price_increase', 'did_opening_price_increase', ]\n",
    "X = df.drop(COL_DROP, axis = 1)\n",
    "y_inc = df['price_increase']\n",
    "y_0 = df['did_price_increase']\n",
    "y_33 = df['did_price_033']\n",
    "y_100 = df['did_price_100']\n",
    "y_150 = df['did_price_150']\n",
    "X_train = train_df.drop(COL_DROP, axis = 1)\n",
    "X_test = test_df.drop(COL_DROP, axis = 1)\n",
    "y_train_in = train_df['price_increase']\n",
    "y_train_0 = train_df['did_price_increase']\n",
    "y_train_33 = train_df['did_price_033']\n",
    "y_train_100 = train_df['did_price_100']\n",
    "y_train_150 = train_df['did_price_150']\n",
    "y_test_in = test_df['price_increase']\n",
    "y_test_0 = test_df['did_price_increase']\n",
    "y_test_33 = test_df['did_price_033']\n",
    "y_test_100 = test_df['did_price_100']\n",
    "y_test_150 = test_df['did_price_150']"
   ]
  },
  {
   "cell_type": "markdown",
   "metadata": {},
   "source": [
    "Random Forest"
   ]
  },
  {
   "cell_type": "code",
   "execution_count": 74,
   "metadata": {},
   "outputs": [
    {
     "data": {
      "text/plain": [
       "RandomForestClassifier(bootstrap=True, class_weight=None, criterion='gini',\n",
       "            max_depth=None, max_features=3, max_leaf_nodes=None,\n",
       "            min_impurity_decrease=0.0, min_impurity_split=None,\n",
       "            min_samples_leaf=1, min_samples_split=2,\n",
       "            min_weight_fraction_leaf=0.0, n_estimators=100, n_jobs=1,\n",
       "            oob_score=True, random_state=25, verbose=0, warm_start=False)"
      ]
     },
     "execution_count": 74,
     "metadata": {},
     "output_type": "execute_result"
    }
   ],
   "source": [
    "tree_random = RandomForestClassifier(n_estimators = 100, max_features = 3, \\\n",
    "                                     bootstrap = True, oob_score = True, \n",
    "                                     random_state = 25)\n",
    "tree_random.fit(X_train_sub, y_train_0)"
   ]
  },
  {
   "cell_type": "code",
   "execution_count": 75,
   "metadata": {
    "collapsed": true
   },
   "outputs": [],
   "source": [
    "y_pred = tree_random.predict(X_test_sub)"
   ]
  },
  {
   "cell_type": "code",
   "execution_count": 76,
   "metadata": {
    "collapsed": true
   },
   "outputs": [],
   "source": [
    "y_port = y_test_in[y_pred == 1]"
   ]
  },
  {
   "cell_type": "code",
   "execution_count": 77,
   "metadata": {},
   "outputs": [
    {
     "data": {
      "text/plain": [
       "-0.01650359124664549"
      ]
     },
     "execution_count": 77,
     "metadata": {},
     "output_type": "execute_result"
    }
   ],
   "source": [
    "y_test_in.mean()"
   ]
  },
  {
   "cell_type": "code",
   "execution_count": 78,
   "metadata": {},
   "outputs": [
    {
     "data": {
      "text/plain": [
       "0.12705774581363627"
      ]
     },
     "execution_count": 78,
     "metadata": {},
     "output_type": "execute_result"
    }
   ],
   "source": [
    "y_port.mean()"
   ]
  },
  {
   "cell_type": "code",
   "execution_count": 73,
   "metadata": {},
   "outputs": [
    {
     "data": {
      "text/plain": [
       "2       0.000000\n",
       "30      0.000000\n",
       "35      1.108033\n",
       "62     -0.896861\n",
       "140     0.668896\n",
       "152    -2.123552\n",
       "154    -0.452489\n",
       "203     0.487805\n",
       "243     0.478469\n",
       "246    -4.090909\n",
       "338     3.317536\n",
       "415    -0.194175\n",
       "428     0.000000\n",
       "430     0.000000\n",
       "491    -0.575356\n",
       "519    -0.242131\n",
       "583    -0.064298\n",
       "663     0.497512\n",
       "735     0.153846\n",
       "782     0.140252\n",
       "783     0.198807\n",
       "900     0.000000\n",
       "979    -0.484262\n",
       "992     0.393701\n",
       "1031    1.617796\n",
       "1053   -0.358423\n",
       "1071    0.243309\n",
       "1145    0.000000\n",
       "1182    0.283286\n",
       "1272   -0.160000\n",
       "1360    0.000000\n",
       "1364    0.961538\n",
       "1439    0.000000\n",
       "1442    0.103306\n",
       "1452    0.395257\n",
       "1456    1.904762\n",
       "1534    0.928793\n",
       "1623    0.242718\n",
       "1626   -0.306748\n",
       "1658    1.171875\n",
       "1715    0.000000\n",
       "1728    0.000000\n",
       "1820    0.395257\n",
       "1912   -0.393701\n",
       "1916   -0.156986\n",
       "1934    0.120919\n",
       "2296    0.716846\n",
       "2411    0.294118\n",
       "2671    0.358423\n",
       "2674   -0.184843\n",
       "2693    0.245700\n",
       "2708   -0.174216\n",
       "2733   -0.174520\n",
       "2751    0.669344\n",
       "2783   -0.177305\n",
       "2808   -0.532860\n",
       "Name: price_increase, dtype: float64"
      ]
     },
     "execution_count": 73,
     "metadata": {},
     "output_type": "execute_result"
    }
   ],
   "source": [
    "y_port"
   ]
  },
  {
   "cell_type": "code",
   "execution_count": 59,
   "metadata": {},
   "outputs": [
    {
     "name": "stdout",
     "output_type": "stream",
     "text": [
      "             precision    recall  f1-score   support\n",
      "\n",
      "          0       0.68      0.83      0.75      1884\n",
      "          1       0.41      0.24      0.30       948\n",
      "\n",
      "avg / total       0.59      0.63      0.60      2832\n",
      "\n"
     ]
    }
   ],
   "source": [
    "print(classification_report(y_test_0, y_pred))"
   ]
  },
  {
   "cell_type": "code",
   "execution_count": 41,
   "metadata": {},
   "outputs": [
    {
     "data": {
      "text/plain": [
       "(12700, 65)"
      ]
     },
     "execution_count": 41,
     "metadata": {},
     "output_type": "execute_result"
    }
   ],
   "source": [
    "X.shape"
   ]
  },
  {
   "cell_type": "code",
   "execution_count": 52,
   "metadata": {
    "collapsed": true
   },
   "outputs": [],
   "source": [
    "def get_best_feature(num):\n",
    "    rv = 0\n",
    "    f_num = 1\n",
    "    for i in range(1, num):\n",
    "        tree_random = RandomForestClassifier(n_estimators = 100, \\\n",
    "                      max_features = i, bootstrap = True,\\\n",
    "                      oob_score = True, random_state = 0)\n",
    "        tree_random.fit(X_train_sub, y_train_0)\n",
    "        y_pred = tree_random.predict(X_test_sub)\n",
    "        y_port = y_test_in[y_pred == 1]\n",
    "        avg = y_port.mean()\n",
    "        if avg > rv:\n",
    "            f_num = i\n",
    "            rv = avg\n",
    "        print(f_num)\n",
    "        \n",
    "    return f_num"
   ]
  },
  {
   "cell_type": "code",
   "execution_count": 79,
   "metadata": {
    "collapsed": true
   },
   "outputs": [],
   "source": [
    "#get_best_feature(40)"
   ]
  },
  {
   "cell_type": "code",
   "execution_count": 44,
   "metadata": {
    "collapsed": true
   },
   "outputs": [],
   "source": [
    "FEATURES = X.columns"
   ]
  },
  {
   "cell_type": "code",
   "execution_count": 45,
   "metadata": {},
   "outputs": [
    {
     "name": "stdout",
     "output_type": "stream",
     "text": [
      "1 .  volume_trend :  0.0439326976345\n",
      "2 .  variation_3 :  0.0411499032311\n",
      "3 .  time_slot :  0.0394747594686\n",
      "4 .  variation_2 :  0.0370243094247\n",
      "5 .  average_price_volatility :  0.0357676321557\n",
      "6 .  variation_1 :  0.0355125325318\n",
      "7 .  price_volatility :  0.035385689823\n",
      "8 .  alpha :  0.0342109332231\n",
      "9 .  click_trend :  0.0324181449751\n",
      "10 .  ko_inter :  0.0292918274602\n",
      "11 .  kospi_ind :  0.0289099606827\n",
      "12 .  per_now :  0.028377811935\n",
      "13 .  mkt_change :  0.0283176318691\n",
      "14 .  volume_1 :  0.0261735644062\n",
      "15 .  kosdaq_ind :  0.025878847269\n",
      "16 .  volume_3 :  0.0254295665112\n",
      "17 .  volume_2 :  0.024832083866\n",
      "18 .  price_dif_3 :  0.0220158055583\n",
      "19 .  price_dif_2 :  0.0213306248456\n",
      "20 .  price_dif_1 :  0.0202259975226\n",
      "21 .  mkt_cap :  0.0194954796988\n",
      "22 .  click_3 :  0.0179498001236\n",
      "23 .  click_1 :  0.017233586387\n",
      "24 .  click_2 :  0.0165253577036\n",
      "25 .  price_3 :  0.0134678299067\n",
      "26 .  price_2 :  0.0133479621524\n",
      "27 .  sell_2 :  0.0130708388157\n",
      "28 .  sell_3 :  0.0129532483885\n",
      "29 .  price_trend :  0.0129442509805\n",
      "30 .  sell_1 :  0.0129239941827\n",
      "31 .  price_1 :  0.0127059577174\n",
      "32 .  buy_1 :  0.0126112107215\n",
      "33 .  buy_2 :  0.0123177391872\n",
      "34 .  buy_3 :  0.0122294675442\n",
      "35 .  post_num_trend :  0.0116637143633\n",
      "36 .  like_1 :  0.0109646680456\n",
      "37 .  like_2 :  0.0109120399074\n",
      "38 .  dislike_1 :  0.0108835400841\n",
      "39 .  like_3 :  0.0108236710463\n",
      "40 .  price_gap_volatility :  0.0105588528052\n",
      "41 .  dislike_3 :  0.0104559512886\n",
      "42 .  dislike_2 :  0.010127392428\n",
      "43 .  unique_id_trend :  0.00980657285008\n",
      "44 .  post_num_3 :  0.00916175963873\n",
      "45 .  post_num_1 :  0.00881021612021\n",
      "46 .  post_num_2 :  0.0084671091313\n",
      "47 .  sell_minus_buy_3 :  0.00826375970493\n",
      "48 .  unique_id_1 :  0.00766689665219\n",
      "49 .  sell_minus_buy_1 :  0.00753825945557\n",
      "50 .  sell_minus_buy_2 :  0.00752067699989\n",
      "51 .  yesterday_closing_price :  0.00749263771353\n",
      "52 .  unique_id_2 :  0.0073374703156\n",
      "53 .  unique_id_3 :  0.0070769046229\n",
      "54 .  is_price_gap_stable :  0.00298487375462\n",
      "55 .  is_like_higher :  0.00213626874344\n",
      "56 .  kospi :  0.00205849335269\n",
      "57 .  kosdaq :  0.00173522414582\n",
      "58 .  morning :  8.4912508964e-05\n",
      "59 .  afternoon :  1.51899968383e-05\n",
      "60 .  lunch :  1.22044097328e-05\n",
      "61 .  late :  3.69201127384e-06\n",
      "62 .  early_mor :  0.0\n",
      "63 .  is_minimum :  0.0\n",
      "64 .  is_maximum :  0.0\n",
      "65 .  trash :  0.0\n"
     ]
    }
   ],
   "source": [
    "importances = tree_random.feature_importances_  \n",
    "ranks = np.argsort(importances)[::-1] \n",
    "for f in range(X.shape[1]):\n",
    "    print(f + 1, \". \", FEATURES[ranks[f]], \": \", importances[ranks[f]])"
   ]
  },
  {
   "cell_type": "code",
   "execution_count": 60,
   "metadata": {
    "collapsed": true
   },
   "outputs": [],
   "source": [
    "var_list = [] \n",
    "for f in range(40):\n",
    "    var_list.append(FEATURES[ranks[f]])\n",
    "X_train_sub = X_train[var_list]\n",
    "X_test_sub = X_test[var_list]"
   ]
  },
  {
   "cell_type": "markdown",
   "metadata": {},
   "source": [
    "Bagging"
   ]
  },
  {
   "cell_type": "code",
   "execution_count": 124,
   "metadata": {},
   "outputs": [
    {
     "data": {
      "text/plain": [
       "BaggingClassifier(base_estimator=None, bootstrap=True,\n",
       "         bootstrap_features=False, max_features=24, max_samples=1.0,\n",
       "         n_estimators=100, n_jobs=1, oob_score=True, random_state=0,\n",
       "         verbose=0, warm_start=False)"
      ]
     },
     "execution_count": 124,
     "metadata": {},
     "output_type": "execute_result"
    }
   ],
   "source": [
    "bag_tree = BaggingClassifier(n_estimators = 100, max_features = 24, bootstrap = True,\\\n",
    "                             oob_score = True, random_state = 0)\n",
    "bag_tree.fit(X_train_sub, y_train_0)"
   ]
  },
  {
   "cell_type": "code",
   "execution_count": 125,
   "metadata": {},
   "outputs": [
    {
     "data": {
      "text/plain": [
       "0.04265669655738045"
      ]
     },
     "execution_count": 125,
     "metadata": {},
     "output_type": "execute_result"
    }
   ],
   "source": [
    "y_pred = bag_tree.predict(X_test_sub)\n",
    "y_port = y_test_in[y_pred == 1]\n",
    "y_port.mean()"
   ]
  },
  {
   "cell_type": "code",
   "execution_count": 126,
   "metadata": {},
   "outputs": [
    {
     "data": {
      "text/plain": [
       "-0.01650359124664549"
      ]
     },
     "execution_count": 126,
     "metadata": {},
     "output_type": "execute_result"
    }
   ],
   "source": [
    "y_test_in.mean()"
   ]
  },
  {
   "cell_type": "code",
   "execution_count": 121,
   "metadata": {},
   "outputs": [],
   "source": [
    "def get_best_bag(num):\n",
    "    rv = 0\n",
    "    f_num = 1\n",
    "    for i in range(1, num):\n",
    "        bag_tree = BaggingClassifier(n_estimators = 100, max_features = i, \\\n",
    "                                     bootstrap = True, oob_score = True, \\\n",
    "                                     random_state = 0)\n",
    "        bag_tree.fit(X_train, y_train_0)\n",
    "        y_pred = bag_tree.predict(X_test)\n",
    "        y_port = y_test_in[y_pred == 1]\n",
    "        avg = y_port.mean()\n",
    "        if avg > rv:\n",
    "            f_num = i\n",
    "            rv = avg\n",
    "        print(f_num)\n",
    "        \n",
    "    return f_num"
   ]
  },
  {
   "cell_type": "code",
   "execution_count": 123,
   "metadata": {},
   "outputs": [],
   "source": [
    "get_best_bag(65)"
   ]
  },
  {
   "cell_type": "markdown",
   "metadata": {},
   "source": [
    "Boosting"
   ]
  },
  {
   "cell_type": "code",
   "execution_count": 162,
   "metadata": {},
   "outputs": [
    {
     "data": {
      "text/plain": [
       "GradientBoostingClassifier(criterion='friedman_mse', init=None,\n",
       "              learning_rate=0.01, loss='deviance', max_depth=2,\n",
       "              max_features=None, max_leaf_nodes=None,\n",
       "              min_impurity_decrease=0.0, min_impurity_split=None,\n",
       "              min_samples_leaf=1, min_samples_split=2,\n",
       "              min_weight_fraction_leaf=0.0, n_estimators=500,\n",
       "              presort='auto', random_state=1, subsample=1.0, verbose=0,\n",
       "              warm_start=False)"
      ]
     },
     "execution_count": 162,
     "metadata": {},
     "output_type": "execute_result"
    }
   ],
   "source": [
    "boost = GradientBoostingClassifier(n_estimators = 500, learning_rate = 0.01, \\\n",
    "                                   max_depth = 2, random_state=1)\n",
    "boost.fit(X_train, y_train_0)"
   ]
  },
  {
   "cell_type": "code",
   "execution_count": 164,
   "metadata": {},
   "outputs": [],
   "source": [
    "y_pred = boost.predict(X_test)\n",
    "y_port = y_test_in[y_pred == 1]"
   ]
  },
  {
   "cell_type": "code",
   "execution_count": 165,
   "metadata": {},
   "outputs": [
    {
     "data": {
      "text/plain": [
       "0.09246942257663048"
      ]
     },
     "execution_count": 165,
     "metadata": {},
     "output_type": "execute_result"
    }
   ],
   "source": [
    "y_port.mean() #no change"
   ]
  },
  {
   "cell_type": "code",
   "execution_count": 173,
   "metadata": {},
   "outputs": [
    {
     "name": "stdout",
     "output_type": "stream",
     "text": [
      "             precision    recall  f1-score   support\n",
      "\n",
      "          0       0.68      0.95      0.79      1884\n",
      "          1       0.53      0.10      0.17       948\n",
      "\n",
      "avg / total       0.63      0.67      0.59      2832\n",
      "\n"
     ]
    }
   ],
   "source": [
    "print(classification_report(y_test_0, y_pred))"
   ]
  },
  {
   "cell_type": "code",
   "execution_count": 139,
   "metadata": {},
   "outputs": [
    {
     "name": "stdout",
     "output_type": "stream",
     "text": [
      "dislike_3                    0.000000\n",
      "trash                        0.000000\n",
      "is_maximum                   0.000000\n",
      "unique_id_3                  0.000000\n",
      "is_minimum                   0.000000\n",
      "price_trend                  0.000000\n",
      "sell_minus_buy_1             0.000000\n",
      "sell_minus_buy_2             0.000000\n",
      "is_price_gap_stable          0.000000\n",
      "dislike_2                    0.000000\n",
      "is_like_higher               0.000000\n",
      "unique_id_2                  0.000000\n",
      "kosdaq                       0.000000\n",
      "post_num_trend               0.000000\n",
      "volume_2                     0.000000\n",
      "post_num_2                   0.000000\n",
      "sell_2                       0.000000\n",
      "late                         0.000000\n",
      "afternoon                    0.000000\n",
      "lunch                        0.000000\n",
      "morning                      0.000000\n",
      "post_num_1                   0.000000\n",
      "unique_id_1                  0.000000\n",
      "kospi                        0.000000\n",
      "early_mor                    0.000000\n",
      "unique_id_trend              0.000000\n",
      "buy_2                        0.063080\n",
      "buy_3                        0.080863\n",
      "click_1                      0.116883\n",
      "variation_1                  0.128117\n",
      "                              ...    \n",
      "price_1                      0.254698\n",
      "like_3                       0.275778\n",
      "volume_1                     0.292593\n",
      "click_2                      0.310064\n",
      "click_3                      0.456634\n",
      "price_3                      0.522434\n",
      "post_num_3                   0.525353\n",
      "dislike_1                    0.615982\n",
      "sell_3                       0.714129\n",
      "price_gap_volatility         0.809871\n",
      "mkt_cap                      0.874286\n",
      "price_dif_1                  0.929856\n",
      "variation_2                  1.151138\n",
      "buy_1                        1.628000\n",
      "sell_1                       1.647583\n",
      "alpha                        1.868084\n",
      "click_trend                  1.933559\n",
      "kosdaq_ind                   2.126120\n",
      "mkt_change                   2.169857\n",
      "price_dif_2                  2.987850\n",
      "per_now                      4.297863\n",
      "price_dif_3                  4.499218\n",
      "volume_3                     4.558991\n",
      "volume_trend                 5.103292\n",
      "kospi_ind                    5.891110\n",
      "ko_inter                     6.445787\n",
      "variation_3                  7.552268\n",
      "price_volatility             7.974479\n",
      "time_slot                   10.743335\n",
      "average_price_volatility    19.504579\n",
      "Length: 65, dtype: float64\n"
     ]
    },
    {
     "data": {
      "image/png": "[encoded data removed]",
      "text/plain": [
       "<matplotlib.figure.Figure at 0x15e085fbd68>"
      ]
     },
     "metadata": {},
     "output_type": "display_data"
    }
   ],
   "source": [
    "feature_importance = boost.feature_importances_*100\n",
    "rel_imp = pd.Series(feature_importance, index = X.columns).sort_values(inplace=False)\n",
    "print(rel_imp)\n",
    "rel_imp.T.plot(kind='barh', color='r', )\n",
    "plt.xlabel('Variable Importance')\n",
    "plt.gca().legend_ = None"
   ]
  },
  {
   "cell_type": "code",
   "execution_count": 170,
   "metadata": {},
   "outputs": [],
   "source": [
    "cut_var = rel_imp[rel_imp > 0]"
   ]
  },
  {
   "cell_type": "code",
   "execution_count": 171,
   "metadata": {},
   "outputs": [],
   "source": [
    "X_train_sub = X_train[cut_var.index]\n",
    "X_test_sub = X_test[cut_var.index]"
   ]
  },
  {
   "cell_type": "code",
   "execution_count": 172,
   "metadata": {},
   "outputs": [
    {
     "data": {
      "text/plain": [
       "buy_2                        0.063080\n",
       "buy_3                        0.080863\n",
       "click_1                      0.116883\n",
       "variation_1                  0.128117\n",
       "yesterday_closing_price      0.133127\n",
       "sell_minus_buy_3             0.188152\n",
       "price_2                      0.198337\n",
       "like_2                       0.212610\n",
       "like_1                       0.214039\n",
       "price_1                      0.254698\n",
       "like_3                       0.275778\n",
       "volume_1                     0.292593\n",
       "click_2                      0.310064\n",
       "click_3                      0.456634\n",
       "price_3                      0.522434\n",
       "post_num_3                   0.525353\n",
       "dislike_1                    0.615982\n",
       "sell_3                       0.714129\n",
       "price_gap_volatility         0.809871\n",
       "mkt_cap                      0.874286\n",
       "price_dif_1                  0.929856\n",
       "variation_2                  1.151138\n",
       "buy_1                        1.628000\n",
       "sell_1                       1.647583\n",
       "alpha                        1.868084\n",
       "click_trend                  1.933559\n",
       "kosdaq_ind                   2.126120\n",
       "mkt_change                   2.169857\n",
       "price_dif_2                  2.987850\n",
       "per_now                      4.297863\n",
       "price_dif_3                  4.499218\n",
       "volume_3                     4.558991\n",
       "volume_trend                 5.103292\n",
       "kospi_ind                    5.891110\n",
       "ko_inter                     6.445787\n",
       "variation_3                  7.552268\n",
       "price_volatility             7.974479\n",
       "time_slot                   10.743335\n",
       "average_price_volatility    19.504579\n",
       "dtype: float64"
      ]
     },
     "execution_count": 172,
     "metadata": {},
     "output_type": "execute_result"
    }
   ],
   "source": [
    "cut_var"
   ]
  }
 ],
 "metadata": {
  "kernelspec": {
   "display_name": "Python 3",
   "language": "python",
   "name": "python3"
  },
  "language_info": {
   "codemirror_mode": {
    "name": "ipython",
    "version": 3
   },
   "file_extension": ".py",
   "mimetype": "text/x-python",
   "name": "python",
   "nbconvert_exporter": "python",
   "pygments_lexer": "ipython3",
   "version": "3.6.2"
  }
 },
 "nbformat": 4,
 "nbformat_minor": 2
}
