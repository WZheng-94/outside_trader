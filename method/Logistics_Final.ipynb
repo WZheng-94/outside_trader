{
 "cells": [
  {
   "cell_type": "code",
   "execution_count": 31,
   "metadata": {},
   "outputs": [],
   "source": [
    "import pandas as pd\n",
    "import numpy as np\n",
    "\n",
    "from sklearn.linear_model import LogisticRegression\n",
    "from sklearn.metrics import confusion_matrix, classification_report, precision_score, mean_squared_error"
   ]
  },
  {
   "cell_type": "code",
   "execution_count": 2,
   "metadata": {
    "collapsed": true
   },
   "outputs": [],
   "source": [
    "import json\n",
    "with open(\"df_1hour_Feb.json\", 'r', encoding='UTF-8') as f:\n",
    "    F_data = json.load(f)"
   ]
  },
  {
   "cell_type": "code",
   "execution_count": 3,
   "metadata": {
    "collapsed": true
   },
   "outputs": [],
   "source": [
    "with open(\"df_1hour_Mar.json\", 'r', encoding='UTF-8') as f:\n",
    "    M_data = json.load(f)"
   ]
  },
  {
   "cell_type": "code",
   "execution_count": 10,
   "metadata": {
    "collapsed": true
   },
   "outputs": [],
   "source": [
    "COLUMNS = ['name', 'code', 'time', 'price', 'time_1', 'price_1', 'price_dif_1', 'sell_1', 'buy_1', 'volume_1', 'variation_1', 'post_num_1', 'unique_id_1', 'click_1', 'like_1', 'dislike_1', 'time_2', 'price_2', 'price_dif_2', 'sell_2', 'buy_2', 'volume_2', 'variation_2', 'post_num_2', 'unique_id_2', 'click_2', 'like_2', 'dislike_2', 'time_3', 'price_3', 'price_dif_3', 'sell_3', 'buy_3', 'volume_3', 'variation_3', 'post_num_3', 'unique_id_3', 'click_3', 'like_3', 'dislike_3', 'mkt_cap', 'kospi', 'kosdaq', 'trash', 'yesterday_closing_price', 'is_maximum', 'is_minimum', 'price_volatility', 'price_trend', 'average_price_volatility', 'sell_minus_buy_1', 'sell_minus_buy_2', 'sell_minus_buy_3', 'is_price_gap_stable', 'price_gap_volatility', 'is_like_higher', 'volume_trend', 'post_num_trend', 'unique_id_trend', 'click_trend', 'price_increase', 'did_price_increase', 'did_price_033', 'did_price_100', 'did_price_150', 'kospi_ind', 'kosdaq_ind', 'time_slot', 'ko_inter', 'early_mor', 'morning', 'lunch', 'afternoon', 'late', 'mkt_change', 'alpha', 'per_now', 'kospi_1', 'kospi_2', 'kospi_3', 'kospi_answer', 'kosdaq_1', 'kosdaq_2', 'kosdaq_3', 'kosdaq_answer', 'kospi_trend', 'kosdaq_trend', 'kospi_increase', 'kosdaq_increase', 'market_increase', 'did_opening_price_increase', 'price_1_sq', 'price_dif_1_sq', 'sell_1_sq', 'buy_1_sq', 'volume_1_sq', 'variation_1_sq', 'post_num_1_sq', 'unique_id_1_sq', 'click_1_sq', 'like_1_sq', 'dislike_1_sq', 'price_2_sq', 'price_dif_2_sq', 'sell_2_sq', 'buy_2_sq', 'volume_2_sq', 'variation_2_sq', 'post_num_2_sq', 'unique_id_2_sq', 'click_2_sq', 'like_2_sq', 'dislike_2_sq', 'price_3_sq', 'price_dif_3_sq', 'sell_3_sq', 'buy_3_sq', 'volume_3_sq', 'variation_3_sq', 'post_num_3_sq', 'unique_id_3_sq', 'click_3_sq', 'like_3_sq', 'dislike_3_sq', 'mkt_cap_sq', 'yesterday_closing_price_sq', 'price_volatility_sq', 'price_trend_sq', 'average_price_volatility_sq', 'sell_minus_buy_1_sq', 'sell_minus_buy_2_sq', 'sell_minus_buy_3_sq', 'price_gap_volatility_sq', 'volume_trend_sq', 'post_num_trend_sq', 'unique_id_trend_sq', 'click_trend_sq', 'kospi_ind_sq', 'kosdaq_ind_sq', 'time_slot_sq', 'ko_inter_sq', 'mkt_change_sq', 'alpha_sq', 'per_now_sq', 'kospi_1_sq', 'kospi_2_sq', 'kospi_3_sq', 'kosdaq_1_sq', 'kosdaq_2_sq', 'kosdaq_3_sq', 'kospi_trend_sq', 'kosdaq_trend_sq']"
   ]
  },
  {
   "cell_type": "code",
   "execution_count": 11,
   "metadata": {
    "collapsed": true
   },
   "outputs": [],
   "source": [
    "df_F = pd.DataFrame(F_data, columns = COLUMNS)\n",
    "df_M = pd.DataFrame(M_data, columns = COLUMNS)\n",
    "df = pd.concat([df_F, df_M])"
   ]
  },
  {
   "cell_type": "code",
   "execution_count": 12,
   "metadata": {
    "collapsed": true
   },
   "outputs": [],
   "source": [
    "df = df.dropna(axis=0, how='any')"
   ]
  },
  {
   "cell_type": "code",
   "execution_count": 13,
   "metadata": {
    "collapsed": true
   },
   "outputs": [],
   "source": [
    "time_filter = (df['time'].str.startswith(\"2018-02-21\")) | \\\n",
    "              (df['time'].str.startswith(\"2018-02-20\")) | \\\n",
    "              (df['time'].str.startswith(\"2018-02-14\")) \n",
    "        \n",
    "train_df = df[time_filter].reset_index(drop = True)\n",
    "test_df = df[~time_filter].reset_index(drop = True)"
   ]
  },
  {
   "cell_type": "code",
   "execution_count": 14,
   "metadata": {
    "collapsed": true
   },
   "outputs": [],
   "source": [
    "X_COL = ['price_1','price_dif_1','sell_1','buy_1','volume_1','variation_1','post_num_1','unique_id_1','click_1',\n",
    "     'like_1','dislike_1','price_2','price_dif_2','sell_2','buy_2','volume_2','variation_2','post_num_2','unique_id_2',\n",
    "     'click_2','like_2','dislike_2','price_3','price_dif_3','sell_3','buy_3','volume_3','variation_3','post_num_3',\n",
    "     'unique_id_3','click_3','like_3','dislike_3','mkt_cap','kospi','kosdaq','trash','yesterday_closing_price',\n",
    "     'is_maximum','is_minimum','price_volatility','price_trend','average_price_volatility','sell_minus_buy_1',\n",
    "     'sell_minus_buy_2','sell_minus_buy_3','is_price_gap_stable','price_gap_volatility','is_like_higher',\n",
    "     'volume_trend','post_num_trend','unique_id_trend','click_trend','kospi_ind','kosdaq_ind','time_slot',\n",
    "     'ko_inter','early_mor','morning','lunch','afternoon','late','mkt_change','alpha','per_now','kospi_1','kospi_2',\n",
    "     'kospi_3','kosdaq_1','kosdaq_2','kosdaq_3','kospi_trend','kosdaq_trend','did_opening_price_increase',\n",
    "     'price_1_sq','price_dif_1_sq','sell_1_sq','buy_1_sq','volume_1_sq','variation_1_sq','post_num_1_sq',\n",
    "     'unique_id_1_sq','click_1_sq','like_1_sq','dislike_1_sq','price_2_sq','price_dif_2_sq','sell_2_sq',\n",
    "     'buy_2_sq','volume_2_sq','variation_2_sq','post_num_2_sq','unique_id_2_sq','click_2_sq','like_2_sq',\n",
    "     'dislike_2_sq','price_3_sq','price_dif_3_sq','sell_3_sq','buy_3_sq','volume_3_sq','variation_3_sq',\n",
    "     'post_num_3_sq','unique_id_3_sq','click_3_sq','like_3_sq','dislike_3_sq','mkt_cap_sq',\n",
    "     'yesterday_closing_price_sq','price_volatility_sq','price_trend_sq','average_price_volatility_sq',\n",
    "     'sell_minus_buy_1_sq','sell_minus_buy_2_sq','sell_minus_buy_3_sq','price_gap_volatility_sq',\n",
    "     'volume_trend_sq','post_num_trend_sq','unique_id_trend_sq','click_trend_sq','kospi_ind_sq','kosdaq_ind_sq',\n",
    "     'time_slot_sq','ko_inter_sq','mkt_change_sq','alpha_sq','per_now_sq','kospi_1_sq','kospi_2_sq','kospi_3_sq',\n",
    "     'kosdaq_1_sq','kosdaq_2_sq','kosdaq_3_sq','kospi_trend_sq','kosdaq_trend_sq']"
   ]
  },
  {
   "cell_type": "code",
   "execution_count": 9,
   "metadata": {
    "collapsed": true
   },
   "outputs": [],
   "source": [
    "var_list = ['variation_1', 'price_1', 'yesterday_closing_price', 'price_dif_1', 'price_trend', 'sell_1', 'per_now']"
   ]
  },
  {
   "cell_type": "code",
   "execution_count": 15,
   "metadata": {
    "collapsed": true
   },
   "outputs": [],
   "source": [
    "X = df[X_COL]\n",
    "y = df['did_price_033']\n",
    "X_train = train_df[X_COL]\n",
    "X_test = test_df[X_COL]\n",
    "y_train = train_df['did_price_033']\n",
    "y_test = test_df['did_price_033']\n",
    "y_test_in = test_df['price_increase']"
   ]
  },
  {
   "cell_type": "code",
   "execution_count": 43,
   "metadata": {
    "collapsed": true
   },
   "outputs": [],
   "source": [
    "def find_first_mod():\n",
    "    max_rv = 0 \n",
    "    for var in COLUMNS:\n",
    "        X_train_sub = X_train[var]\n",
    "        clf = LogisticRegression(solver='newton-cg')            \n",
    "        clf.fit(X_train_sub.reshape(-1, 1), y_train)\n",
    "        y_pred = clf.predict(X_test[var].reshape(-1, 1))\n",
    "        y_port = y_test_in[y_pred == 1] \n",
    "        avg = y_port.mean()\n",
    "        size = y_port.shape[0]\n",
    "        if (avg > max_rv) and (size >= 10):\n",
    "            max_rv = avg\n",
    "            var_best = var\n",
    "            \n",
    "    return var_best"
   ]
  },
  {
   "cell_type": "code",
   "execution_count": 44,
   "metadata": {},
   "outputs": [
    {
     "name": "stderr",
     "output_type": "stream",
     "text": [
      "C:\\Users\\Administrator\\Anaconda3\\lib\\site-packages\\ipykernel_launcher.py:6: FutureWarning: reshape is deprecated and will raise in a subsequent release. Please use .values.reshape(...) instead\n",
      "  \n",
      "C:\\Users\\Administrator\\Anaconda3\\lib\\site-packages\\scipy\\optimize\\linesearch.py:414: LineSearchWarning: The line search algorithm did not converge\n",
      "  warn('The line search algorithm did not converge', LineSearchWarning)\n",
      "C:\\Users\\Administrator\\Anaconda3\\lib\\site-packages\\scipy\\optimize\\linesearch.py:285: LineSearchWarning: The line search algorithm did not converge\n",
      "  warn('The line search algorithm did not converge', LineSearchWarning)\n",
      "C:\\Users\\Administrator\\Anaconda3\\lib\\site-packages\\ipykernel_launcher.py:7: FutureWarning: reshape is deprecated and will raise in a subsequent release. Please use .values.reshape(...) instead\n",
      "  import sys\n",
      "C:\\Users\\Administrator\\Anaconda3\\lib\\site-packages\\sklearn\\utils\\optimize.py:195: UserWarning: Line Search failed\n",
      "  warnings.warn('Line Search failed')\n"
     ]
    },
    {
     "data": {
      "text/plain": [
       "'kospi_3_sq'"
      ]
     },
     "execution_count": 44,
     "metadata": {},
     "output_type": "execute_result"
    }
   ],
   "source": [
    "VAR_1 = find_first_mod()\n",
    "VAR_1"
   ]
  },
  {
   "cell_type": "code",
   "execution_count": 47,
   "metadata": {},
   "outputs": [],
   "source": [
    "def find_best_mod(mse_min, var_list):\n",
    "    \n",
    "    best_var = None\n",
    "    for var in COLUMNS:\n",
    "        if var not in var_list:\n",
    "            var_list.append(var)\n",
    "            X_train_sub = X_train[var_list]\n",
    "            clf = LogisticRegression(solver='newton-cg')            \n",
    "            clf.fit(X_train_sub, y_train)\n",
    "            y_pred = clf.predict(X_test[var_list])\n",
    "            y_port = y_test_in[y_pred == 1]\n",
    "            size = y_port.shape[0]\n",
    "            if size >= 10:\n",
    "                mse = mean_squared_error(y_test, y_pred)\n",
    "                mse_min = min(mse, mse_min)\n",
    "                if mse_min == mse:\n",
    "                    best_var = var\n",
    "            var_list = var_list[:-1]\n",
    "    \n",
    "    return best_var, mse_min \n",
    "\n",
    "def get_best_list(var_list):\n",
    "    \n",
    "    num = 0\n",
    "    mse_min=1\n",
    "    while num < 136:\n",
    "        best_var, mse_min_new = find_best_mod(mse_min, var_list)\n",
    "        if best_var != None:\n",
    "            if mse_min_new <= mse_min:\n",
    "                mse_min = mse_min_new\n",
    "                var_list.append(best_var)\n",
    "                print(var_list, num, mse_min)\n",
    "            else:\n",
    "                var_list\n",
    "        else:\n",
    "            return var_list\n",
    "        num += 1\n",
    "\n",
    "    return var_list"
   ]
  },
  {
   "cell_type": "code",
   "execution_count": 25,
   "metadata": {
    "collapsed": true
   },
   "outputs": [],
   "source": [
    "COLUMNS = X.columns"
   ]
  },
  {
   "cell_type": "code",
   "execution_count": 48,
   "metadata": {},
   "outputs": [
    {
     "name": "stderr",
     "output_type": "stream",
     "text": [
      "C:\\Users\\Administrator\\Anaconda3\\lib\\site-packages\\scipy\\optimize\\linesearch.py:414: LineSearchWarning: The line search algorithm did not converge\n",
      "  warn('The line search algorithm did not converge', LineSearchWarning)\n",
      "C:\\Users\\Administrator\\Anaconda3\\lib\\site-packages\\scipy\\optimize\\linesearch.py:285: LineSearchWarning: The line search algorithm did not converge\n",
      "  warn('The line search algorithm did not converge', LineSearchWarning)\n",
      "C:\\Users\\Administrator\\Anaconda3\\lib\\site-packages\\sklearn\\utils\\optimize.py:195: UserWarning: Line Search failed\n",
      "  warnings.warn('Line Search failed')\n",
      "C:\\Users\\Administrator\\Anaconda3\\lib\\site-packages\\sklearn\\utils\\optimize.py:203: ConvergenceWarning: newton-cg failed to converge. Increase the number of iterations.\n",
      "  \"number of iterations.\", ConvergenceWarning)\n"
     ]
    },
    {
     "name": "stdout",
     "output_type": "stream",
     "text": [
      "['kospi_3_sq', 'price_1', 'morning'] 0 0.216252600661\n",
      "['kospi_3_sq', 'price_1', 'morning', 'price_dif_1', 'mkt_change_sq'] 1 0.215763064496\n",
      "['kospi_3_sq', 'price_1', 'morning', 'price_dif_1', 'mkt_change_sq', 'sell_1', 'price_volatility'] 2 0.215763064496\n",
      "['kospi_3_sq', 'price_1', 'morning', 'price_dif_1', 'mkt_change_sq', 'sell_1', 'price_volatility', 'buy_1', 'kospi_1'] 3 0.215763064496\n",
      "['kospi_3_sq', 'price_1', 'morning', 'price_dif_1', 'mkt_change_sq', 'sell_1', 'price_volatility', 'buy_1', 'kospi_1', 'volume_1', 'unique_id_trend'] 4 0.215395912373\n",
      "['kospi_3_sq', 'price_1', 'morning', 'price_dif_1', 'mkt_change_sq', 'sell_1', 'price_volatility', 'buy_1', 'kospi_1', 'volume_1', 'unique_id_trend', 'variation_1', 'kospi_3'] 5 0.214661608126\n",
      "['kospi_3_sq', 'price_1', 'morning', 'price_dif_1', 'mkt_change_sq', 'sell_1', 'price_volatility', 'buy_1', 'kospi_1', 'volume_1', 'unique_id_trend', 'variation_1', 'kospi_3', 'post_num_1', 'price_3'] 6 0.214661608126\n"
     ]
    },
    {
     "data": {
      "text/plain": [
       "['kospi_3_sq',\n",
       " 'price_1',\n",
       " 'morning',\n",
       " 'price_dif_1',\n",
       " 'mkt_change_sq',\n",
       " 'sell_1',\n",
       " 'price_volatility',\n",
       " 'buy_1',\n",
       " 'kospi_1',\n",
       " 'volume_1',\n",
       " 'unique_id_trend',\n",
       " 'variation_1',\n",
       " 'kospi_3',\n",
       " 'post_num_1',\n",
       " 'price_3',\n",
       " 'unique_id_1']"
      ]
     },
     "execution_count": 48,
     "metadata": {},
     "output_type": "execute_result"
    }
   ],
   "source": [
    "get_best_list(['kospi_3_sq'])"
   ]
  },
  {
   "cell_type": "code",
   "execution_count": 49,
   "metadata": {
    "collapsed": true
   },
   "outputs": [],
   "source": [
    "var_filter = ['kospi_3_sq', 'price_1', 'morning', 'price_dif_1', \\\n",
    "              'mkt_change_sq', 'sell_1', 'price_volatility', 'buy_1', \\\n",
    "              'kospi_1', 'volume_1', 'unique_id_trend', 'variation_1', \\\n",
    "              'kospi_3', 'post_num_1', 'price_3', 'unique_id_1']"
   ]
  },
  {
   "cell_type": "code",
   "execution_count": 50,
   "metadata": {
    "collapsed": true
   },
   "outputs": [],
   "source": [
    "X_sub = X_train[var_filter]\n",
    "X_sub_test = X_test[var_filter]"
   ]
  },
  {
   "cell_type": "code",
   "execution_count": 51,
   "metadata": {},
   "outputs": [
    {
     "name": "stderr",
     "output_type": "stream",
     "text": [
      "C:\\Users\\Administrator\\Anaconda3\\lib\\site-packages\\scipy\\optimize\\linesearch.py:414: LineSearchWarning: The line search algorithm did not converge\n",
      "  warn('The line search algorithm did not converge', LineSearchWarning)\n",
      "C:\\Users\\Administrator\\Anaconda3\\lib\\site-packages\\scipy\\optimize\\linesearch.py:285: LineSearchWarning: The line search algorithm did not converge\n",
      "  warn('The line search algorithm did not converge', LineSearchWarning)\n",
      "C:\\Users\\Administrator\\Anaconda3\\lib\\site-packages\\sklearn\\utils\\optimize.py:203: ConvergenceWarning: newton-cg failed to converge. Increase the number of iterations.\n",
      "  \"number of iterations.\", ConvergenceWarning)\n"
     ]
    }
   ],
   "source": [
    "clf = LogisticRegression(solver='newton-cg')\n",
    "clf.fit(X_sub, y_train_0)\n",
    "prob = clf.predict(X_sub_test)"
   ]
  },
  {
   "cell_type": "code",
   "execution_count": 52,
   "metadata": {},
   "outputs": [
    {
     "name": "stdout",
     "output_type": "stream",
     "text": [
      "             precision    recall  f1-score   support\n",
      "\n",
      "          0       0.79      0.97      0.87      6401\n",
      "          1       0.38      0.07      0.12      1770\n",
      "\n",
      "avg / total       0.70      0.77      0.71      8171\n",
      "\n"
     ]
    }
   ],
   "source": [
    "print(classification_report(y_test, prob))"
   ]
  },
  {
   "cell_type": "code",
   "execution_count": 53,
   "metadata": {
    "collapsed": true
   },
   "outputs": [],
   "source": [
    "y_port = y_test_in[prob == 1]"
   ]
  },
  {
   "cell_type": "code",
   "execution_count": 54,
   "metadata": {},
   "outputs": [
    {
     "data": {
      "text/plain": [
       "(347,)"
      ]
     },
     "execution_count": 54,
     "metadata": {},
     "output_type": "execute_result"
    }
   ],
   "source": [
    "y_port.shape"
   ]
  },
  {
   "cell_type": "code",
   "execution_count": 55,
   "metadata": {},
   "outputs": [
    {
     "data": {
      "text/plain": [
       "0.16748018376109516"
      ]
     },
     "execution_count": 55,
     "metadata": {},
     "output_type": "execute_result"
    }
   ],
   "source": [
    "y_port.mean()"
   ]
  },
  {
   "cell_type": "code",
   "execution_count": 56,
   "metadata": {
    "collapsed": true
   },
   "outputs": [],
   "source": [
    "Logistic_mod = pd.DataFrame(prob, columns = ['Logistic'])"
   ]
  },
  {
   "cell_type": "code",
   "execution_count": 59,
   "metadata": {},
   "outputs": [
    {
     "data": {
      "text/plain": [
       "0    7824\n",
       "1     347\n",
       "Name: Logistic, dtype: int64"
      ]
     },
     "execution_count": 59,
     "metadata": {},
     "output_type": "execute_result"
    }
   ],
   "source": [
    "Logistic_mod['Logistic'].value_counts()"
   ]
  },
  {
   "cell_type": "code",
   "execution_count": 60,
   "metadata": {
    "collapsed": true
   },
   "outputs": [],
   "source": [
    "Logistic_mod.to_json('Logistic_mod.json', orient='values')"
   ]
  }
 ],
 "metadata": {
  "kernelspec": {
   "display_name": "Python 3",
   "language": "python",
   "name": "python3"
  },
  "language_info": {
   "codemirror_mode": {
    "name": "ipython",
    "version": 3
   },
   "file_extension": ".py",
   "mimetype": "text/x-python",
   "name": "python",
   "nbconvert_exporter": "python",
   "pygments_lexer": "ipython3",
   "version": "3.6.2"
  }
 },
 "nbformat": 4,
 "nbformat_minor": 2
}
