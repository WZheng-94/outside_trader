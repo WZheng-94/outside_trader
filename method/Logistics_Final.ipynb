{
 "cells": [
  {
   "cell_type": "code",
   "execution_count": 16,
   "metadata": {
    "collapsed": true
   },
   "outputs": [],
   "source": [
    "import pandas as pd\n",
    "import numpy as np\n",
    "\n",
    "from sklearn.linear_model import RidgeClassifier, LogisticRegression, Lasso\n",
    "from sklearn.discriminant_analysis import LinearDiscriminantAnalysis\n",
    "from sklearn.discriminant_analysis import QuadraticDiscriminantAnalysis\n",
    "from sklearn.metrics import confusion_matrix, classification_report, precision_score\n",
    "from sklearn.preprocessing import StandardScaler, scale\n",
    "import matplotlib.pyplot as plt\n",
    "import seaborn as sns\n",
    "\n",
    "%matplotlib inline\n",
    "plt.style.use('seaborn-white')"
   ]
  },
  {
   "cell_type": "code",
   "execution_count": 3,
   "metadata": {
    "collapsed": true
   },
   "outputs": [],
   "source": [
    "import json"
   ]
  },
  {
   "cell_type": "code",
   "execution_count": 4,
   "metadata": {
    "collapsed": true
   },
   "outputs": [],
   "source": [
    "with open(\"the_last_final_data_10min.json\", 'r', encoding='UTF-8') as f:\n",
    "    data = json.load(f)"
   ]
  },
  {
   "cell_type": "code",
   "execution_count": 5,
   "metadata": {
    "collapsed": true
   },
   "outputs": [],
   "source": [
    "NEW_COL = ['name', 'code', 'time', 'price', 'time_1', 'price_1', 'price_dif_1',\n",
    "       'sell_1', 'buy_1', 'volume_1', 'variation_1', 'post_num_1',\n",
    "       'unique_id_1', 'click_1', 'like_1', 'dislike_1', 'time_2', 'price_2',\n",
    "       'price_dif_2', 'sell_2', 'buy_2', 'volume_2', 'variation_2',\n",
    "       'post_num_2', 'unique_id_2', 'click_2', 'like_2', 'dislike_2', 'time_3',\n",
    "       'price_3', 'price_dif_3', 'sell_3', 'buy_3', 'volume_3', 'variation_3',\n",
    "       'post_num_3', 'unique_id_3', 'click_3', 'like_3', 'dislike_3',\n",
    "       'mkt_cap', 'kospi', 'kosdaq', 'trash', 'yesterday_closing_price',\n",
    "       'is_maximum', 'is_minimum', 'price_volatility', 'price_trend',\n",
    "       'average_price_volatility', 'sell_minus_buy_1', 'sell_minus_buy_2',\n",
    "       'sell_minus_buy_3', 'is_price_gap_stable', 'price_gap_volatility',\n",
    "       'is_like_higher', 'volume_trend', 'post_num_trend', 'unique_id_trend',\n",
    "       'click_trend', 'price_increase', 'did_price_increase', 'did_price_033',\n",
    "       'did_price_100', 'did_price_150', 'kospi_ind', 'kosdaq_ind',\n",
    "       'time_slot', 'ko_inter', 'early_mor', 'morning', 'lunch', 'afternoon',\n",
    "       'late', 'mkt_change', 'alpha', 'per_now', 'did_opening_price_increase']"
   ]
  },
  {
   "cell_type": "code",
   "execution_count": 6,
   "metadata": {
    "collapsed": true
   },
   "outputs": [],
   "source": [
    "df = pd.DataFrame(data, columns = NEW_COL)\n",
    "df = df.dropna(axis=0, how='any')"
   ]
  },
  {
   "cell_type": "code",
   "execution_count": 7,
   "metadata": {
    "collapsed": true
   },
   "outputs": [],
   "source": [
    "df = df[df.did_opening_price_increase == 1]"
   ]
  },
  {
   "cell_type": "code",
   "execution_count": 8,
   "metadata": {
    "collapsed": true
   },
   "outputs": [],
   "source": [
    "time_filter = (df['time'].str.startswith(\"2018-02-21\")) | \\\n",
    "              (df['time'].str.startswith(\"2018-02-22\")) | \\\n",
    "              (df['time'].str.startswith(\"2018-02-23\")) | \\\n",
    "              (df['time'].str.startswith(\"2018-02-26\")) \n",
    "        \n",
    "train_df = df[time_filter].reset_index(drop = True)\n",
    "test_df = df[~time_filter].reset_index(drop = True)"
   ]
  },
  {
   "cell_type": "code",
   "execution_count": 9,
   "metadata": {
    "collapsed": true
   },
   "outputs": [],
   "source": [
    "COL_DROP_1 = ['name', 'code', 'time', 'price', 'time_1', 'price_1', 'price_dif_1',\n",
    "       'sell_1', 'buy_1', 'volume_1', 'variation_1', 'post_num_1',\n",
    "       'unique_id_1', 'click_1', 'like_1', 'dislike_1', 'time_2', 'price_2',\n",
    "       'price_dif_2', 'sell_2', 'buy_2', 'volume_2', 'variation_2',\n",
    "       'post_num_2', 'unique_id_2', 'click_2', 'like_2', 'dislike_2', 'time_3',\n",
    "       'price_3', 'price_dif_3', 'sell_3', 'buy_3', 'volume_3', 'variation_3',\n",
    "       'post_num_3', 'unique_id_3', 'click_3', 'like_3', 'dislike_3', \\\n",
    "        'did_price_increase', 'price', 'did_price_033', 'did_price_100', 'did_price_150', \n",
    "            'price_increase', 'did_opening_price_increase']\n",
    "\n",
    "COL_DROP_2 = ['name', 'code', 'time', 'price', 'time_1', 'time_2', 'time_3',\n",
    "            'did_price_increase', 'did_price_033', 'did_price_100', 'did_price_150', \n",
    "            'price_increase', 'did_opening_price_increase']\n",
    "\n",
    "X = df.drop(COL_DROP_2, axis = 1)\n",
    "y_inc = df['price_increase']\n",
    "y_0 = df['did_price_increase']\n",
    "y_33 = df['did_price_033']\n",
    "y_100 = df['did_price_100']\n",
    "y_150 = df['did_price_150']\n",
    "X_train = train_df.drop(COL_DROP_2, axis = 1)\n",
    "X_test = test_df.drop(COL_DROP_2, axis = 1)\n",
    "y_train_in = train_df['price_increase']\n",
    "y_train_0 = train_df['did_price_increase']\n",
    "y_train_33 = train_df['did_price_033']\n",
    "y_train_100 = train_df['did_price_100']\n",
    "y_train_150 = train_df['did_price_150']\n",
    "y_test_in = test_df['price_increase']\n",
    "y_test_0 = test_df['did_price_increase']\n",
    "y_test_33 = test_df['did_price_033']\n",
    "y_test_100 = test_df['did_price_100']\n",
    "y_test_150 = test_df['did_price_150']"
   ]
  },
  {
   "cell_type": "code",
   "execution_count": 167,
   "metadata": {},
   "outputs": [],
   "source": [
    "var_list = ['variation_1', 'price_1', 'yesterday_closing_price', 'price_dif_1', 'price_trend', 'sell_1', 'per_now']"
   ]
  },
  {
   "cell_type": "code",
   "execution_count": 168,
   "metadata": {},
   "outputs": [],
   "source": [
    "\n",
    "X_sub = X_train[var_list]\n",
    "X_sub_test = X_test[var_list]"
   ]
  },
  {
   "cell_type": "code",
   "execution_count": 169,
   "metadata": {},
   "outputs": [
    {
     "name": "stderr",
     "output_type": "stream",
     "text": [
      "C:\\Users\\Administrator\\Anaconda3\\lib\\site-packages\\scipy\\optimize\\linesearch.py:414: LineSearchWarning: The line search algorithm did not converge\n",
      "  warn('The line search algorithm did not converge', LineSearchWarning)\n",
      "C:\\Users\\Administrator\\Anaconda3\\lib\\site-packages\\scipy\\optimize\\linesearch.py:285: LineSearchWarning: The line search algorithm did not converge\n",
      "  warn('The line search algorithm did not converge', LineSearchWarning)\n",
      "C:\\Users\\Administrator\\Anaconda3\\lib\\site-packages\\sklearn\\utils\\optimize.py:203: ConvergenceWarning: newton-cg failed to converge. Increase the number of iterations.\n",
      "  \"number of iterations.\", ConvergenceWarning)\n"
     ]
    }
   ],
   "source": [
    "clf = LogisticRegression(solver='newton-cg')\n",
    "clf.fit(X_sub, y_train_0)\n",
    "prob = clf.predict(X_sub_test)"
   ]
  },
  {
   "cell_type": "code",
   "execution_count": 170,
   "metadata": {},
   "outputs": [
    {
     "data": {
      "text/plain": [
       "0.3483325235428571"
      ]
     },
     "execution_count": 170,
     "metadata": {},
     "output_type": "execute_result"
    }
   ],
   "source": [
    "y_port = y_test_in[prob == 1]\n",
    "y_port.mean()"
   ]
  },
  {
   "cell_type": "code",
   "execution_count": 171,
   "metadata": {},
   "outputs": [
    {
     "data": {
      "text/plain": [
       "163     0.453309\n",
       "338     3.317536\n",
       "398     0.480769\n",
       "623    -0.179695\n",
       "715     0.090009\n",
       "991     0.000000\n",
       "1083    0.000000\n",
       "1258   -2.836879\n",
       "1292    0.791557\n",
       "1350    0.938478\n",
       "1442    0.103306\n",
       "1451    0.000000\n",
       "1534    0.928793\n",
       "1568    0.789474\n",
       "Name: price_increase, dtype: float64"
      ]
     },
     "execution_count": 171,
     "metadata": {},
     "output_type": "execute_result"
    }
   ],
   "source": [
    "y_port"
   ]
  },
  {
   "cell_type": "code",
   "execution_count": null,
   "metadata": {
    "collapsed": true
   },
   "outputs": [],
   "source": [
    "def find_best_mod(mse_min, var_list):\n",
    "    \n",
    "    best_var = None\n",
    "    for var in COLUMNS:\n",
    "        if var not in var_list:\n",
    "            var_list.append(var)\n",
    "            X_train_sub = X_train[var_list]\n",
    "            clf.fit(X_train_sub, y_train_0)\n",
    "            y_pred = clf.predict(X_test[var_list])\n",
    "            y_port = y_test_in[y_pred == 1]\n",
    "            size = y_port.shape[0]\n",
    "            if size >= 10:\n",
    "                mse = mean_squared_error(y_test_0, y_pred)\n",
    "                mse_min = min(mse, mse_min)\n",
    "                if mse_min == mse:\n",
    "                    best_var = var\n",
    "            var_list = var_list[:-1]\n",
    "    \n",
    "    return best_var, mse_min \n",
    "\n",
    "def get_best_list(var_list):\n",
    "    \n",
    "    num = 0\n",
    "    mse_min=1\n",
    "    while num < 65:\n",
    "        best_var, mse_min_new = find_best_mod(mse_min, var_list)\n",
    "        if best_var != None:\n",
    "            if mse_min_new <= mse_min:\n",
    "                mse_min = mse_min_new\n",
    "                var_list.append(best_var)\n",
    "                print(var_list, num, mse_min)\n",
    "            else:\n",
    "                var_list\n",
    "        else:\n",
    "            return var_list\n",
    "        num += 1\n",
    "\n",
    "    return var_list"
   ]
  },
  {
   "cell_type": "code",
   "execution_count": 172,
   "metadata": {
    "collapsed": true
   },
   "outputs": [],
   "source": [
    "COLUMNS = X.columns"
   ]
  },
  {
   "cell_type": "code",
   "execution_count": null,
   "metadata": {
    "collapsed": true
   },
   "outputs": [],
   "source": [
    "get_best_list(['variation_1'])"
   ]
  },
  {
   "cell_type": "code",
   "execution_count": null,
   "metadata": {
    "collapsed": true
   },
   "outputs": [],
   "source": [
    "['variation_1', 'price_1', 'yesterday_closing_price'] \n",
    "['variation_1', 'price_1', 'yesterday_closing_price', 'price_dif_1', 'price_trend']\n",
    "['variation_1', 'price_1', 'yesterday_closing_price', 'price_dif_1', 'price_trend', 'sell_1', 'per_now']\n",
    "['variation_1', 'price_1', 'yesterday_closing_price', 'price_dif_1', 'price_trend', 'sell_1', 'per_now', 'buy_1', 'post_num_trend']\n",
    "['variation_1',\n",
    " 'price_1',\n",
    " 'yesterday_closing_price',\n",
    " 'price_dif_1',\n",
    " 'price_trend',\n",
    " 'sell_1',\n",
    " 'per_now',\n",
    " 'buy_1',\n",
    " 'post_num_trend',\n",
    " 'volume_1']"
   ]
  }
 ],
 "metadata": {
  "kernelspec": {
   "display_name": "Python 3",
   "language": "python",
   "name": "python3"
  },
  "language_info": {
   "codemirror_mode": {
    "name": "ipython",
    "version": 3
   },
   "file_extension": ".py",
   "mimetype": "text/x-python",
   "name": "python",
   "nbconvert_exporter": "python",
   "pygments_lexer": "ipython3",
   "version": "3.6.2"
  }
 },
 "nbformat": 4,
 "nbformat_minor": 2
}
