{
 "cells": [
  {
   "cell_type": "code",
   "execution_count": 3,
   "metadata": {},
   "outputs": [],
   "source": [
    "import pandas as pd\n",
    "import numpy as np\n",
    "import matplotlib.pyplot as plt\n",
    "import seaborn as sns\n",
    "\n",
    "from sklearn.decomposition import PCA\n",
    "from sklearn.model_selection import KFold, cross_val_score\n",
    "from sklearn.metrics import mean_squared_error\n",
    "from sklearn.cross_decomposition import PLSRegression\n",
    "from sklearn.linear_model import LinearRegression\n",
    "\n",
    "from sklearn.linear_model import LogisticRegression\n",
    "from sklearn.cross_validation import train_test_split\n",
    "from sklearn import metrics \n",
    "from sklearn.metrics import classification_report\n",
    "from pylab import rcParams\n",
    "from sklearn.preprocessing import scale \n",
    "\n",
    "%matplotlib inline\n",
    "plt.style.use('seaborn-white')"
   ]
  },
  {
   "cell_type": "code",
   "execution_count": 33,
   "metadata": {},
   "outputs": [],
   "source": [
    "import json\n",
    "with open(\"first_data_940.json\", 'r', encoding='UTF-8') as f:\n",
    "    data = json.load(f)"
   ]
  },
  {
   "cell_type": "code",
   "execution_count": null,
   "metadata": {
    "collapsed": true
   },
   "outputs": [],
   "source": []
  },
  {
   "cell_type": "code",
   "execution_count": 34,
   "metadata": {},
   "outputs": [],
   "source": [
    "NEW_COL = ['name', 'code', 'time', 'price', 'time_1', 'price_1', 'price_dif_1',\n",
    "       'sell_1', 'buy_1', 'volume_1', 'variation_1', 'post_num_1',\n",
    "       'unique_id_1', 'click_1', 'like_1', 'dislike_1', 'time_2', 'price_2',\n",
    "       'price_dif_2', 'sell_2', 'buy_2', 'volume_2', 'variation_2',\n",
    "       'post_num_2', 'unique_id_2', 'click_2', 'like_2', 'dislike_2', 'time_3',\n",
    "       'price_3', 'price_dif_3', 'sell_3', 'buy_3', 'volume_3', 'variation_3',\n",
    "       'post_num_3', 'unique_id_3', 'click_3', 'like_3', 'dislike_3',\n",
    "       'mkt_cap', 'kospi', 'kosdaq', 'trash', 'yesterday_closing_price',\n",
    "       'is_maximum', 'is_minimum', 'price_volatility', 'price_trend',\n",
    "       'average_price_volatility', 'sell_minus_buy_1', 'sell_minus_buy_2',\n",
    "       'sell_minus_buy_3', 'is_price_gap_stable', 'price_gap_volatility',\n",
    "       'is_like_higher', 'volume_trend', 'post_num_trend', 'unique_id_trend',\n",
    "       'click_trend', 'price_increase', 'did_price_increase']\n",
    "'''\n",
    "OLD_COL = ['name', 'code', 'time', 'price', 'time_1', 'price_1', 'price_dif_1',\n",
    "       'sell_1', 'buy_1', 'volume_1', 'variation_1', 'post_num_1',\n",
    "       'unique_id_1', 'click_1', 'like_1', 'dislike_1', 'time_2', 'price_2',\n",
    "       'price_dif_2', 'sell_2', 'buy_2', 'volume_2', 'variation_2',\n",
    "       'post_num_2', 'unique_id_2', 'click_2', 'like_2', 'dislike_2', 'time_3',\n",
    "       'price_3', 'price_dif_3', 'sell_3', 'buy_3', 'volume_3', 'variation_3',\n",
    "       'post_num_3', 'unique_id_3', 'click_3', 'like_3', 'dislike_3',]\n",
    "'''\n",
    "\n",
    "\n",
    "df = pd.DataFrame(data, columns = NEW_COL)\n",
    "df = df.dropna(axis=0, how='any')"
   ]
  },
  {
   "cell_type": "code",
   "execution_count": 35,
   "metadata": {},
   "outputs": [],
   "source": [
    "time_list = [\"2018-02-14\", \"2018-02-20\", \"2018-02-21\", \"2018-02-22\", \"2018-02-23\"]\n",
    "time_filter = (df['time'].str.startswith(\"2018-02-14\")) | \\\n",
    "              (df['time'].str.startswith(\"2018-02-20\")) | \\\n",
    "              (df['time'].str.startswith(\"2018-02-23\")) \n",
    "train_df = df[time_filter].reset_index(drop = True)\n",
    "test_df = df[~time_filter].reset_index(drop = True)"
   ]
  },
  {
   "cell_type": "code",
   "execution_count": null,
   "metadata": {
    "collapsed": true
   },
   "outputs": [],
   "source": []
  },
  {
   "cell_type": "code",
   "execution_count": 36,
   "metadata": {},
   "outputs": [],
   "source": [
    "COL_DROP = ['name', 'code', 'time', 'time_1', 'time_2', 'time_3', 'price_increase', \\\n",
    "            'did_price_increase', 'price']\n",
    "X = df.drop(COL_DROP, axis = 1)\n",
    "y_1 = df['price_increase']\n",
    "y_2 = df['did_price_increase']\n",
    "X_train = train_df.drop(COL_DROP, axis = 1)\n",
    "X_test = test_df.drop(COL_DROP, axis = 1)\n",
    "y_train_1 = train_df['price_increase']\n",
    "y_train_2 = train_df['did_price_increase']\n",
    "y_test_1 = test_df['price_increase']\n",
    "y_test_2 = test_df['did_price_increase']"
   ]
  },
  {
   "cell_type": "code",
   "execution_count": 37,
   "metadata": {},
   "outputs": [
    {
     "data": {
      "text/plain": [
       "53"
      ]
     },
     "execution_count": 37,
     "metadata": {},
     "output_type": "execute_result"
    }
   ],
   "source": [
    "len(X_train.columns)"
   ]
  },
  {
   "cell_type": "markdown",
   "metadata": {},
   "source": [
    "Principal component info"
   ]
  },
  {
   "cell_type": "code",
   "execution_count": 38,
   "metadata": {},
   "outputs": [],
   "source": [
    "pca = PCA()\n",
    "X_reduced = pca.fit_transform(scale(X)) #standardize x"
   ]
  },
  {
   "cell_type": "code",
   "execution_count": 39,
   "metadata": {},
   "outputs": [
    {
     "data": {
      "text/plain": [
       "array([  31.39,   57.74,   62.82,   67.07,   70.69,   74.16,   77.46,\n",
       "         80.2 ,   82.54,   84.56,   86.54,   88.45,   90.18,   91.83,\n",
       "         93.2 ,   94.51,   95.69,   96.55,   97.19,   97.8 ,   98.29,\n",
       "         98.76,   99.18,   99.48,   99.71,   99.93,   99.97,   99.99,\n",
       "        100.01,  100.02,  100.02,  100.02,  100.02,  100.02,  100.02,\n",
       "        100.02,  100.02,  100.02,  100.02,  100.02,  100.02,  100.02,\n",
       "        100.02,  100.02,  100.02,  100.02,  100.02,  100.02,  100.02,\n",
       "        100.02,  100.02,  100.02,  100.02])"
      ]
     },
     "execution_count": 39,
     "metadata": {},
     "output_type": "execute_result"
    }
   ],
   "source": [
    "# Variance explained by each principal component\n",
    "np.cumsum(np.round(pca.explained_variance_ratio_, decimals=4)*100)"
   ]
  },
  {
   "cell_type": "code",
   "execution_count": 40,
   "metadata": {},
   "outputs": [
    {
     "data": {
      "text/plain": [
       "array([-0.94451004,  0.42492918,  0.48134777, ...,  0.47619048,\n",
       "       -1.07015458,  0.2247191 ])"
      ]
     },
     "execution_count": 40,
     "metadata": {},
     "output_type": "execute_result"
    }
   ],
   "source": [
    "y_1.ravel()"
   ]
  },
  {
   "cell_type": "code",
   "execution_count": 41,
   "metadata": {},
   "outputs": [
    {
     "data": {
      "text/plain": [
       "array([0, 1, 1, ..., 1, 0, 1], dtype=int64)"
      ]
     },
     "execution_count": 41,
     "metadata": {},
     "output_type": "execute_result"
    }
   ],
   "source": [
    "y_2.ravel()"
   ]
  },
  {
   "cell_type": "markdown",
   "metadata": {},
   "source": [
    "principal component on y_1"
   ]
  },
  {
   "cell_type": "code",
   "execution_count": 42,
   "metadata": {},
   "outputs": [
    {
     "data": {
      "image/png": "[encoded data removed]",
      "text/plain": [
       "<matplotlib.figure.Figure at 0x167cc2825f8>"
      ]
     },
     "metadata": {},
     "output_type": "display_data"
    }
   ],
   "source": [
    "pca2 = PCA()\n",
    "X_reduced_train = pca2.fit_transform(scale(X_train))\n",
    "n = len(X_reduced_train)\n",
    "\n",
    "# 10-fold CV, with shuffle\n",
    "kf_10 = KFold(n_splits= 10, shuffle=False, random_state=1)\n",
    "\n",
    "mse = []\n",
    "\n",
    "regr = LinearRegression()\n",
    "\n",
    "# Calculate MSE with only the intercept (no principal components in regression)\n",
    "score = -1*cross_val_score(regr, np.ones((n,1)), y_train_1, cv=kf_10, scoring='neg_mean_squared_error').mean()    \n",
    "mse.append(score)\n",
    "\n",
    "# Calculate MSE using CV for the 22 principle components, adding one component at the time.\n",
    "for i in np.arange(1, 54):\n",
    "    score = -1*cross_val_score(regr, X_reduced_train[:,:i], y_train_1, cv=kf_10, scoring='neg_mean_squared_error').mean()\n",
    "    mse.append(score)\n",
    "\n",
    "plt.plot(np.array(mse), '-v')\n",
    "plt.xlabel('Number of principal components in regression')\n",
    "plt.ylabel('MSE')\n",
    "plt.title('Salary')\n",
    "plt.xlim(xmin=-1); #13 components are enough"
   ]
  },
  {
   "cell_type": "code",
   "execution_count": 43,
   "metadata": {},
   "outputs": [
    {
     "data": {
      "text/plain": [
       "27"
      ]
     },
     "execution_count": 43,
     "metadata": {},
     "output_type": "execute_result"
    }
   ],
   "source": [
    "mse.index(min(mse))"
   ]
  },
  {
   "cell_type": "code",
   "execution_count": 44,
   "metadata": {},
   "outputs": [
    {
     "data": {
      "text/plain": [
       "0.26897932330097019"
      ]
     },
     "execution_count": 44,
     "metadata": {},
     "output_type": "execute_result"
    }
   ],
   "source": [
    "X_reduced_test = pca2.transform(scale(X_test))[:,:28]\n",
    "\n",
    "# Train regression model on training data \n",
    "regr = LinearRegression()\n",
    "model = regr.fit(X_reduced_train[:,:28], y_train_1)\n",
    "\n",
    "# Prediction with test data\n",
    "y_pred_1 = regr.predict(X_reduced_test)\n",
    "mean_squared_error(y_test_1, y_pred_1)"
   ]
  },
  {
   "cell_type": "code",
   "execution_count": 45,
   "metadata": {},
   "outputs": [],
   "source": [
    "y_pred_df = pd.DataFrame(y_pred_1).reset_index()\n",
    "compare_1 = pd.concat([pd.DataFrame(y_pred_1), y_test_1.reset_index(drop = True)], axis = 1)\n",
    "compare_1.columns = [\"pred_1\", \"test_1\"]\n",
    "for index, row in compare_1.iterrows():\n",
    "    if row[\"pred_1\"] == 0:\n",
    "        if row[\"test_1\"] == 0:\n",
    "            value = 1\n",
    "        else:\n",
    "            value = 0\n",
    "    else:\n",
    "        sign = row[\"pred_1\"] * row[\"test_1\"]\n",
    "        if row[\"test_1\"] == 0:\n",
    "            value = 0\n",
    "        elif sign > 0:\n",
    "            value = 1 \n",
    "        else:\n",
    "            value = 0\n",
    "    compare_1.set_value(index, \"sign\", value)"
   ]
  },
  {
   "cell_type": "code",
   "execution_count": 46,
   "metadata": {},
   "outputs": [
    {
     "data": {
      "text/plain": [
       "1.0    893\n",
       "0.0    487\n",
       "Name: sign, dtype: int64"
      ]
     },
     "execution_count": 46,
     "metadata": {},
     "output_type": "execute_result"
    }
   ],
   "source": [
    "compare_1['sign'].value_counts()"
   ]
  },
  {
   "cell_type": "markdown",
   "metadata": {},
   "source": [
    "principal component  on y_2"
   ]
  },
  {
   "cell_type": "code",
   "execution_count": 47,
   "metadata": {},
   "outputs": [
    {
     "data": {
      "image/png": "[encoded data removed]",
      "text/plain": [
       "<matplotlib.figure.Figure at 0x167ccdd1fd0>"
      ]
     },
     "metadata": {},
     "output_type": "display_data"
    }
   ],
   "source": [
    "pca3 = PCA()\n",
    "X_reduced_train = pca3.fit_transform(scale(X_train))\n",
    "n = len(X_reduced_train)\n",
    "\n",
    "# 10-fold CV, with shuffle\n",
    "kf_10 = KFold(n_splits= 10, shuffle=False, random_state=1)\n",
    "\n",
    "mse = []\n",
    "regr = LogisticRegression()\n",
    "\n",
    "# Calculate MSE with only the intercept (no principal components in regression)\n",
    "score = -1*cross_val_score(regr, np.ones((n,1)), y_train_2, cv=kf_10, scoring='neg_mean_squared_error').mean()    \n",
    "mse.append(score)\n",
    "\n",
    "# Calculate MSE using CV for the 19 principle components, adding one component at the time.\n",
    "for i in np.arange(1, 54):\n",
    "    score = abs(cross_val_score(regr, X_reduced_train[:,:i], y_train_2, cv=kf_10, scoring='neg_mean_squared_error')).mean()\n",
    "    mse.append(score)\n",
    "\n",
    "plt.plot(np.array(mse), '-v')\n",
    "plt.xlabel('Number of principal components in regression')\n",
    "plt.ylabel('MSE')\n",
    "plt.title('Salary')\n",
    "plt.xlim(xmin=-1); #five is enough"
   ]
  },
  {
   "cell_type": "code",
   "execution_count": 48,
   "metadata": {},
   "outputs": [
    {
     "data": {
      "text/plain": [
       "27"
      ]
     },
     "execution_count": 48,
     "metadata": {},
     "output_type": "execute_result"
    }
   ],
   "source": [
    "mse.index(min(mse))"
   ]
  },
  {
   "cell_type": "code",
   "execution_count": 49,
   "metadata": {},
   "outputs": [
    {
     "data": {
      "text/plain": [
       "0.21884057971014492"
      ]
     },
     "execution_count": 49,
     "metadata": {},
     "output_type": "execute_result"
    }
   ],
   "source": [
    "X_reduced_test = pca3.transform(scale(X_test))[:,:28]\n",
    "\n",
    "# Train regression model on training data \n",
    "reg_log = LogisticRegression()\n",
    "model = reg_log.fit(X_reduced_train[:,:28], y_train_2)\n",
    "\n",
    "# Prediction with test data\n",
    "y_pred_2 = reg_log.predict(X_reduced_test)\n",
    "mean_squared_error(y_test_2, y_pred_2)"
   ]
  },
  {
   "cell_type": "code",
   "execution_count": 50,
   "metadata": {},
   "outputs": [
    {
     "data": {
      "text/plain": [
       "True     1078\n",
       "False     302\n",
       "dtype: int64"
      ]
     },
     "execution_count": 50,
     "metadata": {},
     "output_type": "execute_result"
    }
   ],
   "source": [
    "compare_2 = pd.concat([pd.DataFrame(y_pred_2), y_test_2.reset_index(drop = True)], axis = 1)\n",
    "compare_2.columns = [\"pred_2\", \"test_2\"]\n",
    "correct = (compare_2[\"pred_2\"] == compare_2[\"test_2\"])\n",
    "correct.value_counts()"
   ]
  },
  {
   "cell_type": "code",
   "execution_count": 51,
   "metadata": {},
   "outputs": [
    {
     "name": "stdout",
     "output_type": "stream",
     "text": [
      "             precision    recall  f1-score   support\n",
      "\n",
      "          0       0.77      0.90      0.83       822\n",
      "          1       0.80      0.61      0.69       558\n",
      "\n",
      "avg / total       0.78      0.78      0.77      1380\n",
      "\n"
     ]
    }
   ],
   "source": [
    "print(classification_report(compare_2[\"test_2\"], compare_2[\"pred_2\"]))"
   ]
  },
  {
   "cell_type": "code",
   "execution_count": 24,
   "metadata": {},
   "outputs": [
    {
     "data": {
      "text/plain": [
       "53"
      ]
     },
     "execution_count": 24,
     "metadata": {},
     "output_type": "execute_result"
    }
   ],
   "source": [
    "len(X_train.columns)"
   ]
  },
  {
   "cell_type": "code",
   "execution_count": 21,
   "metadata": {},
   "outputs": [
    {
     "data": {
      "text/plain": [
       "Index(['price_1', 'price_dif_1', 'sell_1', 'buy_1', 'volume_1', 'variation_1',\n",
       "       'post_num_1', 'unique_id_1', 'click_1', 'like_1', 'dislike_1',\n",
       "       'price_2', 'price_dif_2', 'sell_2', 'buy_2', 'volume_2', 'variation_2',\n",
       "       'post_num_2', 'unique_id_2', 'click_2', 'like_2', 'dislike_2',\n",
       "       'price_3', 'price_dif_3', 'sell_3', 'buy_3', 'volume_3', 'variation_3',\n",
       "       'post_num_3', 'unique_id_3', 'click_3', 'like_3', 'dislike_3',\n",
       "       'mkt_cap', 'kospi', 'kosdaq', 'trash', 'yesterday_closing_price',\n",
       "       'is_maximum', 'is_minimum', 'price_volatility', 'price_trend',\n",
       "       'average_price_volatility', 'sell_minus_buy_1', 'sell_minus_buy_2',\n",
       "       'sell_minus_buy_3', 'is_price_gap_stable', 'price_gap_volatility',\n",
       "       'is_like_higher', 'volume_trend', 'post_num_trend', 'unique_id_trend',\n",
       "       'click_trend'],\n",
       "      dtype='object')"
      ]
     },
     "execution_count": 21,
     "metadata": {},
     "output_type": "execute_result"
    }
   ],
   "source": [
    "X_test.columns"
   ]
  },
  {
   "cell_type": "markdown",
   "metadata": {},
   "source": [
    "Partial Least Square"
   ]
  },
  {
   "cell_type": "code",
   "execution_count": 52,
   "metadata": {},
   "outputs": [
    {
     "name": "stderr",
     "output_type": "stream",
     "text": [
      "C:\\Users\\Administrator\\Anaconda3\\lib\\site-packages\\sklearn\\cross_decomposition\\pls_.py:313: UserWarning: X scores are null at iteration 43\n",
      "  warnings.warn('X scores are null at iteration %s' % k)\n",
      "C:\\Users\\Administrator\\Anaconda3\\lib\\site-packages\\sklearn\\cross_decomposition\\pls_.py:313: UserWarning: X scores are null at iteration 43\n",
      "  warnings.warn('X scores are null at iteration %s' % k)\n",
      "C:\\Users\\Administrator\\Anaconda3\\lib\\site-packages\\sklearn\\cross_decomposition\\pls_.py:313: UserWarning: X scores are null at iteration 43\n",
      "  warnings.warn('X scores are null at iteration %s' % k)\n",
      "C:\\Users\\Administrator\\Anaconda3\\lib\\site-packages\\sklearn\\cross_decomposition\\pls_.py:313: UserWarning: X scores are null at iteration 43\n",
      "  warnings.warn('X scores are null at iteration %s' % k)\n",
      "C:\\Users\\Administrator\\Anaconda3\\lib\\site-packages\\sklearn\\cross_decomposition\\pls_.py:313: UserWarning: X scores are null at iteration 43\n",
      "  warnings.warn('X scores are null at iteration %s' % k)\n",
      "C:\\Users\\Administrator\\Anaconda3\\lib\\site-packages\\sklearn\\cross_decomposition\\pls_.py:313: UserWarning: X scores are null at iteration 43\n",
      "  warnings.warn('X scores are null at iteration %s' % k)\n",
      "C:\\Users\\Administrator\\Anaconda3\\lib\\site-packages\\sklearn\\cross_decomposition\\pls_.py:313: UserWarning: X scores are null at iteration 43\n",
      "  warnings.warn('X scores are null at iteration %s' % k)\n",
      "C:\\Users\\Administrator\\Anaconda3\\lib\\site-packages\\sklearn\\cross_decomposition\\pls_.py:313: UserWarning: X scores are null at iteration 43\n",
      "  warnings.warn('X scores are null at iteration %s' % k)\n",
      "C:\\Users\\Administrator\\Anaconda3\\lib\\site-packages\\sklearn\\cross_decomposition\\pls_.py:313: UserWarning: X scores are null at iteration 43\n",
      "  warnings.warn('X scores are null at iteration %s' % k)\n",
      "C:\\Users\\Administrator\\Anaconda3\\lib\\site-packages\\sklearn\\cross_decomposition\\pls_.py:313: UserWarning: X scores are null at iteration 43\n",
      "  warnings.warn('X scores are null at iteration %s' % k)\n",
      "C:\\Users\\Administrator\\Anaconda3\\lib\\site-packages\\sklearn\\cross_decomposition\\pls_.py:313: UserWarning: X scores are null at iteration 43\n",
      "  warnings.warn('X scores are null at iteration %s' % k)\n",
      "C:\\Users\\Administrator\\Anaconda3\\lib\\site-packages\\sklearn\\cross_decomposition\\pls_.py:313: UserWarning: X scores are null at iteration 43\n",
      "  warnings.warn('X scores are null at iteration %s' % k)\n",
      "C:\\Users\\Administrator\\Anaconda3\\lib\\site-packages\\sklearn\\cross_decomposition\\pls_.py:313: UserWarning: X scores are null at iteration 43\n",
      "  warnings.warn('X scores are null at iteration %s' % k)\n",
      "C:\\Users\\Administrator\\Anaconda3\\lib\\site-packages\\sklearn\\cross_decomposition\\pls_.py:313: UserWarning: X scores are null at iteration 43\n",
      "  warnings.warn('X scores are null at iteration %s' % k)\n",
      "C:\\Users\\Administrator\\Anaconda3\\lib\\site-packages\\sklearn\\cross_decomposition\\pls_.py:313: UserWarning: X scores are null at iteration 43\n",
      "  warnings.warn('X scores are null at iteration %s' % k)\n",
      "C:\\Users\\Administrator\\Anaconda3\\lib\\site-packages\\sklearn\\cross_decomposition\\pls_.py:313: UserWarning: X scores are null at iteration 43\n",
      "  warnings.warn('X scores are null at iteration %s' % k)\n",
      "C:\\Users\\Administrator\\Anaconda3\\lib\\site-packages\\sklearn\\cross_decomposition\\pls_.py:313: UserWarning: X scores are null at iteration 43\n",
      "  warnings.warn('X scores are null at iteration %s' % k)\n",
      "C:\\Users\\Administrator\\Anaconda3\\lib\\site-packages\\sklearn\\cross_decomposition\\pls_.py:313: UserWarning: X scores are null at iteration 43\n",
      "  warnings.warn('X scores are null at iteration %s' % k)\n",
      "C:\\Users\\Administrator\\Anaconda3\\lib\\site-packages\\sklearn\\cross_decomposition\\pls_.py:313: UserWarning: X scores are null at iteration 43\n",
      "  warnings.warn('X scores are null at iteration %s' % k)\n",
      "C:\\Users\\Administrator\\Anaconda3\\lib\\site-packages\\sklearn\\cross_decomposition\\pls_.py:313: UserWarning: X scores are null at iteration 43\n",
      "  warnings.warn('X scores are null at iteration %s' % k)\n",
      "C:\\Users\\Administrator\\Anaconda3\\lib\\site-packages\\sklearn\\cross_decomposition\\pls_.py:313: UserWarning: X scores are null at iteration 43\n",
      "  warnings.warn('X scores are null at iteration %s' % k)\n",
      "C:\\Users\\Administrator\\Anaconda3\\lib\\site-packages\\sklearn\\cross_decomposition\\pls_.py:313: UserWarning: X scores are null at iteration 43\n",
      "  warnings.warn('X scores are null at iteration %s' % k)\n",
      "C:\\Users\\Administrator\\Anaconda3\\lib\\site-packages\\sklearn\\cross_decomposition\\pls_.py:313: UserWarning: X scores are null at iteration 43\n",
      "  warnings.warn('X scores are null at iteration %s' % k)\n",
      "C:\\Users\\Administrator\\Anaconda3\\lib\\site-packages\\sklearn\\cross_decomposition\\pls_.py:313: UserWarning: X scores are null at iteration 43\n",
      "  warnings.warn('X scores are null at iteration %s' % k)\n",
      "C:\\Users\\Administrator\\Anaconda3\\lib\\site-packages\\sklearn\\cross_decomposition\\pls_.py:313: UserWarning: X scores are null at iteration 43\n",
      "  warnings.warn('X scores are null at iteration %s' % k)\n",
      "C:\\Users\\Administrator\\Anaconda3\\lib\\site-packages\\sklearn\\cross_decomposition\\pls_.py:313: UserWarning: X scores are null at iteration 43\n",
      "  warnings.warn('X scores are null at iteration %s' % k)\n",
      "C:\\Users\\Administrator\\Anaconda3\\lib\\site-packages\\sklearn\\cross_decomposition\\pls_.py:313: UserWarning: X scores are null at iteration 43\n",
      "  warnings.warn('X scores are null at iteration %s' % k)\n",
      "C:\\Users\\Administrator\\Anaconda3\\lib\\site-packages\\sklearn\\cross_decomposition\\pls_.py:313: UserWarning: X scores are null at iteration 43\n",
      "  warnings.warn('X scores are null at iteration %s' % k)\n",
      "C:\\Users\\Administrator\\Anaconda3\\lib\\site-packages\\sklearn\\cross_decomposition\\pls_.py:313: UserWarning: X scores are null at iteration 43\n",
      "  warnings.warn('X scores are null at iteration %s' % k)\n",
      "C:\\Users\\Administrator\\Anaconda3\\lib\\site-packages\\sklearn\\cross_decomposition\\pls_.py:313: UserWarning: X scores are null at iteration 43\n",
      "  warnings.warn('X scores are null at iteration %s' % k)\n",
      "C:\\Users\\Administrator\\Anaconda3\\lib\\site-packages\\sklearn\\cross_decomposition\\pls_.py:313: UserWarning: X scores are null at iteration 43\n",
      "  warnings.warn('X scores are null at iteration %s' % k)\n",
      "C:\\Users\\Administrator\\Anaconda3\\lib\\site-packages\\sklearn\\cross_decomposition\\pls_.py:313: UserWarning: X scores are null at iteration 43\n",
      "  warnings.warn('X scores are null at iteration %s' % k)\n",
      "C:\\Users\\Administrator\\Anaconda3\\lib\\site-packages\\sklearn\\cross_decomposition\\pls_.py:313: UserWarning: X scores are null at iteration 43\n",
      "  warnings.warn('X scores are null at iteration %s' % k)\n",
      "C:\\Users\\Administrator\\Anaconda3\\lib\\site-packages\\sklearn\\cross_decomposition\\pls_.py:313: UserWarning: X scores are null at iteration 43\n",
      "  warnings.warn('X scores are null at iteration %s' % k)\n",
      "C:\\Users\\Administrator\\Anaconda3\\lib\\site-packages\\sklearn\\cross_decomposition\\pls_.py:313: UserWarning: X scores are null at iteration 43\n",
      "  warnings.warn('X scores are null at iteration %s' % k)\n",
      "C:\\Users\\Administrator\\Anaconda3\\lib\\site-packages\\sklearn\\cross_decomposition\\pls_.py:313: UserWarning: X scores are null at iteration 43\n",
      "  warnings.warn('X scores are null at iteration %s' % k)\n",
      "C:\\Users\\Administrator\\Anaconda3\\lib\\site-packages\\sklearn\\cross_decomposition\\pls_.py:313: UserWarning: X scores are null at iteration 43\n",
      "  warnings.warn('X scores are null at iteration %s' % k)\n",
      "C:\\Users\\Administrator\\Anaconda3\\lib\\site-packages\\sklearn\\cross_decomposition\\pls_.py:313: UserWarning: X scores are null at iteration 43\n",
      "  warnings.warn('X scores are null at iteration %s' % k)\n",
      "C:\\Users\\Administrator\\Anaconda3\\lib\\site-packages\\sklearn\\cross_decomposition\\pls_.py:313: UserWarning: X scores are null at iteration 43\n",
      "  warnings.warn('X scores are null at iteration %s' % k)\n",
      "C:\\Users\\Administrator\\Anaconda3\\lib\\site-packages\\sklearn\\cross_decomposition\\pls_.py:313: UserWarning: X scores are null at iteration 43\n",
      "  warnings.warn('X scores are null at iteration %s' % k)\n",
      "C:\\Users\\Administrator\\Anaconda3\\lib\\site-packages\\sklearn\\cross_decomposition\\pls_.py:313: UserWarning: X scores are null at iteration 43\n",
      "  warnings.warn('X scores are null at iteration %s' % k)\n",
      "C:\\Users\\Administrator\\Anaconda3\\lib\\site-packages\\sklearn\\cross_decomposition\\pls_.py:313: UserWarning: X scores are null at iteration 43\n",
      "  warnings.warn('X scores are null at iteration %s' % k)\n",
      "C:\\Users\\Administrator\\Anaconda3\\lib\\site-packages\\sklearn\\cross_decomposition\\pls_.py:313: UserWarning: X scores are null at iteration 43\n",
      "  warnings.warn('X scores are null at iteration %s' % k)\n",
      "C:\\Users\\Administrator\\Anaconda3\\lib\\site-packages\\sklearn\\cross_decomposition\\pls_.py:313: UserWarning: X scores are null at iteration 43\n",
      "  warnings.warn('X scores are null at iteration %s' % k)\n",
      "C:\\Users\\Administrator\\Anaconda3\\lib\\site-packages\\sklearn\\cross_decomposition\\pls_.py:313: UserWarning: X scores are null at iteration 43\n",
      "  warnings.warn('X scores are null at iteration %s' % k)\n",
      "C:\\Users\\Administrator\\Anaconda3\\lib\\site-packages\\sklearn\\cross_decomposition\\pls_.py:313: UserWarning: X scores are null at iteration 43\n",
      "  warnings.warn('X scores are null at iteration %s' % k)\n"
     ]
    },
    {
     "name": "stderr",
     "output_type": "stream",
     "text": [
      "C:\\Users\\Administrator\\Anaconda3\\lib\\site-packages\\sklearn\\cross_decomposition\\pls_.py:313: UserWarning: X scores are null at iteration 43\n",
      "  warnings.warn('X scores are null at iteration %s' % k)\n",
      "C:\\Users\\Administrator\\Anaconda3\\lib\\site-packages\\sklearn\\cross_decomposition\\pls_.py:313: UserWarning: X scores are null at iteration 43\n",
      "  warnings.warn('X scores are null at iteration %s' % k)\n",
      "C:\\Users\\Administrator\\Anaconda3\\lib\\site-packages\\sklearn\\cross_decomposition\\pls_.py:313: UserWarning: X scores are null at iteration 43\n",
      "  warnings.warn('X scores are null at iteration %s' % k)\n",
      "C:\\Users\\Administrator\\Anaconda3\\lib\\site-packages\\sklearn\\cross_decomposition\\pls_.py:313: UserWarning: X scores are null at iteration 43\n",
      "  warnings.warn('X scores are null at iteration %s' % k)\n",
      "C:\\Users\\Administrator\\Anaconda3\\lib\\site-packages\\sklearn\\cross_decomposition\\pls_.py:313: UserWarning: X scores are null at iteration 43\n",
      "  warnings.warn('X scores are null at iteration %s' % k)\n",
      "C:\\Users\\Administrator\\Anaconda3\\lib\\site-packages\\sklearn\\cross_decomposition\\pls_.py:313: UserWarning: X scores are null at iteration 43\n",
      "  warnings.warn('X scores are null at iteration %s' % k)\n",
      "C:\\Users\\Administrator\\Anaconda3\\lib\\site-packages\\sklearn\\cross_decomposition\\pls_.py:313: UserWarning: X scores are null at iteration 43\n",
      "  warnings.warn('X scores are null at iteration %s' % k)\n",
      "C:\\Users\\Administrator\\Anaconda3\\lib\\site-packages\\sklearn\\cross_decomposition\\pls_.py:313: UserWarning: X scores are null at iteration 43\n",
      "  warnings.warn('X scores are null at iteration %s' % k)\n",
      "C:\\Users\\Administrator\\Anaconda3\\lib\\site-packages\\sklearn\\cross_decomposition\\pls_.py:313: UserWarning: X scores are null at iteration 43\n",
      "  warnings.warn('X scores are null at iteration %s' % k)\n",
      "C:\\Users\\Administrator\\Anaconda3\\lib\\site-packages\\sklearn\\cross_decomposition\\pls_.py:313: UserWarning: X scores are null at iteration 43\n",
      "  warnings.warn('X scores are null at iteration %s' % k)\n",
      "C:\\Users\\Administrator\\Anaconda3\\lib\\site-packages\\sklearn\\cross_decomposition\\pls_.py:313: UserWarning: X scores are null at iteration 43\n",
      "  warnings.warn('X scores are null at iteration %s' % k)\n",
      "C:\\Users\\Administrator\\Anaconda3\\lib\\site-packages\\sklearn\\cross_decomposition\\pls_.py:313: UserWarning: X scores are null at iteration 43\n",
      "  warnings.warn('X scores are null at iteration %s' % k)\n",
      "C:\\Users\\Administrator\\Anaconda3\\lib\\site-packages\\sklearn\\cross_decomposition\\pls_.py:313: UserWarning: X scores are null at iteration 43\n",
      "  warnings.warn('X scores are null at iteration %s' % k)\n",
      "C:\\Users\\Administrator\\Anaconda3\\lib\\site-packages\\sklearn\\cross_decomposition\\pls_.py:313: UserWarning: X scores are null at iteration 43\n",
      "  warnings.warn('X scores are null at iteration %s' % k)\n",
      "C:\\Users\\Administrator\\Anaconda3\\lib\\site-packages\\sklearn\\cross_decomposition\\pls_.py:313: UserWarning: X scores are null at iteration 43\n",
      "  warnings.warn('X scores are null at iteration %s' % k)\n",
      "C:\\Users\\Administrator\\Anaconda3\\lib\\site-packages\\sklearn\\cross_decomposition\\pls_.py:313: UserWarning: X scores are null at iteration 43\n",
      "  warnings.warn('X scores are null at iteration %s' % k)\n",
      "C:\\Users\\Administrator\\Anaconda3\\lib\\site-packages\\sklearn\\cross_decomposition\\pls_.py:313: UserWarning: X scores are null at iteration 43\n",
      "  warnings.warn('X scores are null at iteration %s' % k)\n",
      "C:\\Users\\Administrator\\Anaconda3\\lib\\site-packages\\sklearn\\cross_decomposition\\pls_.py:313: UserWarning: X scores are null at iteration 43\n",
      "  warnings.warn('X scores are null at iteration %s' % k)\n",
      "C:\\Users\\Administrator\\Anaconda3\\lib\\site-packages\\sklearn\\cross_decomposition\\pls_.py:313: UserWarning: X scores are null at iteration 43\n",
      "  warnings.warn('X scores are null at iteration %s' % k)\n",
      "C:\\Users\\Administrator\\Anaconda3\\lib\\site-packages\\sklearn\\cross_decomposition\\pls_.py:313: UserWarning: X scores are null at iteration 43\n",
      "  warnings.warn('X scores are null at iteration %s' % k)\n",
      "C:\\Users\\Administrator\\Anaconda3\\lib\\site-packages\\sklearn\\cross_decomposition\\pls_.py:313: UserWarning: X scores are null at iteration 43\n",
      "  warnings.warn('X scores are null at iteration %s' % k)\n",
      "C:\\Users\\Administrator\\Anaconda3\\lib\\site-packages\\sklearn\\cross_decomposition\\pls_.py:313: UserWarning: X scores are null at iteration 43\n",
      "  warnings.warn('X scores are null at iteration %s' % k)\n",
      "C:\\Users\\Administrator\\Anaconda3\\lib\\site-packages\\sklearn\\cross_decomposition\\pls_.py:313: UserWarning: X scores are null at iteration 43\n",
      "  warnings.warn('X scores are null at iteration %s' % k)\n",
      "C:\\Users\\Administrator\\Anaconda3\\lib\\site-packages\\sklearn\\cross_decomposition\\pls_.py:313: UserWarning: X scores are null at iteration 43\n",
      "  warnings.warn('X scores are null at iteration %s' % k)\n",
      "C:\\Users\\Administrator\\Anaconda3\\lib\\site-packages\\sklearn\\cross_decomposition\\pls_.py:313: UserWarning: X scores are null at iteration 43\n",
      "  warnings.warn('X scores are null at iteration %s' % k)\n",
      "C:\\Users\\Administrator\\Anaconda3\\lib\\site-packages\\sklearn\\cross_decomposition\\pls_.py:313: UserWarning: X scores are null at iteration 43\n",
      "  warnings.warn('X scores are null at iteration %s' % k)\n",
      "C:\\Users\\Administrator\\Anaconda3\\lib\\site-packages\\sklearn\\cross_decomposition\\pls_.py:313: UserWarning: X scores are null at iteration 43\n",
      "  warnings.warn('X scores are null at iteration %s' % k)\n",
      "C:\\Users\\Administrator\\Anaconda3\\lib\\site-packages\\sklearn\\cross_decomposition\\pls_.py:313: UserWarning: X scores are null at iteration 43\n",
      "  warnings.warn('X scores are null at iteration %s' % k)\n",
      "C:\\Users\\Administrator\\Anaconda3\\lib\\site-packages\\sklearn\\cross_decomposition\\pls_.py:313: UserWarning: X scores are null at iteration 43\n",
      "  warnings.warn('X scores are null at iteration %s' % k)\n",
      "C:\\Users\\Administrator\\Anaconda3\\lib\\site-packages\\sklearn\\cross_decomposition\\pls_.py:313: UserWarning: X scores are null at iteration 43\n",
      "  warnings.warn('X scores are null at iteration %s' % k)\n",
      "C:\\Users\\Administrator\\Anaconda3\\lib\\site-packages\\sklearn\\cross_decomposition\\pls_.py:313: UserWarning: X scores are null at iteration 43\n",
      "  warnings.warn('X scores are null at iteration %s' % k)\n",
      "C:\\Users\\Administrator\\Anaconda3\\lib\\site-packages\\sklearn\\cross_decomposition\\pls_.py:313: UserWarning: X scores are null at iteration 43\n",
      "  warnings.warn('X scores are null at iteration %s' % k)\n",
      "C:\\Users\\Administrator\\Anaconda3\\lib\\site-packages\\sklearn\\cross_decomposition\\pls_.py:313: UserWarning: X scores are null at iteration 43\n",
      "  warnings.warn('X scores are null at iteration %s' % k)\n",
      "C:\\Users\\Administrator\\Anaconda3\\lib\\site-packages\\sklearn\\cross_decomposition\\pls_.py:313: UserWarning: X scores are null at iteration 43\n",
      "  warnings.warn('X scores are null at iteration %s' % k)\n",
      "C:\\Users\\Administrator\\Anaconda3\\lib\\site-packages\\sklearn\\cross_decomposition\\pls_.py:313: UserWarning: X scores are null at iteration 43\n",
      "  warnings.warn('X scores are null at iteration %s' % k)\n",
      "C:\\Users\\Administrator\\Anaconda3\\lib\\site-packages\\sklearn\\cross_decomposition\\pls_.py:313: UserWarning: X scores are null at iteration 43\n",
      "  warnings.warn('X scores are null at iteration %s' % k)\n",
      "C:\\Users\\Administrator\\Anaconda3\\lib\\site-packages\\sklearn\\cross_decomposition\\pls_.py:313: UserWarning: X scores are null at iteration 43\n",
      "  warnings.warn('X scores are null at iteration %s' % k)\n",
      "C:\\Users\\Administrator\\Anaconda3\\lib\\site-packages\\sklearn\\cross_decomposition\\pls_.py:313: UserWarning: X scores are null at iteration 43\n",
      "  warnings.warn('X scores are null at iteration %s' % k)\n",
      "C:\\Users\\Administrator\\Anaconda3\\lib\\site-packages\\sklearn\\cross_decomposition\\pls_.py:313: UserWarning: X scores are null at iteration 43\n",
      "  warnings.warn('X scores are null at iteration %s' % k)\n",
      "C:\\Users\\Administrator\\Anaconda3\\lib\\site-packages\\sklearn\\cross_decomposition\\pls_.py:313: UserWarning: X scores are null at iteration 43\n",
      "  warnings.warn('X scores are null at iteration %s' % k)\n",
      "C:\\Users\\Administrator\\Anaconda3\\lib\\site-packages\\sklearn\\cross_decomposition\\pls_.py:313: UserWarning: X scores are null at iteration 43\n",
      "  warnings.warn('X scores are null at iteration %s' % k)\n",
      "C:\\Users\\Administrator\\Anaconda3\\lib\\site-packages\\sklearn\\cross_decomposition\\pls_.py:313: UserWarning: X scores are null at iteration 43\n",
      "  warnings.warn('X scores are null at iteration %s' % k)\n",
      "C:\\Users\\Administrator\\Anaconda3\\lib\\site-packages\\sklearn\\cross_decomposition\\pls_.py:313: UserWarning: X scores are null at iteration 43\n",
      "  warnings.warn('X scores are null at iteration %s' % k)\n"
     ]
    },
    {
     "name": "stderr",
     "output_type": "stream",
     "text": [
      "C:\\Users\\Administrator\\Anaconda3\\lib\\site-packages\\sklearn\\cross_decomposition\\pls_.py:313: UserWarning: X scores are null at iteration 43\n",
      "  warnings.warn('X scores are null at iteration %s' % k)\n",
      "C:\\Users\\Administrator\\Anaconda3\\lib\\site-packages\\sklearn\\cross_decomposition\\pls_.py:313: UserWarning: X scores are null at iteration 43\n",
      "  warnings.warn('X scores are null at iteration %s' % k)\n",
      "C:\\Users\\Administrator\\Anaconda3\\lib\\site-packages\\sklearn\\cross_decomposition\\pls_.py:313: UserWarning: X scores are null at iteration 43\n",
      "  warnings.warn('X scores are null at iteration %s' % k)\n",
      "C:\\Users\\Administrator\\Anaconda3\\lib\\site-packages\\sklearn\\cross_decomposition\\pls_.py:313: UserWarning: X scores are null at iteration 43\n",
      "  warnings.warn('X scores are null at iteration %s' % k)\n",
      "C:\\Users\\Administrator\\Anaconda3\\lib\\site-packages\\sklearn\\cross_decomposition\\pls_.py:313: UserWarning: X scores are null at iteration 43\n",
      "  warnings.warn('X scores are null at iteration %s' % k)\n",
      "C:\\Users\\Administrator\\Anaconda3\\lib\\site-packages\\sklearn\\cross_decomposition\\pls_.py:313: UserWarning: X scores are null at iteration 43\n",
      "  warnings.warn('X scores are null at iteration %s' % k)\n",
      "C:\\Users\\Administrator\\Anaconda3\\lib\\site-packages\\sklearn\\cross_decomposition\\pls_.py:313: UserWarning: X scores are null at iteration 43\n",
      "  warnings.warn('X scores are null at iteration %s' % k)\n",
      "C:\\Users\\Administrator\\Anaconda3\\lib\\site-packages\\sklearn\\cross_decomposition\\pls_.py:313: UserWarning: X scores are null at iteration 43\n",
      "  warnings.warn('X scores are null at iteration %s' % k)\n",
      "C:\\Users\\Administrator\\Anaconda3\\lib\\site-packages\\sklearn\\cross_decomposition\\pls_.py:313: UserWarning: X scores are null at iteration 43\n",
      "  warnings.warn('X scores are null at iteration %s' % k)\n",
      "C:\\Users\\Administrator\\Anaconda3\\lib\\site-packages\\sklearn\\cross_decomposition\\pls_.py:313: UserWarning: X scores are null at iteration 43\n",
      "  warnings.warn('X scores are null at iteration %s' % k)\n",
      "C:\\Users\\Administrator\\Anaconda3\\lib\\site-packages\\sklearn\\cross_decomposition\\pls_.py:313: UserWarning: X scores are null at iteration 43\n",
      "  warnings.warn('X scores are null at iteration %s' % k)\n"
     ]
    },
    {
     "data": {
      "text/plain": [
       "(-1, 55.600000000000001)"
      ]
     },
     "execution_count": 52,
     "metadata": {},
     "output_type": "execute_result"
    },
    {
     "data": {
      "image/png": "[encoded data removed]",
      "text/plain": [
       "<matplotlib.figure.Figure at 0x167cccc23c8>"
      ]
     },
     "metadata": {},
     "output_type": "display_data"
    }
   ],
   "source": [
    "n = len(X_train)\n",
    "\n",
    "# 10-fold CV, with shuffle\n",
    "kf_10 = KFold(n_splits= 10, shuffle=False, random_state=1)\n",
    "\n",
    "mse = []\n",
    "\n",
    "for i in np.arange(1, 54):\n",
    "    pls = PLSRegression(n_components=i)\n",
    "    score = cross_val_score(pls, scale(X_train), y_train_1, cv=kf_10, scoring='neg_mean_squared_error').mean()\n",
    "    mse.append(-score)\n",
    "\n",
    "plt.plot(np.arange(1, 54), np.array(mse), '-v')\n",
    "plt.xlabel('Number of principal components in regression')\n",
    "plt.ylabel('MSE')\n",
    "plt.title('Salary')\n",
    "plt.xlim(xmin=-1) #four is enough"
   ]
  },
  {
   "cell_type": "code",
   "execution_count": 53,
   "metadata": {},
   "outputs": [
    {
     "data": {
      "text/plain": [
       "9"
      ]
     },
     "execution_count": 53,
     "metadata": {},
     "output_type": "execute_result"
    }
   ],
   "source": [
    "mse.index(min(mse))"
   ]
  },
  {
   "cell_type": "code",
   "execution_count": 54,
   "metadata": {},
   "outputs": [
    {
     "data": {
      "text/plain": [
       "0.26967004053136606"
      ]
     },
     "execution_count": 54,
     "metadata": {},
     "output_type": "execute_result"
    }
   ],
   "source": [
    "pls = PLSRegression(n_components=10)\n",
    "pls.fit(scale(X_train), y_train_1)\n",
    "y_pred_pls = pls.predict(scale(X_test))\n",
    "\n",
    "mean_squared_error(y_test_1, y_pred_pls)"
   ]
  },
  {
   "cell_type": "code",
   "execution_count": 55,
   "metadata": {},
   "outputs": [],
   "source": [
    "y_pls_df = pd.DataFrame(y_pred_pls)\n",
    "compare_3 = pd.concat([y_pls_df, y_test_1.reset_index(drop = True)], axis = 1)\n",
    "compare_3.columns = [\"y_pred\", \"y_test_1\"]"
   ]
  },
  {
   "cell_type": "code",
   "execution_count": 56,
   "metadata": {
    "collapsed": true
   },
   "outputs": [],
   "source": [
    "for index, row in compare_3.iterrows():\n",
    "    if row[\"y_pred\"] == 0:\n",
    "        if row[\"y_test_1\"] == 0:\n",
    "            value = 1\n",
    "        else:\n",
    "            value = 0\n",
    "    else:\n",
    "        sign = row[\"y_pred\"] * row[\"y_test_1\"]\n",
    "        if row[\"y_test_1\"] == 0:\n",
    "            value = 0\n",
    "        elif sign > 0:\n",
    "            value = 1 \n",
    "        else:\n",
    "            value = 0\n",
    "    compare_3.set_value(index, \"sign\", value)"
   ]
  },
  {
   "cell_type": "code",
   "execution_count": 57,
   "metadata": {},
   "outputs": [
    {
     "data": {
      "text/plain": [
       "1.0    893\n",
       "0.0    487\n",
       "Name: sign, dtype: int64"
      ]
     },
     "execution_count": 57,
     "metadata": {},
     "output_type": "execute_result"
    }
   ],
   "source": [
    "compare_3['sign'].value_counts()"
   ]
  },
  {
   "cell_type": "code",
   "execution_count": null,
   "metadata": {
    "collapsed": true
   },
   "outputs": [],
   "source": []
  }
 ],
 "metadata": {
  "kernelspec": {
   "display_name": "Python 3",
   "language": "python",
   "name": "python3"
  },
  "language_info": {
   "codemirror_mode": {
    "name": "ipython",
    "version": 3
   },
   "file_extension": ".py",
   "mimetype": "text/x-python",
   "name": "python",
   "nbconvert_exporter": "python",
   "pygments_lexer": "ipython3",
   "version": "3.6.2"
  }
 },
 "nbformat": 4,
 "nbformat_minor": 2
}
