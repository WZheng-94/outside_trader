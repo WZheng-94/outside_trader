{
 "cells": [
  {
   "cell_type": "code",
   "execution_count": 60,
   "metadata": {
    "collapsed": true
   },
   "outputs": [],
   "source": [
    "import pandas as pd\n",
    "import numpy as np\n",
    "\n",
    "from sklearn.metrics import mean_squared_error\n",
    "\n",
    "from sklearn.discriminant_analysis import LinearDiscriminantAnalysis\n",
    "from sklearn.discriminant_analysis import QuadraticDiscriminantAnalysis\n",
    "\n",
    "from sklearn import neighbors\n",
    "from sklearn.metrics import confusion_matrix, classification_report"
   ]
  },
  {
   "cell_type": "code",
   "execution_count": 61,
   "metadata": {
    "collapsed": true
   },
   "outputs": [],
   "source": [
    "import json\n",
    "with open(\"the_final_data.json\", 'r', encoding='UTF-8') as f:\n",
    "    data = json.load(f)"
   ]
  },
  {
   "cell_type": "code",
   "execution_count": 62,
   "metadata": {
    "collapsed": true
   },
   "outputs": [],
   "source": [
    "NEW_COL = ['name', 'code', 'time', 'price', 'time_1', 'price_1', 'price_dif_1',\n",
    "       'sell_1', 'buy_1', 'volume_1', 'variation_1', 'post_num_1',\n",
    "       'unique_id_1', 'click_1', 'like_1', 'dislike_1', 'time_2', 'price_2',\n",
    "       'price_dif_2', 'sell_2', 'buy_2', 'volume_2', 'variation_2',\n",
    "       'post_num_2', 'unique_id_2', 'click_2', 'like_2', 'dislike_2', 'time_3',\n",
    "       'price_3', 'price_dif_3', 'sell_3', 'buy_3', 'volume_3', 'variation_3',\n",
    "       'post_num_3', 'unique_id_3', 'click_3', 'like_3', 'dislike_3',\n",
    "       'mkt_cap', 'kospi', 'kosdaq', 'trash', 'yesterday_closing_price',\n",
    "       'is_maximum', 'is_minimum', 'price_volatility', 'price_trend',\n",
    "       'average_price_volatility', 'sell_minus_buy_1', 'sell_minus_buy_2',\n",
    "       'sell_minus_buy_3', 'is_price_gap_stable', 'price_gap_volatility',\n",
    "       'is_like_higher', 'volume_trend', 'post_num_trend', 'unique_id_trend',\n",
    "       'click_trend', 'price_increase', 'did_price_increase', 'did_price_033',\n",
    "       'did_price_100', 'did_price_150', 'kospi_ind', 'kosdaq_ind',\n",
    "       'time_slot', 'ko_inter', 'early_mor', 'morning', 'lunch', 'afternoon',\n",
    "       'late', 'mkt_change', 'alpha', 'per_now', 'did_opening_price_increase']\n",
    "'''\n",
    "OLD_COL = ['name', 'code', 'time', 'price', 'time_1', 'price_1', 'price_dif_1',\n",
    "       'sell_1', 'buy_1', 'volume_1', 'variation_1', 'post_num_1',\n",
    "       'unique_id_1', 'click_1', 'like_1', 'dislike_1', 'time_2', 'price_2',\n",
    "       'price_dif_2', 'sell_2', 'buy_2', 'volume_2', 'variation_2',\n",
    "       'post_num_2', 'unique_id_2', 'click_2', 'like_2', 'dislike_2', 'time_3',\n",
    "       'price_3', 'price_dif_3', 'sell_3', 'buy_3', 'volume_3', 'variation_3',\n",
    "       'post_num_3', 'unique_id_3', 'click_3', 'like_3', 'dislike_3',]\n",
    "'''\n",
    "\n",
    "df = pd.DataFrame(data, columns = NEW_COL)\n",
    "df = df.dropna(axis=0, how='any')"
   ]
  },
  {
   "cell_type": "code",
   "execution_count": 63,
   "metadata": {
    "collapsed": true
   },
   "outputs": [],
   "source": [
    "df = df[df.did_opening_price_increase == 1]"
   ]
  },
  {
   "cell_type": "code",
   "execution_count": 64,
   "metadata": {
    "collapsed": true
   },
   "outputs": [],
   "source": [
    "time_filter = (df['time'].str.startswith(\"2018-02-21\")) | \\\n",
    "              (df['time'].str.startswith(\"2018-02-22\")) | \\\n",
    "              (df['time'].str.startswith(\"2018-02-23\")) | \\\n",
    "              (df['time'].str.startswith(\"2018-02-26\")) \n",
    "        \n",
    "train_df = df[time_filter].reset_index(drop = True)\n",
    "test_df = df[~time_filter].reset_index(drop = True)"
   ]
  },
  {
   "cell_type": "code",
   "execution_count": 65,
   "metadata": {
    "collapsed": true
   },
   "outputs": [],
   "source": [
    "COL_DROP = ['name', 'code', 'time', 'price', 'time_1', 'time_2', 'time_3',\n",
    "            'did_price_increase', 'did_price_033', 'did_price_100', 'did_price_150', \n",
    "            'price_increase', 'did_opening_price_increase']\n",
    "X = df.drop(COL_DROP, axis = 1)\n",
    "y_inc = df['price_increase']\n",
    "y_0 = df['did_price_increase']\n",
    "y_33 = df['did_price_033']\n",
    "y_100 = df['did_price_100']\n",
    "y_150 = df['did_price_150']\n",
    "X_train = train_df.drop(COL_DROP, axis = 1)\n",
    "X_test = test_df.drop(COL_DROP, axis = 1)\n",
    "y_train_in = train_df['price_increase']\n",
    "y_train_0 = train_df['did_price_increase']\n",
    "y_train_33 = train_df['did_price_033']\n",
    "y_train_100 = train_df['did_price_100']\n",
    "y_train_150 = train_df['did_price_150']\n",
    "y_test_in = test_df['price_increase']\n",
    "y_test_0 = test_df['did_price_increase']\n",
    "y_test_33 = test_df['did_price_033']\n",
    "y_test_100 = test_df['did_price_100']\n",
    "y_test_150 = test_df['did_price_150']"
   ]
  },
  {
   "cell_type": "code",
   "execution_count": 49,
   "metadata": {
    "collapsed": true
   },
   "outputs": [],
   "source": [
    "knn = neighbors.KNeighborsClassifier(n_neighbors = 52)\n",
    "y_pred_0 = knn.fit(X_train, y_train_0).predict(X_test)"
   ]
  },
  {
   "cell_type": "code",
   "execution_count": 50,
   "metadata": {},
   "outputs": [
    {
     "data": {
      "text/plain": [
       "array([[1515,   12],\n",
       "       [ 873,   14]], dtype=int64)"
      ]
     },
     "execution_count": 50,
     "metadata": {},
     "output_type": "execute_result"
    }
   ],
   "source": [
    "result_matrix = confusion_matrix(y_test_0, y_pred_0)\n",
    "result_matrix"
   ]
  },
  {
   "cell_type": "code",
   "execution_count": 51,
   "metadata": {},
   "outputs": [
    {
     "name": "stdout",
     "output_type": "stream",
     "text": [
      "             precision    recall  f1-score   support\n",
      "\n",
      "          0       0.63      0.99      0.77      1527\n",
      "          1       0.54      0.02      0.03       887\n",
      "\n",
      "avg / total       0.60      0.63      0.50      2414\n",
      "\n"
     ]
    }
   ],
   "source": [
    "print(classification_report(y_test_0, y_pred_0))"
   ]
  },
  {
   "cell_type": "code",
   "execution_count": 52,
   "metadata": {},
   "outputs": [
    {
     "data": {
      "text/plain": [
       "0.18136878792692307"
      ]
     },
     "execution_count": 52,
     "metadata": {},
     "output_type": "execute_result"
    }
   ],
   "source": [
    "y_port = y_test_in[y_pred_0 == 1]\n",
    "y_port.mean()"
   ]
  },
  {
   "cell_type": "code",
   "execution_count": 53,
   "metadata": {},
   "outputs": [
    {
     "data": {
      "text/plain": [
       "0.18136878792692307"
      ]
     },
     "execution_count": 53,
     "metadata": {},
     "output_type": "execute_result"
    }
   ],
   "source": [
    "y_port.mean()"
   ]
  },
  {
   "cell_type": "code",
   "execution_count": 54,
   "metadata": {},
   "outputs": [
    {
     "data": {
      "text/plain": [
       "-0.028556283185194015"
      ]
     },
     "execution_count": 54,
     "metadata": {},
     "output_type": "execute_result"
    }
   ],
   "source": [
    "y_inc.mean()"
   ]
  },
  {
   "cell_type": "code",
   "execution_count": 66,
   "metadata": {
    "collapsed": true
   },
   "outputs": [],
   "source": [
    "def get_neighbour_mean(num):\n",
    "    \n",
    "    knn = neighbors.KNeighborsClassifier(n_neighbors = num)\n",
    "    y_pred = knn.fit(X_train, y_train_0).predict(X_test)\n",
    "    y_port = y_test_in[y_pred == 1]\n",
    "    rv = y_port.mean()\n",
    "    \n",
    "    return rv    "
   ]
  },
  {
   "cell_type": "code",
   "execution_count": 67,
   "metadata": {
    "collapsed": true
   },
   "outputs": [],
   "source": [
    "def get_best_neighbour(num):\n",
    "    rv_max = 0\n",
    "    max_id = 1\n",
    "    for i in range(1, num):\n",
    "        rv_max = max(get_neighbour_mean(i), rv_max)\n",
    "        if rv_max == get_neighbour_mean(i):\n",
    "            max_id = i\n",
    "    return max_id, rv_max"
   ]
  },
  {
   "cell_type": "code",
   "execution_count": 68,
   "metadata": {},
   "outputs": [
    {
     "data": {
      "text/plain": [
       "(1, 0)"
      ]
     },
     "execution_count": 68,
     "metadata": {},
     "output_type": "execute_result"
    }
   ],
   "source": [
    "get_best_neighbour(100)"
   ]
  }
 ],
 "metadata": {
  "kernelspec": {
   "display_name": "Python 3",
   "language": "python",
   "name": "python3"
  },
  "language_info": {
   "codemirror_mode": {
    "name": "ipython",
    "version": 3
   },
   "file_extension": ".py",
   "mimetype": "text/x-python",
   "name": "python",
   "nbconvert_exporter": "python",
   "pygments_lexer": "ipython3",
   "version": "3.6.2"
  }
 },
 "nbformat": 4,
 "nbformat_minor": 2
}
