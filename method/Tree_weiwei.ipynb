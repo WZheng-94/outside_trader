{
 "cells": [
  {
   "cell_type": "code",
   "execution_count": 91,
   "metadata": {},
   "outputs": [],
   "source": [
    "import numpy as np\n",
    "import pandas as pd\n",
    "\n",
    "from sklearn import svm\n",
    "from sklearn.pipeline import Pipeline\n",
    "\n",
    "from sklearn.metrics import classification_report, mean_squared_error\n",
    "from sklearn.ensemble import RandomForestClassifier, GradientBoostingClassifier, BaggingClassifier"
   ]
  },
  {
   "cell_type": "code",
   "execution_count": 2,
   "metadata": {
    "collapsed": true
   },
   "outputs": [],
   "source": [
    "import json"
   ]
  },
  {
   "cell_type": "code",
   "execution_count": 64,
   "metadata": {},
   "outputs": [],
   "source": [
    "with open(\"the_last_final_data_10min.json\", 'r', encoding='UTF-8') as f:\n",
    "    data = json.load(f)"
   ]
  },
  {
   "cell_type": "code",
   "execution_count": 65,
   "metadata": {
    "collapsed": true
   },
   "outputs": [],
   "source": [
    "NEW_COL = ['name', 'code', 'time', 'price', 'time_1', 'price_1', 'price_dif_1',\n",
    "       'sell_1', 'buy_1', 'volume_1', 'variation_1', 'post_num_1',\n",
    "       'unique_id_1', 'click_1', 'like_1', 'dislike_1', 'time_2', 'price_2',\n",
    "       'price_dif_2', 'sell_2', 'buy_2', 'volume_2', 'variation_2',\n",
    "       'post_num_2', 'unique_id_2', 'click_2', 'like_2', 'dislike_2', 'time_3',\n",
    "       'price_3', 'price_dif_3', 'sell_3', 'buy_3', 'volume_3', 'variation_3',\n",
    "       'post_num_3', 'unique_id_3', 'click_3', 'like_3', 'dislike_3',\n",
    "       'mkt_cap', 'kospi', 'kosdaq', 'trash', 'yesterday_closing_price',\n",
    "       'is_maximum', 'is_minimum', 'price_volatility', 'price_trend',\n",
    "       'average_price_volatility', 'sell_minus_buy_1', 'sell_minus_buy_2',\n",
    "       'sell_minus_buy_3', 'is_price_gap_stable', 'price_gap_volatility',\n",
    "       'is_like_higher', 'volume_trend', 'post_num_trend', 'unique_id_trend',\n",
    "       'click_trend', 'price_increase', 'did_price_increase', 'did_price_033',\n",
    "       'did_price_100', 'did_price_150', 'kospi_ind', 'kosdaq_ind',\n",
    "       'time_slot', 'ko_inter', 'early_mor', 'morning', 'lunch', 'afternoon',\n",
    "       'late', 'mkt_change', 'alpha', 'per_now', 'did_opening_price_increase']"
   ]
  },
  {
   "cell_type": "code",
   "execution_count": 66,
   "metadata": {},
   "outputs": [],
   "source": [
    "df = pd.DataFrame(data, columns = NEW_COL)\n",
    "df = df.dropna(axis=0, how='any')\n",
    "df = df[df.did_opening_price_increase == 1]"
   ]
  },
  {
   "cell_type": "code",
   "execution_count": 67,
   "metadata": {
    "collapsed": true
   },
   "outputs": [],
   "source": [
    "time_filter = (df['time'].str.startswith(\"2018-02-21\")) | \\\n",
    "              (df['time'].str.startswith(\"2018-02-22\")) | \\\n",
    "              (df['time'].str.startswith(\"2018-02-23\")) | \\\n",
    "              (df['time'].str.startswith(\"2018-02-26\")) \n",
    "        \n",
    "train_df = df[time_filter].reset_index(drop = True)\n",
    "test_df = df[~time_filter].reset_index(drop = True)"
   ]
  },
  {
   "cell_type": "code",
   "execution_count": 68,
   "metadata": {
    "collapsed": true
   },
   "outputs": [],
   "source": [
    "COL_DROP = ['name', 'code', 'time', 'price', 'time_1', 'time_2', 'time_3',\n",
    "            'did_price_increase', 'did_price_033', 'did_price_100', 'did_price_150', \n",
    "            'price_increase', 'did_opening_price_increase']\n",
    "X = df.drop(COL_DROP, axis = 1)\n",
    "y_inc = df['price_increase']\n",
    "y_0 = df['did_price_increase']\n",
    "y_33 = df['did_price_033']\n",
    "y_100 = df['did_price_100']\n",
    "y_150 = df['did_price_150']\n",
    "X_train = train_df.drop(COL_DROP, axis = 1)\n",
    "X_test = test_df.drop(COL_DROP, axis = 1)\n",
    "y_train_in = train_df['price_increase']\n",
    "y_train_0 = train_df['did_price_increase']\n",
    "y_train_33 = train_df['did_price_033']\n",
    "y_train_100 = train_df['did_price_100']\n",
    "y_train_150 = train_df['did_price_150']\n",
    "y_test_in = test_df['price_increase']\n",
    "y_test_0 = test_df['did_price_increase']\n",
    "y_test_33 = test_df['did_price_033']\n",
    "y_test_100 = test_df['did_price_100']\n",
    "y_test_150 = test_df['did_price_150']"
   ]
  },
  {
   "cell_type": "markdown",
   "metadata": {},
   "source": [
    "Random Forest"
   ]
  },
  {
   "cell_type": "code",
   "execution_count": 69,
   "metadata": {},
   "outputs": [
    {
     "data": {
      "text/plain": [
       "RandomForestClassifier(bootstrap=True, class_weight=None, criterion='gini',\n",
       "            max_depth=None, max_features=15, max_leaf_nodes=None,\n",
       "            min_impurity_decrease=0.0, min_impurity_split=None,\n",
       "            min_samples_leaf=1, min_samples_split=2,\n",
       "            min_weight_fraction_leaf=0.0, n_estimators=100, n_jobs=1,\n",
       "            oob_score=True, random_state=25, verbose=0, warm_start=False)"
      ]
     },
     "execution_count": 69,
     "metadata": {},
     "output_type": "execute_result"
    }
   ],
   "source": [
    "tree_random = RandomForestClassifier(n_estimators = 100, max_features = 15, \\\n",
    "                                     bootstrap = True, oob_score = True, \n",
    "                                     random_state = 25)\n",
    "tree_random.fit(X_train, y_train_0)"
   ]
  },
  {
   "cell_type": "code",
   "execution_count": 70,
   "metadata": {},
   "outputs": [],
   "source": [
    "y_pred = tree_random.predict(X_test)"
   ]
  },
  {
   "cell_type": "code",
   "execution_count": 71,
   "metadata": {},
   "outputs": [],
   "source": [
    "y_port = y_test_in[y_pred == 1]"
   ]
  },
  {
   "cell_type": "code",
   "execution_count": 72,
   "metadata": {},
   "outputs": [
    {
     "data": {
      "text/plain": [
       "-0.01650359124664549"
      ]
     },
     "execution_count": 72,
     "metadata": {},
     "output_type": "execute_result"
    }
   ],
   "source": [
    "y_test_in.mean()"
   ]
  },
  {
   "cell_type": "code",
   "execution_count": 73,
   "metadata": {},
   "outputs": [
    {
     "data": {
      "text/plain": [
       "0.03668912622635979"
      ]
     },
     "execution_count": 73,
     "metadata": {},
     "output_type": "execute_result"
    }
   ],
   "source": [
    "y_port.mean()"
   ]
  },
  {
   "cell_type": "code",
   "execution_count": 75,
   "metadata": {},
   "outputs": [
    {
     "name": "stdout",
     "output_type": "stream",
     "text": [
      "             precision    recall  f1-score   support\n",
      "\n",
      "          0       0.68      0.85      0.76      1884\n",
      "          1       0.43      0.22      0.29       948\n",
      "\n",
      "avg / total       0.60      0.64      0.60      2832\n",
      "\n"
     ]
    }
   ],
   "source": [
    "print(classification_report(y_test_0, y_pred))"
   ]
  },
  {
   "cell_type": "code",
   "execution_count": 38,
   "metadata": {},
   "outputs": [
    {
     "data": {
      "text/plain": [
       "(11698, 65)"
      ]
     },
     "execution_count": 38,
     "metadata": {},
     "output_type": "execute_result"
    }
   ],
   "source": [
    "X.shape"
   ]
  },
  {
   "cell_type": "code",
   "execution_count": 22,
   "metadata": {},
   "outputs": [],
   "source": [
    "def get_best_feature(num):\n",
    "    rv = 0\n",
    "    f_num = 1\n",
    "    for i in range(1, num):\n",
    "        tree_random = RandomForestClassifier(n_estimators = 100, \\\n",
    "                      max_features = i, bootstrap = True,\\\n",
    "                      oob_score = True, random_state = 0)\n",
    "        tree_random.fit(X_train, y_train_0)\n",
    "        y_pred = tree_random.predict(X_test)\n",
    "        y_port = y_test_in[y_pred == 1]\n",
    "        avg = y_port.mean()\n",
    "        if y_port.mean() > rv:\n",
    "            f_num = i\n",
    "            rv = avg\n",
    "        \n",
    "    return f_num"
   ]
  },
  {
   "cell_type": "code",
   "execution_count": 23,
   "metadata": {},
   "outputs": [
    {
     "name": "stdout",
     "output_type": "stream",
     "text": [
      "1\n",
      "2\n",
      "2\n",
      "2\n",
      "2\n",
      "2\n",
      "2\n",
      "2\n",
      "2\n",
      "2\n",
      "2\n",
      "2\n",
      "2\n",
      "2\n",
      "15\n",
      "15\n",
      "15\n",
      "15\n",
      "15\n",
      "15\n",
      "15\n",
      "15\n",
      "15\n",
      "15\n",
      "15\n",
      "15\n",
      "15\n",
      "15\n",
      "15\n",
      "15\n",
      "15\n",
      "15\n",
      "15\n",
      "15\n",
      "15\n",
      "15\n",
      "15\n",
      "15\n",
      "15\n",
      "15\n",
      "15\n",
      "15\n",
      "15\n",
      "15\n",
      "15\n",
      "15\n",
      "15\n",
      "15\n",
      "15\n",
      "15\n",
      "15\n",
      "15\n",
      "15\n",
      "15\n",
      "15\n",
      "15\n",
      "15\n",
      "15\n",
      "15\n",
      "15\n",
      "15\n",
      "15\n",
      "15\n",
      "15\n",
      "15\n"
     ]
    },
    {
     "data": {
      "text/plain": [
       "15"
      ]
     },
     "execution_count": 23,
     "metadata": {},
     "output_type": "execute_result"
    }
   ],
   "source": [
    "get_best_feature(66)"
   ]
  },
  {
   "cell_type": "markdown",
   "metadata": {},
   "source": [
    "Bagging"
   ]
  },
  {
   "cell_type": "code",
   "execution_count": 94,
   "metadata": {},
   "outputs": [
    {
     "data": {
      "text/plain": [
       "BaggingClassifier(base_estimator=None, bootstrap=True,\n",
       "         bootstrap_features=False, max_features=15, max_samples=1.0,\n",
       "         n_estimators=100, n_jobs=1, oob_score=True, random_state=0,\n",
       "         verbose=0, warm_start=False)"
      ]
     },
     "execution_count": 94,
     "metadata": {},
     "output_type": "execute_result"
    }
   ],
   "source": [
    "bag_tree = BaggingClassifier(n_estimators = 100, max_features = 15, bootstrap = True,\\\n",
    "                             oob_score = True, random_state = 0)\n",
    "bag_tree.fit(X_train, y_train_0)"
   ]
  },
  {
   "cell_type": "code",
   "execution_count": 95,
   "metadata": {},
   "outputs": [
    {
     "data": {
      "text/plain": [
       "0.08222259882460935"
      ]
     },
     "execution_count": 95,
     "metadata": {},
     "output_type": "execute_result"
    }
   ],
   "source": [
    "y_pred = regr.predict(X_test)\n",
    "y_port = y_test_in[y_pred == 1]\n",
    "y_port.mean()"
   ]
  },
  {
   "cell_type": "code",
   "execution_count": 87,
   "metadata": {},
   "outputs": [
    {
     "data": {
      "text/plain": [
       "GradientBoostingClassifier(criterion='friedman_mse', init=None,\n",
       "              learning_rate=0.01, loss='deviance', max_depth=3,\n",
       "              max_features=None, max_leaf_nodes=None,\n",
       "              min_impurity_decrease=0.0, min_impurity_split=None,\n",
       "              min_samples_leaf=1, min_samples_split=2,\n",
       "              min_weight_fraction_leaf=0.0, n_estimators=500,\n",
       "              presort='auto', random_state=1, subsample=1.0, verbose=0,\n",
       "              warm_start=False)"
      ]
     },
     "execution_count": 87,
     "metadata": {},
     "output_type": "execute_result"
    }
   ],
   "source": [
    "regr = GradientBoostingClassifier(n_estimators = 500, learning_rate = 0.01, random_state=1)\n",
    "regr.fit(X_train, y_train_0)"
   ]
  },
  {
   "cell_type": "code",
   "execution_count": 88,
   "metadata": {},
   "outputs": [],
   "source": [
    "y_pred = regr.predict(X_test)\n",
    "y_port = y_test_in[y_pred == 1]"
   ]
  },
  {
   "cell_type": "code",
   "execution_count": 89,
   "metadata": {},
   "outputs": [
    {
     "data": {
      "text/plain": [
       "0.08222259882460935"
      ]
     },
     "execution_count": 89,
     "metadata": {},
     "output_type": "execute_result"
    }
   ],
   "source": [
    "y_port.mean()"
   ]
  }
 ],
 "metadata": {
  "kernelspec": {
   "display_name": "Python 3",
   "language": "python",
   "name": "python3"
  },
  "language_info": {
   "codemirror_mode": {
    "name": "ipython",
    "version": 3
   },
   "file_extension": ".py",
   "mimetype": "text/x-python",
   "name": "python",
   "nbconvert_exporter": "python",
   "pygments_lexer": "ipython3",
   "version": "3.6.2"
  }
 },
 "nbformat": 4,
 "nbformat_minor": 2
}
