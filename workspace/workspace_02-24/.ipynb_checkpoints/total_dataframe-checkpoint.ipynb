{
 "cells": [
  {
   "cell_type": "code",
   "execution_count": 1,
   "metadata": {
    "collapsed": true
   },
   "outputs": [],
   "source": [
    "import pandas as pd\n",
    "import numpy as np\n",
    "import json\n",
    "import re"
   ]
  },
  {
   "cell_type": "code",
   "execution_count": 2,
   "metadata": {
    "collapsed": true
   },
   "outputs": [],
   "source": [
    "def open_files(date):\n",
    "    focus_text = \"2018-02-\" + date + \"_focus/2018-02-\" + \\\n",
    "                 date + \"_focus_group.json\"\n",
    "    krx_text = \"krx_code.json\"\n",
    "    increase_text = \"2018-02-\" + date + \"_opening_increase.json\"\n",
    "    price_text = \"2018-02-\" + date + \"_price_and_everything.json\"\n",
    "    with open(focus_text, 'r', encoding='UTF-8') as focus_group:\n",
    "        focus = json.load(focus_group)\n",
    "    with open(krx_text, 'r', encoding='UTF-8') as krx:\n",
    "        krx_code = json.load(krx)\n",
    "    with open(increase_text, 'r', encoding='UTF-8') as oi:\n",
    "        INCREASE = json.load(oi)\n",
    "    with open(price_text, 'r', encoding='UTF-8') as oi:\n",
    "        price = json.load(oi)\n",
    "    \n",
    "    return focus, krx_code, INCREASE, price   "
   ]
  },
  {
   "cell_type": "code",
   "execution_count": 3,
   "metadata": {
    "collapsed": true
   },
   "outputs": [],
   "source": [
    "def get_time_disc(date):\n",
    "    \n",
    "    time = []\n",
    "    prefix = \"2018-02-\" + date + \"_focus/discussion_2018-02-\" + date\n",
    "    for hour in range(9,16):\n",
    "        for minute in range(0, 6):\n",
    "            time.append(prefix + \" \" + ((\"0\" + str(hour)) if hour <= 9 else str(hour))+ \\\n",
    "                        \":\" + str(minute) + \"0.json\")\n",
    "    \n",
    "    time = time[1:40]\n",
    "    \n",
    "    return time"
   ]
  },
  {
   "cell_type": "code",
   "execution_count": 4,
   "metadata": {
    "collapsed": true
   },
   "outputs": [],
   "source": [
    "def df_list_dis(date):\n",
    "    df_list = []\n",
    "    time = get_time_disc(date)\n",
    "    for x in time:\n",
    "        with open(x, 'r', encoding='UTF-8') as f:\n",
    "            discussion = json.load(f)        \n",
    "            discuss_df = pd.DataFrame(discussion, columns = [\"post_num\", \\\n",
    "                                \"unique_id\", \"click\", \"like\", \"dislike\", \n",
    "                                \"name\", \"time\"])\n",
    "            reset_col = [\"name\", \"time\", \"post_num\", \"unique_id\", \"click\", \\\n",
    "                         \"like\", \"dislike\"]\n",
    "            discuss_df = discuss_df[reset_col]\n",
    "            df_list.append(discuss_df)\n",
    "    return df_list\n",
    "    "
   ]
  },
  {
   "cell_type": "code",
   "execution_count": 5,
   "metadata": {
    "collapsed": true
   },
   "outputs": [],
   "source": [
    "def list_to_df(date, df_list, column_names, key_list):\n",
    "    total = pd.DataFrame(columns=column_names)\n",
    "    for ind, df in enumerate(df_list):\n",
    "        if ((ind + 1) % 3  == 0) and (ind != 2):\n",
    "            df_total = df.merge(df_list[ind - 5], on = \\\n",
    "                                key_list).merge(df_list[ind - 4], \\\n",
    "                                on = key_list).merge(df_list[ind - 3], on = key_list)\n",
    "            df_total.columns = column_names\n",
    "            total = pd.concat([total, df_total], axis = 0)\n",
    "            total = total[total[\"name\"].isin(INCREASE)]   \n",
    "    \n",
    "    return total    "
   ]
  },
  {
   "cell_type": "code",
   "execution_count": 6,
   "metadata": {
    "collapsed": true,
    "scrolled": true
   },
   "outputs": [],
   "source": [
    "COLUMN_DISC =[\"name\", \"time\", \"post_num\", \"unique_id\", \"click\", \\\n",
    "              \"like\", \"dislike\", \"time_1\", \"post_num_1\", \"unique_id_1\", \"click_1\", \\\n",
    "              \"like_1\", \"dislike_1\", \"time_2\", \"post_num_2\", \"unique_id_2\", \"click_2\", \\\n",
    "              \"like_2\", \"dislike_2\", \"time_3\", \"post_num_3\", \"unique_id_3\", \"click_3\", \\\n",
    "              \"like_3\", \"dislike_3\"]\n",
    "\n",
    "def get_discuss_df(date):\n",
    "    discussion_list = df_list_dis(date)\n",
    "    discuss_df = list_to_df(date, discussion_list, COLUMN_DISC, \n",
    "                            ['name']).reset_index().drop([\"index\"], axis = 1)\n",
    "    return discuss_df"
   ]
  },
  {
   "cell_type": "code",
   "execution_count": 7,
   "metadata": {
    "collapsed": true
   },
   "outputs": [],
   "source": [
    "def df_list_price(date):\n",
    "    price_df = pd.DataFrame(price, columns = [\"index\", \"code\", \"name\", \"time\", \"price\", \\\n",
    "                                         \"price_dif\", \"sell\", \"buy\", \"volume\", \"variation\"])\n",
    "    price_df = price_df[[\"code\", \"name\", \"time\", \"price\", \\\n",
    "                    \"price_dif\", \"sell\", \"buy\", \"volume\", \"variation\"]][1:]\n",
    "    text = \"2018-02-\" + date + \" 09:00\"\n",
    "    price_df = price_df[price_df[\"time\"] != text]\n",
    "    time_list = price_df['time'].unique().tolist()\n",
    "    price_df_list = []\n",
    "    for time in time_list:\n",
    "        df = price_df[price_df[\"time\"] == time]\n",
    "        df = df[[\"code\", \"name\", \"time\", \"price\", \\\n",
    "                \"price_dif\", \"sell\", \"buy\", \"volume\", \"variation\"]]\n",
    "        price_df_list.append(df)\n",
    "        \n",
    "    return price_df_list"
   ]
  },
  {
   "cell_type": "code",
   "execution_count": 8,
   "metadata": {
    "collapsed": true
   },
   "outputs": [],
   "source": [
    "COLUMN_PRICE=[\"code\", \"name\", \"time\", \"price\", \"price_dif\", \"sell\", \n",
    "              \"buy\", \"volume\", \"variation\", \"time_1\", \"price_1\", \n",
    "              \"price_dif_1\", \"sell_1\", \"buy_1\", \"volume_1\", \"variation_1\",\n",
    "              \"time_2\", \"price_2\", \"price_dif_2\", \"sell_2\", \"buy_2\", \n",
    "              \"volume_2\", \"variation_2\", \"time_3\", \"price_3\", \n",
    "              \"price_dif_3\", \"sell_3\", \"buy_3\", \"volume_3\", \"variation_3\"]\n",
    "\n",
    "def get_price_df(date):\n",
    "    price_df_list = df_list_price(date)\n",
    "    price_df = list_to_df(date, price_df_list, COLUMN_PRICE, \\\n",
    "                          ['code', 'name']).reset_index().drop([\"index\"], axis = 1)\n",
    "    \n",
    "    return price_df"
   ]
  },
  {
   "cell_type": "code",
   "execution_count": 9,
   "metadata": {
    "collapsed": true
   },
   "outputs": [],
   "source": [
    "COLUMN_TOTAL = ['name', 'code', 'time', 'price', 'time_1', \"price_1\", \\\n",
    "                \"price_dif_1\", \"sell_1\", \"buy_1\", \"volume_1\", \"variation_1\", \\\n",
    "                'post_num_1', 'unique_id_1', 'click_1', 'like_1', 'dislike_1', \\\n",
    "                'time_2', 'price_2', \"price_dif_2\", \"sell_2\", \"buy_2\", \\\n",
    "                \"volume_2\", \"variation_2\", 'post_num_2', 'unique_id_2', 'click_2', \\\n",
    "                'like_2', 'dislike_2', 'time_3', 'price_3', \"price_dif_3\", \\\n",
    "                \"sell_3\", \"buy_3\", \"volume_3\", \"variation_3\", 'post_num_3', \\\n",
    "                'unique_id_3', 'click_3', 'like_3', 'dislike_3']\n",
    "\n",
    "def get_total_df(date):\n",
    "    price_df = get_price_df(date)\n",
    "    discuss_df = get_discuss_df(date)\n",
    "    total_df = pd.merge(price_df, discuss_df, on = ['name', \\\n",
    "                                                    'time', 'time_1', 'time_2', 'time_3'])\n",
    "    total_df = total_df[COLUMN_TOTAL]\n",
    "    \n",
    "    return total_df"
   ]
  },
  {
   "cell_type": "code",
   "execution_count": 10,
   "metadata": {
    "collapsed": true
   },
   "outputs": [],
   "source": [
    "import numpy as np\n",
    "import re\n",
    "\n",
    "with open(\"company_size.json\", 'r', encoding='UTF-8') as f:\n",
    "    company_size = json.load(f)\n",
    "\n",
    "company_df = pd.DataFrame({\"company_name\": np.zeros(0), \\\n",
    "                           \"code\": np.zeros(0), \"market\": np.zeros(0), \n",
    "                          \"company_size\": np.zeros(0)})\n",
    "\n",
    "company_df = pd.DataFrame(company_size, columns = [\"name\", \"code\", \"market\", \"size\"])\n",
    "\n",
    "KOSPI = []\n",
    "KOSDAQ = []\n",
    "TRASH = []\n",
    "MKT_CAP = {}\n",
    "\n",
    "for idx, row in company_df.iterrows():\n",
    "    if re.sub('[0-9 ,위]', '', row[\"market\"]) == \"코스피\":\n",
    "        KOSPI.append(row[\"code\"])\n",
    "    elif re.sub('[0-9 ,위]', '', row[\"market\"]) == \"코스닥\":\n",
    "        KOSDAQ.append(row[\"code\"])\n",
    "    else:\n",
    "        TRASH.append(row[\"code\"])\n",
    "    \n",
    "    MKT_CAP[row[\"code\"]] = int(re.sub('[조억원,]', '', row[\"size\"]))"
   ]
  },
  {
   "cell_type": "code",
   "execution_count": 11,
   "metadata": {
    "collapsed": true
   },
   "outputs": [],
   "source": [
    "def add_company(date):\n",
    "    \n",
    "    total = get_total_df(date)\n",
    "    total[\"mkt_cap\"] = np.nan\n",
    "    total[\"kospi\"] = np.nan\n",
    "    total[\"kosdaq\"] = np.nan\n",
    "    total[\"trash\"] = np.nan\n",
    "    \n",
    "    for index, row in total.iterrows():\n",
    "        mkt_cap = MKT_CAP[row[\"code\"]]\n",
    "        if row[\"code\"] in KOSPI:\n",
    "            kospi = 1\n",
    "        else:\n",
    "            kospi = 0\n",
    "\n",
    "        if row[\"code\"] in KOSDAQ:\n",
    "            kosdaq = 1\n",
    "        else:\n",
    "            kosdaq = 0\n",
    "\n",
    "        if row[\"code\"] in TRASH:\n",
    "            trash = 1\n",
    "        else:\n",
    "            trash = 0\n",
    "        total.set_value(index,'mkt_cap', mkt_cap)\n",
    "        total.set_value(index,'kospi', kospi)\n",
    "        total.set_value(index,'kosdaq', kosdaq)\n",
    "        total.set_value(index,'trash', trash)  \n",
    "    \n",
    "    return total\n"
   ]
  },
  {
   "cell_type": "code",
   "execution_count": 12,
   "metadata": {
    "collapsed": true
   },
   "outputs": [],
   "source": [
    "def transform_df(date):\n",
    "    \n",
    "    total = add_company(date)   \n",
    "    var_to_transform = ['price', 'price_1', 'price_dif_1', 'sell_1', \n",
    "                        'buy_1', 'volume_1', 'variation_1', 'price_2', \n",
    "                        'price_dif_2', 'sell_2', 'buy_2', 'volume_2', \n",
    "                        'variation_2', 'price_3', 'price_dif_3', 'sell_3', 'buy_3', \n",
    "                        'volume_3', 'variation_3']\n",
    "    for index, row in total.iterrows():\n",
    "        for var in var_to_transform:\n",
    "            if isinstance(row[var], str):\n",
    "\n",
    "                data = row[var].split(\",\")\n",
    "                value = ''.join(data)\n",
    "                value = int(value)\n",
    "                total.set_value(index, var, value)\n",
    "    return total\n",
    "    "
   ]
  },
  {
   "cell_type": "code",
   "execution_count": 13,
   "metadata": {
    "collapsed": true
   },
   "outputs": [],
   "source": [
    "focus, krx_code, INCREASE, price = open_files('14')\n",
    "total_14 = transform_df('14')\n",
    "focus, krx_code, INCREASE, price = open_files('20')\n",
    "total_20 = transform_df('20')\n",
    "focus, krx_code, INCREASE, price = open_files('21')\n",
    "total_21 = transform_df('21')\n",
    "focus, krx_code, INCREASE, price = open_files('22')\n",
    "total_22 = transform_df('22')\n",
    "focus, krx_code, INCREASE, price = open_files('23')\n",
    "total_23 = transform_df('23')"
   ]
  },
  {
   "cell_type": "code",
   "execution_count": 14,
   "metadata": {
    "collapsed": true
   },
   "outputs": [],
   "source": [
    "total_df = pd.concat([total_14, total_20, total_21, total_22, total_23])"
   ]
  },
  {
   "cell_type": "code",
   "execution_count": 15,
   "metadata": {},
   "outputs": [],
   "source": [
    "total_df = total_df.reset_index().drop([\"index\"], axis = 1)"
   ]
  },
  {
   "cell_type": "code",
   "execution_count": 16,
   "metadata": {
    "collapsed": true
   },
   "outputs": [],
   "source": [
    "#total_df.to_json('clean_data.json', orient='values')"
   ]
  },
  {
   "cell_type": "code",
   "execution_count": 17,
   "metadata": {
    "collapsed": true
   },
   "outputs": [],
   "source": [
    "total_df[\"yesterday_closing_price\"] = total_df[\"price_1\"] - total_df[\"price_dif_1\"]"
   ]
  },
  {
   "cell_type": "code",
   "execution_count": 18,
   "metadata": {},
   "outputs": [],
   "source": [
    "total_df[\"is_maximum\"] = (((total_df[\"price_1\"] / total_df[\"yesterday_closing_price\"]) - 1) * 100 > 29.5) | \\\n",
    "(((total_df[\"price_2\"] / total_df[\"yesterday_closing_price\"]) - 1) * 100 > 29.5) | \\\n",
    "(((total_df[\"price_3\"] / total_df[\"yesterday_closing_price\"]) - 1) * 100 > 29.5)\n",
    "total_df[\"is_maximum\"] = total_df[\"is_maximum\"].astype(int)"
   ]
  },
  {
   "cell_type": "code",
   "execution_count": 19,
   "metadata": {
    "collapsed": true
   },
   "outputs": [],
   "source": [
    "total_df[\"is_minimum\"] = (((total_df[\"price_1\"] / total_df[\"yesterday_closing_price\"]) - 1) * 100 < -29.5) | \\\n",
    "(((total_df[\"price_2\"] / total_df[\"yesterday_closing_price\"]) - 1) * 100 < -29.5) | \\\n",
    "(((total_df[\"price_3\"] / total_df[\"yesterday_closing_price\"]) - 1) * 100 < -29.5)\n",
    "total_df[\"is_minimum\"] = total_df[\"is_maximum\"].astype(int)"
   ]
  },
  {
   "cell_type": "code",
   "execution_count": 20,
   "metadata": {
    "collapsed": true
   },
   "outputs": [],
   "source": [
    "total_df[\"price_volatility\"] = (((total_df[[\"price_1\", \"price_2\", \"price_3\"]].max(axis=1)) / (total_df[[\"price_1\", \"price_2\", \"price_3\"]].min(axis=1))) - 1) * 100"
   ]
  },
  {
   "cell_type": "code",
   "execution_count": 21,
   "metadata": {
    "collapsed": true
   },
   "outputs": [],
   "source": [
    "total_df[\"price_trend\"] = (((total_df[\"price_1\"] - total_df[\"price_2\"]) < 0).astype(int) + ((total_df[\"price_2\"] - total_df[\"price_3\"]) < 0).astype(int)) - (((total_df[\"price_1\"] - total_df[\"price_2\"]) > 0).astype(int) + ((total_df[\"price_2\"] - total_df[\"price_3\"]) > 0).astype(int))"
   ]
  },
  {
   "cell_type": "code",
   "execution_count": 22,
   "metadata": {
    "collapsed": true
   },
   "outputs": [],
   "source": [
    "total_df[\"average_price_volatility\"] = total_df[\"price_trend\"] * total_df[\"price_volatility\"] / 2"
   ]
  },
  {
   "cell_type": "code",
   "execution_count": 23,
   "metadata": {
    "collapsed": true
   },
   "outputs": [],
   "source": [
    "total_df[\"sell_minus_buy_1\"] = total_df[\"sell_1\"] - total_df[\"buy_1\"]"
   ]
  },
  {
   "cell_type": "code",
   "execution_count": 24,
   "metadata": {
    "collapsed": true
   },
   "outputs": [],
   "source": [
    "total_df[\"sell_minus_buy_2\"] = total_df[\"sell_2\"] - total_df[\"buy_2\"]"
   ]
  },
  {
   "cell_type": "code",
   "execution_count": 25,
   "metadata": {
    "collapsed": true
   },
   "outputs": [],
   "source": [
    "total_df[\"sell_minus_buy_3\"] = total_df[\"sell_3\"] - total_df[\"buy_3\"]"
   ]
  },
  {
   "cell_type": "code",
   "execution_count": 26,
   "metadata": {
    "collapsed": true
   },
   "outputs": [],
   "source": [
    "total_df[\"is_price_gap_stable\"] = ((total_df[\"sell_minus_buy_1\"] == total_df[\"sell_minus_buy_2\"]) & (total_df[\"sell_minus_buy_2\"] == total_df[\"sell_minus_buy_3\"])).astype(int)"
   ]
  },
  {
   "cell_type": "code",
   "execution_count": 27,
   "metadata": {},
   "outputs": [],
   "source": [
    "total_df[\"price_gap_volatility\"] = (((total_df[[\"sell_minus_buy_1\", \"sell_minus_buy_2\", \"sell_minus_buy_3\"]].max(axis=1)) / (total_df[[\"sell_minus_buy_1\", \"sell_minus_buy_2\", \"sell_minus_buy_3\"]].min(axis=1)))) - 1"
   ]
  },
  {
   "cell_type": "code",
   "execution_count": 28,
   "metadata": {
    "collapsed": true
   },
   "outputs": [],
   "source": [
    "total_df[\"is_like_higher\"] = (total_df[\"like_3\"] > total_df[\"dislike_3\"]).astype(int)"
   ]
  },
  {
   "cell_type": "code",
   "execution_count": 29,
   "metadata": {},
   "outputs": [],
   "source": [
    "total_df[\"volume_trend\"] = ((((total_df[\"volume_3\"]) - (total_df[\"volume_2\"] * 1+1e-3)) \\\n",
    " / ((total_df[\"volume_2\"]) - (total_df[\"volume_1\"] * 1-1e-4))) - 1) * 100"
   ]
  },
  {
   "cell_type": "code",
   "execution_count": 30,
   "metadata": {
    "collapsed": true
   },
   "outputs": [],
   "source": [
    "total_df[\"post_num_trend\"] = ((((total_df[\"post_num_3\"]) - (total_df[\"post_num_2\"] * 1+1e-3)) \\\n",
    " / ((total_df[\"post_num_2\"]) - (total_df[\"post_num_1\"] * 1-1e-4))) - 1) * 100"
   ]
  },
  {
   "cell_type": "code",
   "execution_count": 31,
   "metadata": {
    "collapsed": true
   },
   "outputs": [],
   "source": [
    "total_df[\"unique_id_trend\"] = ((((total_df[\"unique_id_3\"]) - (total_df[\"unique_id_2\"] * 1+1e-3)) \\\n",
    " / ((total_df[\"unique_id_2\"]) - (total_df[\"unique_id_1\"] * 1-1e-4))) - 1) * 100"
   ]
  },
  {
   "cell_type": "code",
   "execution_count": 32,
   "metadata": {
    "collapsed": true
   },
   "outputs": [],
   "source": [
    "total_df[\"click_trend\"] = ((((total_df[\"click_3\"]) - (total_df[\"click_2\"] * 1+1e-3)) \\\n",
    " / ((total_df[\"click_2\"]) - (total_df[\"click_1\"] * 1-1e-4))) - 1) * 100"
   ]
  },
  {
   "cell_type": "code",
   "execution_count": 33,
   "metadata": {},
   "outputs": [],
   "source": [
    "total_df[\"price_increase\"] = ((total_df[\"price\"] / total_df[\"price_3\"]) - 1) * 100"
   ]
  },
  {
   "cell_type": "code",
   "execution_count": 34,
   "metadata": {},
   "outputs": [],
   "source": [
    "total_df[\"did_price_increase\"] = (total_df[\"price_increase\"] > 0).astype(int)"
   ]
  },
  {
   "cell_type": "code",
   "execution_count": 35,
   "metadata": {},
   "outputs": [
    {
     "data": {
      "text/plain": [
       "name                                    호텔신라\n",
       "code                                  008770\n",
       "time                        2018-02-14 10:00\n",
       "price                                  83400\n",
       "time_1                      2018-02-14 09:10\n",
       "price_1                                84700\n",
       "price_dif_1                             1800\n",
       "sell_1                                 84800\n",
       "buy_1                                  84700\n",
       "volume_1                               29336\n",
       "variation_1                              477\n",
       "post_num_1                                 4\n",
       "unique_id_1                                3\n",
       "click_1                                  260\n",
       "like_1                                     5\n",
       "dislike_1                                  3\n",
       "time_2                      2018-02-14 09:20\n",
       "price_2                                84400\n",
       "price_dif_2                             1500\n",
       "sell_2                                 84400\n",
       "buy_2                                  84300\n",
       "volume_2                               42458\n",
       "variation_2                              410\n",
       "post_num_2                                 5\n",
       "unique_id_2                                4\n",
       "click_2                                  459\n",
       "like_2                                     7\n",
       "dislike_2                                  4\n",
       "time_3                      2018-02-14 09:30\n",
       "price_3                                83900\n",
       "                                  ...       \n",
       "buy_3                                  83900\n",
       "volume_3                               65138\n",
       "variation_3                             2036\n",
       "post_num_3                                 5\n",
       "unique_id_3                                4\n",
       "click_3                                  571\n",
       "like_3                                     7\n",
       "dislike_3                                  4\n",
       "mkt_cap                                32419\n",
       "kospi                                      1\n",
       "kosdaq                                     0\n",
       "trash                                      0\n",
       "yesterday_closing_price                82900\n",
       "is_maximum                                 0\n",
       "is_minimum                                 0\n",
       "price_volatility                    0.953516\n",
       "price_trend                               -2\n",
       "average_price_volatility           -0.953516\n",
       "sell_minus_buy_1                         100\n",
       "sell_minus_buy_2                         100\n",
       "sell_minus_buy_3                         100\n",
       "is_price_gap_stable                        1\n",
       "price_gap_volatility                       0\n",
       "is_like_higher                             1\n",
       "volume_trend                         72.8395\n",
       "post_num_trend                        -100.1\n",
       "unique_id_trend                       -100.1\n",
       "click_trend                         -43.7191\n",
       "price_increase                     -0.595948\n",
       "did_price_increase                         0\n",
       "Name: 0, Length: 62, dtype: object"
      ]
     },
     "execution_count": 35,
     "metadata": {},
     "output_type": "execute_result"
    }
   ],
   "source": [
    "total_df.iloc[0]"
   ]
  },
  {
   "cell_type": "code",
   "execution_count": null,
   "metadata": {
    "collapsed": true
   },
   "outputs": [],
   "source": []
  }
 ],
 "metadata": {
  "kernelspec": {
   "display_name": "Python 3",
   "language": "python",
   "name": "python3"
  },
  "language_info": {
   "codemirror_mode": {
    "name": "ipython",
    "version": 3
   },
   "file_extension": ".py",
   "mimetype": "text/x-python",
   "name": "python",
   "nbconvert_exporter": "python",
   "pygments_lexer": "ipython3",
   "version": "3.6.3"
  }
 },
 "nbformat": 4,
 "nbformat_minor": 2
}
