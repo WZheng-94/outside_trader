{
 "cells": [
  {
   "cell_type": "code",
   "execution_count": 16,
   "metadata": {},
   "outputs": [],
   "source": [
    "import pandas as pd\n",
    "import numpy as np\n",
    "import matplotlib.pyplot as plt\n",
    "import seaborn as sns\n",
    "\n",
    "from sklearn.decomposition import PCA\n",
    "from sklearn.model_selection import KFold, cross_val_score\n",
    "from sklearn.metrics import mean_squared_error\n",
    "from sklearn.cross_decomposition import PLSRegression\n",
    "from sklearn.linear_model import LinearRegression\n",
    "\n",
    "from sklearn.linear_model import LogisticRegression\n",
    "from sklearn.cross_validation import train_test_split\n",
    "from sklearn import metrics \n",
    "from sklearn.metrics import classification_report\n",
    "from pylab import rcParams\n",
    "from sklearn.preprocessing import scale \n",
    "\n",
    "%matplotlib inline\n",
    "plt.style.use('seaborn-white')"
   ]
  },
  {
   "cell_type": "code",
   "execution_count": 3,
   "metadata": {
    "collapsed": true
   },
   "outputs": [],
   "source": [
    "import json\n",
    "with open(\"first_data_24.json\", 'r', encoding='UTF-8') as f:\n",
    "    data = json.load(f)"
   ]
  },
  {
   "cell_type": "code",
   "execution_count": 6,
   "metadata": {
    "collapsed": true
   },
   "outputs": [],
   "source": [
    "NEW_COL = ['name', 'code', 'time', 'price', 'time_1', 'price_1', 'price_dif_1',\n",
    "       'sell_1', 'buy_1', 'volume_1', 'variation_1', 'post_num_1',\n",
    "       'unique_id_1', 'click_1', 'like_1', 'dislike_1', 'time_2', 'price_2',\n",
    "       'price_dif_2', 'sell_2', 'buy_2', 'volume_2', 'variation_2',\n",
    "       'post_num_2', 'unique_id_2', 'click_2', 'like_2', 'dislike_2', 'time_3',\n",
    "       'price_3', 'price_dif_3', 'sell_3', 'buy_3', 'volume_3', 'variation_3',\n",
    "       'post_num_3', 'unique_id_3', 'click_3', 'like_3', 'dislike_3',\n",
    "       'mkt_cap', 'kospi', 'kosdaq', 'trash', 'yesterday_closing_price',\n",
    "       'is_maximum', 'is_minimum', 'price_volatility', 'price_trend',\n",
    "       'average_price_volatility', 'sell_minus_buy_1', 'sell_minus_buy_2',\n",
    "       'sell_minus_buy_3', 'is_price_gap_stable', 'price_gap_volatility',\n",
    "       'is_like_higher', 'volume_trend', 'post_num_trend', 'unique_id_trend',\n",
    "       'click_trend', 'price_increase', 'did_price_increase']\n",
    "\n",
    "OLD_COL = ['name', 'code', 'time', 'price', 'time_1', 'price_1', 'price_dif_1',\n",
    "       'sell_1', 'buy_1', 'volume_1', 'variation_1', 'post_num_1',\n",
    "       'unique_id_1', 'click_1', 'like_1', 'dislike_1', 'time_2', 'price_2',\n",
    "       'price_dif_2', 'sell_2', 'buy_2', 'volume_2', 'variation_2',\n",
    "       'post_num_2', 'unique_id_2', 'click_2', 'like_2', 'dislike_2', 'time_3',\n",
    "       'price_3', 'price_dif_3', 'sell_3', 'buy_3', 'volume_3', 'variation_3',\n",
    "       'post_num_3', 'unique_id_3', 'click_3', 'like_3', 'dislike_3',]\n",
    "\n",
    "df = pd.DataFrame(data, columns = NEW_COL)"
   ]
  },
  {
   "cell_type": "code",
   "execution_count": 7,
   "metadata": {},
   "outputs": [],
   "source": [
    "time_filter = (df['time'].str.startswith(\"2018-02-14\")) | \\\n",
    "              (df['time'].str.startswith(\"2018-02-20\")) | \\\n",
    "              (df['time'].str.startswith(\"2018-02-21\"))\n",
    "train_df = df[time_filter].reset_index()\n",
    "test_df = df[~time_filter].reset_index()"
   ]
  },
  {
   "cell_type": "code",
   "execution_count": 8,
   "metadata": {
    "collapsed": true
   },
   "outputs": [],
   "source": [
    "X = df[df.columns.difference(OLD_COL)]\n",
    "y_1 = df['price_increase']\n",
    "y_2 = df['did_price_increase']\n",
    "X_train = train_df[train_df.columns.difference(OLD_COL)]\n",
    "X_test = test_df[test_df.columns.difference(OLD_COL)]\n",
    "y_train_1 = train_df['price_increase']\n",
    "y_train_2 = train_df['did_price_increase']\n",
    "y_test_1 = test_df['price_increase']\n",
    "y_test_2 = test_df['did_price_increase']"
   ]
  },
  {
   "cell_type": "markdown",
   "metadata": {},
   "source": [
    "Principal component info"
   ]
  },
  {
   "cell_type": "code",
   "execution_count": 9,
   "metadata": {
    "collapsed": true
   },
   "outputs": [],
   "source": [
    "pca = PCA()\n",
    "X_reduced = pca.fit_transform(scale(X)) #standardize x"
   ]
  },
  {
   "cell_type": "code",
   "execution_count": 10,
   "metadata": {},
   "outputs": [
    {
     "data": {
      "text/plain": [
       "array([ 21.29,  31.96,  41.65,  51.12,  59.42,  66.39,  71.73,  76.9 ,\n",
       "        81.8 ,  86.15,  89.95,  91.95,  93.7 ,  95.33,  96.86,  98.13,\n",
       "        99.39,  99.98,  99.98,  99.98,  99.98,  99.98])"
      ]
     },
     "execution_count": 10,
     "metadata": {},
     "output_type": "execute_result"
    }
   ],
   "source": [
    "# Variance explained by each principal component\n",
    "np.cumsum(np.round(pca.explained_variance_ratio_, decimals=4)*100)"
   ]
  },
  {
   "cell_type": "code",
   "execution_count": 11,
   "metadata": {},
   "outputs": [
    {
     "data": {
      "text/plain": [
       "array([-0.59594756, -0.42372881,  0.72639225, ...,  0.71090047,\n",
       "       -1.9138756 ,  0.2247191 ])"
      ]
     },
     "execution_count": 11,
     "metadata": {},
     "output_type": "execute_result"
    }
   ],
   "source": [
    "y_1.ravel()"
   ]
  },
  {
   "cell_type": "code",
   "execution_count": 12,
   "metadata": {},
   "outputs": [
    {
     "data": {
      "text/plain": [
       "array([0, 0, 1, ..., 1, 0, 1], dtype=int64)"
      ]
     },
     "execution_count": 12,
     "metadata": {},
     "output_type": "execute_result"
    }
   ],
   "source": [
    "y_2.ravel()"
   ]
  },
  {
   "cell_type": "markdown",
   "metadata": {},
   "source": [
    "principal component on y_1"
   ]
  },
  {
   "cell_type": "code",
   "execution_count": 18,
   "metadata": {},
   "outputs": [
    {
     "data": {
      "image/png": "[encoded data removed]",
      "text/plain": [
       "<matplotlib.figure.Figure at 0x1679a373ba8>"
      ]
     },
     "metadata": {},
     "output_type": "display_data"
    }
   ],
   "source": [
    "pca2 = PCA()\n",
    "X_reduced_train = pca2.fit_transform(scale(X_train))\n",
    "n = len(X_reduced_train)\n",
    "\n",
    "# 10-fold CV, with shuffle\n",
    "kf_10 = KFold(n_splits= 10, shuffle=False, random_state=1)\n",
    "\n",
    "mse = []\n",
    "\n",
    "regr = LinearRegression()\n",
    "\n",
    "# Calculate MSE with only the intercept (no principal components in regression)\n",
    "score = -1*cross_val_score(regr, np.ones((n,1)), y_train_1, cv=kf_10, scoring='neg_mean_squared_error').mean()    \n",
    "mse.append(score)\n",
    "\n",
    "# Calculate MSE using CV for the 22 principle components, adding one component at the time.\n",
    "for i in np.arange(1, 23):\n",
    "    score = -1*cross_val_score(regr, X_reduced_train[:,:i], y_train_1, cv=kf_10, scoring='neg_mean_squared_error').mean()\n",
    "    mse.append(score)\n",
    "\n",
    "plt.plot(np.array(mse), '-v')\n",
    "plt.xlabel('Number of principal components in regression')\n",
    "plt.ylabel('MSE')\n",
    "plt.title('Salary')\n",
    "plt.xlim(xmin=-1); #13 components are enough"
   ]
  },
  {
   "cell_type": "code",
   "execution_count": 19,
   "metadata": {},
   "outputs": [
    {
     "data": {
      "text/plain": [
       "0.0050309560286433937"
      ]
     },
     "execution_count": 19,
     "metadata": {},
     "output_type": "execute_result"
    }
   ],
   "source": [
    "X_reduced_test = pca2.transform(scale(X_test))[:,:14]\n",
    "\n",
    "# Train regression model on training data \n",
    "regr = LinearRegression()\n",
    "model = regr.fit(X_reduced_train[:,:14], y_train_1)\n",
    "\n",
    "# Prediction with test data\n",
    "y_pred_1 = regr.predict(X_reduced_test)\n",
    "mean_squared_error(y_test_1, y_pred_1)"
   ]
  },
  {
   "cell_type": "code",
   "execution_count": 23,
   "metadata": {},
   "outputs": [],
   "source": [
    "compare_1 = pd.concat([pd.DataFrame(y_pred_1), y_test_1], axis = 1)\n",
    "compare_1.columns = [\"pred_1\", \"test_1\"]\n",
    "for index, row in compare_1.iterrows():\n",
    "    if row[\"pred_1\"] == 0:\n",
    "        if row[\"test_1\"] == 0:\n",
    "            value = 1\n",
    "        else:\n",
    "            value = 0\n",
    "    else:\n",
    "        sign = row[\"pred_1\"] * row[\"test_1\"]\n",
    "        if row[\"test_1\"] == 0:\n",
    "            value = 0\n",
    "        elif sign > 0:\n",
    "            value = 1 \n",
    "        else:\n",
    "            value = 0\n",
    "    compare_1.set_value(index, \"sign\", value)"
   ]
  },
  {
   "cell_type": "code",
   "execution_count": 24,
   "metadata": {},
   "outputs": [
    {
     "data": {
      "text/plain": [
       "1.0    1042\n",
       "0.0     266\n",
       "Name: sign, dtype: int64"
      ]
     },
     "execution_count": 24,
     "metadata": {},
     "output_type": "execute_result"
    }
   ],
   "source": [
    "compare_1['sign'].value_counts()"
   ]
  },
  {
   "cell_type": "markdown",
   "metadata": {},
   "source": [
    "principal component  on y_2"
   ]
  },
  {
   "cell_type": "code",
   "execution_count": 26,
   "metadata": {},
   "outputs": [
    {
     "data": {
      "image/png": "[encoded data removed]",
      "text/plain": [
       "<matplotlib.figure.Figure at 0x16793783048>"
      ]
     },
     "metadata": {},
     "output_type": "display_data"
    }
   ],
   "source": [
    "pca3 = PCA()\n",
    "X_reduced_train = pca3.fit_transform(scale(X_train))\n",
    "n = len(X_reduced_train)\n",
    "\n",
    "# 10-fold CV, with shuffle\n",
    "kf_10 = KFold(n_splits= 10, shuffle=False, random_state=1)\n",
    "\n",
    "mse = []\n",
    "regr = LogisticRegression()\n",
    "\n",
    "# Calculate MSE with only the intercept (no principal components in regression)\n",
    "score = -1*cross_val_score(regr, np.ones((n,1)), y_train_2, cv=kf_10, scoring='neg_mean_squared_error').mean()    \n",
    "mse.append(score)\n",
    "\n",
    "# Calculate MSE using CV for the 19 principle components, adding one component at the time.\n",
    "for i in np.arange(1, 23):\n",
    "    score = abs(cross_val_score(regr, X_reduced_train[:,:i], y_train_2, cv=kf_10, scoring='neg_mean_squared_error')).mean()\n",
    "    mse.append(score)\n",
    "\n",
    "plt.plot(np.array(mse), '-v')\n",
    "plt.xlabel('Number of principal components in regression')\n",
    "plt.ylabel('MSE')\n",
    "plt.title('Salary')\n",
    "plt.xlim(xmin=-1); #five is enough"
   ]
  },
  {
   "cell_type": "code",
   "execution_count": 34,
   "metadata": {},
   "outputs": [
    {
     "data": {
      "text/plain": [
       "0.0"
      ]
     },
     "execution_count": 34,
     "metadata": {},
     "output_type": "execute_result"
    }
   ],
   "source": [
    "X_reduced_test = pca3.transform(scale(X_test))[:,:6]\n",
    "\n",
    "# Train regression model on training data \n",
    "reg_log = LogisticRegression()\n",
    "model = reg_log.fit(X_reduced_train[:,:6], y_train_2)\n",
    "\n",
    "# Prediction with test data\n",
    "y_pred_2 = reg_log.predict(X_reduced_test)\n",
    "mean_squared_error(y_test_2, y_pred_2)"
   ]
  },
  {
   "cell_type": "code",
   "execution_count": 35,
   "metadata": {},
   "outputs": [
    {
     "data": {
      "text/plain": [
       "True    1308\n",
       "dtype: int64"
      ]
     },
     "execution_count": 35,
     "metadata": {},
     "output_type": "execute_result"
    }
   ],
   "source": [
    "compare_2 = pd.concat([pd.DataFrame(y_pred_2), y_test_2], axis = 1)\n",
    "compare_2.columns = [\"pred_2\", \"test_2\"]\n",
    "correct = (compare_2[\"pred_2\"] == compare_2[\"test_2\"])\n",
    "correct.value_counts()"
   ]
  },
  {
   "cell_type": "markdown",
   "metadata": {},
   "source": [
    "Partial Least Square"
   ]
  },
  {
   "cell_type": "code",
   "execution_count": 37,
   "metadata": {},
   "outputs": [
    {
     "name": "stderr",
     "output_type": "stream",
     "text": [
      "C:\\Users\\Administrator\\Anaconda3\\lib\\site-packages\\sklearn\\cross_decomposition\\pls_.py:287: UserWarning: Y residual constant at iteration 19\n",
      "  warnings.warn('Y residual constant at iteration %s' % k)\n",
      "C:\\Users\\Administrator\\Anaconda3\\lib\\site-packages\\sklearn\\cross_decomposition\\pls_.py:287: UserWarning: Y residual constant at iteration 19\n",
      "  warnings.warn('Y residual constant at iteration %s' % k)\n",
      "C:\\Users\\Administrator\\Anaconda3\\lib\\site-packages\\sklearn\\cross_decomposition\\pls_.py:287: UserWarning: Y residual constant at iteration 19\n",
      "  warnings.warn('Y residual constant at iteration %s' % k)\n",
      "C:\\Users\\Administrator\\Anaconda3\\lib\\site-packages\\sklearn\\cross_decomposition\\pls_.py:287: UserWarning: Y residual constant at iteration 19\n",
      "  warnings.warn('Y residual constant at iteration %s' % k)\n",
      "C:\\Users\\Administrator\\Anaconda3\\lib\\site-packages\\sklearn\\cross_decomposition\\pls_.py:287: UserWarning: Y residual constant at iteration 19\n",
      "  warnings.warn('Y residual constant at iteration %s' % k)\n",
      "C:\\Users\\Administrator\\Anaconda3\\lib\\site-packages\\sklearn\\cross_decomposition\\pls_.py:287: UserWarning: Y residual constant at iteration 19\n",
      "  warnings.warn('Y residual constant at iteration %s' % k)\n",
      "C:\\Users\\Administrator\\Anaconda3\\lib\\site-packages\\sklearn\\cross_decomposition\\pls_.py:287: UserWarning: Y residual constant at iteration 19\n",
      "  warnings.warn('Y residual constant at iteration %s' % k)\n",
      "C:\\Users\\Administrator\\Anaconda3\\lib\\site-packages\\sklearn\\cross_decomposition\\pls_.py:287: UserWarning: Y residual constant at iteration 19\n",
      "  warnings.warn('Y residual constant at iteration %s' % k)\n",
      "C:\\Users\\Administrator\\Anaconda3\\lib\\site-packages\\sklearn\\cross_decomposition\\pls_.py:287: UserWarning: Y residual constant at iteration 19\n",
      "  warnings.warn('Y residual constant at iteration %s' % k)\n",
      "C:\\Users\\Administrator\\Anaconda3\\lib\\site-packages\\sklearn\\cross_decomposition\\pls_.py:287: UserWarning: Y residual constant at iteration 19\n",
      "  warnings.warn('Y residual constant at iteration %s' % k)\n",
      "C:\\Users\\Administrator\\Anaconda3\\lib\\site-packages\\sklearn\\cross_decomposition\\pls_.py:287: UserWarning: Y residual constant at iteration 19\n",
      "  warnings.warn('Y residual constant at iteration %s' % k)\n",
      "C:\\Users\\Administrator\\Anaconda3\\lib\\site-packages\\sklearn\\cross_decomposition\\pls_.py:287: UserWarning: Y residual constant at iteration 19\n",
      "  warnings.warn('Y residual constant at iteration %s' % k)\n",
      "C:\\Users\\Administrator\\Anaconda3\\lib\\site-packages\\sklearn\\cross_decomposition\\pls_.py:287: UserWarning: Y residual constant at iteration 19\n",
      "  warnings.warn('Y residual constant at iteration %s' % k)\n",
      "C:\\Users\\Administrator\\Anaconda3\\lib\\site-packages\\sklearn\\cross_decomposition\\pls_.py:287: UserWarning: Y residual constant at iteration 19\n",
      "  warnings.warn('Y residual constant at iteration %s' % k)\n",
      "C:\\Users\\Administrator\\Anaconda3\\lib\\site-packages\\sklearn\\cross_decomposition\\pls_.py:287: UserWarning: Y residual constant at iteration 19\n",
      "  warnings.warn('Y residual constant at iteration %s' % k)\n",
      "C:\\Users\\Administrator\\Anaconda3\\lib\\site-packages\\sklearn\\cross_decomposition\\pls_.py:287: UserWarning: Y residual constant at iteration 19\n",
      "  warnings.warn('Y residual constant at iteration %s' % k)\n",
      "C:\\Users\\Administrator\\Anaconda3\\lib\\site-packages\\sklearn\\cross_decomposition\\pls_.py:287: UserWarning: Y residual constant at iteration 19\n",
      "  warnings.warn('Y residual constant at iteration %s' % k)\n",
      "C:\\Users\\Administrator\\Anaconda3\\lib\\site-packages\\sklearn\\cross_decomposition\\pls_.py:287: UserWarning: Y residual constant at iteration 19\n",
      "  warnings.warn('Y residual constant at iteration %s' % k)\n",
      "C:\\Users\\Administrator\\Anaconda3\\lib\\site-packages\\sklearn\\cross_decomposition\\pls_.py:287: UserWarning: Y residual constant at iteration 19\n",
      "  warnings.warn('Y residual constant at iteration %s' % k)\n",
      "C:\\Users\\Administrator\\Anaconda3\\lib\\site-packages\\sklearn\\cross_decomposition\\pls_.py:287: UserWarning: Y residual constant at iteration 19\n",
      "  warnings.warn('Y residual constant at iteration %s' % k)\n",
      "C:\\Users\\Administrator\\Anaconda3\\lib\\site-packages\\sklearn\\cross_decomposition\\pls_.py:287: UserWarning: Y residual constant at iteration 19\n",
      "  warnings.warn('Y residual constant at iteration %s' % k)\n",
      "C:\\Users\\Administrator\\Anaconda3\\lib\\site-packages\\sklearn\\cross_decomposition\\pls_.py:287: UserWarning: Y residual constant at iteration 19\n",
      "  warnings.warn('Y residual constant at iteration %s' % k)\n",
      "C:\\Users\\Administrator\\Anaconda3\\lib\\site-packages\\sklearn\\cross_decomposition\\pls_.py:287: UserWarning: Y residual constant at iteration 19\n",
      "  warnings.warn('Y residual constant at iteration %s' % k)\n",
      "C:\\Users\\Administrator\\Anaconda3\\lib\\site-packages\\sklearn\\cross_decomposition\\pls_.py:287: UserWarning: Y residual constant at iteration 19\n",
      "  warnings.warn('Y residual constant at iteration %s' % k)\n",
      "C:\\Users\\Administrator\\Anaconda3\\lib\\site-packages\\sklearn\\cross_decomposition\\pls_.py:287: UserWarning: Y residual constant at iteration 19\n",
      "  warnings.warn('Y residual constant at iteration %s' % k)\n",
      "C:\\Users\\Administrator\\Anaconda3\\lib\\site-packages\\sklearn\\cross_decomposition\\pls_.py:287: UserWarning: Y residual constant at iteration 19\n",
      "  warnings.warn('Y residual constant at iteration %s' % k)\n",
      "C:\\Users\\Administrator\\Anaconda3\\lib\\site-packages\\sklearn\\cross_decomposition\\pls_.py:287: UserWarning: Y residual constant at iteration 19\n",
      "  warnings.warn('Y residual constant at iteration %s' % k)\n",
      "C:\\Users\\Administrator\\Anaconda3\\lib\\site-packages\\sklearn\\cross_decomposition\\pls_.py:287: UserWarning: Y residual constant at iteration 19\n",
      "  warnings.warn('Y residual constant at iteration %s' % k)\n",
      "C:\\Users\\Administrator\\Anaconda3\\lib\\site-packages\\sklearn\\cross_decomposition\\pls_.py:287: UserWarning: Y residual constant at iteration 19\n",
      "  warnings.warn('Y residual constant at iteration %s' % k)\n",
      "C:\\Users\\Administrator\\Anaconda3\\lib\\site-packages\\sklearn\\cross_decomposition\\pls_.py:287: UserWarning: Y residual constant at iteration 19\n",
      "  warnings.warn('Y residual constant at iteration %s' % k)\n"
     ]
    },
    {
     "data": {
      "text/plain": [
       "(-1, 23.050000000000001)"
      ]
     },
     "execution_count": 37,
     "metadata": {},
     "output_type": "execute_result"
    },
    {
     "data": {
      "image/png": "[encoded data removed]",
      "text/plain": [
       "<matplotlib.figure.Figure at 0x1679b1967f0>"
      ]
     },
     "metadata": {},
     "output_type": "display_data"
    }
   ],
   "source": [
    "n = len(X_train)\n",
    "\n",
    "# 10-fold CV, with shuffle\n",
    "kf_10 = KFold(n_splits= 10, shuffle=False, random_state=1)\n",
    "\n",
    "mse = []\n",
    "\n",
    "for i in np.arange(1, 23):\n",
    "    pls = PLSRegression(n_components=i)\n",
    "    score = cross_val_score(pls, scale(X_train), y_train_1, cv=kf_10, scoring='neg_mean_squared_error').mean()\n",
    "    mse.append(-score)\n",
    "\n",
    "plt.plot(np.arange(1, 23), np.array(mse), '-v')\n",
    "plt.xlabel('Number of principal components in regression')\n",
    "plt.ylabel('MSE')\n",
    "plt.title('Salary')\n",
    "plt.xlim(xmin=-1) #four is enough"
   ]
  },
  {
   "cell_type": "code",
   "execution_count": 39,
   "metadata": {},
   "outputs": [
    {
     "data": {
      "text/plain": [
       "0.0023402723310427392"
      ]
     },
     "execution_count": 39,
     "metadata": {},
     "output_type": "execute_result"
    }
   ],
   "source": [
    "pls = PLSRegression(n_components=4)\n",
    "pls.fit(scale(X_train), y_train_1)\n",
    "y_pred_pls = pls.predict(scale(X_test))\n",
    "\n",
    "mean_squared_error(y_test_1, y_pred_pls)"
   ]
  },
  {
   "cell_type": "code",
   "execution_count": 45,
   "metadata": {},
   "outputs": [],
   "source": [
    "y_pls_df = pd.DataFrame(y_pred_pls)\n",
    "compare_3 = pd.concat([y_pls_df, y_test_1], axis = 1)\n",
    "compare_3.columns = [\"y_pred\", \"y_test_1\"]"
   ]
  },
  {
   "cell_type": "code",
   "execution_count": 46,
   "metadata": {
    "collapsed": true
   },
   "outputs": [],
   "source": [
    "for index, row in compare_3.iterrows():\n",
    "    if row[\"y_pred\"] == 0:\n",
    "        if row[\"y_test_1\"] == 0:\n",
    "            value = 1\n",
    "        else:\n",
    "            value = 0\n",
    "    else:\n",
    "        sign = row[\"y_pred\"] * row[\"y_test_1\"]\n",
    "        if row[\"y_test_1\"] == 0:\n",
    "            value = 0\n",
    "        elif sign > 0:\n",
    "            value = 1 \n",
    "        else:\n",
    "            value = 0\n",
    "    compare_3.set_value(index, \"sign\", value)"
   ]
  },
  {
   "cell_type": "code",
   "execution_count": 47,
   "metadata": {},
   "outputs": [
    {
     "data": {
      "text/plain": [
       "1.0    1044\n",
       "0.0     264\n",
       "Name: sign, dtype: int64"
      ]
     },
     "execution_count": 47,
     "metadata": {},
     "output_type": "execute_result"
    }
   ],
   "source": [
    "compare_3['sign'].value_counts()"
   ]
  },
  {
   "cell_type": "code",
   "execution_count": null,
   "metadata": {
    "collapsed": true
   },
   "outputs": [],
   "source": []
  }
 ],
 "metadata": {
  "kernelspec": {
   "display_name": "Python 3",
   "language": "python",
   "name": "python3"
  },
  "language_info": {
   "codemirror_mode": {
    "name": "ipython",
    "version": 3
   },
   "file_extension": ".py",
   "mimetype": "text/x-python",
   "name": "python",
   "nbconvert_exporter": "python",
   "pygments_lexer": "ipython3",
   "version": "3.6.2"
  }
 },
 "nbformat": 4,
 "nbformat_minor": 2
}
