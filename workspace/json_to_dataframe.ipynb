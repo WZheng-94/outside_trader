{
 "cells": [
  {
   "cell_type": "code",
   "execution_count": 1,
   "metadata": {
    "collapsed": true
   },
   "outputs": [],
   "source": [
    "import pandas as pd\n",
    "import json\n",
    "\n",
    "with open('first_data.json', 'r', encoding='UTF-8') as f:\n",
    "    first_data = json.load(f)\n",
    "\n",
    "NEW_COL = ['name', 'code', 'time', 'price', 'time_1', 'price_1', 'price_dif_1',\n",
    "       'sell_1', 'buy_1', 'volume_1', 'variation_1', 'post_num_1',\n",
    "       'unique_id_1', 'click_1', 'like_1', 'dislike_1', 'time_2', 'price_2',\n",
    "       'price_dif_2', 'sell_2', 'buy_2', 'volume_2', 'variation_2',\n",
    "       'post_num_2', 'unique_id_2', 'click_2', 'like_2', 'dislike_2', 'time_3',\n",
    "       'price_3', 'price_dif_3', 'sell_3', 'buy_3', 'volume_3', 'variation_3',\n",
    "       'post_num_3', 'unique_id_3', 'click_3', 'like_3', 'dislike_3',\n",
    "       'mkt_cap', 'kospi', 'kosdaq', 'trash', 'yesterday_closing_price',\n",
    "       'is_maximum', 'is_minimum', 'price_volatility', 'price_trend',\n",
    "       'average_price_volatility', 'sell_minus_buy_1', 'sell_minus_buy_2',\n",
    "       'sell_minus_buy_3', 'is_price_gap_stable', 'price_gap_volatility',\n",
    "       'is_like_higher', 'volume_trend', 'post_num_trend', 'unique_id_trend',\n",
    "       'click_trend', 'price_increase', 'did_price_increase']\n",
    "df = pd.DataFrame(first_data, columns = NEW_COL)"
   ]
  },
  {
   "cell_type": "code",
   "execution_count": null,
   "metadata": {
    "collapsed": true
   },
   "outputs": [],
   "source": []
  }
 ],
 "metadata": {
  "kernelspec": {
   "display_name": "Python 3",
   "language": "python",
   "name": "python3"
  },
  "language_info": {
   "codemirror_mode": {
    "name": "ipython",
    "version": 3
   },
   "file_extension": ".py",
   "mimetype": "text/x-python",
   "name": "python",
   "nbconvert_exporter": "python",
   "pygments_lexer": "ipython3",
   "version": "3.6.3"
  }
 },
 "nbformat": 4,
 "nbformat_minor": 2
}
