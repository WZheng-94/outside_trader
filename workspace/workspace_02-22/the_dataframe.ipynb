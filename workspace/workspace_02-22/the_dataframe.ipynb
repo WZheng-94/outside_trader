{
 "cells": [
  {
   "cell_type": "code",
   "execution_count": 1,
   "metadata": {
    "collapsed": true
   },
   "outputs": [],
   "source": [
    "import pandas as pd\n",
    "import numpy as np\n",
    "import json\n",
    "import re"
   ]
  },
  {
   "cell_type": "code",
   "execution_count": 2,
   "metadata": {
    "collapsed": true
   },
   "outputs": [],
   "source": [
    "with open(\"2018-02-14_focus/2018-02-14_focus_group.json\") as focus_group:\n",
    "    focus = json.load(focus_group)"
   ]
  },
  {
   "cell_type": "code",
   "execution_count": 3,
   "metadata": {
    "collapsed": true
   },
   "outputs": [],
   "source": [
    "with open(\"krx_code.json\") as krx:\n",
    "    krx_code = json.load(krx)"
   ]
  },
  {
   "cell_type": "code",
   "execution_count": 4,
   "metadata": {
    "collapsed": true
   },
   "outputs": [],
   "source": [
    "with open(\"2018-02-14_opening_increase.json\") as oi:\n",
    "    increase = json.load(oi)"
   ]
  },
  {
   "cell_type": "code",
   "execution_count": null,
   "metadata": {
    "collapsed": true
   },
   "outputs": [],
   "source": [
    "import bs4\n",
    "import urllib3\n",
    "import re\n",
    "\n",
    "def opening_increase(code, date):\n",
    "\n",
    "    #code: string\n",
    "    #date: string, e.g. 2018-02-14\n",
    "\n",
    "    target = \"http://finance.naver.com/item/sise_time.nhn?code=\" + code + \"&thistime=\" + re.sub('[-]', '', date) + \"090001&page=1\"\n",
    "    pm = urllib3.PoolManager()\n",
    "    html = pm.urlopen(url=target, method=\"GET\").data\n",
    "    soup = bs4.BeautifulSoup(html, 'lxml')\n",
    "    \n",
    "    data_list = soup.find_all(\"tr\")[2].find_all(\"td\",class_=\"num\")\n",
    "    price = data_list[0].text\n",
    "    \n",
    "    return price != '\\xa0' and \"상승\" in str(soup)\n",
    "    \n",
    "#json = json.dumps(rv, ensure_ascii=False)\n",
    "#f = open(\"2018-02-14_opening_increase.json\",\"w\")\n",
    "#f.write(json)\n",
    "#f.close()"
   ]
  },
  {
   "cell_type": "code",
   "execution_count": null,
   "metadata": {
    "collapsed": true
   },
   "outputs": [],
   "source": [
    "'''\n",
    "rv = []\n",
    "c = 0\n",
    "for stock in focus:\n",
    "    c+= 1\n",
    "    if opening_increase(krx_code[stock], \"2018-02-14\"):\n",
    "        rv.append(stock)\n",
    "    print(c)\n",
    "'''"
   ]
  },
  {
   "cell_type": "code",
   "execution_count": null,
   "metadata": {
    "collapsed": true
   },
   "outputs": [],
   "source": [
    "'''\n",
    "json = json.dumps(rv, ensure_ascii=False)\n",
    "f = open(\"2018-02-14_opening_increase.json\",\"w\")\n",
    "f.write(json)\n",
    "f.close()\n",
    "'''"
   ]
  },
  {
   "cell_type": "code",
   "execution_count": null,
   "metadata": {
    "collapsed": true
   },
   "outputs": [],
   "source": [
    "'''\n",
    "def ten_minutes_before(time):\n",
    "    \n",
    "    if time[-2:] == \"00\":\n",
    "        prefix = '0' + str(int(time[11:13]) - 1) + \":50\" if int(time[11:13]) <= 10 \\\n",
    "        else str(int(time[11:13]) - 1) + \":50\"\n",
    "        time = time[:-5] + prefix\n",
    "    \n",
    "    else:\n",
    "        time = time[:-2] + str(int(time[-2:]) - 10)\n",
    "    \n",
    "    return time\n",
    "'''"
   ]
  },
  {
   "cell_type": "code",
   "execution_count": 5,
   "metadata": {
    "collapsed": true
   },
   "outputs": [],
   "source": [
    "import bs4\n",
    "import urllib3\n",
    "\n",
    "def scrape_price_history(code, time):\n",
    "    '''\n",
    "    code: string\n",
    "    time: string, e.g. 201802090910\n",
    "    '''\n",
    "\n",
    "    target = \"http://finance.naver.com/item/sise_time.nhn?code=\" + code + \"&thistime=\" + time + \"01&page=1\"\n",
    "    pm = urllib3.PoolManager()\n",
    "    html = pm.urlopen(url=target, method=\"GET\").data\n",
    "    soup = bs4.BeautifulSoup(html, 'lxml')\n",
    "    data_list = soup.find_all(\"tr\")[2].find_all(\"td\",class_=\"num\")\n",
    "    data_dic = {}\n",
    "    data_dic[\"price\"] = data_list[0].text\n",
    "    image = data_list[1].find(\"img\")\n",
    "    if image != None:\n",
    "        if image[\"alt\"] == \"상승\":\n",
    "            data_dic[\"price_dif\"] = data_list[1].text.strip(\"\\n\\t\")\n",
    "        else:\n",
    "            data_dic[\"price_dif\"] = \"-\" + data_list[1].text.strip(\"\\n\\t\")\n",
    "    else:\n",
    "        data_dic[\"price_dif\"] = 0\n",
    "    data_dic[\"sell\"] = data_list[2].text\n",
    "    data_dic[\"buy\"] = data_list[3].text\n",
    "    data_dic[\"volume\"] = data_list[4].text\n",
    "    data_dic[\"variation\"] = data_list[5].text\n",
    "    \n",
    "    return data_dic"
   ]
  },
  {
   "cell_type": "code",
   "execution_count": null,
   "metadata": {
    "collapsed": true
   },
   "outputs": [],
   "source": []
  },
  {
   "cell_type": "code",
   "execution_count": 6,
   "metadata": {
    "collapsed": true
   },
   "outputs": [],
   "source": [
    "time = []\n",
    "\n",
    "prefix = \"2018-02-14_focus/discussion_2018-02-14\"\n",
    "for hour in range(9,16):\n",
    "    for minute in range(0, 6):\n",
    "        time.append(prefix + \" \" + ((\"0\" + str(hour)) if hour <= 9 else str(hour))+ \":\" + str(minute) + \"0.json\")"
   ]
  },
  {
   "cell_type": "code",
   "execution_count": 8,
   "metadata": {
    "collapsed": true
   },
   "outputs": [],
   "source": [
    "del time[41]\n",
    "del time[40]"
   ]
  },
  {
   "cell_type": "code",
   "execution_count": null,
   "metadata": {
    "collapsed": true
   },
   "outputs": [],
   "source": [
    "df = pd.DataFrame(columns=[[\"y\", \"code\", \"name\", \"post_num_0\", \"unique_id_0\", \"click_0\", \"like_0\",\\\n",
    "                            \"dislike_0\", \"time_0\",\"price_0\",\"price_dif_0\",\\\n",
    "                            \"sell_0\", \"buy_0\", \"volume_0\", \"variation_0\",\n",
    "                            \"post_num_1\", \"unique_id_1\", \"click_1\", \"like_1\",\\\n",
    "                            \"dislike_1\", \"time_1\",\"price_1\",\"price_dif_1\",\\\n",
    "                            \"sell_1\", \"buy_1\", \"volume_1\", \"variation_1\",\n",
    "                            \"post_num_2\", \"unique_id_2\", \"click_2\", \"like_2\",\\\n",
    "                            \"dislike_2\", \"time_2\",\"price_2\",\"price_dif_2\",\\\n",
    "                            \"sell_2\", \"buy_2\", \"volume_2\", \"variation_2\"]])"
   ]
  },
  {
   "cell_type": "code",
   "execution_count": null,
   "metadata": {
    "collapsed": true
   },
   "outputs": [],
   "source": [
    "for t in time:\n",
    "    with open(t) as f:\n",
    "        discussion = json.load(f)\n",
    "    for d in discussion:\n",
    "        if d[\"name\"] in increase:\n",
    "            row = pd.DataFrame(columns=[\"y\", \"code\", \"name\", \"post_num_0\", \"unique_id_0\", \"click_0\", \"like_0\",\\\n",
    "                                \"dislike_0\", \"time_0\",\"price_0\",\"price_dif_0\",\\\n",
    "                                \"sell_0\", \"buy_0\", \"volume_0\", \"variation_0\",\n",
    "                                \"post_num_1\", \"unique_id_1\", \"click_1\", \"like_1\",\\\n",
    "                                \"dislike_1\", \"time_1\",\"price_1\",\"price_dif_1\",\\\n",
    "                                \"sell_1\", \"buy_1\", \"volume_1\", \"variation_1\",\n",
    "                                \"post_num_2\", \"unique_id_2\", \"click_2\", \"like_2\",\\\n",
    "                                \"dislike_2\", \"time_2\",\"price_2\",\"price_dif_2\",\\\n",
    "                                \"sell_2\", \"buy_2\", \"volume_2\", \"variation_2\"],\\\n",
    "                           data = [[np.nan, krx_code[d[\"name\"]], d[\"name\"], d[\"post_num\"], d[\"unique_id\"], d[\"click\"], \\\n",
    "                                    d[\"like\"], d[\"dislike\"], d[\"time\"], \\\n",
    "                                    np.nan,np.nan,np.nan,np.nan,np.nan,np.nan,np.nan,np.nan,np.nan,np.nan,np.nan,\\\n",
    "                                    np.nan,np.nan,np.nan,np.nan,np.nan,np.nan,np.nan,np.nan,np.nan,np.nan,np.nan,\\\n",
    "                                    np.nan,np.nan,np.nan,np.nan,np.nan,np.nan,np.nan,np.nan]])\n",
    "            df = df.append(row)"
   ]
  },
  {
   "cell_type": "code",
   "execution_count": null,
   "metadata": {
    "collapsed": true
   },
   "outputs": [],
   "source": [
    "df = df.reset_index()"
   ]
  },
  {
   "cell_type": "code",
   "execution_count": null,
   "metadata": {
    "collapsed": true
   },
   "outputs": [],
   "source": [
    "df.shape"
   ]
  },
  {
   "cell_type": "code",
   "execution_count": null,
   "metadata": {
    "collapsed": true
   },
   "outputs": [],
   "source": [
    "for idx, row in df.iterrows():\n",
    "    timestamp = row[\"time_0\"]\n",
    "    t = re.sub('[ :-]', '', timestamp)\n",
    "    \n",
    "    d = scrape_price_history(row[\"code\"], t)\n",
    "    tpl = (d[\"price\"], d[\"price_dif\"], d[\"sell\"], d[\"buy\"], d[\"volume\"], d[\"variation\"])\n",
    "    \n",
    "    df[\"price_0\"].iloc[idx] = tpl[0]\n",
    "    df[\"price_dif_0\"].iloc[idx] = tpl[1]\n",
    "    df[\"sell_0\"].iloc[idx] = tpl[2]\n",
    "    df[\"buy_0\"].iloc[idx] = tpl[3]\n",
    "    df[\"volume_0\"].iloc[idx] = tpl[4]\n",
    "    df[\"variation_0\"].iloc[idx] = tpl[5]\n",
    "    \n",
    "    print(idx)"
   ]
  },
  {
   "cell_type": "code",
   "execution_count": null,
   "metadata": {
    "collapsed": true
   },
   "outputs": [],
   "source": [
    "for idx, row in df.iterrows():\n",
    "    if idx < len(df) - len(increase):\n",
    "        df[\"y\"].iloc[idx] = df[\"price_0\"].iloc[idx + len(increase)]"
   ]
  },
  {
   "cell_type": "code",
   "execution_count": null,
   "metadata": {
    "collapsed": true
   },
   "outputs": [],
   "source": [
    "for idx, row in df.iterrows():\n",
    "    if idx >= len(increase) * 2:\n",
    "        df[\"post_num_2\"].iloc[idx] = df[\"post_num_0\"].iloc[idx - (len(increase) * 2)]\n",
    "        df[\"unique_id_2\"].iloc[idx] = df[\"unique_id_0\"].iloc[idx - (len(increase) * 2)]\n",
    "        df[\"click_2\"].iloc[idx] = df[\"click_0\"].iloc[idx - (len(increase) * 2)]\n",
    "        df[\"like_2\"].iloc[idx] = df[\"like_0\"].iloc[idx - (len(increase) * 2)]\n",
    "        df[\"dislike_2\"].iloc[idx] = df[\"dislike_0\"].iloc[idx - (len(increase) * 2)]\n",
    "        df[\"time_2\"].iloc[idx] = df[\"time_0\"].iloc[idx - (len(increase) * 2)]\n",
    "        \n",
    "        df[\"price_2\"].iloc[idx] = df[\"post_num_0\"].iloc[idx - (len(increase) * 2)]\n",
    "        df[\"price_dif_2\"].iloc[idx] = df[\"price_dif_0\"].iloc[idx - (len(increase) * 2)]\n",
    "        df[\"sell_2\"].iloc[idx] = df[\"sell_0\"].iloc[idx - (len(increase) * 2)]\n",
    "        df[\"buy_2\"].iloc[idx] = df[\"buy_0\"].iloc[idx - (len(increase) * 2)]\n",
    "        df[\"volume_2\"].iloc[idx] = df[\"volume_0\"].iloc[idx - (len(increase) * 2)]\n",
    "        df[\"variation_2\"].iloc[idx] = df[\"variation_0\"].iloc[idx - (len(increase) * 2)]"
   ]
  },
  {
   "cell_type": "code",
   "execution_count": null,
   "metadata": {
    "collapsed": true
   },
   "outputs": [],
   "source": [
    "for idx, row in df.iterrows():\n",
    "    if idx >= len(increase) * 2:\n",
    "        df[\"post_num_2\"].iloc[idx] = df[\"post_num_0\"].iloc[idx - (len(increase) * 2)]\n",
    "        df[\"unique_id_2\"].iloc[idx] = df[\"unique_id_0\"].iloc[idx - (len(increase) * 2)]\n",
    "        df[\"click_2\"].iloc[idx] = df[\"click_0\"].iloc[idx - (len(increase) * 2)]\n",
    "        df[\"like_2\"].iloc[idx] = df[\"like_0\"].iloc[idx - (len(increase) * 2)]\n",
    "        df[\"dislike_2\"].iloc[idx] = df[\"dislike_0\"].iloc[idx - (len(increase) * 2)]\n",
    "        df[\"time_2\"].iloc[idx] = df[\"time_0\"].iloc[idx - (len(increase) * 2)]\n",
    "        \n",
    "        df[\"price_2\"].iloc[idx] = df[\"post_num_0\"].iloc[idx - (len(increase) * 2)]\n",
    "        df[\"price_dif_2\"].iloc[idx] = df[\"price_dif_0\"].iloc[idx - (len(increase) * 2)]\n",
    "        df[\"sell_2\"].iloc[idx] = df[\"sell_0\"].iloc[idx - (len(increase) * 2)]\n",
    "        df[\"buy_2\"].iloc[idx] = df[\"buy_0\"].iloc[idx - (len(increase) * 2)]\n",
    "        df[\"volume_2\"].iloc[idx] = df[\"volume_0\"].iloc[idx - (len(increase) * 2)]\n",
    "        df[\"variation_2\"].iloc[idx] = df[\"variation_0\"].iloc[idx - (len(increase) * 2)]"
   ]
  },
  {
   "cell_type": "code",
   "execution_count": null,
   "metadata": {
    "collapsed": true
   },
   "outputs": [],
   "source": []
  },
  {
   "cell_type": "code",
   "execution_count": null,
   "metadata": {
    "collapsed": true
   },
   "outputs": [],
   "source": [
    "df.columns"
   ]
  },
  {
   "cell_type": "code",
   "execution_count": null,
   "metadata": {
    "collapsed": true
   },
   "outputs": [],
   "source": [
    "rv = []\n",
    "rv.append(df.columns.tolist())\n",
    "for row in df.iterrows():\n",
    "    rv.append(row[1].tolist())"
   ]
  },
  {
   "cell_type": "code",
   "execution_count": null,
   "metadata": {
    "collapsed": true
   },
   "outputs": [],
   "source": [
    "#import json\n",
    "#json = json.dumps(rv, ensure_ascii=False)\n",
    "#f = open(\"2018-02-14_09:00_09:20_dataframe.json\",\"w\")\n",
    "#f.write(json)\n",
    "#f.close()"
   ]
  },
  {
   "cell_type": "code",
   "execution_count": null,
   "metadata": {
    "collapsed": true
   },
   "outputs": [],
   "source": []
  }
 ],
 "metadata": {
  "kernelspec": {
   "display_name": "Python 3",
   "language": "python",
   "name": "python3"
  },
  "language_info": {
   "codemirror_mode": {
    "name": "ipython",
    "version": 3
   },
   "file_extension": ".py",
   "mimetype": "text/x-python",
   "name": "python",
   "nbconvert_exporter": "python",
   "pygments_lexer": "ipython3",
   "version": "3.6.3"
  }
 },
 "nbformat": 4,
 "nbformat_minor": 2
}
