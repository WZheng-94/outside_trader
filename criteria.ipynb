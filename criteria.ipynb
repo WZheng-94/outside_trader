{
 "cells": [
  {
   "cell_type": "code",
   "execution_count": 1,
   "metadata": {
    "collapsed": true
   },
   "outputs": [],
   "source": [
    "import bs4\n",
    "import urllib3\n",
    "import json"
   ]
  },
  {
   "cell_type": "code",
   "execution_count": 2,
   "metadata": {
    "collapsed": true
   },
   "outputs": [],
   "source": [
    "with open(\"krx_code.json\") as krx:\n",
    "    krx_code = json.load(krx)"
   ]
  },
  {
   "cell_type": "code",
   "execution_count": 3,
   "metadata": {
    "collapsed": true
   },
   "outputs": [],
   "source": [
    "time = []\n",
    "\n",
    "day = \"2018-02-13\"\n",
    "for hour in range(20,24):\n",
    "    for minute in range(0, 6):\n",
    "        time.append(day + \"/\" + day + \" \" + ((\"0\" + str(hour)) if hour <= 9 else str(hour))+ \":\" + str(minute) + \"0.json\")\n",
    "\n",
    "day = \"2018-02-14\"\n",
    "for hour in range(0,7):\n",
    "    for minute in range(0, 6):\n",
    "        time.append(day + \"/\" + day + \" \" + ((\"0\" + str(hour)) if hour <= 9 else str(hour))+ \":\" + str(minute) + \"0.json\")"
   ]
  },
  {
   "cell_type": "code",
   "execution_count": 13,
   "metadata": {
    "collapsed": true
   },
   "outputs": [],
   "source": [
    "diction = {}\n",
    "\n",
    "for t in time:\n",
    "    with open(t) as table:\n",
    "        rank = json.load(table)\n",
    "        \n",
    "        for v in rank.values():\n",
    "            if v == t[11:-5]:\n",
    "                continue\n",
    "            if diction.get(v) == None:\n",
    "                diction[v] = [1]\n",
    "            else:\n",
    "                diction[v] = [diction.get(v)[0] + 1]"
   ]
  },
  {
   "cell_type": "code",
   "execution_count": 16,
   "metadata": {},
   "outputs": [
    {
     "data": {
      "text/plain": [
       "317"
      ]
     },
     "execution_count": 16,
     "metadata": {},
     "output_type": "execute_result"
    }
   ],
   "source": [
    "len(diction)"
   ]
  },
  {
   "cell_type": "code",
   "execution_count": 17,
   "metadata": {
    "collapsed": true
   },
   "outputs": [],
   "source": [
    "focus1 = {}\n",
    "for k, v in diction.items():\n",
    "    if krx_code.get(k) != None and v[0] == 1:\n",
    "        focus1[k] = v[0]"
   ]
  },
  {
   "cell_type": "code",
   "execution_count": 18,
   "metadata": {},
   "outputs": [
    {
     "data": {
      "text/plain": [
       "154"
      ]
     },
     "execution_count": 18,
     "metadata": {},
     "output_type": "execute_result"
    }
   ],
   "source": [
    "len(focus1)"
   ]
  },
  {
   "cell_type": "code",
   "execution_count": 19,
   "metadata": {
    "collapsed": true
   },
   "outputs": [],
   "source": [
    "def scrape_price_dayhigh(code):\n",
    "    '''\n",
    "    code: string\n",
    "    '''\n",
    "\n",
    "    target = \"http://finance.naver.com/item/sise_day.nhn?code=\" + code + \"&page=1\"\n",
    "    pm = urllib3.PoolManager()\n",
    "    html = pm.urlopen(url=target, method=\"GET\").data\n",
    "    soup = bs4.BeautifulSoup(html, 'lxml')\n",
    "    data_list = soup.find_all(\"tr\")[2:7]\n",
    "    high_list = []\n",
    "    low_list = []\n",
    "    for data in data_list:\n",
    "        new_list = data.find_all(\"td\",class_=\"num\")\n",
    "        high = new_list[3].text.split(\",\")\n",
    "        high = \"\".join(high)\n",
    "        low = new_list[4].text.split(\",\")\n",
    "        low = \"\".join(low)\n",
    "        high_list.append(high)\n",
    "        low_list.append(low)\n",
    "\n",
    "    return max(high_list), min(low_list)"
   ]
  },
  {
   "cell_type": "code",
   "execution_count": 20,
   "metadata": {
    "collapsed": true
   },
   "outputs": [],
   "source": [
    "less_than_15 = []"
   ]
  },
  {
   "cell_type": "code",
   "execution_count": 21,
   "metadata": {},
   "outputs": [
    {
     "name": "stdout",
     "output_type": "stream",
     "text": [
      "현대건설 44250 38350\n",
      "재영솔루텍 2565 2095\n",
      "코스모화학 28400 23450\n",
      "호텔신라 91400 80300\n",
      "내츄럴엔도텍 22450 19350\n",
      "한화테크윈 30950 26800\n",
      "화일약품 9680 7630\n",
      "대한광통신 7240 6570\n",
      "포스코 ICT 8820 8310\n",
      "브레인콘텐츠 926 887\n",
      "에스트래픽 14700 12650\n",
      "삼성제약 6000 4770\n",
      "고려제약 14700 10300\n",
      "한화케미칼 34400 31250\n",
      "진원생명과학 8430 6840\n",
      "지엘팜텍 5080 4430\n",
      "코웰패션 5560 5180\n",
      "바이오톡스텍 12800 10000\n",
      "삼일제약 20000 12800\n",
      "대우조선해양 23000 18850\n",
      "대한항공 36750 34400\n",
      "대한뉴팜 14300 13100\n",
      "쎌바이오텍 49150 45500\n",
      "레드캡투어 15650 15050\n",
      "보락 1975 1375\n",
      "휴마시스 2635 2175\n",
      "이마트 292500 270000\n",
      "대봉엘에스 15300 11900\n",
      "액토즈소프트 22000 17250\n",
      "상아프론테크 17550 14800\n",
      "용평리조트 9720 8170\n",
      "SCI평가정보 5880 4755\n",
      "한일진공 3320 2880\n",
      "녹십자 211000 187000\n",
      "GST 12600 10950\n",
      "휠라코리아 89000 81400\n",
      "GS 67100 61700\n",
      "CJ헬로 8870 7960\n",
      "모토닉 11450 10000\n",
      "삼양통상 46000 43350\n",
      "안국약품 16700 15450\n",
      "AJ렌터카 11600 10350\n",
      "마크로젠 47650 39900\n",
      "삼일 2215 2085\n",
      "한국전자홀딩스 820 785\n",
      "정다운 4445 4035\n",
      "대우건설 5920 4790\n",
      "슈프리마 28550 24000\n",
      "일진머티리얼즈 35800 31550\n",
      "레고켐바이오 67000 51800\n",
      "리켐 2365 1830\n",
      "코위버 8340 7570\n",
      "와이엠티 35500 31800\n",
      "유안타제2호스팩 2025 0\n",
      "타이거일렉 8180 6510\n",
      "앱클론 61200 54000\n",
      "디에이치피코리아 11400 10000\n",
      "엠에스오토텍 4150 3435\n",
      "국제약품 8270 5780\n",
      "지스마트글로벌 14150 12800\n",
      "텔코웨어 15200 13650\n",
      "씨케이에이치 915 843\n",
      "이스트아시아홀딩스 540 506\n",
      "텔루스 988 805\n",
      "차이나그레이트 904 850\n",
      "SIMPAC Metal 13000 10650\n",
      "삼우엠스 850 801\n",
      "오리엔트정공 741 639\n",
      "유아이엘 7050 6720\n",
      "인트론바이오 42550 37700\n",
      "휴온스 99100 89500\n",
      "이크레더블 14500 13500\n",
      "알서포트 2805 2625\n",
      "에스에너지 7090 6530\n",
      "키움증권 112500 100500\n",
      "동국제약 73100 64200\n",
      "비에이치아이 4835 4105\n",
      "녹십자셀 53500 47300\n",
      "성광벤드 13150 11550\n",
      "서연전자 2390 2165\n",
      "에이프로젠제약 4570 4120\n",
      "화성산업 16000 15050\n",
      "지니언스 14800 13200\n",
      "이녹스첨단소재 69700 63500\n",
      "나무가 28650 25300\n",
      "우리이앤엘 994 945\n",
      "KG ETS 4290 4005\n",
      "삼기오토모티브 3680 3460\n",
      "CJ제일제당 348500 318500\n",
      "현대로템 15950 14850\n",
      "삼현철강 4290 4050\n",
      "차이나하오란 0 0\n",
      "에스엔텍 7170 6520\n",
      "서진오토모티브 4445 4005\n",
      "삼본정밀전자 10400 10000\n",
      "에스와이패널 7590 6450\n",
      "에이치엘비생명과학 7360 0\n",
      "테라젠이텍스 12000 10600\n",
      "엠게임 4670 4380\n",
      "이오테크닉스 94300 83600\n",
      "삼지전자 13600 11750\n",
      "CJ오쇼핑 229800 201500\n",
      "바른손이앤에이 2300 1980\n",
      "KG이니시스 21700 18850\n",
      "이화전기 381 342\n",
      "한온시스템 13450 11700\n",
      "더존비즈온 53700 46000\n",
      "신송홀딩스 6200 5950\n",
      "알테오젠 21650 18400\n",
      "하이비젼시스템 17300 15200\n",
      "락앤락 25550 23200\n",
      "네오팜 53900 46050\n",
      "아비스타 3545 2990\n",
      "메디포스트 117500 104100\n",
      "한국전자금융 12300 11000\n",
      "티엘아이 5500 5010\n",
      "SK디스커버리 50800 47250\n",
      "코프라 5180 4750\n",
      "테라세미콘 27900 24600\n",
      "에스제이케이 1240 1000\n",
      "지엠비코리아 9590 8700\n",
      "모헨즈 7480 6320\n",
      "대원산업 8900 8010\n",
      "환인제약 29000 22500\n",
      "실리콘웍스 55000 51500\n",
      "STX중공업 6660 5230\n",
      "KD건설 183 167\n",
      "폭스브레인 2595 1925\n",
      "링크제니시스 59900 40000\n",
      "바디텍메드 19500 18050\n",
      "한국타이어 56400 53000\n",
      "한국금융지주 85200 78200\n",
      "부국철강 2850 2700\n",
      "인팩 4900 4660\n",
      "대동기어 43700 26000\n",
      "현대비앤지스틸 13600 12100\n",
      "동양 2235 2010\n",
      "사파이어테크놀로지 2275 1925\n",
      "대창솔루션 1850 1425\n",
      "네오위즈 14600 13200\n",
      "세아베스틸 30000 28050\n",
      "세운메디칼 4980 4485\n",
      "KEC 1360 1275\n",
      "디에스티로봇 2680 2410\n",
      "엘엠에스 8780 8300\n",
      "풍강 3335 3210\n",
      "옵트론텍 7930 7010\n",
      "신한지주 51400 47250\n",
      "매직마이크로 1240 1055\n",
      "현우산업 3795 3605\n",
      "한컴MDS 20300 18500\n",
      "젬백스 18250 15000\n",
      "휴비스 11550 10850\n",
      "삼원테크 999 925\n"
     ]
    }
   ],
   "source": [
    "for k in focus1.keys():\n",
    "    high, low = scrape_price_dayhigh(krx_code[k])\n",
    "    print(k, high, low)\n",
    "    if high != '\\xa0' and low != '\\xa0' and int(low) != 0:\n",
    "        if 100 * float(high) / float(low) - 100 < 15:\n",
    "            less_than_15.append(k)"
   ]
  },
  {
   "cell_type": "code",
   "execution_count": 22,
   "metadata": {},
   "outputs": [
    {
     "data": {
      "text/plain": [
       "98"
      ]
     },
     "execution_count": 22,
     "metadata": {},
     "output_type": "execute_result"
    }
   ],
   "source": [
    "len(less_than_15)"
   ]
  },
  {
   "cell_type": "code",
   "execution_count": 23,
   "metadata": {
    "collapsed": true
   },
   "outputs": [],
   "source": [
    "json = json.dumps(less_than_15, ensure_ascii=False)\n",
    "f = open(\"2018-02-14_focus_group.json\",\"w\")\n",
    "f.write(json)\n",
    "f.close()"
   ]
  },
  {
   "cell_type": "code",
   "execution_count": null,
   "metadata": {
    "collapsed": true
   },
   "outputs": [],
   "source": []
  }
 ],
 "metadata": {
  "kernelspec": {
   "display_name": "Python 3",
   "language": "python",
   "name": "python3"
  },
  "language_info": {
   "codemirror_mode": {
    "name": "ipython",
    "version": 3
   },
   "file_extension": ".py",
   "mimetype": "text/x-python",
   "name": "python",
   "nbconvert_exporter": "python",
   "pygments_lexer": "ipython3",
   "version": "3.6.3"
  }
 },
 "nbformat": 4,
 "nbformat_minor": 2
}
