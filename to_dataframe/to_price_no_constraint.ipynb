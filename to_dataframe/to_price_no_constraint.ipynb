{
 "cells": [
  {
   "cell_type": "code",
   "execution_count": null,
   "metadata": {
    "collapsed": true
   },
   "outputs": [],
   "source": [
    "import pandas as pd\n",
    "import numpy as np\n",
    "import json\n",
    "import re"
   ]
  },
  {
   "cell_type": "code",
   "execution_count": null,
   "metadata": {
    "collapsed": true
   },
   "outputs": [],
   "source": [
    "#change 1,2\n",
    "with open(\"2018-02-20_focus/2018-02-20_focus_group.json\") as focus_group:\n",
    "    focus = json.load(focus_group)"
   ]
  },
  {
   "cell_type": "code",
   "execution_count": null,
   "metadata": {
    "collapsed": true
   },
   "outputs": [],
   "source": [
    "with open(\"krx_code.json\") as krx:\n",
    "    krx_code = json.load(krx)"
   ]
  },
  {
   "cell_type": "code",
   "execution_count": null,
   "metadata": {
    "collapsed": true
   },
   "outputs": [],
   "source": [
    "import bs4\n",
    "import urllib3\n",
    "\n",
    "def scrape_price_history(code, time):\n",
    "    '''\n",
    "    code: string\n",
    "    time: string, e.g. 201802200910\n",
    "    '''\n",
    "\n",
    "    target = \"http://finance.naver.com/item/sise_time.nhn?code=\" + code + \"&thistime=\" + time + \"01&page=1\"\n",
    "    pm = urllib3.PoolManager()\n",
    "    html = pm.urlopen(url=target, method=\"GET\").data\n",
    "    soup = bs4.BeautifulSoup(html, 'lxml')\n",
    "    data_list = soup.find_all(\"tr\")[2].find_all(\"td\",class_=\"num\")\n",
    "    data_dic = {}\n",
    "    data_dic[\"price\"] = data_list[0].text\n",
    "    image = data_list[1].find(\"img\")\n",
    "    if image != None:\n",
    "        if image[\"alt\"] == \"상승\":\n",
    "            data_dic[\"price_dif\"] = data_list[1].text.strip(\"\\n\\t\")\n",
    "        else:\n",
    "            data_dic[\"price_dif\"] = \"-\" + data_list[1].text.strip(\"\\n\\t\")\n",
    "    else:\n",
    "        data_dic[\"price_dif\"] = 0\n",
    "    data_dic[\"sell\"] = data_list[2].text\n",
    "    data_dic[\"buy\"] = data_list[3].text\n",
    "    data_dic[\"volume\"] = data_list[4].text\n",
    "    data_dic[\"variation\"] = data_list[5].text\n",
    "    \n",
    "    return data_dic"
   ]
  },
  {
   "cell_type": "code",
   "execution_count": null,
   "metadata": {
    "collapsed": true
   },
   "outputs": [],
   "source": [
    "time = []\n",
    "\n",
    "#change 3,4\n",
    "prefix = \"2018-02-20_focus/discussion_2018-02-20\"\n",
    "for hour in range(9,16):\n",
    "    for minute in range(0, 6):\n",
    "        time.append(prefix + \" \" + ((\"0\" + str(hour)) if hour <= 9 else str(hour))+ \":\" + str(minute) + \"0.json\")"
   ]
  },
  {
   "cell_type": "code",
   "execution_count": null,
   "metadata": {},
   "outputs": [],
   "source": [
    "time"
   ]
  },
  {
   "cell_type": "code",
   "execution_count": null,
   "metadata": {
    "collapsed": true
   },
   "outputs": [],
   "source": [
    "del time[41]\n",
    "del time[40]"
   ]
  },
  {
   "cell_type": "code",
   "execution_count": null,
   "metadata": {
    "collapsed": true
   },
   "outputs": [],
   "source": [
    "df = pd.DataFrame(columns=[\"code\", \"name\", \"time\", \"price\", \"price_dif\",\\\n",
    "                                        \"sell\", \"buy\", \"volume\", \"variation\"])"
   ]
  },
  {
   "cell_type": "code",
   "execution_count": null,
   "metadata": {
    "collapsed": true
   },
   "outputs": [],
   "source": [
    "for t in time:\n",
    "    with open(t) as f:\n",
    "        discussion = json.load(f)\n",
    "    for d in discussion:\n",
    "        row = pd.DataFrame(columns=[\"code\", \"name\", \"time\", \"price\", \"price_dif\",\\\n",
    "                                    \"sell\", \"buy\", \"volume\", \"variation\"],\\\n",
    "                       data = [[krx_code[d[\"name\"]], d[\"name\"], d[\"time\"], np.nan, np.nan,\\\n",
    "                               np.nan, np.nan, np.nan, np.nan]])\n",
    "        df = df.append(row)"
   ]
  },
  {
   "cell_type": "code",
   "execution_count": null,
   "metadata": {
    "collapsed": true
   },
   "outputs": [],
   "source": [
    "df = df.reset_index()"
   ]
  },
  {
   "cell_type": "code",
   "execution_count": null,
   "metadata": {},
   "outputs": [],
   "source": [
    "len(df)"
   ]
  },
  {
   "cell_type": "code",
   "execution_count": null,
   "metadata": {},
   "outputs": [],
   "source": [
    "for idx, row in df.iterrows():\n",
    "    timestamp = row[\"time\"]\n",
    "    t = re.sub('[ :-]', '', timestamp)\n",
    "\n",
    "    d = scrape_price_history(row[\"code\"], t)\n",
    "\n",
    "    df.set_value(idx, \"price\", d[\"price\"])\n",
    "    df.set_value(idx, \"price_dif\", d[\"price_dif\"])\n",
    "    df.set_value(idx, \"sell\", d[\"sell\"])\n",
    "    df.set_value(idx, \"buy\", d[\"buy\"])\n",
    "    df.set_value(idx, \"volume\", d[\"volume\"])\n",
    "    df.set_value(idx, \"variation\", d[\"variation\"])\n",
    "    \n",
    "    print(idx)"
   ]
  },
  {
   "cell_type": "code",
   "execution_count": null,
   "metadata": {
    "collapsed": true
   },
   "outputs": [],
   "source": [
    "rv = []\n",
    "rv.append(df.columns.tolist())\n",
    "for row in df.iterrows():\n",
    "    rv.append(row[1].tolist())"
   ]
  },
  {
   "cell_type": "code",
   "execution_count": null,
   "metadata": {
    "collapsed": true
   },
   "outputs": [],
   "source": [
    "'''\n",
    "import json\n",
    "json = json.dumps(rv, ensure_ascii=False)\n",
    "#change 5\n",
    "f = open(\"2018-02-20_price_no_constraint.json\",\"w\")\n",
    "f.write(json)\n",
    "f.close()\n",
    "'''"
   ]
  }
 ],
 "metadata": {
  "kernelspec": {
   "display_name": "Python 3",
   "language": "python",
   "name": "python3"
  },
  "language_info": {
   "codemirror_mode": {
    "name": "ipython",
    "version": 3
   },
   "file_extension": ".py",
   "mimetype": "text/x-python",
   "name": "python",
   "nbconvert_exporter": "python",
   "pygments_lexer": "ipython3",
   "version": "3.6.3"
  }
 },
 "nbformat": 4,
 "nbformat_minor": 2
}
