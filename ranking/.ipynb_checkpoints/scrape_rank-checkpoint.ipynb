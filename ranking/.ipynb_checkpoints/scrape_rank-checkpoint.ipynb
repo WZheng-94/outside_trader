{
 "cells": [
  {
   "cell_type": "code",
   "execution_count": 1,
   "metadata": {
    "collapsed": true
   },
   "outputs": [],
   "source": [
    "# encoding: utf-8\n",
    "import bs4\n",
    "import urllib3"
   ]
  },
  {
   "cell_type": "code",
   "execution_count": 2,
   "metadata": {
    "collapsed": true
   },
   "outputs": [],
   "source": [
    "def find_all_stock(target):\n",
    "    pm = urllib3.PoolManager()\n",
    "    html = pm.urlopen(url=target, method=\"GET\").data\n",
    "    soup = bs4.BeautifulSoup(html, 'lxml')\n",
    "    div_tag = soup.find_all(\"div\", class_ =\"box_type_l\")[0]\n",
    "    raw_stock_list = div_tag.find_all(\"tr\")[2:47]\n",
    "    stock_dict = {}\n",
    "    for tag in raw_stock_list:\n",
    "        if raw_stock_list.index(tag) % 8 not in [5, 6, 7]:\n",
    "            rank = tag.find_all(\"td\", class_ = \"no\")[0].text\n",
    "            name = tag.find_all(\"td\", class_ = \"no\")[0].next_sibling.next_sibling.find_all(\"a\")[0].text\n",
    "            stock_dict[rank] = name\n",
    "    return stock_dict"
   ]
  },
  {
   "cell_type": "code",
   "execution_count": 3,
   "metadata": {
    "collapsed": true
   },
   "outputs": [],
   "source": [
    "rank = find_all_stock(\"http://finance.naver.com/sise/lastsearch2.nhn\")"
   ]
  },
  {
   "cell_type": "code",
   "execution_count": null,
   "metadata": {
    "collapsed": true
   },
   "outputs": [],
   "source": []
  },
  {
   "cell_type": "code",
   "execution_count": 4,
   "metadata": {
    "collapsed": true
   },
   "outputs": [],
   "source": [
    "from datetime import datetime, timezone\n",
    "import pytz\n",
    "\n",
    "tz = pytz.timezone('Asia/Seoul')\n",
    "seoul_now = datetime.now(tz)"
   ]
  },
  {
   "cell_type": "code",
   "execution_count": 5,
   "metadata": {
    "collapsed": true
   },
   "outputs": [],
   "source": [
    "rank[\"time\"] = str(seoul_now)[:16]"
   ]
  },
  {
   "cell_type": "code",
   "execution_count": 6,
   "metadata": {},
   "outputs": [
    {
     "data": {
      "text/plain": [
       "{'1': 'NAVER',\n",
       " '10': '링크제니시스',\n",
       " '11': '셀트리온헬스케어',\n",
       " '12': '에코프로',\n",
       " '13': '유라테크',\n",
       " '14': '에이티넘인베스트',\n",
       " '15': '아남전자',\n",
       " '16': '네이처셀',\n",
       " '17': '완리',\n",
       " '18': '넷마블게임즈',\n",
       " '19': 'DSC인베스트먼트',\n",
       " '2': '셀트리온',\n",
       " '20': '넷게임즈',\n",
       " '21': '미투온',\n",
       " '22': '광주은행',\n",
       " '23': 'NHN엔터테인먼트',\n",
       " '24': '한국타이어',\n",
       " '25': '한미약품',\n",
       " '26': '지트리비앤티',\n",
       " '27': '유니테스트',\n",
       " '28': '차바이오텍',\n",
       " '29': '컴투스',\n",
       " '3': 'OCI',\n",
       " '30': '대웅제약',\n",
       " '4': '삼성물산',\n",
       " '5': '한올바이오파마',\n",
       " '6': '삼성전자',\n",
       " '7': 'SK하이닉스',\n",
       " '8': '뉴프라이드',\n",
       " '9': '펄어비스',\n",
       " 'time': '2018-02-07 06:16'}"
      ]
     },
     "execution_count": 6,
     "metadata": {},
     "output_type": "execute_result"
    }
   ],
   "source": [
    "rank"
   ]
  },
  {
   "cell_type": "code",
   "execution_count": 7,
   "metadata": {
    "collapsed": true
   },
   "outputs": [],
   "source": [
    "import json"
   ]
  },
  {
   "cell_type": "code",
   "execution_count": 8,
   "metadata": {
    "collapsed": true
   },
   "outputs": [],
   "source": [
    "json = json.dumps(rank, ensure_ascii=False)"
   ]
  },
  {
   "cell_type": "code",
   "execution_count": 9,
   "metadata": {
    "collapsed": true
   },
   "outputs": [],
   "source": [
    "f = open(str(rank[\"time\"])+\".json\",\"w\")\n",
    "f.write(json)\n",
    "f.close()"
   ]
  },
  {
   "cell_type": "code",
   "execution_count": null,
   "metadata": {
    "collapsed": true
   },
   "outputs": [],
   "source": []
  }
 ],
 "metadata": {
  "kernelspec": {
   "display_name": "Python 3",
   "language": "python",
   "name": "python3"
  },
  "language_info": {
   "codemirror_mode": {
    "name": "ipython",
    "version": 3
   },
   "file_extension": ".py",
   "mimetype": "text/x-python",
   "name": "python",
   "nbconvert_exporter": "python",
   "pygments_lexer": "ipython3",
   "version": "3.6.3"
  }
 },
 "nbformat": 4,
 "nbformat_minor": 2
}
