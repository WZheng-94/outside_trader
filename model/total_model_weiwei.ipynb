{
 "cells": [
  {
   "cell_type": "code",
   "execution_count": 1,
   "metadata": {
    "collapsed": true
   },
   "outputs": [],
   "source": [
    "import json\n",
    "import pandas as pd\n",
    "import numpy as np"
   ]
  },
  {
   "cell_type": "code",
   "execution_count": 30,
   "metadata": {
    "collapsed": true
   },
   "outputs": [],
   "source": [
    "with open(\"df_1hour_Feb.json\", 'r', encoding='UTF-8') as f:\n",
    "    F_data = json.load(f)"
   ]
  },
  {
   "cell_type": "code",
   "execution_count": 31,
   "metadata": {
    "collapsed": true
   },
   "outputs": [],
   "source": [
    "with open(\"df_1hour_Mar.json\", 'r', encoding='UTF-8') as f:\n",
    "    M_data = json.load(f)"
   ]
  },
  {
   "cell_type": "code",
   "execution_count": 32,
   "metadata": {
    "collapsed": true
   },
   "outputs": [],
   "source": [
    "COLUMNS = ['name', 'code', 'time', 'price', 'time_1', 'price_1', 'price_dif_1', 'sell_1', 'buy_1', 'volume_1', 'variation_1', 'post_num_1', 'unique_id_1', 'click_1', 'like_1', 'dislike_1', 'time_2', 'price_2', 'price_dif_2', 'sell_2', 'buy_2', 'volume_2', 'variation_2', 'post_num_2', 'unique_id_2', 'click_2', 'like_2', 'dislike_2', 'time_3', 'price_3', 'price_dif_3', 'sell_3', 'buy_3', 'volume_3', 'variation_3', 'post_num_3', 'unique_id_3', 'click_3', 'like_3', 'dislike_3', 'mkt_cap', 'kospi', 'kosdaq', 'trash', 'yesterday_closing_price', 'is_maximum', 'is_minimum', 'price_volatility', 'price_trend', 'average_price_volatility', 'sell_minus_buy_1', 'sell_minus_buy_2', 'sell_minus_buy_3', 'is_price_gap_stable', 'price_gap_volatility', 'is_like_higher', 'volume_trend', 'post_num_trend', 'unique_id_trend', 'click_trend', 'price_increase', 'did_price_increase', 'did_price_033', 'did_price_100', 'did_price_150', 'kospi_ind', 'kosdaq_ind', 'time_slot', 'ko_inter', 'early_mor', 'morning', 'lunch', 'afternoon', 'late', 'mkt_change', 'alpha', 'per_now', 'kospi_1', 'kospi_2', 'kospi_3', 'kospi_answer', 'kosdaq_1', 'kosdaq_2', 'kosdaq_3', 'kosdaq_answer', 'kospi_trend', 'kosdaq_trend', 'kospi_increase', 'kosdaq_increase', 'market_increase', 'did_opening_price_increase', 'price_1_sq', 'price_dif_1_sq', 'sell_1_sq', 'buy_1_sq', 'volume_1_sq', 'variation_1_sq', 'post_num_1_sq', 'unique_id_1_sq', 'click_1_sq', 'like_1_sq', 'dislike_1_sq', 'price_2_sq', 'price_dif_2_sq', 'sell_2_sq', 'buy_2_sq', 'volume_2_sq', 'variation_2_sq', 'post_num_2_sq', 'unique_id_2_sq', 'click_2_sq', 'like_2_sq', 'dislike_2_sq', 'price_3_sq', 'price_dif_3_sq', 'sell_3_sq', 'buy_3_sq', 'volume_3_sq', 'variation_3_sq', 'post_num_3_sq', 'unique_id_3_sq', 'click_3_sq', 'like_3_sq', 'dislike_3_sq', 'mkt_cap_sq', 'yesterday_closing_price_sq', 'price_volatility_sq', 'price_trend_sq', 'average_price_volatility_sq', 'sell_minus_buy_1_sq', 'sell_minus_buy_2_sq', 'sell_minus_buy_3_sq', 'price_gap_volatility_sq', 'volume_trend_sq', 'post_num_trend_sq', 'unique_id_trend_sq', 'click_trend_sq', 'kospi_ind_sq', 'kosdaq_ind_sq', 'time_slot_sq', 'ko_inter_sq', 'mkt_change_sq', 'alpha_sq', 'per_now_sq', 'kospi_1_sq', 'kospi_2_sq', 'kospi_3_sq', 'kosdaq_1_sq', 'kosdaq_2_sq', 'kosdaq_3_sq', 'kospi_trend_sq', 'kosdaq_trend_sq']"
   ]
  },
  {
   "cell_type": "code",
   "execution_count": 33,
   "metadata": {},
   "outputs": [],
   "source": [
    "df_F = pd.DataFrame(F_data, columns = COLUMNS)\n",
    "df_M = pd.DataFrame(M_data, columns = COLUMNS)\n",
    "df = pd.concat([df_F, df_M])"
   ]
  },
  {
   "cell_type": "code",
   "execution_count": 34,
   "metadata": {
    "collapsed": true
   },
   "outputs": [],
   "source": [
    "df = df.dropna(axis=0, how='any')"
   ]
  },
  {
   "cell_type": "code",
   "execution_count": 7,
   "metadata": {
    "collapsed": true
   },
   "outputs": [],
   "source": [
    "with open(\"KNN_mod.json\", 'r', encoding='UTF-8') as f:\n",
    "    KNN = json.load(f)"
   ]
  },
  {
   "cell_type": "code",
   "execution_count": 8,
   "metadata": {
    "collapsed": true
   },
   "outputs": [],
   "source": [
    "with open(\"Logistic_mod.json\", 'r', encoding='UTF-8') as f:\n",
    "    Logistic = json.load(f)"
   ]
  },
  {
   "cell_type": "code",
   "execution_count": 9,
   "metadata": {
    "collapsed": true
   },
   "outputs": [],
   "source": [
    "with open(\"PLS_mod.json\", 'r', encoding='UTF-8') as f:\n",
    "    PLS = json.load(f)"
   ]
  },
  {
   "cell_type": "code",
   "execution_count": 10,
   "metadata": {
    "collapsed": true
   },
   "outputs": [],
   "source": [
    "with open(\"RF_mod.json\", 'r', encoding='UTF-8') as f:\n",
    "    RF = json.load(f)"
   ]
  },
  {
   "cell_type": "code",
   "execution_count": 12,
   "metadata": {},
   "outputs": [],
   "source": [
    "with open(\"BAGGING_mod.json\", 'r', encoding='UTF-8') as f:\n",
    "    BAG = json.load(f)"
   ]
  },
  {
   "cell_type": "code",
   "execution_count": 13,
   "metadata": {},
   "outputs": [],
   "source": [
    "KNN_mod = pd.DataFrame(np.nan, index=range(df.shape[0]), columns=['KNN'])"
   ]
  },
  {
   "cell_type": "code",
   "execution_count": 14,
   "metadata": {},
   "outputs": [],
   "source": [
    "KNN_val = pd.DataFrame(KNN, index = range(5425, 13596), columns=['KNN'])"
   ]
  },
  {
   "cell_type": "code",
   "execution_count": 15,
   "metadata": {},
   "outputs": [],
   "source": [
    "KNN_mod.update(KNN_val)"
   ]
  },
  {
   "cell_type": "code",
   "execution_count": 16,
   "metadata": {},
   "outputs": [],
   "source": [
    "PLS_mod = pd.DataFrame(np.nan, index=range(df.shape[0]), columns=['PLS'])"
   ]
  },
  {
   "cell_type": "code",
   "execution_count": 17,
   "metadata": {
    "collapsed": true
   },
   "outputs": [],
   "source": [
    "PLS_val = pd.DataFrame(PLS, index = range(5425, 13596), columns=['PLS'])"
   ]
  },
  {
   "cell_type": "code",
   "execution_count": 18,
   "metadata": {
    "collapsed": true
   },
   "outputs": [],
   "source": [
    "PLS_mod.update(PLS_val)"
   ]
  },
  {
   "cell_type": "code",
   "execution_count": 19,
   "metadata": {
    "collapsed": true
   },
   "outputs": [],
   "source": [
    "LOG_mod = pd.DataFrame(np.nan, index=range(df.shape[0]), columns=['Logistic'])"
   ]
  },
  {
   "cell_type": "code",
   "execution_count": 20,
   "metadata": {
    "collapsed": true
   },
   "outputs": [],
   "source": [
    "LOG_val = pd.DataFrame(Logistic, index = range(5425, 13596), columns=['Logistic'])"
   ]
  },
  {
   "cell_type": "code",
   "execution_count": 21,
   "metadata": {},
   "outputs": [],
   "source": [
    "LOG_mod.update(LOG_val)"
   ]
  },
  {
   "cell_type": "code",
   "execution_count": 22,
   "metadata": {
    "collapsed": true
   },
   "outputs": [],
   "source": [
    "RF_mod = pd.DataFrame(np.nan, index=range(df.shape[0]), columns=['Random Forest'])\n",
    "RF_val = pd.DataFrame(Logistic, index = range(5425, 13596), columns=['Random Forest'])\n",
    "RF_mod.update(RF_val)"
   ]
  },
  {
   "cell_type": "code",
   "execution_count": 23,
   "metadata": {
    "collapsed": true
   },
   "outputs": [],
   "source": [
    "BAG_mod = pd.DataFrame(np.nan, index=range(df.shape[0]), columns=['Bagging'])\n",
    "BAG_val = pd.DataFrame(Logistic, index = range(5425, 13596), columns=['Bagging'])\n",
    "BAG_mod.update(BAG_val)"
   ]
  },
  {
   "cell_type": "code",
   "execution_count": 36,
   "metadata": {},
   "outputs": [],
   "source": [
    "df = df.reset_index()"
   ]
  },
  {
   "cell_type": "code",
   "execution_count": 37,
   "metadata": {},
   "outputs": [],
   "source": [
    "df = pd.concat([df, KNN_mod, PLS_mod, LOG_mod, RF_mod, BAG_mod], axis = 1)"
   ]
  },
  {
   "cell_type": "code",
   "execution_count": 41,
   "metadata": {},
   "outputs": [
    {
     "data": {
      "text/plain": [
       "index                             1\n",
       "name                          대한광통신\n",
       "code                         010170\n",
       "time               2018-02-14 10:30\n",
       "price                          7030\n",
       "time_1             2018-02-14 09:10\n",
       "price_1                        7060\n",
       "price_dif_1                      90\n",
       "sell_1                         7060\n",
       "buy_1                          7050\n",
       "volume_1                     101713\n",
       "variation_1                    3250\n",
       "post_num_1                        0\n",
       "unique_id_1                       0\n",
       "click_1                           0\n",
       "like_1                            0\n",
       "dislike_1                         0\n",
       "time_2             2018-02-14 09:20\n",
       "price_2                        7010\n",
       "price_dif_2                      40\n",
       "sell_2                         7010\n",
       "buy_2                          7000\n",
       "volume_2                     149051\n",
       "variation_2                    1772\n",
       "post_num_2                        0\n",
       "unique_id_2                       0\n",
       "click_2                           0\n",
       "like_2                            0\n",
       "dislike_2                         0\n",
       "time_3             2018-02-14 09:30\n",
       "                         ...       \n",
       "kospi_ind_sq               0.869156\n",
       "kosdaq_ind_sq              0.937375\n",
       "time_slot_sq                      4\n",
       "ko_inter_sq                0.814725\n",
       "mkt_change_sq              0.937375\n",
       "alpha_sq                   0.372113\n",
       "per_now_sq                  2.49069\n",
       "kospi_1_sq              5.83512e+06\n",
       "kospi_2_sq              5.81639e+06\n",
       "kospi_3_sq              5.80931e+06\n",
       "kosdaq_1_sq                  698929\n",
       "kosdaq_2_sq                  690844\n",
       "kosdaq_3_sq                  694172\n",
       "kospi_trend_sq              3854.75\n",
       "kosdaq_trend_sq             19942.3\n",
       "level_0                           1\n",
       "index                             1\n",
       "KNN                             NaN\n",
       "level_0                           1\n",
       "index                             1\n",
       "PLS                             NaN\n",
       "level_0                           1\n",
       "index                             1\n",
       "Logistic                        NaN\n",
       "level_0                           1\n",
       "index                             1\n",
       "Random Forest                   NaN\n",
       "level_0                           1\n",
       "index                             1\n",
       "Bagging                         NaN\n",
       "Name: 1, Length: 168, dtype: object"
      ]
     },
     "execution_count": 41,
     "metadata": {},
     "output_type": "execute_result"
    }
   ],
   "source": [
    "df.iloc[1]"
   ]
  },
  {
   "cell_type": "code",
   "execution_count": 42,
   "metadata": {
    "collapsed": true
   },
   "outputs": [],
   "source": [
    "df.to_json('model_df_weiwei.json', orient='values')"
   ]
  },
  {
   "cell_type": "code",
   "execution_count": 57,
   "metadata": {},
   "outputs": [],
   "source": [
    "'''\n",
    "df['KNN_ans'] = 1 + (df['KNN'] * df['price_increase']) - 0.0033\n",
    "'''"
   ]
  },
  {
   "cell_type": "code",
   "execution_count": 58,
   "metadata": {
    "collapsed": true
   },
   "outputs": [],
   "source": [
    "'''\n",
    "gb = pd.DataFrame(df.groupby('time')['KNN_ans'].mean()).reset_index()\n",
    "'''"
   ]
  },
  {
   "cell_type": "code",
   "execution_count": 59,
   "metadata": {
    "collapsed": true
   },
   "outputs": [],
   "source": [
    "'''\n",
    "gb['KNN_balance'] = np.nan\n",
    "'''"
   ]
  },
  {
   "cell_type": "code",
   "execution_count": 60,
   "metadata": {
    "collapsed": true
   },
   "outputs": [],
   "source": [
    "'''\n",
    "for idx, row in gb.iterrows():\n",
    "    if idx == 93:\n",
    "        gb.set_value(idx, 'KNN_balance', row['KNN_ans'])\n",
    "    else:\n",
    "        gb.set_value(idx, 'KNN_balance', row['KNN_ans'] * gb.iloc[idx - 1]['KNN_balance'])\n",
    "'''"
   ]
  },
  {
   "cell_type": "code",
   "execution_count": null,
   "metadata": {
    "collapsed": true
   },
   "outputs": [],
   "source": []
  }
 ],
 "metadata": {
  "kernelspec": {
   "display_name": "Python 3",
   "language": "python",
   "name": "python3"
  },
  "language_info": {
   "codemirror_mode": {
    "name": "ipython",
    "version": 3
   },
   "file_extension": ".py",
   "mimetype": "text/x-python",
   "name": "python",
   "nbconvert_exporter": "python",
   "pygments_lexer": "ipython3",
   "version": "3.6.2"
  }
 },
 "nbformat": 4,
 "nbformat_minor": 2
}
