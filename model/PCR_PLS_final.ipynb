{
 "cells": [
  {
   "cell_type": "code",
   "execution_count": 3,
   "metadata": {
    "collapsed": true
   },
   "outputs": [],
   "source": [
    "import pandas as pd\n",
    "import numpy as np\n",
    "import matplotlib.pyplot as plt\n",
    "import seaborn as sns\n",
    "\n",
    "from sklearn.decomposition import PCA\n",
    "from sklearn.model_selection import KFold, cross_val_score\n",
    "from sklearn.metrics import mean_squared_error\n",
    "from sklearn.cross_decomposition import PLSRegression\n",
    "\n",
    "from sklearn.linear_model import LogisticRegression\n",
    "from sklearn import metrics \n",
    "from sklearn.metrics import classification_report\n",
    "from pylab import rcParams\n",
    "from sklearn.preprocessing import scale \n",
    "\n",
    "%matplotlib inline\n",
    "plt.style.use('seaborn-white')"
   ]
  },
  {
   "cell_type": "code",
   "execution_count": 4,
   "metadata": {
    "collapsed": true
   },
   "outputs": [],
   "source": [
    "import json\n",
    "with open(\"df_1hour_Feb.json\", 'r', encoding='UTF-8') as f:\n",
    "    F_data = json.load(f)"
   ]
  },
  {
   "cell_type": "code",
   "execution_count": 5,
   "metadata": {},
   "outputs": [],
   "source": [
    "with open(\"df_1hour_Mar_05.json\", 'r', encoding='UTF-8') as f:\n",
    "    M_data = json.load(f)"
   ]
  },
  {
   "cell_type": "code",
   "execution_count": 6,
   "metadata": {
    "collapsed": true
   },
   "outputs": [],
   "source": [
    "COLUMNS = ['name', 'code', 'time', 'price', 'time_1', 'price_1', 'price_dif_1', 'sell_1', 'buy_1', 'volume_1', 'variation_1', 'post_num_1', 'unique_id_1', 'click_1', 'like_1', 'dislike_1', 'time_2', 'price_2', 'price_dif_2', 'sell_2', 'buy_2', 'volume_2', 'variation_2', 'post_num_2', 'unique_id_2', 'click_2', 'like_2', 'dislike_2', 'time_3', 'price_3', 'price_dif_3', 'sell_3', 'buy_3', 'volume_3', 'variation_3', 'post_num_3', 'unique_id_3', 'click_3', 'like_3', 'dislike_3', 'mkt_cap', 'kospi', 'kosdaq', 'trash', 'yesterday_closing_price', 'is_maximum', 'is_minimum', 'price_volatility', 'price_trend', 'average_price_volatility', 'sell_minus_buy_1', 'sell_minus_buy_2', 'sell_minus_buy_3', 'is_price_gap_stable', 'price_gap_volatility', 'is_like_higher', 'volume_trend', 'post_num_trend', 'unique_id_trend', 'click_trend', 'price_increase', 'did_price_increase', 'did_price_033', 'did_price_100', 'did_price_150', 'kospi_ind', 'kosdaq_ind', 'time_slot', 'ko_inter', 'early_mor', 'morning', 'lunch', 'afternoon', 'late', 'mkt_change', 'alpha', 'per_now', 'kospi_1', 'kospi_2', 'kospi_3', 'kospi_answer', 'kosdaq_1', 'kosdaq_2', 'kosdaq_3', 'kosdaq_answer', 'kospi_trend', 'kosdaq_trend', 'kospi_increase', 'kosdaq_increase', 'market_increase', 'did_opening_price_increase', 'price_1_sq', 'price_dif_1_sq', 'sell_1_sq', 'buy_1_sq', 'volume_1_sq', 'variation_1_sq', 'post_num_1_sq', 'unique_id_1_sq', 'click_1_sq', 'like_1_sq', 'dislike_1_sq', 'price_2_sq', 'price_dif_2_sq', 'sell_2_sq', 'buy_2_sq', 'volume_2_sq', 'variation_2_sq', 'post_num_2_sq', 'unique_id_2_sq', 'click_2_sq', 'like_2_sq', 'dislike_2_sq', 'price_3_sq', 'price_dif_3_sq', 'sell_3_sq', 'buy_3_sq', 'volume_3_sq', 'variation_3_sq', 'post_num_3_sq', 'unique_id_3_sq', 'click_3_sq', 'like_3_sq', 'dislike_3_sq', 'mkt_cap_sq', 'yesterday_closing_price_sq', 'price_volatility_sq', 'price_trend_sq', 'average_price_volatility_sq', 'sell_minus_buy_1_sq', 'sell_minus_buy_2_sq', 'sell_minus_buy_3_sq', 'price_gap_volatility_sq', 'volume_trend_sq', 'post_num_trend_sq', 'unique_id_trend_sq', 'click_trend_sq', 'kospi_ind_sq', 'kosdaq_ind_sq', 'time_slot_sq', 'ko_inter_sq', 'mkt_change_sq', 'alpha_sq', 'per_now_sq', 'kospi_1_sq', 'kospi_2_sq', 'kospi_3_sq', 'kosdaq_1_sq', 'kosdaq_2_sq', 'kosdaq_3_sq', 'kospi_trend_sq', 'kosdaq_trend_sq']"
   ]
  },
  {
   "cell_type": "code",
   "execution_count": 7,
   "metadata": {
    "collapsed": true
   },
   "outputs": [],
   "source": [
    "df_F = pd.DataFrame(F_data, columns = COLUMNS)\n",
    "df_M = pd.DataFrame(M_data, columns = COLUMNS)\n",
    "df = pd.concat([df_F, df_M])"
   ]
  },
  {
   "cell_type": "code",
   "execution_count": 8,
   "metadata": {
    "collapsed": true
   },
   "outputs": [],
   "source": [
    "df = df.dropna(axis=0, how='any')"
   ]
  },
  {
   "cell_type": "code",
   "execution_count": 9,
   "metadata": {},
   "outputs": [],
   "source": [
    "time_filter_train = (df['time'].str.startswith(\"2018-02-21\")) | \\\n",
    "                    (df['time'].str.startswith(\"2018-02-20\")) | \\\n",
    "                    (df['time'].str.startswith(\"2018-02-14\")) | \\\n",
    "                    (df['time'].str.startswith(\"2018-02-22\")) | \\\n",
    "                    (df['time'].str.startswith(\"2018-02-23\")) | \\\n",
    "                    (df['time'].str.startswith(\"2018-02-26\")) \n",
    "\n",
    "time_filter_test = (df['time'].str.startswith(\"2018-02-28\")) | \\\n",
    "                   (df['time'].str.startswith(\"2018-03-02\")) | \\\n",
    "                   (df['time'].str.startswith(\"2018-03-05\")) | \\\n",
    "                   (df['time'].str.startswith(\"2018-02-27\"))\n",
    "        \n",
    "train_df = df[time_filter_train].reset_index(drop = True)\n",
    "test_df = df[time_filter_test].reset_index(drop = True)"
   ]
  },
  {
   "cell_type": "code",
   "execution_count": 10,
   "metadata": {
    "collapsed": true
   },
   "outputs": [],
   "source": [
    "X_COL = ['price_1','price_dif_1','sell_1','buy_1','volume_1','variation_1','post_num_1','unique_id_1','click_1',\n",
    "     'like_1','dislike_1','price_2','price_dif_2','sell_2','buy_2','volume_2','variation_2','post_num_2','unique_id_2',\n",
    "     'click_2','like_2','dislike_2','price_3','price_dif_3','sell_3','buy_3','volume_3','variation_3','post_num_3',\n",
    "     'unique_id_3','click_3','like_3','dislike_3','mkt_cap','kospi','kosdaq','trash','yesterday_closing_price',\n",
    "     'is_maximum','is_minimum','price_volatility','price_trend','average_price_volatility','sell_minus_buy_1',\n",
    "     'sell_minus_buy_2','sell_minus_buy_3','is_price_gap_stable','price_gap_volatility','is_like_higher',\n",
    "     'volume_trend','post_num_trend','unique_id_trend','click_trend','kospi_ind','kosdaq_ind','time_slot',\n",
    "     'ko_inter','early_mor','morning','lunch','afternoon','late','mkt_change','alpha','per_now','kospi_1','kospi_2',\n",
    "     'kospi_3','kosdaq_1','kosdaq_2','kosdaq_3','kospi_trend','kosdaq_trend','did_opening_price_increase',\n",
    "     'price_1_sq','price_dif_1_sq','sell_1_sq','buy_1_sq','volume_1_sq','variation_1_sq','post_num_1_sq',\n",
    "     'unique_id_1_sq','click_1_sq','like_1_sq','dislike_1_sq','price_2_sq','price_dif_2_sq','sell_2_sq',\n",
    "     'buy_2_sq','volume_2_sq','variation_2_sq','post_num_2_sq','unique_id_2_sq','click_2_sq','like_2_sq',\n",
    "     'dislike_2_sq','price_3_sq','price_dif_3_sq','sell_3_sq','buy_3_sq','volume_3_sq','variation_3_sq',\n",
    "     'post_num_3_sq','unique_id_3_sq','click_3_sq','like_3_sq','dislike_3_sq','mkt_cap_sq',\n",
    "     'yesterday_closing_price_sq','price_volatility_sq','price_trend_sq','average_price_volatility_sq',\n",
    "     'sell_minus_buy_1_sq','sell_minus_buy_2_sq','sell_minus_buy_3_sq','price_gap_volatility_sq',\n",
    "     'volume_trend_sq','post_num_trend_sq','unique_id_trend_sq','click_trend_sq','kospi_ind_sq','kosdaq_ind_sq',\n",
    "     'time_slot_sq','ko_inter_sq','mkt_change_sq','alpha_sq','per_now_sq','kospi_1_sq','kospi_2_sq','kospi_3_sq',\n",
    "     'kosdaq_1_sq','kosdaq_2_sq','kosdaq_3_sq','kospi_trend_sq','kosdaq_trend_sq']"
   ]
  },
  {
   "cell_type": "code",
   "execution_count": 11,
   "metadata": {
    "collapsed": true
   },
   "outputs": [],
   "source": [
    "X = df[X_COL]\n",
    "y = df['did_price_033']\n",
    "X_train = train_df[X_COL]\n",
    "X_test = test_df[X_COL]\n",
    "y_train = train_df['did_price_033']\n",
    "y_test = test_df['did_price_033']\n",
    "y_test_in = test_df['price_increase']"
   ]
  },
  {
   "cell_type": "code",
   "execution_count": 13,
   "metadata": {},
   "outputs": [
    {
     "data": {
      "text/plain": [
       "(11629, 135)"
      ]
     },
     "execution_count": 13,
     "metadata": {},
     "output_type": "execute_result"
    }
   ],
   "source": [
    "X_train.shape"
   ]
  },
  {
   "cell_type": "markdown",
   "metadata": {},
   "source": [
    "pca"
   ]
  },
  {
   "cell_type": "code",
   "execution_count": 17,
   "metadata": {
    "collapsed": true
   },
   "outputs": [],
   "source": [
    "def find_best_pca(num):\n",
    "    pca = PCA()\n",
    "    X_reduced_train = pca.fit_transform(scale(X_train))\n",
    "    n = len(X_reduced_train)\n",
    "    kf_10 = KFold(n_splits= 10, shuffle=False, random_state=1)\n",
    "    mse = []\n",
    "    regr = LogisticRegression()    \n",
    "    for i in np.arange(1, num):\n",
    "        score = abs(cross_val_score(regr, X_reduced_train[:,:i], y_train, cv=kf_10, scoring='neg_mean_squared_error')).mean()\n",
    "        mse.append(score)\n",
    "    \n",
    "    return mse, mse.index(min(mse))      "
   ]
  },
  {
   "cell_type": "code",
   "execution_count": 18,
   "metadata": {
    "collapsed": true
   },
   "outputs": [],
   "source": [
    "def get_best_mean(num):\n",
    "    \n",
    "    best_pca = find_best_pca(num)\n",
    "    pca = PCA()\n",
    "    X_reduced_train = pca.fit_transform(scale(X_train))\n",
    "    X_reduced_test = pca.transform(scale(X_test))[:,:best_pca]\n",
    "    reg_log = LogisticRegression()\n",
    "    model = reg_log.fit(X_reduced_train[:,:best_pca], y_train)\n",
    "    y_pred = reg_log.predict(X_reduced_test)\n",
    "    y_port = y_test_in[y_pred == 1]\n",
    "    \n",
    "    return best_pca, y_port.mean()    "
   ]
  },
  {
   "cell_type": "code",
   "execution_count": 19,
   "metadata": {},
   "outputs": [
    {
     "name": "stderr",
     "output_type": "stream",
     "text": [
      "C:\\Users\\Administrator\\Anaconda3\\lib\\site-packages\\sklearn\\preprocessing\\data.py:164: UserWarning: Numerical issues were encountered when centering the data and might not be solved. Dataset may contain too large values. You may need to prescale your features.\n",
      "  warnings.warn(\"Numerical issues were encountered \"\n"
     ]
    },
    {
     "data": {
      "text/plain": [
       "3"
      ]
     },
     "execution_count": 19,
     "metadata": {},
     "output_type": "execute_result"
    }
   ],
   "source": [
    "find_best_pca(136)"
   ]
  },
  {
   "cell_type": "code",
   "execution_count": 17,
   "metadata": {},
   "outputs": [
    {
     "data": {
      "text/plain": [
       "-0.10475636824010301"
      ]
     },
     "execution_count": 17,
     "metadata": {},
     "output_type": "execute_result"
    }
   ],
   "source": [
    "y_test_in.mean()"
   ]
  },
  {
   "cell_type": "markdown",
   "metadata": {},
   "source": [
    "implementation"
   ]
  },
  {
   "cell_type": "code",
   "execution_count": 28,
   "metadata": {},
   "outputs": [
    {
     "name": "stderr",
     "output_type": "stream",
     "text": [
      "C:\\Users\\Administrator\\Anaconda3\\lib\\site-packages\\sklearn\\preprocessing\\data.py:164: UserWarning: Numerical issues were encountered when centering the data and might not be solved. Dataset may contain too large values. You may need to prescale your features.\n",
      "  warnings.warn(\"Numerical issues were encountered \"\n"
     ]
    },
    {
     "data": {
      "image/png": "[encoded data removed]",
      "text/plain": [
       "<matplotlib.figure.Figure at 0x1dcc589ef98>"
      ]
     },
     "metadata": {},
     "output_type": "display_data"
    }
   ],
   "source": [
    "pca3 = PCA()\n",
    "X_reduced_train = pca3.fit_transform(scale(X_train))\n",
    "n = len(X_reduced_train)\n",
    "\n",
    "kf_10 = KFold(n_splits= 10, shuffle=False, random_state=1)\n",
    "\n",
    "mse = []\n",
    "regr = LogisticRegression()\n",
    "\n",
    "# Calculate MSE with only the intercept (no principal components in regression)\n",
    "score = -1*cross_val_score(regr, np.ones((n,1)), y_train, cv=kf_10, scoring='neg_mean_squared_error').mean()    \n",
    "mse.append(score)\n",
    "\n",
    "# Calculate MSE using CV for the principle components, adding one component at the time.\n",
    "for i in np.arange(1, 136):\n",
    "    score = abs(cross_val_score(regr, X_reduced_train[:,:i], y_train, cv=kf_10, scoring='neg_mean_squared_error')).mean()\n",
    "    mse.append(score)\n",
    "\n",
    "plt.plot(np.array(mse), '-v')\n",
    "plt.xlabel('Number of principal components in regression')\n",
    "plt.ylabel('MSE')\n",
    "plt.title('Salary')\n",
    "plt.xlim(xmin=-1); "
   ]
  },
  {
   "cell_type": "code",
   "execution_count": 29,
   "metadata": {},
   "outputs": [
    {
     "data": {
      "text/plain": [
       "[0.24928666884711181,\n",
       " 0.24928666884711181,\n",
       " 0.24928666884711181,\n",
       " 0.24937265336989775,\n",
       " 0.24911469980154002,\n",
       " 0.24971659146104136,\n",
       " 0.25006052955218494,\n",
       " 0.24988856050661315,\n",
       " 0.25100635930282983,\n",
       " 0.25083439025725801,\n",
       " 0.30311298011108428,\n",
       " 0.30302699558829843,\n",
       " 0.3032849491566561,\n",
       " 0.3032849491566561,\n",
       " 0.30397282533894332,\n",
       " 0.30405880986172917,\n",
       " 0.30165131722073157,\n",
       " 0.28815167314633794,\n",
       " 0.28883954932862516,\n",
       " 0.28995734812484181,\n",
       " 0.28926947194255465,\n",
       " 0.30087738251865093,\n",
       " 0.29846974188363823,\n",
       " 0.30345684420522029,\n",
       " 0.30388684081615736,\n",
       " 0.30405880986172917,\n",
       " 0.30354290272501377,\n",
       " 0.30405880986172917,\n",
       " 0.30423077890730099,\n",
       " 0.30440274795287281,\n",
       " 0.3043167634300869,\n",
       " 0.3043167634300869,\n",
       " 0.30397282533894332,\n",
       " 0.30405880986172923,\n",
       " 0.30423077890730099,\n",
       " 0.3048326705668023,\n",
       " 0.30448873247565872,\n",
       " 0.30466070152123048,\n",
       " 0.30457471699844463,\n",
       " 0.30440274795287281,\n",
       " 0.30448873247565872,\n",
       " 0.30448873247565872,\n",
       " 0.30423077890730099,\n",
       " 0.30457471699844463,\n",
       " 0.30414479438451514,\n",
       " 0.30414479438451508,\n",
       " 0.30440274795287275,\n",
       " 0.3053485777035177,\n",
       " 0.30517660865794588,\n",
       " 0.30500463961237412,\n",
       " 0.30552054674908946,\n",
       " 0.30629440745416259,\n",
       " 0.30483267056680224,\n",
       " 0.30388684081615736,\n",
       " 0.30397282533894326,\n",
       " 0.30345691820222787,\n",
       " 0.3032849491566561,\n",
       " 0.30337093367944201,\n",
       " 0.30388684081615736,\n",
       " 0.30388684081615736,\n",
       " 0.30397282533894326,\n",
       " 0.30431676343008685,\n",
       " 0.30405880986172923,\n",
       " 0.30440274795287281,\n",
       " 0.29606224924264063,\n",
       " 0.29589028019706887,\n",
       " 0.29657815637935603,\n",
       " 0.29520240401478165,\n",
       " 0.29546035758313932,\n",
       " 0.29563232662871114,\n",
       " 0.29159105405777391,\n",
       " 0.2909891623982726,\n",
       " 0.29090317787548675,\n",
       " 0.29073120882991488,\n",
       " 0.29107514692105851,\n",
       " 0.28918348741976879,\n",
       " 0.28522819937161747,\n",
       " 0.28540016841718929,\n",
       " 0.28479827675768793,\n",
       " 0.29348271355906369,\n",
       " 0.29606224924264068,\n",
       " 0.29984556824522024,\n",
       " 0.29993155276800609,\n",
       " 0.300017537290792,\n",
       " 0.29958761467686246,\n",
       " 0.29993155276800609,\n",
       " 0.29941564563129069,\n",
       " 0.29941564563129069,\n",
       " 0.29932966110850479,\n",
       " 0.2978679242211445,\n",
       " 0.29821186231228813,\n",
       " 0.29864178492621762,\n",
       " 0.29846981588064581,\n",
       " 0.2983838313578599,\n",
       " 0.2983838313578599,\n",
       " 0.29829784683507399,\n",
       " 0.29881375397178933,\n",
       " 0.29855580040343171,\n",
       " 0.29855580040343171,\n",
       " 0.29855580040343171,\n",
       " 0.29846981588064581,\n",
       " 0.29846981588064575,\n",
       " 0.29881375397178933,\n",
       " 0.29864178492621762,\n",
       " 0.29872776944900348,\n",
       " 0.29881375397178939,\n",
       " 0.29881375397178939,\n",
       " 0.29881375397178939,\n",
       " 0.29881375397178939,\n",
       " 0.2983838313578599,\n",
       " 0.29829784683507399,\n",
       " 0.2983838313578599,\n",
       " 0.29829784683507399,\n",
       " 0.2983838313578599,\n",
       " 0.2983838313578599,\n",
       " 0.29829784683507399,\n",
       " 0.29829784683507399,\n",
       " 0.2983838313578599,\n",
       " 0.29829784683507399,\n",
       " 0.29829784683507399,\n",
       " 0.29829784683507399,\n",
       " 0.2983838313578599,\n",
       " 0.29829784683507399,\n",
       " 0.29829784683507399,\n",
       " 0.29829784683507399,\n",
       " 0.29829784683507399,\n",
       " 0.29829784683507399,\n",
       " 0.2983838313578599,\n",
       " 0.29829784683507399,\n",
       " 0.29829784683507399,\n",
       " 0.29829784683507399,\n",
       " 0.29829784683507399,\n",
       " 0.29829784683507399,\n",
       " 0.29829784683507399,\n",
       " 0.29829784683507399,\n",
       " 0.29829784683507399]"
      ]
     },
     "execution_count": 29,
     "metadata": {},
     "output_type": "execute_result"
    }
   ],
   "source": []
  },
  {
   "cell_type": "code",
   "execution_count": 37,
   "metadata": {},
   "outputs": [
    {
     "name": "stderr",
     "output_type": "stream",
     "text": [
      "C:\\Users\\Administrator\\Anaconda3\\lib\\site-packages\\sklearn\\preprocessing\\data.py:164: UserWarning: Numerical issues were encountered when centering the data and might not be solved. Dataset may contain too large values. You may need to prescale your features.\n",
      "  warnings.warn(\"Numerical issues were encountered \"\n"
     ]
    },
    {
     "data": {
      "text/plain": [
       "0.26164519326065411"
      ]
     },
     "execution_count": 37,
     "metadata": {},
     "output_type": "execute_result"
    }
   ],
   "source": [
    "pca3 = PCA()\n",
    "X_reduced_train = pca3.fit_transform(scale(X_train))\n",
    "n = len(X_reduced_train)\n",
    "\n",
    "X_reduced_test = pca3.transform(scale(X_test))[:,:80]\n",
    "\n",
    "# Train regression model on training data \n",
    "reg_log = LogisticRegression()\n",
    "model = reg_log.fit(X_reduced_train[:,:80], y_train)\n",
    "\n",
    "# Prediction with test data\n",
    "y_pred = reg_log.predict(X_reduced_test)\n",
    "mean_squared_error(y_test, y_pred)"
   ]
  },
  {
   "cell_type": "code",
   "execution_count": 38,
   "metadata": {},
   "outputs": [
    {
     "data": {
      "text/plain": [
       "True     2980\n",
       "False    1056\n",
       "dtype: int64"
      ]
     },
     "execution_count": 38,
     "metadata": {},
     "output_type": "execute_result"
    }
   ],
   "source": [
    "compare = pd.concat([pd.DataFrame(y_pred), y_test.reset_index(drop = True)], axis = 1)\n",
    "compare.columns = [\"pred\", \"test\"]\n",
    "correct = (compare[\"pred\"] == compare[\"test\"])\n",
    "correct.value_counts()"
   ]
  },
  {
   "cell_type": "code",
   "execution_count": 39,
   "metadata": {},
   "outputs": [
    {
     "name": "stdout",
     "output_type": "stream",
     "text": [
      "             precision    recall  f1-score   support\n",
      "\n",
      "          0       0.79      0.90      0.84      3148\n",
      "          1       0.32      0.16      0.21       888\n",
      "\n",
      "avg / total       0.69      0.74      0.70      4036\n",
      "\n"
     ]
    }
   ],
   "source": [
    "print(classification_report(compare[\"test\"], compare[\"pred\"]))"
   ]
  },
  {
   "cell_type": "code",
   "execution_count": 40,
   "metadata": {
    "collapsed": true
   },
   "outputs": [],
   "source": [
    "y_port = y_test_in[y_pred == 1]"
   ]
  },
  {
   "cell_type": "code",
   "execution_count": 41,
   "metadata": {},
   "outputs": [
    {
     "data": {
      "text/plain": [
       "-0.14849392740473225"
      ]
     },
     "execution_count": 41,
     "metadata": {},
     "output_type": "execute_result"
    }
   ],
   "source": [
    "y_test_in.mean()"
   ]
  },
  {
   "cell_type": "code",
   "execution_count": 42,
   "metadata": {},
   "outputs": [
    {
     "data": {
      "text/plain": [
       "-0.0768552100217106"
      ]
     },
     "execution_count": 42,
     "metadata": {},
     "output_type": "execute_result"
    }
   ],
   "source": [
    "y_port.mean()"
   ]
  },
  {
   "cell_type": "code",
   "execution_count": 43,
   "metadata": {},
   "outputs": [
    {
     "data": {
      "text/plain": [
       "(456,)"
      ]
     },
     "execution_count": 43,
     "metadata": {},
     "output_type": "execute_result"
    }
   ],
   "source": [
    "y_port.shape"
   ]
  },
  {
   "cell_type": "code",
   "execution_count": null,
   "metadata": {
    "collapsed": true
   },
   "outputs": [],
   "source": [
    "pca4 = PCA()\n",
    "X_reduced_perf = pca4.fit_transform(scale(X_train))\n",
    "n = len(X_reduced_train)\n",
    "\n",
    "X_reduced_test = pca3.transform(scale(X_test))[:,:14]\n",
    "\n",
    "# Train regression model on training data \n",
    "reg_log = LogisticRegression()\n",
    "model = reg_log.fit(X_reduced_train[:,:14], y_train)\n",
    "\n",
    "# Prediction with test data\n",
    "y_pred = reg_log.predict(X_reduced_test)\n",
    "mean_squared_error(y_test, y_pred)"
   ]
  },
  {
   "cell_type": "code",
   "execution_count": null,
   "metadata": {
    "collapsed": true
   },
   "outputs": [],
   "source": []
  },
  {
   "cell_type": "code",
   "execution_count": 78,
   "metadata": {
    "collapsed": true
   },
   "outputs": [],
   "source": [
    "PCR_mod = pd.DataFrame(y_pred, columns = ['PCR'])"
   ]
  },
  {
   "cell_type": "code",
   "execution_count": 79,
   "metadata": {},
   "outputs": [
    {
     "data": {
      "text/plain": [
       "0    3580\n",
       "1     456\n",
       "Name: PCR, dtype: int64"
      ]
     },
     "execution_count": 79,
     "metadata": {},
     "output_type": "execute_result"
    }
   ],
   "source": [
    "PCR_mod['PCR'].value_counts()"
   ]
  },
  {
   "cell_type": "code",
   "execution_count": 80,
   "metadata": {
    "collapsed": true
   },
   "outputs": [],
   "source": [
    "PCR_mod.to_json('PCR_mod.json', orient='values')"
   ]
  },
  {
   "cell_type": "markdown",
   "metadata": {},
   "source": [
    "PLS"
   ]
  },
  {
   "cell_type": "code",
   "execution_count": 27,
   "metadata": {
    "collapsed": true
   },
   "outputs": [],
   "source": [
    "def find_pls(num):\n",
    "    \n",
    "    n = len(X_train)\n",
    "    kf_10 = KFold(n_splits= 10, shuffle=False, random_state=1)\n",
    "    mse = []\n",
    "    for i in np.arange(1, num):\n",
    "        pls = PLSRegression(n_components=i)\n",
    "        score = cross_val_score(pls, scale(X_train), y_train, \\\n",
    "                                cv=kf_10, scoring='neg_mean_squared_error').mean()\n",
    "        mse.append(-score)\n",
    "        \n",
    "    return mse\n",
    "    "
   ]
  },
  {
   "cell_type": "code",
   "execution_count": null,
   "metadata": {
    "collapsed": true
   },
   "outputs": [],
   "source": [
    "mse = find_pls(136)\n",
    "n_pls = mse.index(min(mse))"
   ]
  },
  {
   "cell_type": "code",
   "execution_count": 62,
   "metadata": {},
   "outputs": [
    {
     "name": "stderr",
     "output_type": "stream",
     "text": [
      "C:\\Users\\Administrator\\Anaconda3\\lib\\site-packages\\sklearn\\preprocessing\\data.py:164: UserWarning: Numerical issues were encountered when centering the data and might not be solved. Dataset may contain too large values. You may need to prescale your features.\n",
      "  warnings.warn(\"Numerical issues were encountered \"\n"
     ]
    },
    {
     "data": {
      "text/plain": [
       "-0.049330483432028456"
      ]
     },
     "execution_count": 62,
     "metadata": {},
     "output_type": "execute_result"
    }
   ],
   "source": [
    "pls = PLSRegression(n_components = n_pls + 1) #100\n",
    "pls.fit(scale(X_train), y_train)\n",
    "y_pred_pls = pls.predict(scale(X_test))\n",
    "y_pred_pls = np.reshape(y_pred_pls, y_pred_pls.shape[0])\n",
    "y_port = y_test_in[y_pred_pls >= .5]\n",
    "y_port.mean()"
   ]
  },
  {
   "cell_type": "code",
   "execution_count": 63,
   "metadata": {},
   "outputs": [
    {
     "data": {
      "text/plain": [
       "-0.14849392740473225"
      ]
     },
     "execution_count": 63,
     "metadata": {},
     "output_type": "execute_result"
    }
   ],
   "source": [
    "y_test_in.mean()"
   ]
  },
  {
   "cell_type": "code",
   "execution_count": 68,
   "metadata": {},
   "outputs": [
    {
     "name": "stdout",
     "output_type": "stream",
     "text": [
      "             precision    recall  f1-score   support\n",
      "\n",
      "          0       0.80      0.88      0.83      3148\n",
      "          1       0.32      0.20      0.25       888\n",
      "\n",
      "avg / total       0.69      0.73      0.71      4036\n",
      "\n"
     ]
    }
   ],
   "source": [
    "print(classification_report(y_test, PLS_mod['PLS']))"
   ]
  },
  {
   "cell_type": "markdown",
   "metadata": {},
   "source": [
    "implementation"
   ]
  },
  {
   "cell_type": "code",
   "execution_count": 41,
   "metadata": {},
   "outputs": [
    {
     "data": {
      "text/plain": [
       "(-1, 142.75)"
      ]
     },
     "execution_count": 41,
     "metadata": {},
     "output_type": "execute_result"
    },
    {
     "data": {
      "image/png": "[encoded data removed]",
      "text/plain": [
       "<matplotlib.figure.Figure at 0x1b1e4fb10f0>"
      ]
     },
     "metadata": {},
     "output_type": "display_data"
    }
   ],
   "source": [
    "n = len(X_train)\n",
    "\n",
    "# 10-fold CV, with shuffle\n",
    "kf_10 = KFold(n_splits= 10, shuffle=False, random_state=1)\n",
    "\n",
    "plt.plot(np.arange(1, 137), np.array(mse), '-v')\n",
    "plt.xlabel('Number of principal components in regression')\n",
    "plt.ylabel('MSE')\n",
    "plt.title('Salary')\n",
    "plt.xlim(xmin=-1) "
   ]
  },
  {
   "cell_type": "code",
   "execution_count": 50,
   "metadata": {},
   "outputs": [
    {
     "data": {
      "text/plain": [
       "-0.89845499696"
      ]
     },
     "execution_count": 50,
     "metadata": {},
     "output_type": "execute_result"
    }
   ],
   "source": [
    "y_port.shape\n",
    "y_port.mean()"
   ]
  },
  {
   "cell_type": "code",
   "execution_count": 81,
   "metadata": {
    "collapsed": true
   },
   "outputs": [],
   "source": [
    "PLS_mod = pd.DataFrame(y_pred_pls, columns = ['PLS'])"
   ]
  },
  {
   "cell_type": "code",
   "execution_count": 82,
   "metadata": {
    "collapsed": true
   },
   "outputs": [],
   "source": [
    "PLS_mod['PLS'] = (PLS_mod['PLS'] >= 0.5).astype(int)"
   ]
  },
  {
   "cell_type": "code",
   "execution_count": 83,
   "metadata": {},
   "outputs": [
    {
     "data": {
      "text/plain": [
       "0    3474\n",
       "1     562\n",
       "Name: PLS, dtype: int64"
      ]
     },
     "execution_count": 83,
     "metadata": {},
     "output_type": "execute_result"
    }
   ],
   "source": [
    "PLS_mod['PLS'].value_counts()"
   ]
  },
  {
   "cell_type": "code",
   "execution_count": 84,
   "metadata": {
    "collapsed": true
   },
   "outputs": [],
   "source": [
    "PLS_mod.to_json('PLS_mod.json', orient='values')"
   ]
  }
 ],
 "metadata": {
  "kernelspec": {
   "display_name": "Python 3",
   "language": "python",
   "name": "python3"
  },
  "language_info": {
   "codemirror_mode": {
    "name": "ipython",
    "version": 3
   },
   "file_extension": ".py",
   "mimetype": "text/x-python",
   "name": "python",
   "nbconvert_exporter": "python",
   "pygments_lexer": "ipython3",
   "version": "3.6.2"
  }
 },
 "nbformat": 4,
 "nbformat_minor": 2
}
