{
 "cells": [
  {
   "cell_type": "code",
   "execution_count": 1,
   "metadata": {
    "collapsed": true
   },
   "outputs": [],
   "source": [
    "import pandas as pd\n",
    "import numpy as np\n",
    "\n",
    "from sklearn.metrics import mean_squared_error\n",
    "\n",
    "from sklearn import neighbors\n",
    "from sklearn.metrics import confusion_matrix, classification_report"
   ]
  },
  {
   "cell_type": "code",
   "execution_count": 2,
   "metadata": {
    "collapsed": true
   },
   "outputs": [],
   "source": [
    "import json\n",
    "with open(\"df_1hour_Feb.json\", 'r', encoding='UTF-8') as f:\n",
    "    F_data = json.load(f)"
   ]
  },
  {
   "cell_type": "code",
   "execution_count": 3,
   "metadata": {
    "collapsed": true
   },
   "outputs": [],
   "source": [
    "with open(\"df_1hour_Mar_05.json\", 'r', encoding='UTF-8') as f:\n",
    "    M_data = json.load(f)"
   ]
  },
  {
   "cell_type": "code",
   "execution_count": 4,
   "metadata": {
    "collapsed": true
   },
   "outputs": [],
   "source": [
    "COLUMNS = ['name', 'code', 'time', 'price', 'time_1', 'price_1', 'price_dif_1', 'sell_1', 'buy_1', 'volume_1', 'variation_1', 'post_num_1', 'unique_id_1', 'click_1', 'like_1', 'dislike_1', 'time_2', 'price_2', 'price_dif_2', 'sell_2', 'buy_2', 'volume_2', 'variation_2', 'post_num_2', 'unique_id_2', 'click_2', 'like_2', 'dislike_2', 'time_3', 'price_3', 'price_dif_3', 'sell_3', 'buy_3', 'volume_3', 'variation_3', 'post_num_3', 'unique_id_3', 'click_3', 'like_3', 'dislike_3', 'mkt_cap', 'kospi', 'kosdaq', 'trash', 'yesterday_closing_price', 'is_maximum', 'is_minimum', 'price_volatility', 'price_trend', 'average_price_volatility', 'sell_minus_buy_1', 'sell_minus_buy_2', 'sell_minus_buy_3', 'is_price_gap_stable', 'price_gap_volatility', 'is_like_higher', 'volume_trend', 'post_num_trend', 'unique_id_trend', 'click_trend', 'price_increase', 'did_price_increase', 'did_price_033', 'did_price_100', 'did_price_150', 'kospi_ind', 'kosdaq_ind', 'time_slot', 'ko_inter', 'early_mor', 'morning', 'lunch', 'afternoon', 'late', 'mkt_change', 'alpha', 'per_now', 'kospi_1', 'kospi_2', 'kospi_3', 'kospi_answer', 'kosdaq_1', 'kosdaq_2', 'kosdaq_3', 'kosdaq_answer', 'kospi_trend', 'kosdaq_trend', 'kospi_increase', 'kosdaq_increase', 'market_increase', 'did_opening_price_increase', 'price_1_sq', 'price_dif_1_sq', 'sell_1_sq', 'buy_1_sq', 'volume_1_sq', 'variation_1_sq', 'post_num_1_sq', 'unique_id_1_sq', 'click_1_sq', 'like_1_sq', 'dislike_1_sq', 'price_2_sq', 'price_dif_2_sq', 'sell_2_sq', 'buy_2_sq', 'volume_2_sq', 'variation_2_sq', 'post_num_2_sq', 'unique_id_2_sq', 'click_2_sq', 'like_2_sq', 'dislike_2_sq', 'price_3_sq', 'price_dif_3_sq', 'sell_3_sq', 'buy_3_sq', 'volume_3_sq', 'variation_3_sq', 'post_num_3_sq', 'unique_id_3_sq', 'click_3_sq', 'like_3_sq', 'dislike_3_sq', 'mkt_cap_sq', 'yesterday_closing_price_sq', 'price_volatility_sq', 'price_trend_sq', 'average_price_volatility_sq', 'sell_minus_buy_1_sq', 'sell_minus_buy_2_sq', 'sell_minus_buy_3_sq', 'price_gap_volatility_sq', 'volume_trend_sq', 'post_num_trend_sq', 'unique_id_trend_sq', 'click_trend_sq', 'kospi_ind_sq', 'kosdaq_ind_sq', 'time_slot_sq', 'ko_inter_sq', 'mkt_change_sq', 'alpha_sq', 'per_now_sq', 'kospi_1_sq', 'kospi_2_sq', 'kospi_3_sq', 'kosdaq_1_sq', 'kosdaq_2_sq', 'kosdaq_3_sq', 'kospi_trend_sq', 'kosdaq_trend_sq']"
   ]
  },
  {
   "cell_type": "code",
   "execution_count": 5,
   "metadata": {
    "collapsed": true
   },
   "outputs": [],
   "source": [
    "df_F = pd.DataFrame(F_data, columns = COLUMNS)\n",
    "df_M = pd.DataFrame(M_data, columns = COLUMNS)\n",
    "df = pd.concat([df_F, df_M])"
   ]
  },
  {
   "cell_type": "code",
   "execution_count": 6,
   "metadata": {
    "collapsed": true
   },
   "outputs": [],
   "source": [
    "df = df.dropna(axis=0, how='any')"
   ]
  },
  {
   "cell_type": "code",
   "execution_count": 26,
   "metadata": {
    "collapsed": true
   },
   "outputs": [],
   "source": [
    "time_filter_train = (df['time'].str.startswith(\"2018-02-21\")) | \\\n",
    "                    (df['time'].str.startswith(\"2018-02-20\")) | \\\n",
    "                    (df['time'].str.startswith(\"2018-02-14\"))\n",
    "        \n",
    "time_filter_test = (df['time'].str.startswith(\"2018-02-22\")) | \\\n",
    "                   (df['time'].str.startswith(\"2018-02-23\")) | \\\n",
    "                   (df['time'].str.startswith(\"2018-02-26\")) \n",
    "\n",
    "time_filter_pred = (df['time'].str.startswith(\"2018-02-28\")) | \\\n",
    "                   (df['time'].str.startswith(\"2018-03-02\")) | \\\n",
    "                   (df['time'].str.startswith(\"2018-03-05\")) | \\\n",
    "                   (df['time'].str.startswith(\"2018-02-27\"))\n",
    "        \n",
    "train_df = df[time_filter_train].reset_index(drop = True)\n",
    "test_df = df[time_filter_test].reset_index(drop = True)\n",
    "predict_df = df[time_filter_pred].reset_index(drop = True)"
   ]
  },
  {
   "cell_type": "code",
   "execution_count": 27,
   "metadata": {
    "collapsed": true
   },
   "outputs": [],
   "source": [
    "X_COL = ['price_1','price_dif_1','sell_1','buy_1','volume_1','variation_1','post_num_1','unique_id_1','click_1',\n",
    "     'like_1','dislike_1','price_2','price_dif_2','sell_2','buy_2','volume_2','variation_2','post_num_2','unique_id_2',\n",
    "     'click_2','like_2','dislike_2','price_3','price_dif_3','sell_3','buy_3','volume_3','variation_3','post_num_3',\n",
    "     'unique_id_3','click_3','like_3','dislike_3','mkt_cap','kospi','kosdaq','trash','yesterday_closing_price',\n",
    "     'is_maximum','is_minimum','price_volatility','price_trend','average_price_volatility','sell_minus_buy_1',\n",
    "     'sell_minus_buy_2','sell_minus_buy_3','is_price_gap_stable','price_gap_volatility','is_like_higher',\n",
    "     'volume_trend','post_num_trend','unique_id_trend','click_trend','kospi_ind','kosdaq_ind','time_slot',\n",
    "     'ko_inter','early_mor','morning','lunch','afternoon','late','mkt_change','alpha','per_now','kospi_1','kospi_2',\n",
    "     'kospi_3','kosdaq_1','kosdaq_2','kosdaq_3','kospi_trend','kosdaq_trend','did_opening_price_increase',\n",
    "     'price_1_sq','price_dif_1_sq','sell_1_sq','buy_1_sq','volume_1_sq','variation_1_sq','post_num_1_sq',\n",
    "     'unique_id_1_sq','click_1_sq','like_1_sq','dislike_1_sq','price_2_sq','price_dif_2_sq','sell_2_sq',\n",
    "     'buy_2_sq','volume_2_sq','variation_2_sq','post_num_2_sq','unique_id_2_sq','click_2_sq','like_2_sq',\n",
    "     'dislike_2_sq','price_3_sq','price_dif_3_sq','sell_3_sq','buy_3_sq','volume_3_sq','variation_3_sq',\n",
    "     'post_num_3_sq','unique_id_3_sq','click_3_sq','like_3_sq','dislike_3_sq','mkt_cap_sq',\n",
    "     'yesterday_closing_price_sq','price_volatility_sq','price_trend_sq','average_price_volatility_sq',\n",
    "     'sell_minus_buy_1_sq','sell_minus_buy_2_sq','sell_minus_buy_3_sq','price_gap_volatility_sq',\n",
    "     'volume_trend_sq','post_num_trend_sq','unique_id_trend_sq','click_trend_sq','kospi_ind_sq','kosdaq_ind_sq',\n",
    "     'time_slot_sq','ko_inter_sq','mkt_change_sq','alpha_sq','per_now_sq','kospi_1_sq','kospi_2_sq','kospi_3_sq',\n",
    "     'kosdaq_1_sq','kosdaq_2_sq','kosdaq_3_sq','kospi_trend_sq','kosdaq_trend_sq']"
   ]
  },
  {
   "cell_type": "code",
   "execution_count": 40,
   "metadata": {
    "collapsed": true
   },
   "outputs": [],
   "source": [
    "X = df[X_COL]\n",
    "y = df['did_price_033']\n",
    "X_train = train_df[X_COL]\n",
    "X_test = test_df[X_COL]\n",
    "y_train = train_df['did_price_033']\n",
    "y_test = test_df['did_price_033']\n",
    "X_perf = predict_df[X_COL]\n",
    "y_perf = predict_df['did_price_033']\n",
    "y_test_in = test_df['price_increase']"
   ]
  },
  {
   "cell_type": "code",
   "execution_count": 29,
   "metadata": {},
   "outputs": [
    {
     "data": {
      "text/plain": [
       "(5425, 135)"
      ]
     },
     "execution_count": 29,
     "metadata": {},
     "output_type": "execute_result"
    }
   ],
   "source": [
    "X_train.shape"
   ]
  },
  {
   "cell_type": "code",
   "execution_count": 30,
   "metadata": {},
   "outputs": [
    {
     "data": {
      "text/plain": [
       "(4036, 135)"
      ]
     },
     "execution_count": 30,
     "metadata": {},
     "output_type": "execute_result"
    }
   ],
   "source": [
    "X_pred.shape"
   ]
  },
  {
   "cell_type": "code",
   "execution_count": 31,
   "metadata": {},
   "outputs": [
    {
     "data": {
      "text/plain": [
       "(6204, 135)"
      ]
     },
     "execution_count": 31,
     "metadata": {},
     "output_type": "execute_result"
    }
   ],
   "source": [
    "X_test.shape"
   ]
  },
  {
   "cell_type": "code",
   "execution_count": 32,
   "metadata": {
    "collapsed": true
   },
   "outputs": [],
   "source": [
    "def get_neighbour_mean(num):\n",
    "    \n",
    "    knn = neighbors.KNeighborsClassifier(n_neighbors = num)\n",
    "    y_pred = knn.fit(X_train, y_train).predict(X_test)\n",
    "    error = (y_test != y_pred).astype(int)\n",
    "    rv = error[y_pred == 1].mean()\n",
    "    \n",
    "    return rv    "
   ]
  },
  {
   "cell_type": "code",
   "execution_count": 33,
   "metadata": {
    "collapsed": true
   },
   "outputs": [],
   "source": [
    "def get_best_neighbour(num):\n",
    "    rv_min = 1\n",
    "    min_id = 1\n",
    "    for i in range(1, num):\n",
    "        value = get_neighbour_mean(i)\n",
    "        if (value != None) and (value < rv_min):\n",
    "            min_id = i\n",
    "            rv_min = value\n",
    "        print(i, value)\n",
    "    return min_id, rv_min"
   ]
  },
  {
   "cell_type": "code",
   "execution_count": 34,
   "metadata": {},
   "outputs": [
    {
     "name": "stdout",
     "output_type": "stream",
     "text": [
      "1 0.7782805429864253\n",
      "2 0.7863013698630137\n",
      "3 0.7871621621621622\n",
      "4 0.7838983050847458\n",
      "5 0.7759056444818871\n",
      "6 0.7772585669781932\n",
      "7 0.774384236453202\n",
      "8 0.7567114093959731\n",
      "9 0.7612107623318386\n",
      "10 0.7428023032629558\n",
      "11 0.7645569620253164\n",
      "12 0.7612244897959184\n",
      "13 0.7653958944281525\n",
      "14 0.7668997668997669\n",
      "15 0.7773851590106007\n",
      "16 0.7564102564102564\n",
      "17 0.773542600896861\n",
      "18 0.7491638795986622\n",
      "19 0.7536585365853659\n",
      "20 0.7362637362637363\n",
      "21 0.7415730337078652\n",
      "22 0.7375\n",
      "23 0.7547770700636943\n",
      "24 0.7428571428571429\n",
      "25 0.743421052631579\n",
      "26 0.7317073170731707\n",
      "27 0.7446808510638298\n",
      "28 0.7754010695187166\n",
      "29 0.7692307692307693\n",
      "30 0.7602739726027398\n",
      "31 0.7650273224043715\n",
      "32 0.7459016393442623\n",
      "33 0.7650602409638554\n",
      "34 0.7619047619047619\n",
      "35 0.7575757575757576\n",
      "36 0.7280701754385965\n",
      "37 0.76\n",
      "38 0.7522123893805309\n",
      "39 0.726027397260274\n",
      "40 0.7570093457943925\n",
      "41 0.7708333333333334\n",
      "42 0.7473684210526316\n",
      "43 0.7435897435897436\n",
      "44 0.7875\n",
      "45 0.7699115044247787\n",
      "46 0.782051282051282\n",
      "47 0.776595744680851\n",
      "48 0.8115942028985508\n",
      "49 0.7634408602150538\n",
      "50 0.717948717948718\n",
      "51 0.7096774193548387\n",
      "52 0.7428571428571429\n",
      "53 0.6862745098039216\n",
      "54 0.8148148148148148\n",
      "55 0.7391304347826086\n",
      "56 0.7\n",
      "57 0.7027027027027027\n",
      "58 0.7777777777777778\n",
      "59 0.7666666666666667\n",
      "60 0.5833333333333334\n",
      "61 0.6666666666666666\n",
      "62 0.8571428571428571\n",
      "63 0.75\n",
      "64 0.7142857142857143\n",
      "65 0.6666666666666666\n",
      "66 0.6666666666666666\n",
      "67 0.5\n",
      "68 nan\n",
      "69 nan\n",
      "70 nan\n",
      "71 0.5\n",
      "72 nan\n",
      "73 nan\n",
      "74 nan\n",
      "75 1.0\n",
      "76 nan\n",
      "77 nan\n",
      "78 nan\n",
      "79 nan\n",
      "80 nan\n",
      "81 nan\n",
      "82 nan\n",
      "83 nan\n",
      "84 nan\n",
      "85 nan\n",
      "86 nan\n",
      "87 nan\n",
      "88 nan\n",
      "89 nan\n",
      "90 nan\n",
      "91 nan\n",
      "92 nan\n",
      "93 nan\n",
      "94 nan\n",
      "95 nan\n",
      "96 nan\n",
      "97 nan\n",
      "98 nan\n",
      "99 nan\n"
     ]
    }
   ],
   "source": [
    "best_n = get_best_neighbour(100)"
   ]
  },
  {
   "cell_type": "code",
   "execution_count": 35,
   "metadata": {},
   "outputs": [
    {
     "data": {
      "text/plain": [
       "(67, 0.5)"
      ]
     },
     "execution_count": 35,
     "metadata": {},
     "output_type": "execute_result"
    }
   ],
   "source": [
    "best_n"
   ]
  },
  {
   "cell_type": "code",
   "execution_count": 72,
   "metadata": {
    "collapsed": true
   },
   "outputs": [],
   "source": [
    "knn = neighbors.KNeighborsClassifier(n_neighbors = 51)\n",
    "y_pred = knn.fit(X_train, y_train).predict(X_test)"
   ]
  },
  {
   "cell_type": "code",
   "execution_count": 73,
   "metadata": {},
   "outputs": [
    {
     "data": {
      "text/plain": [
       "array([[4852,   44],\n",
       "       [1290,   18]], dtype=int64)"
      ]
     },
     "execution_count": 73,
     "metadata": {},
     "output_type": "execute_result"
    }
   ],
   "source": [
    "result_matrix = confusion_matrix(y_test, y_pred)\n",
    "result_matrix"
   ]
  },
  {
   "cell_type": "code",
   "execution_count": 74,
   "metadata": {},
   "outputs": [
    {
     "name": "stdout",
     "output_type": "stream",
     "text": [
      "             precision    recall  f1-score   support\n",
      "\n",
      "          0       0.79      0.99      0.88      4896\n",
      "          1       0.29      0.01      0.03      1308\n",
      "\n",
      "avg / total       0.68      0.78      0.70      6204\n",
      "\n"
     ]
    }
   ],
   "source": [
    "print(classification_report(y_test, y_pred))"
   ]
  },
  {
   "cell_type": "code",
   "execution_count": 75,
   "metadata": {},
   "outputs": [
    {
     "data": {
      "text/plain": [
       "0.06794331302419349"
      ]
     },
     "execution_count": 75,
     "metadata": {},
     "output_type": "execute_result"
    }
   ],
   "source": [
    "y_port = y_test_in[y_pred == 1]\n",
    "y_port.mean()"
   ]
  },
  {
   "cell_type": "code",
   "execution_count": 76,
   "metadata": {},
   "outputs": [
    {
     "data": {
      "text/plain": [
       "-0.10475636824010301"
      ]
     },
     "execution_count": 76,
     "metadata": {},
     "output_type": "execute_result"
    }
   ],
   "source": [
    "y_test_in.mean()"
   ]
  },
  {
   "cell_type": "code",
   "execution_count": 77,
   "metadata": {},
   "outputs": [
    {
     "data": {
      "text/plain": [
       "(62,)"
      ]
     },
     "execution_count": 77,
     "metadata": {},
     "output_type": "execute_result"
    }
   ],
   "source": [
    "y_port.shape"
   ]
  },
  {
   "cell_type": "code",
   "execution_count": 94,
   "metadata": {
    "collapsed": true
   },
   "outputs": [],
   "source": [
    "y_perf_in = predict_df['price_increase']\n",
    "knn = neighbors.KNeighborsClassifier(n_neighbors = 51)\n",
    "y_perf_pred = knn.fit(X_train, y_train).predict(X_perf)\n",
    "y_port = y_perf_in[y_perf_pred == 1]"
   ]
  },
  {
   "cell_type": "code",
   "execution_count": 102,
   "metadata": {},
   "outputs": [
    {
     "data": {
      "text/plain": [
       "-0.14849392740473225"
      ]
     },
     "execution_count": 102,
     "metadata": {},
     "output_type": "execute_result"
    }
   ],
   "source": [
    "y_perf_in.mean()"
   ]
  },
  {
   "cell_type": "code",
   "execution_count": 95,
   "metadata": {},
   "outputs": [
    {
     "data": {
      "text/plain": [
       "-0.0751963179236842"
      ]
     },
     "execution_count": 95,
     "metadata": {},
     "output_type": "execute_result"
    }
   ],
   "source": [
    "y_port.mean()"
   ]
  },
  {
   "cell_type": "code",
   "execution_count": 96,
   "metadata": {},
   "outputs": [
    {
     "data": {
      "text/plain": [
       "(38,)"
      ]
     },
     "execution_count": 96,
     "metadata": {},
     "output_type": "execute_result"
    }
   ],
   "source": [
    "y_port.shape"
   ]
  },
  {
   "cell_type": "code",
   "execution_count": 97,
   "metadata": {},
   "outputs": [
    {
     "name": "stdout",
     "output_type": "stream",
     "text": [
      "             precision    recall  f1-score   support\n",
      "\n",
      "          0       0.78      0.99      0.87      3148\n",
      "          1       0.21      0.01      0.02       888\n",
      "\n",
      "avg / total       0.65      0.77      0.68      4036\n",
      "\n"
     ]
    }
   ],
   "source": [
    "print(classification_report(y_perf, y_perf_pred))"
   ]
  },
  {
   "cell_type": "code",
   "execution_count": 138,
   "metadata": {
    "collapsed": true
   },
   "outputs": [],
   "source": [
    "KNN_mod = pd.DataFrame(y_perf_pred, columns = ['KNN'])"
   ]
  },
  {
   "cell_type": "code",
   "execution_count": 139,
   "metadata": {},
   "outputs": [
    {
     "data": {
      "text/plain": [
       "0    3998\n",
       "1      38\n",
       "Name: KNN, dtype: int64"
      ]
     },
     "execution_count": 139,
     "metadata": {},
     "output_type": "execute_result"
    }
   ],
   "source": [
    "KNN_mod['KNN'].value_counts()"
   ]
  },
  {
   "cell_type": "code",
   "execution_count": 140,
   "metadata": {
    "collapsed": true
   },
   "outputs": [],
   "source": [
    "KNN_mod.to_json('KNN_mod.json', orient='values')"
   ]
  },
  {
   "cell_type": "markdown",
   "metadata": {},
   "source": [
    "KNN & Logistic"
   ]
  },
  {
   "cell_type": "code",
   "execution_count": null,
   "metadata": {
    "collapsed": true
   },
   "outputs": [],
   "source": []
  },
  {
   "cell_type": "code",
   "execution_count": 115,
   "metadata": {
    "collapsed": true
   },
   "outputs": [],
   "source": [
    "var_filter = ['kospi_trend_sq',\n",
    " 'price_1',\n",
    " 'average_price_volatility',\n",
    " 'price_dif_1',\n",
    " 'price_dif_3_sq',\n",
    " 'sell_1']"
   ]
  },
  {
   "cell_type": "code",
   "execution_count": 125,
   "metadata": {
    "collapsed": true
   },
   "outputs": [],
   "source": [
    "knn = neighbors.KNeighborsClassifier(n_neighbors = 2)\n",
    "y_pred = knn.fit(X_train[var_filter], y_train).predict(X_test[var_filter])"
   ]
  },
  {
   "cell_type": "code",
   "execution_count": 126,
   "metadata": {},
   "outputs": [
    {
     "data": {
      "text/plain": [
       "array([[4421,  475],\n",
       "       [1151,  157]], dtype=int64)"
      ]
     },
     "execution_count": 126,
     "metadata": {},
     "output_type": "execute_result"
    }
   ],
   "source": [
    "result_matrix = confusion_matrix(y_test, y_pred)\n",
    "result_matrix"
   ]
  },
  {
   "cell_type": "code",
   "execution_count": 127,
   "metadata": {},
   "outputs": [
    {
     "name": "stdout",
     "output_type": "stream",
     "text": [
      "             precision    recall  f1-score   support\n",
      "\n",
      "          0       0.79      0.90      0.84      4896\n",
      "          1       0.25      0.12      0.16      1308\n",
      "\n",
      "avg / total       0.68      0.74      0.70      6204\n",
      "\n"
     ]
    }
   ],
   "source": [
    "print(classification_report(y_test, y_pred))"
   ]
  },
  {
   "cell_type": "code",
   "execution_count": 116,
   "metadata": {
    "collapsed": true
   },
   "outputs": [],
   "source": [
    "def get_neighbour_mean(num):\n",
    "    \n",
    "    knn = neighbors.KNeighborsClassifier(n_neighbors = num)\n",
    "    y_pred = knn.fit(X_train[var_filter], y_train).predict(X_test[var_filter])\n",
    "    error = (y_test != y_pred).astype(int)\n",
    "    rv = error[y_pred == 1].mean()\n",
    "    \n",
    "    return rv    "
   ]
  },
  {
   "cell_type": "code",
   "execution_count": 117,
   "metadata": {
    "collapsed": true
   },
   "outputs": [],
   "source": [
    "def get_best_neighbour(num):\n",
    "    rv_min = 1\n",
    "    min_id = 1\n",
    "    for i in range(1, num):\n",
    "        value = get_neighbour_mean(i)\n",
    "        if (value != None) and (value < rv_min):\n",
    "            min_id = i\n",
    "            rv_min = value\n",
    "        print(i, value)\n",
    "    return min_id, rv_min"
   ]
  },
  {
   "cell_type": "code",
   "execution_count": 119,
   "metadata": {},
   "outputs": [
    {
     "data": {
      "text/plain": [
       "(40, 0.6666666666666666)"
      ]
     },
     "execution_count": 119,
     "metadata": {},
     "output_type": "execute_result"
    }
   ],
   "source": [
    "best_n"
   ]
  },
  {
   "cell_type": "code",
   "execution_count": 118,
   "metadata": {},
   "outputs": [
    {
     "name": "stdout",
     "output_type": "stream",
     "text": [
      "1 0.7694787748522299\n",
      "2 0.7515822784810127\n",
      "3 0.7723855092276145\n",
      "4 0.765625\n",
      "5 0.7783549783549784\n",
      "6 0.7579143389199255\n",
      "7 0.7812828601472135\n",
      "8 0.7671840354767184\n",
      "9 0.7840616966580977\n",
      "10 0.7742782152230971\n",
      "11 0.7994186046511628\n",
      "12 0.7760416666666666\n",
      "13 0.8033898305084746\n",
      "14 0.8138686131386861\n",
      "15 0.806941431670282\n",
      "16 0.8087649402390438\n",
      "17 0.803763440860215\n",
      "18 0.8009478672985783\n",
      "19 0.8070175438596491\n",
      "20 0.8028169014084507\n",
      "21 0.8071428571428572\n",
      "22 0.8137254901960784\n",
      "23 0.804\n",
      "24 0.8187134502923976\n",
      "25 0.8026905829596412\n",
      "26 0.8\n",
      "27 0.8052631578947368\n",
      "28 0.7596153846153846\n",
      "29 0.7702702702702703\n",
      "30 0.7931034482758621\n",
      "31 0.8091603053435115\n",
      "32 0.8148148148148148\n",
      "33 0.84\n",
      "34 0.8333333333333334\n",
      "35 0.8288288288288288\n",
      "36 0.6744186046511628\n",
      "37 0.7714285714285715\n",
      "38 0.6764705882352942\n",
      "39 0.7719298245614035\n",
      "40 0.6666666666666666\n",
      "41 0.7346938775510204\n",
      "42 0.76\n",
      "43 0.7692307692307693\n",
      "44 0.84\n",
      "45 0.8421052631578947\n",
      "46 0.8421052631578947\n",
      "47 0.76\n",
      "48 0.7777777777777778\n",
      "49 0.7727272727272727\n",
      "50 0.8\n",
      "51 0.7619047619047619\n",
      "52 0.8461538461538461\n",
      "53 0.7857142857142857\n",
      "54 0.8888888888888888\n",
      "55 0.9166666666666666\n",
      "56 0.9\n",
      "57 0.8181818181818182\n",
      "58 1.0\n",
      "59 1.0\n",
      "60 1.0\n",
      "61 1.0\n",
      "62 1.0\n",
      "63 1.0\n",
      "64 1.0\n",
      "65 1.0\n",
      "66 1.0\n",
      "67 1.0\n",
      "68 1.0\n",
      "69 1.0\n",
      "70 1.0\n",
      "71 1.0\n",
      "72 1.0\n",
      "73 1.0\n",
      "74 1.0\n",
      "75 1.0\n",
      "76 1.0\n",
      "77 1.0\n",
      "78 1.0\n",
      "79 1.0\n",
      "80 nan\n",
      "81 1.0\n",
      "82 nan\n",
      "83 nan\n",
      "84 nan\n",
      "85 nan\n",
      "86 nan\n",
      "87 nan\n",
      "88 nan\n",
      "89 nan\n",
      "90 nan\n",
      "91 nan\n",
      "92 nan\n",
      "93 nan\n",
      "94 nan\n",
      "95 nan\n",
      "96 nan\n",
      "97 nan\n",
      "98 nan\n",
      "99 nan\n"
     ]
    }
   ],
   "source": [
    "best_n = get_best_neighbour(100)"
   ]
  },
  {
   "cell_type": "code",
   "execution_count": 128,
   "metadata": {},
   "outputs": [
    {
     "data": {
      "text/plain": [
       "-0.10092731268053805"
      ]
     },
     "execution_count": 128,
     "metadata": {},
     "output_type": "execute_result"
    }
   ],
   "source": [
    "y_port = y_test_in[y_pred == 1]\n",
    "y_port.mean()"
   ]
  },
  {
   "cell_type": "code",
   "execution_count": 129,
   "metadata": {},
   "outputs": [
    {
     "data": {
      "text/plain": [
       "-0.10475636824010301"
      ]
     },
     "execution_count": 129,
     "metadata": {},
     "output_type": "execute_result"
    }
   ],
   "source": [
    "y_test_in.mean()"
   ]
  },
  {
   "cell_type": "code",
   "execution_count": 130,
   "metadata": {},
   "outputs": [
    {
     "data": {
      "text/plain": [
       "(129,)"
      ]
     },
     "execution_count": 130,
     "metadata": {},
     "output_type": "execute_result"
    }
   ],
   "source": [
    "y_port.shape"
   ]
  },
  {
   "cell_type": "code",
   "execution_count": 131,
   "metadata": {},
   "outputs": [
    {
     "data": {
      "text/plain": [
       "0    10111\n",
       "1      129\n",
       "Name: KNN & LOG, dtype: int64"
      ]
     },
     "execution_count": 131,
     "metadata": {},
     "output_type": "execute_result"
    }
   ],
   "source": [
    "KNN_LOG_mod = pd.DataFrame(y_pred, columns = ['KNN & LOG'])\n",
    "KNN_LOG_mod['KNN & LOG'].value_counts()"
   ]
  },
  {
   "cell_type": "code",
   "execution_count": 132,
   "metadata": {
    "collapsed": true
   },
   "outputs": [],
   "source": [
    "KNN_LOG_mod.to_json('KNN_LOG_mod.json', orient='values')"
   ]
  }
 ],
 "metadata": {
  "kernelspec": {
   "display_name": "Python 3",
   "language": "python",
   "name": "python3"
  },
  "language_info": {
   "codemirror_mode": {
    "name": "ipython",
    "version": 3
   },
   "file_extension": ".py",
   "mimetype": "text/x-python",
   "name": "python",
   "nbconvert_exporter": "python",
   "pygments_lexer": "ipython3",
   "version": "3.6.2"
  }
 },
 "nbformat": 4,
 "nbformat_minor": 2
}
