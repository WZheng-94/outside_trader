{
 "cells": [
  {
   "cell_type": "code",
   "execution_count": 3,
   "metadata": {
    "collapsed": true,
    "deletable": true,
    "editable": true
   },
   "outputs": [],
   "source": [
    "import bs4\n",
    "import urllib3\n",
    "import csv"
   ]
  },
  {
   "cell_type": "code",
   "execution_count": 4,
   "metadata": {
    "collapsed": false,
    "deletable": true,
    "editable": true
   },
   "outputs": [],
   "source": [
    "def scrape_company_metadata(code):\n",
    "    \n",
    "    target = \"http://finance.naver.com/item/main.nhn?code=\" + code\n",
    "    pm = urllib3.PoolManager()\n",
    "    html = pm.urlopen(url=target, method=\"GET\").data\n",
    "    soup = bs4.BeautifulSoup(html, 'lxml')\n",
    "   # columns = []\n",
    "    rows = []\n",
    "    values = []\n",
    "    dataset = {}\n",
    "    \n",
    "    all_th = soup.find_all(\"div\", class_ = \"sub_section\")[4].find_all(\"th\")[3:]\n",
    "    all_td = soup.find_all(\"div\", class_ = \"sub_section\")[4].find_all(\"td\")\n",
    "    \n",
    "    for th in all_th:\n",
    "       # if th[\"scope\"]==\"col\":\n",
    "       #     columns.append(th.text.split())\n",
    "        if th[\"scope\"] == \"row\":\n",
    "            rows.append(th.get_text())\n",
    "        \n",
    "    values = [td.text.strip(\"\\r\\n\\t\") for td in all_td]\n",
    "    \n",
    "   # for td in all_td:\n",
    "   #     values.append(td.text.strip(\"\\r\\n\\t\"))\n",
    "         \n",
    "    for i in range(len(rows)):\n",
    "        dataset[rows[i]] = values[0+10*(i):10*(i+1)]\n",
    "        \n",
    "    return(dataset)\n",
    "            \n",
    "            "
   ]
  },
  {
   "cell_type": "code",
   "execution_count": 6,
   "metadata": {
    "collapsed": true,
    "deletable": true,
    "editable": true
   },
   "outputs": [],
   "source": [
    "def company_file(filename, code):\n",
    "    fieldnames = ['매출액', '영업이익', '당기순이익', '영업이익률', \\\n",
    "              '순이익률', 'ROE(지배주주)', '부채비율', '당좌비율', \\\n",
    "              '유보율', 'EPS(원)', 'BPS(원)','주당배당금(원)', '시가배당률(%)','배당성향(%)']\n",
    "    \n",
    "    row = scrape_company_metadata(code)\n",
    "    with open(filename, \"w\") as f:\n",
    "        writer = csv.DictWriter(f, fieldnames = fieldnames)\n",
    "        writer.writeheader()\n",
    "        writer.writerow(row)\n",
    "\n",
    "    return"
   ]
  },
  {
   "cell_type": "code",
   "execution_count": null,
   "metadata": {
    "collapsed": true,
    "deletable": true,
    "editable": true
   },
   "outputs": [],
   "source": []
  }
 ],
 "metadata": {
  "kernelspec": {
   "display_name": "Python 3",
   "language": "python",
   "name": "python3"
  },
  "language_info": {
   "codemirror_mode": {
    "name": "ipython",
    "version": 3
   },
   "file_extension": ".py",
   "mimetype": "text/x-python",
   "name": "python",
   "nbconvert_exporter": "python",
   "pygments_lexer": "ipython3",
   "version": "3.6.0"
  }
 },
 "nbformat": 4,
 "nbformat_minor": 2
}
